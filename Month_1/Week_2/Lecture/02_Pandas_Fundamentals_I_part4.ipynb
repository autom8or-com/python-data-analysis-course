{
 "cells": [
  {
   "cell_type": "markdown",
   "metadata": {},
   "source": [
    "# Pandas Fundamentals I - Part 4: SQL to Pandas Translation\n",
    "\n",
    "## Week 2, Day 2 (Thursday) - April 17th, 2025\n",
    "\n",
    "### Overview\n",
    "This is the fourth part of our introduction to Pandas, continuing from Part 3. In this section, we'll focus more on translating SQL queries to Pandas code and practice with exercises.\n",
    "\n",
    "### Learning Objectives\n",
    "- Translate complex SQL queries to Pandas code\n",
    "- Practice selection and filtering operations\n",
    "- Apply knowledge to solve practical data manipulation problems\n",
    "\n",
    "### Prerequisites\n",
    "- Pandas Fundamentals I - Parts 1, 2, & 3"
   ]
  },
  {
   "cell_type": "code",
   "execution_count": null,
   "metadata": {},
   "outputs": [],
   "source": [
    "# Import libraries\n",
    "import pandas as pd\n",
    "import numpy as np\n",
    "\n",
    "# Create a sample DataFrame to work with - e-commerce sales data\n",
    "data = {\n",
    "    'order_id': ['ORD001', 'ORD002', 'ORD003', 'ORD004', 'ORD005', 'ORD006', 'ORD007', 'ORD008'],\n",
    "    'customer_id': ['CUST01', 'CUST02', 'CUST03', 'CUST01', 'CUST04', 'CUST02', 'CUST05', 'CUST03'],\n",
    "    'product_id': ['PROD01', 'PROD02', 'PROD03', 'PROD02', 'PROD01', 'PROD04', 'PROD05', 'PROD01'],\n",
    "    'category': ['Electronics', 'Clothing', 'Books', 'Clothing', 'Electronics', 'Home', 'Electronics', 'Books'],\n",
    "    'quantity': [1, 2, 3, 1, 1, 2, 1, 2],\n",
    "    'price': [1200.00, 89.99, 24.95, 89.99, 1200.00, 149.50, 399.99, 1200.00],\n",
    "    'order_date': ['2025-01-05', '2025-01-07', '2025-01-10', '2025-01-12', '2025-01-15', '2025-01-18', '2025-01-20', '2025-01-22'],\n",
    "    'payment_method': ['Credit Card', 'PayPal', 'Credit Card', 'Debit Card', 'PayPal', 'Credit Card', 'Debit Card', 'PayPal']\n",
    "}\n",
    "\n",
    "# Create DataFrame\n",
    "sales_df = pd.DataFrame(data)\n",
    "\n",
    "# Convert order_date to datetime\n",
    "sales_df['order_date'] = pd.to_datetime(sales_df['order_date'])\n",
    "\n",
    "# Calculate total amount for each order\n",
    "sales_df['total_amount'] = sales_df['quantity'] * sales_df['price']\n",
    "\n",
    "# Display the DataFrame\n",
    "print(\"Sales DataFrame:\")\n",
    "print(sales_df)"
   ]
  },
  {
   "cell_type": "markdown",
   "metadata": {},
   "source": [
    "## 5. SQL to Pandas Translation Examples\n",
    "\n",
    "Let's practice translating various SQL queries to their Pandas equivalents."
   ]
  },
  {
   "cell_type": "code",
   "execution_count": null,
   "metadata": {},
   "outputs": [],
   "source": [
    "# Example 1: Basic SELECT with WHERE\n",
    "# SQL: \n",
    "# SELECT order_id, customer_id, product_id, total_amount\n",
    "# FROM sales\n",
    "# WHERE total_amount > 1000\n",
    "# ORDER BY total_amount DESC\n",
    "\n",
    "# Pandas:\n",
    "query1 = sales_df.loc[sales_df['total_amount'] > 1000, ['order_id', 'customer_id', 'product_id', 'total_amount']]\n",
    "query1 = query1.sort_values('total_amount', ascending=False)\n",
    "print(\"Example 1 Result:\")\n",
    "print(query1)\n",
    "\n",
    "# Example 2: Multiple conditions with NOT\n",
    "# SQL:\n",
    "# SELECT *\n",
    "# FROM sales\n",
    "# WHERE category != 'Electronics' AND quantity > 1\n",
    "\n",
    "# Pandas:\n",
    "query2 = sales_df[(sales_df['category'] != 'Electronics') & (sales_df['quantity'] > 1)]\n",
    "print(\"\\nExample 2 Result:\")\n",
    "print(query2)\n",
    "\n",
    "# Example 3: LIKE and ORDER BY\n",
    "# SQL:\n",
    "# SELECT order_id, product_id, category, price\n",
    "# FROM sales\n",
    "# WHERE product_id LIKE 'PROD0%'\n",
    "# ORDER BY price ASC\n",
    "\n",
    "# Pandas:\n",
    "query3 = sales_df.loc[sales_df['product_id'].str.startswith('PROD0'), \n",
    "                     ['order_id', 'product_id', 'category', 'price']]\n",
    "query3 = query3.sort_values('price')\n",
    "print(\"\\nExample 3 Result:\")\n",
    "print(query3)\n",
    "\n",
    "# Example 4: BETWEEN and IN with column selection\n",
    "# SQL:\n",
    "# SELECT order_id, order_date, payment_method, total_amount\n",
    "# FROM sales\n",
    "# WHERE order_date BETWEEN '2025-01-10' AND '2025-01-20'\n",
    "# AND payment_method IN ('Credit Card', 'PayPal')\n",
    "\n",
    "# Pandas:\n",
    "query4 = sales_df.loc[\n",
    "    (sales_df['order_date'] >= '2025-01-10') & \n",
    "    (sales_df['order_date'] <= '2025-01-20') &\n",
    "    (sales_df['payment_method'].isin(['Credit Card', 'PayPal'])),\n",
    "    ['order_id', 'order_date', 'payment_method', 'total_amount']\n",
    "]\n",
    "print(\"\\nExample 4 Result:\")\n",
    "print(query4)"
   ]
  },
  {
   "cell_type": "markdown",
   "metadata": {},
   "source": [
    "## 6. Practice Exercises\n",
    "\n",
    "Now it's your turn to practice translating SQL to Pandas. For these exercises, use the sample sales DataFrame we created at the beginning."
   ]
  },
  {
   "cell_type": "markdown",
   "metadata": {},
   "source": [
    "### Exercise 1: Basic Selection\n",
    "\n",
    "Translate this SQL query to Pandas code:\n",
    "\n",
    "```sql\n",
    "SELECT order_id, customer_id, category, total_amount\n",
    "FROM sales\n",
    "WHERE customer_id = 'CUST02'\n",
    "```"
   ]
  },
  {
   "cell_type": "code",
   "execution_count": null,
   "metadata": {},
   "outputs": [],
   "source": [
    "# Your solution here\n"
   ]
  },
  {
   "cell_type": "markdown",
   "metadata": {},
   "source": [
    "### Exercise 2: Multiple Conditions\n",
    "\n",
    "Translate this SQL query to Pandas code:\n",
    "\n",
    "```sql\n",
    "SELECT *\n",
    "FROM sales\n",
    "WHERE (category = 'Electronics' OR category = 'Books')\n",
    "AND price < 1000\n",
    "```"
   ]
  },
  {
   "cell_type": "code",
   "execution_count": null,
   "metadata": {},
   "outputs": [],
   "source": [
    "# Your solution here\n"
   ]
  },
  {
   "cell_type": "markdown",
   "metadata": {},
   "source": [
    "### Exercise 3: Advanced Filtering with Sorting\n",
    "\n",
    "Translate this SQL query to Pandas code:\n",
    "\n",
    "```sql\n",
    "SELECT order_id, product_id, order_date, total_amount\n",
    "FROM sales\n",
    "WHERE order_date >= '2025-01-15'\n",
    "AND payment_method != 'Credit Card'\n",
    "ORDER BY total_amount DESC\n",
    "LIMIT 3\n",
    "```"
   ]
  },
  {
   "cell_type": "code",
   "execution_count": null,
   "metadata": {},
   "outputs": [],
   "source": [
    "# Your solution here\n"
   ]
  },
  {
   "cell_type": "markdown",
   "metadata": {},
   "source": [
    "### Exercise 4: String Operations and Complex Conditions\n",
    "\n",
    "For a more challenging exercise, translate this SQL query to Pandas code:\n",
    "\n",
    "```sql\n",
    "SELECT order_id, customer_id, product_id, category, \n",
    "       price, quantity, total_amount\n",
    "FROM sales\n",
    "WHERE (product_id LIKE '%01' OR product_id LIKE '%03')\n",
    "AND (quantity > 1 OR total_amount > 1000)\n",
    "AND NOT payment_method = 'Debit Card'\n",
    "ORDER BY order_date\n",
    "```"
   ]
  },
  {
   "cell_type": "code",
   "execution_count": null,
   "metadata": {},
   "outputs": [],
   "source": [
    "# Your solution here\n"
   ]
  },
  {
   "cell_type": "markdown",
   "metadata": {},
   "source": [
    "## Solutions to Practice Exercises"
   ]
  },
  {
   "cell_type": "code",
   "execution_count": null,
   "metadata": {},
   "outputs": [],
   "source": [
    "# Exercise 1 Solution\n",
    "exercise1 = sales_df.loc[sales_df['customer_id'] == 'CUST02', \n",
    "                         ['order_id', 'customer_id', 'category', 'total_amount']]\n",
    "print(\"Exercise 1 Solution:\")\n",
    "print(exercise1)\n",
    "\n",
    "# Exercise 2 Solution\n",
    "exercise2 = sales_df[\n",
    "    ((sales_df['category'] == 'Electronics') | (sales_df['category'] == 'Books')) &\n",
    "    (sales_df['price'] < 1000)\n",
    "]\n",
    "print(\"\\nExercise 2 Solution:\")\n",
    "print(exercise2)\n",
    "\n",
    "# Exercise 3 Solution\n",
    "exercise3 = sales_df.loc[\n",
    "    (sales_df['order_date'] >= '2025-01-15') &\n",
    "    (sales_df['payment_method'] != 'Credit Card'),\n",
    "    ['order_id', 'product_id', 'order_date', 'total_amount']\n",
    "].sort_values('total_amount', ascending=False).head(3)\n",
    "print(\"\\nExercise 3 Solution:\")\n",
    "print(exercise3)\n",
    "\n",
    "# Exercise 4 Solution\n",
    "exercise4 = sales_df.loc[\n",
    "    ((sales_df['product_id'].str.endswith('01')) | (sales_df['product_id'].str.endswith('03'))) &\n",
    "    ((sales_df['quantity'] > 1) | (sales_df['total_amount'] > 1000)) &\n",
    "    (sales_df['payment_method'] != 'Debit Card'),\n",
    "    ['order_id', 'customer_id', 'product_id', 'category', 'price', 'quantity', 'total_amount']\n",
    "].sort_values('order_date')\n",
    "print(\"\\nExercise 4 Solution:\")\n",
    "print(exercise4)"
   ]
  },
  {
   "cell_type": "markdown",
   "metadata": {},
   "source": [
    "## 7. Introduction to the Thursday Assignment\n",
    "\n",
    "For this week's Major Group Assignment, you'll be applying the selection and filtering techniques we've learned to a larger dataset. The assignment involves exploring a dataset with Pandas and translating several SQL queries to Pandas code.\n",
    "\n",
    "### Assignment Overview\n",
    "\n",
    "1. Load a provided dataset into a Pandas DataFrame\n",
    "2. Perform exploratory data analysis (EDA) using Pandas\n",
    "3. Translate a series of SQL queries to their Pandas equivalents\n",
    "4. Create visualizations to show the results of your queries\n",
    "5. Document your approach and findings\n",
    "\n",
    "### Tips for Success\n",
    "\n",
    "- Review the SQL to Pandas translations we've covered\n",
    "- Make use of both selection and filtering techniques\n",
    "- Pay attention to the requirements of each query\n",
    "- Work together in your groups to solve the problems\n",
    "- Document your work clearly with comments and explanations\n",
    "\n",
    "You'll find the assignment starter code and dataset in the Assignments folder for this week. Remember to submit your completed assignment by next Thursday, April 24th."
   ]
  },
  {
   "cell_type": "markdown",
   "metadata": {},
   "source": [
    "## 8. Key Takeaways\n",
    "\n",
    "1. **Column Selection in Pandas**:\n",
    "   - Use `df[['col1', 'col2']]` for multiple columns\n",
    "   - Use `df.column_name` dot notation for single columns\n",
    "   - Use `.loc[:, columns]` for label-based selection\n",
    "   - Use `.iloc[:, positions]` for position-based selection\n",
    "\n",
    "2. **Row Filtering in Pandas**:\n",
    "   - Use boolean masks: `df[df['column'] > value]`\n",
    "   - Combine conditions with `&` (AND), `|` (OR), and `~` (NOT)\n",
    "   - Always put parentheses around each condition\n",
    "   - Use `.isin()` for SQL's IN operator\n",
    "   - Use string methods with `.str` for pattern matching\n",
    "\n",
    "3. **Combined Selection and Filtering**:\n",
    "   - Use `.loc[row_condition, columns]` for efficient selection and filtering\n",
    "   - Chaining operations: `df[row_condition][columns]` works but is less efficient\n",
    "\n",
    "4. **SQL to Pandas Translation**:\n",
    "   - SELECT → Column selection with `df[columns]`\n",
    "   - WHERE → Boolean masking with `df[condition]`\n",
    "   - ORDER BY → `.sort_values(column, ascending=True/False)`\n",
    "   - LIMIT → `.head(n)`\n",
    "   - IN → `.isin([values])`\n",
    "   - LIKE → `.str.contains()`, `.str.startswith()`, `.str.endswith()`\n",
    "\n",
    "These operations form the foundation of data manipulation with Pandas, and mastering them is essential for data analysis in Python."
   ]
  },
  {
   "cell_type": "markdown",
   "metadata": {},
   "source": [
    "## Next Steps\n",
    "\n",
    "In the next week (Week 3), we'll dive deeper into Pandas by exploring more advanced data manipulation techniques:\n",
    "\n",
    "- Handling missing data\n",
    "- More complex filtering operations\n",
    "- Group by operations (similar to SQL GROUP BY)\n",
    "- Aggregation functions\n",
    "- Pivot tables and cross-tabulations\n",
    "\n",
    "Be sure to complete the Week 2 assignments before moving on to Week 3."
   ]
  }
 ],
 "metadata": {
  "kernelspec": {
   "display_name": "Python 3",
   "language": "python",
   "name": "python3"
  },
  "language_info": {
   "codemirror_mode": {
    "name": "ipython",
    "version": 3
   },
   "file_extension": ".py",
   "mimetype": "text/x-python",
   "name": "python",
   "nbconvert_exporter": "python",
   "pygments_lexer": "ipython3",
   "version": "3.8.10"
  }
 },
 "nbformat": 4,
 "nbformat_minor": 4
}
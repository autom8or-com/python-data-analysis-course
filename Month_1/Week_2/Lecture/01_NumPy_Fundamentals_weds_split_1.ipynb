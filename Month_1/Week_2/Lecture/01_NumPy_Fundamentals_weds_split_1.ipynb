{
  "cells": [
    {
      "cell_type": "markdown",
      "metadata": {
        "id": "header-section"
      },
      "source": [
        "# NumPy Fundamentals - Part 1\n",
        "\n",
        "## Week 2, Day 1 (Wednesday) - April 16th, 2025\n",
        "\n",
        "### Overview\n",
        "This lecture introduces NumPy (Numerical Python), a fundamental package for scientific computing in Python. NumPy provides powerful tools for working with arrays and performing numerical operations efficiently.\n",
        "\n",
        "### Learning Objectives\n",
        "- Understand what NumPy is and why it's important for data analysis\n",
        "- Learn how to create and manipulate NumPy arrays\n",
        "- Master basic array operations and broadcasting\n",
        "- Understand vectorization and its performance benefits\n",
        "\n",
        "### Prerequisites\n",
        "- Python fundamentals (Week 1)\n",
        "- Understanding of Python data structures (lists, tuples, etc.)"
      ]
    },
    {
      "cell_type": "markdown",
      "metadata": {
        "id": "numpy-intro"
      },
      "source": [
        "## 1. Introduction to NumPy\n",
        "\n",
        "### What is NumPy?\n",
        "\n",
        "NumPy (Numerical Python) is a fundamental library for scientific computing in Python. It provides:\n",
        "\n",
        "- A powerful N-dimensional array object\n",
        "- Sophisticated broadcasting functions\n",
        "- Tools for integrating C/C++ code\n",
        "- Linear algebra, Fourier transform, and random number capabilities\n",
        "\n",
        "### Why NumPy?\n",
        "\n",
        "- **Performance**: NumPy arrays are much faster than Python lists for numerical operations\n",
        "- **Memory Efficiency**: NumPy uses less memory than Python lists\n",
        "- **Convenience**: NumPy provides many mathematical functions and tools\n",
        "- **Foundation**: Many other data science libraries (Pandas, Matplotlib, scikit-learn) are built on NumPy\n",
        "\n",
        "### NumPy vs. Python Lists\n",
        "\n",
        "| Feature | Python Lists | NumPy Arrays |\n",
        "|---------|-------------|---------------|\n",
        "| Memory | More memory (flexibility) | Less memory (fixed type) |\n",
        "| Speed | Slower for numerical operations | Much faster (compiled C) |\n",
        "| Functionality | General purpose | Optimized for numerical operations |\n",
        "| Dimensions | Nested lists for multi-dimensions | True multi-dimensional arrays |\n",
        "| Operations | No vectorized operations | Vectorized operations |\n",
        "\n",
        "Let's start by importing NumPy and checking its version:"
      ]
    },
    {
      "cell_type": "code",
      "execution_count": null,
      "metadata": {
        "id": "import-numpy"
      },
      "outputs": [],
      "source": [
        "# Import NumPy\n",
        "import numpy as np\n",
        "\n",
        "# Check NumPy version\n",
        "print(f\"NumPy version: {np.__version__}\")"
      ]
    },
    {
      "cell_type": "markdown",
      "metadata": {
        "id": "creating-arrays"
      },
      "source": [
        "## 2. Creating NumPy Arrays\n",
        "\n",
        "NumPy arrays are the foundation of numerical computing in Python. Let's explore different ways to create them:"
      ]
    },
    {
      "cell_type": "code",
      "execution_count": null,
      "metadata": {
        "id": "array-creation"
      },
      "outputs": [],
      "source": [
        "# From Python lists\n",
        "list1 = [1, 2, 3, 4, 5]\n",
        "array1 = np.array(list1)\n",
        "print(\"1D Array from list:\", array1)\n",
        "\n",
        "# Creating a 2D array from nested lists\n",
        "list2d = [[1, 2, 3], [4, 5, 6], [7, 8, 9]]\n",
        "array2d = np.array(list2d)\n",
        "print(\"\\n2D Array from nested lists:\")\n",
        "print(array2d)\n",
        "\n",
        "# Data type specification\n",
        "float_array = np.array(list1, dtype=float)\n",
        "print(\"\\nFloat array:\", float_array)\n",
        "\n",
        "# Creating arrays with specific data types\n",
        "int_array = np.array([1.1, 2.2, 3.3], dtype=np.int32)\n",
        "print(\"\\nInteger array (values truncated):\", int_array)"
      ]
    },
    {
      "cell_type": "markdown",
      "metadata": {
        "id": "built-in-arrays"
      },
      "source": [
        "### Built-in Array Creation Functions\n",
        "\n",
        "NumPy provides many functions for creating arrays with specific patterns:"
      ]
    },
    {
      "cell_type": "code",
      "execution_count": null,
      "metadata": {
        "id": "array-creation-functions"
      },
      "outputs": [],
      "source": [
        "# Create an array filled with zeros\n",
        "zeros = np.zeros(5)  # 1D array with 5 zeros\n",
        "zeros_2d = np.zeros((3, 4))  # 3x4 array with zeros\n",
        "print(\"Zeros array (1D):\", zeros)\n",
        "print(\"\\nZeros array (2D):\")\n",
        "print(zeros_2d)\n",
        "\n",
        "# Create an array filled with ones\n",
        "ones = np.ones(4)  # 1D array with 4 ones\n",
        "ones_2d = np.ones((2, 3))  # 2x3 array with ones\n",
        "print(\"\\nOnes array (1D):\", ones)\n",
        "print(\"\\nOnes array (2D):\")\n",
        "print(ones_2d)\n",
        "\n",
        "# Create an array filled with a specific value\n",
        "full = np.full(5, 7)  # 1D array with 5 sevens\n",
        "full_2d = np.full((2, 2), 42)  # 2x2 array filled with 42\n",
        "print(\"\\nFull array (1D):\", full)\n",
        "print(\"\\nFull array (2D):\")\n",
        "print(full_2d)\n",
        "\n",
        "# Create arrays with evenly spaced values\n",
        "range_array = np.arange(10)  # Values from 0 to 9\n",
        "range_step = np.arange(0, 20, 2)  # Values from 0 to 18, step 2\n",
        "print(\"\\nRange array:\", range_array)\n",
        "print(\"Range with step:\", range_step)\n",
        "\n",
        "# Create arrays with evenly spaced values (including endpoint)\n",
        "linspace = np.linspace(0, 1, 5)  # 5 values from 0 to 1 (inclusive)\n",
        "print(\"\\nLinspace array:\", linspace)\n",
        "\n",
        "# Create identity matrix\n",
        "identity = np.eye(3)  # 3x3 identity matrix\n",
        "print(\"\\nIdentity matrix:\")\n",
        "print(identity)"
      ]
    },
    {
      "cell_type": "markdown",
      "metadata": {
        "id": "random-arrays"
      },
      "source": [
        "### Random Arrays\n",
        "\n",
        "NumPy provides various functions for generating random arrays:"
      ]
    },
    {
      "cell_type": "code",
      "execution_count": null,
      "metadata": {
        "id": "random-arrays-code"
      },
      "outputs": [],
      "source": [
        "# Set seed for reproducibility\n",
        "np.random.seed(42)\n",
        "\n",
        "# Random integers\n",
        "random_ints = np.random.randint(0, 10, 5)  # 5 random integers from 0 to 9\n",
        "print(\"Random integers:\", random_ints)\n",
        "\n",
        "# Random floats (uniform distribution between 0 and 1)\n",
        "random_floats = np.random.random(5)  # 5 random floats between 0 and 1\n",
        "print(\"\\nRandom floats:\", random_floats)\n",
        "\n",
        "# Random normal distribution\n",
        "random_normal = np.random.normal(loc=0, scale=1, size=5)  # 5 samples from N(0,1)\n",
        "print(\"\\nRandom normal distribution:\", random_normal)\n",
        "\n",
        "# 2D random array\n",
        "random_2d = np.random.random((3, 3))  # 3x3 random array (uniform dist)\n",
        "print(\"\\nRandom 2D array:\")\n",
        "print(random_2d)"
      ]
    }
  ],
  "metadata": {
    "colab": {
      "provenance": [],
      "toc_visible": true
    },
    "kernelspec": {
      "display_name": "Python 3",
      "name": "python3"
    }
  },
  "nbformat": 4,
  "nbformat_minor": 0
}

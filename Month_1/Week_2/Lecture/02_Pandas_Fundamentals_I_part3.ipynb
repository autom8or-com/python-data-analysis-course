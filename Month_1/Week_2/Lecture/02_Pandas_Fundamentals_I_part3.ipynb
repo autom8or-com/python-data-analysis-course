{
 "cells": [
  {
   "cell_type": "markdown",
   "metadata": {},
   "source": [
    "# Pandas Fundamentals I - Part 3: Selection and Filtering\n",
    "\n",
    "## Week 2, Day 2 (Thursday) - April 17th, 2025\n",
    "\n",
    "### Overview\n",
    "This is the third part of our introduction to Pandas, focusing on data selection and filtering operations. We'll translate SQL WHERE and SELECT statements to Pandas and learn about advanced indexing.\n",
    "\n",
    "### Learning Objectives\n",
    "- Select columns and rows using different methods\n",
    "- Filter data using boolean conditions\n",
    "- Understand loc and iloc indexers\n",
    "- Combine selection and filtering operations\n",
    "- Translate SQL queries to Pandas code\n",
    "\n",
    "### Prerequisites\n",
    "- Pandas Fundamentals I - Parts 1 & 2"
   ]
  },
  {
   "cell_type": "code",
   "execution_count": null,
   "metadata": {},
   "outputs": [],
   "source": [
    "# Import libraries\n",
    "import pandas as pd\n",
    "import numpy as np\n",
    "\n",
    "# Create a sample DataFrame to work with - e-commerce sales data\n",
    "data = {\n",
    "    'order_id': ['ORD001', 'ORD002', 'ORD003', 'ORD004', 'ORD005', 'ORD006', 'ORD007', 'ORD008'],\n",
    "    'customer_id': ['CUST01', 'CUST02', 'CUST03', 'CUST01', 'CUST04', 'CUST02', 'CUST05', 'CUST03'],\n",
    "    'product_id': ['PROD01', 'PROD02', 'PROD03', 'PROD02', 'PROD01', 'PROD04', 'PROD05', 'PROD01'],\n",
    "    'category': ['Electronics', 'Clothing', 'Books', 'Clothing', 'Electronics', 'Home', 'Electronics', 'Books'],\n",
    "    'quantity': [1, 2, 3, 1, 1, 2, 1, 2],\n",
    "    'price': [1200.00, 89.99, 24.95, 89.99, 1200.00, 149.50, 399.99, 1200.00],\n",
    "    'order_date': ['2025-01-05', '2025-01-07', '2025-01-10', '2025-01-12', '2025-01-15', '2025-01-18', '2025-01-20', '2025-01-22'],\n",
    "    'payment_method': ['Credit Card', 'PayPal', 'Credit Card', 'Debit Card', 'PayPal', 'Credit Card', 'Debit Card', 'PayPal']\n",
    "}\n",
    "\n",
    "# Create DataFrame\n",
    "sales_df = pd.DataFrame(data)\n",
    "\n",
    "# Convert order_date to datetime\n",
    "sales_df['order_date'] = pd.to_datetime(sales_df['order_date'])\n",
    "\n",
    "# Calculate total amount for each order\n",
    "sales_df['total_amount'] = sales_df['quantity'] * sales_df['price']\n",
    "\n",
    "# Display the DataFrame\n",
    "print(\"Sales DataFrame:\")\n",
    "print(sales_df)"
   ]
  },
  {
   "cell_type": "markdown",
   "metadata": {},
   "source": [
    "## 1. Selecting Columns (SQL SELECT)\n",
    "\n",
    "In SQL, you use the SELECT statement to choose specific columns from a table. In Pandas, there are several ways to select columns from a DataFrame."
   ]
  },
  {
   "cell_type": "code",
   "execution_count": null,
   "metadata": {},
   "outputs": [],
   "source": [
    "# SQL: SELECT order_id, customer_id, total_amount FROM sales\n",
    "# Pandas - Method 1: Using column names in square brackets (preferred for multiple columns)\n",
    "selected_columns = sales_df[['order_id', 'customer_id', 'total_amount']]\n",
    "print(\"Selected columns (method 1):\")\n",
    "print(selected_columns.head())\n",
    "\n",
    "# Method 2: Using dot notation (only works for column names without spaces or special characters)\n",
    "# SQL: SELECT total_amount FROM sales\n",
    "print(\"\\nSelected column (dot notation):\")\n",
    "print(sales_df.total_amount.head())\n",
    "\n",
    "# Method 3: Using the .loc indexer with column names\n",
    "# SQL: SELECT order_id, product_id, price FROM sales\n",
    "print(\"\\nSelected columns using .loc:\")\n",
    "print(sales_df.loc[:, ['order_id', 'product_id', 'price']].head())\n",
    "\n",
    "# Method 4: Using the .iloc indexer with column positions\n",
    "# SQL: SELECT columns 0, 2, 4 (by position)\n",
    "print(\"\\nSelected columns using .iloc:\")\n",
    "print(sales_df.iloc[:, [0, 2, 4]].head())"
   ]
  },
  {
   "cell_type": "markdown",
   "metadata": {},
   "source": [
    "### Selecting a range of columns\n",
    "\n",
    "You can also select a range of columns using slicing:"
   ]
  },
  {
   "cell_type": "code",
   "execution_count": null,
   "metadata": {},
   "outputs": [],
   "source": [
    "# Using .loc to select a range of columns\n",
    "# SQL: SELECT order_id, customer_id, product_id, category FROM sales\n",
    "print(\"Range of columns using .loc:\")\n",
    "print(sales_df.loc[:, 'order_id':'category'].head())\n",
    "\n",
    "# Using .iloc to select a range of column positions\n",
    "# SQL: SELECT first 4 columns\n",
    "print(\"\\nRange of columns using .iloc:\")\n",
    "print(sales_df.iloc[:, 0:4].head())"
   ]
  },
  {
   "cell_type": "markdown",
   "metadata": {},
   "source": [
    "### Excluding columns\n",
    "\n",
    "In SQL, you might use `SELECT * FROM table EXCEPT column1, column2`. In Pandas, we can use the `drop()` method or filter the columns list:"
   ]
  },
  {
   "cell_type": "code",
   "execution_count": null,
   "metadata": {},
   "outputs": [],
   "source": [
    "# Method 1: Using drop()\n",
    "# SQL: SELECT * FROM sales EXCEPT payment_method\n",
    "print(\"DataFrame with payment_method dropped:\")\n",
    "print(sales_df.drop(columns=['payment_method']).head())\n",
    "\n",
    "# Method 2: Using a list comprehension to filter column names\n",
    "columns_to_exclude = ['payment_method', 'order_date']\n",
    "filtered_columns = [col for col in sales_df.columns if col not in columns_to_exclude]\n",
    "print(\"\\nDataFrame with multiple columns excluded:\")\n",
    "print(sales_df[filtered_columns].head())"
   ]
  },
  {
   "cell_type": "markdown",
   "metadata": {},
   "source": [
    "## 2. Filtering Rows with Boolean Masks (SQL WHERE)\n",
    "\n",
    "In SQL, you use the WHERE clause to filter rows based on conditions. In Pandas, we use boolean masks for filtering."
   ]
  },
  {
   "cell_type": "code",
   "execution_count": null,
   "metadata": {},
   "outputs": [],
   "source": [
    "# Basic filtering with a single condition\n",
    "# SQL: SELECT * FROM sales WHERE category = 'Electronics'\n",
    "electronics = sales_df[sales_df['category'] == 'Electronics']\n",
    "print(\"Electronics products:\")\n",
    "print(electronics)\n",
    "\n",
    "# Filtering with numeric comparison\n",
    "# SQL: SELECT * FROM sales WHERE price > 100\n",
    "expensive_items = sales_df[sales_df['price'] > 100]\n",
    "print(\"\\nExpensive items (price > 100):\")\n",
    "print(expensive_items)"
   ]
  },
  {
   "cell_type": "markdown",
   "metadata": {},
   "source": [
    "### Combining multiple conditions\n",
    "\n",
    "In SQL, you use AND, OR, and NOT operators to combine conditions. In Pandas, we use the operators &, |, and ~ respectively."
   ]
  },
  {
   "cell_type": "code",
   "execution_count": null,
   "metadata": {},
   "outputs": [],
   "source": [
    "# AND condition\n",
    "# SQL: SELECT * FROM sales WHERE category = 'Electronics' AND price > 1000\n",
    "expensive_electronics = sales_df[(sales_df['category'] == 'Electronics') & (sales_df['price'] > 1000)]\n",
    "print(\"Expensive electronics:\")\n",
    "print(expensive_electronics)\n",
    "\n",
    "# OR condition\n",
    "# SQL: SELECT * FROM sales WHERE category = 'Electronics' OR category = 'Books'\n",
    "electronics_or_books = sales_df[(sales_df['category'] == 'Electronics') | (sales_df['category'] == 'Books')]\n",
    "print(\"\\nElectronics or Books:\")\n",
    "print(electronics_or_books)\n",
    "\n",
    "# NOT condition\n",
    "# SQL: SELECT * FROM sales WHERE NOT category = 'Electronics'\n",
    "not_electronics = sales_df[~(sales_df['category'] == 'Electronics')]\n",
    "print(\"\\nNon-electronics items:\")\n",
    "print(not_electronics)"
   ]
  },
  {
   "cell_type": "markdown",
   "metadata": {},
   "source": [
    "### Important Note on Combining Conditions\n",
    "\n",
    "When combining multiple conditions in Pandas, you must use parentheses around each condition. This is different from SQL where parentheses are optional.\n",
    "\n",
    "```python\n",
    "# Correct:\n",
    "filtered_df = df[(df['col1'] > 10) & (df['col2'] < 20)]\n",
    "\n",
    "# Incorrect - will raise an error:\n",
    "# filtered_df = df[df['col1'] > 10 & df['col2'] < 20]\n",
    "```\n",
    "\n",
    "The reason is that the & operator has higher precedence than the comparison operators, so without parentheses, the expression would be evaluated as `df[(df['col1'] > (10 & df['col2'])) < 20]`, which is not what we want."
   ]
  },
  {
   "cell_type": "markdown",
   "metadata": {},
   "source": [
    "### Filter with the IN operator\n",
    "\n",
    "In SQL, the IN operator allows you to specify multiple values in a WHERE clause. In Pandas, we use the `isin()` method."
   ]
  },
  {
   "cell_type": "code",
   "execution_count": null,
   "metadata": {},
   "outputs": [],
   "source": [
    "# SQL: SELECT * FROM sales WHERE payment_method IN ('Credit Card', 'PayPal')\n",
    "card_or_paypal = sales_df[sales_df['payment_method'].isin(['Credit Card', 'PayPal'])]\n",
    "print(\"Orders paid with Credit Card or PayPal:\")\n",
    "print(card_or_paypal)\n",
    "\n",
    "# SQL: SELECT * FROM sales WHERE customer_id IN ('CUST01', 'CUST03')\n",
    "selected_customers = sales_df[sales_df['customer_id'].isin(['CUST01', 'CUST03'])]\n",
    "print(\"\\nOrders from selected customers:\")\n",
    "print(selected_customers)"
   ]
  },
  {
   "cell_type": "markdown",
   "metadata": {},
   "source": [
    "### Filtering with string operations\n",
    "\n",
    "In SQL, you might use the LIKE operator for pattern matching. In Pandas, we use string methods with the `str` accessor."
   ]
  },
  {
   "cell_type": "code",
   "execution_count": null,
   "metadata": {},
   "outputs": [],
   "source": [
    "# SQL: SELECT * FROM sales WHERE product_id LIKE 'PROD0%'\n",
    "# Pandas: startswith\n",
    "starts_with_prod0 = sales_df[sales_df['product_id'].str.startswith('PROD0')]\n",
    "print(\"Product IDs starting with 'PROD0':\")\n",
    "print(starts_with_prod0)\n",
    "\n",
    "# SQL: SELECT * FROM sales WHERE payment_method LIKE '%Card%'\n",
    "# Pandas: contains\n",
    "contains_card = sales_df[sales_df['payment_method'].str.contains('Card')]\n",
    "print(\"\\nPayment methods containing 'Card':\")\n",
    "print(contains_card)"
   ]
  },
  {
   "cell_type": "markdown",
   "metadata": {},
   "source": [
    "### Filtering with date operations\n",
    "\n",
    "In SQL, you might use date functions to filter by date. In Pandas, we use datetime properties and functions."
   ]
  },
  {
   "cell_type": "code",
   "execution_count": null,
   "metadata": {},
   "outputs": [],
   "source": [
    "# SQL: SELECT * FROM sales WHERE order_date >= '2025-01-15'\n",
    "recent_orders = sales_df[sales_df['order_date'] >= '2025-01-15']\n",
    "print(\"Orders on or after Jan 15, 2025:\")\n",
    "print(recent_orders)\n",
    "\n",
    "# SQL: SELECT * FROM sales WHERE EXTRACT(MONTH FROM order_date) = 1\n",
    "january_orders = sales_df[sales_df['order_date'].dt.month == 1]\n",
    "print(\"\\nOrders in January:\")\n",
    "print(january_orders)  # Should be all orders in our example dataset"
   ]
  },
  {
   "cell_type": "markdown",
   "metadata": {},
   "source": [
    "## 3. The loc and iloc Indexers\n",
    "\n",
    "We've already seen `.loc` and `.iloc` for column selection, but they're also powerful tools for selecting both rows and columns together. This is equivalent to SELECT-WHERE combinations in SQL."
   ]
  },
  {
   "cell_type": "markdown",
   "metadata": {},
   "source": [
    "### Using `loc` for label-based indexing\n",
    "\n",
    "The `.loc` indexer selects data by row and column labels. The syntax is `df.loc[row_labels, column_labels]`."
   ]
  },
  {
   "cell_type": "code",
   "execution_count": null,
   "metadata": {},
   "outputs": [],
   "source": [
    "# Set the index to order_id for demonstration\n",
    "sales_indexed = sales_df.set_index('order_id')\n",
    "print(\"DataFrame with order_id as index:\")\n",
    "print(sales_indexed.head())\n",
    "\n",
    "# Select a specific row by label\n",
    "# SQL: SELECT * FROM sales WHERE order_id = 'ORD001'\n",
    "order_001 = sales_indexed.loc['ORD001']\n",
    "print(\"\\nOrder ORD001:\")\n",
    "print(order_001)\n",
    "\n",
    "# Select specific rows and columns by label\n",
    "# SQL: SELECT customer_id, product_id, total_amount FROM sales WHERE order_id IN ('ORD001', 'ORD003')\n",
    "selected_orders = sales_indexed.loc[['ORD001', 'ORD003'], ['customer_id', 'product_id', 'total_amount']]\n",
    "print(\"\\nSelected orders and columns:\")\n",
    "print(selected_orders)"
   ]
  },
  {
   "cell_type": "markdown",
   "metadata": {},
   "source": [
    "### Using `iloc` for position-based indexing\n",
    "\n",
    "The `.iloc` indexer selects data by row and column positions (integers). The syntax is `df.iloc[row_positions, column_positions]`."
   ]
  },
  {
   "cell_type": "code",
   "execution_count": null,
   "metadata": {},
   "outputs": [],
   "source": [
    "# Reset index for demonstration with numeric positions\n",
    "sales_df_reset = sales_df.reset_index(drop=True)\n",
    "print(\"DataFrame with numeric index:\")\n",
    "print(sales_df_reset.head())\n",
    "\n",
    "# Select first row, all columns\n",
    "# SQL: SELECT * FROM sales LIMIT 1\n",
    "first_row = sales_df_reset.iloc[0]\n",
    "print(\"\\nFirst row:\")\n",
    "print(first_row)\n",
    "\n",
    "# Select rows 2-4 and columns 1, 3, 5\n",
    "# SQL: Hard to express exactly in SQL - would need row numbers\n",
    "selected_data = sales_df_reset.iloc[2:5, [1, 3, 5]]\n",
    "print(\"\\nRows 2-4, columns 1, 3, 5:\")\n",
    "print(selected_data)"
   ]
  },
  {
   "cell_type": "markdown",
   "metadata": {},
   "source": [
    "### loc vs. iloc: Key Differences\n",
    "\n",
    "Understanding the differences between `loc` and `iloc` is crucial:\n",
    "\n",
    "1. **loc**:\n",
    "   - Uses labels (row/column names)\n",
    "   - Inclusive of both start and end labels in slices\n",
    "   - Similar to SQL WHERE with exact values\n",
    "\n",
    "2. **iloc**:\n",
    "   - Uses integer positions (0-based)\n",
    "   - Inclusive of start, exclusive of end in slices (like Python lists)\n",
    "   - No direct SQL equivalent for row positions\n",
    "   \n",
    "When to use each:\n",
    "- Use `loc` when you have specific row/column labels in mind (e.g., IDs, names)\n",
    "- Use `iloc` when you need specific positions regardless of the labels"
   ]
  },
  {
   "cell_type": "markdown",
   "metadata": {},
   "source": [
    "## 4. Combined Selection and Filtering\n",
    "\n",
    "Now let's combine column selection with row filtering to perform more complex queries."
   ]
  },
  {
   "cell_type": "code",
   "execution_count": null,
   "metadata": {},
   "outputs": [],
   "source": [
    "# Method 1: Chaining operations\n",
    "# SQL: SELECT order_id, product_id, price FROM sales WHERE category = 'Electronics'\n",
    "electronics_info = sales_df[sales_df['category'] == 'Electronics'][['order_id', 'product_id', 'price']]\n",
    "print(\"Electronics info (chaining):\")\n",
    "print(electronics_info)\n",
    "\n",
    "# Method 2: Using loc (more efficient)\n",
    "# SQL: SELECT order_id, product_id, price FROM sales WHERE category = 'Electronics'\n",
    "electronics_info_loc = sales_df.loc[sales_df['category'] == 'Electronics', ['order_id', 'product_id', 'price']]\n",
    "print(\"\\nElectronics info (using loc):\")\n",
    "print(electronics_info_loc)\n",
    "\n",
    "# More complex example\n",
    "# SQL: SELECT order_id, customer_id, total_amount FROM sales \n",
    "#      WHERE category IN ('Electronics', 'Books') AND price > 50 AND order_date >= '2025-01-10'\n",
    "complex_query = sales_df.loc[\n",
    "    (sales_df['category'].isin(['Electronics', 'Books'])) & \n",
    "    (sales_df['price'] > 50) & \n",
    "    (sales_df['order_date'] >= '2025-01-10'),\n",
    "    ['order_id', 'customer_id', 'total_amount']\n",
    "]\n",
    "print(\"\\nComplex query result:\")\n",
    "print(complex_query)"
   ]
  }
 ],
 "metadata": {
  "kernelspec": {
   "display_name": "Python 3",
   "language": "python",
   "name": "python3"
  },
  "language_info": {
   "codemirror_mode": {
    "name": "ipython",
    "version": 3
   },
   "file_extension": ".py",
   "mimetype": "text/x-python",
   "name": "python",
   "nbconvert_exporter": "python",
   "pygments_lexer": "ipython3",
   "version": "3.8.10"
  }
 },
 "nbformat": 4,
 "nbformat_minor": 4
}
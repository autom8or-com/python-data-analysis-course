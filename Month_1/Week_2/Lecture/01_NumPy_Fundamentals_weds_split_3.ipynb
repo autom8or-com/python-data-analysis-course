{
  "cells": [
    {
      "cell_type": "markdown",
      "metadata": {
        "id": "header-section"
      },
      "source": [
        "# NumPy Fundamentals - Part 3\n",
        "\n",
        "## Week 2, Day 1 (Wednesday) - April 16th, 2025\n",
        "\n",
        "### Overview\n",
        "This is the third part of our NumPy lecture. In this section, we'll explore broadcasting, array manipulations, and practical applications of NumPy for data analysis."
      ]
    },
    {
      "cell_type": "code",
      "execution_count": null,
      "metadata": {
        "id": "import-numpy-again"
      },
      "outputs": [],
      "source": [
        "# Import NumPy again for this notebook\n",
        "import numpy as np"
      ]
    },
    {
      "cell_type": "markdown",
      "metadata": {
        "id": "transpose-section"
      },
      "source": [
        "## 1. Transposing Arrays\n",
        "\n",
        "The transpose operation swaps the axes of an array:"
      ]
    },
    {
      "cell_type": "code",
      "execution_count": null,
      "metadata": {
        "id": "transpose-code"
      },
      "outputs": [],
      "source": [
        "# Create a 2D array\n",
        "arr = np.array([[1, 2, 3], [4, 5, 6]])\n",
        "print(\"Original array:\")\n",
        "print(arr)  # 2x3 array\n",
        "print(\"Shape:\", arr.shape)  # (2, 3)\n",
        "\n",
        "# Transpose using T attribute\n",
        "transposed = arr.T\n",
        "print(\"\\nTransposed array:\")\n",
        "print(transposed)  # 3x2 array\n",
        "print(\"Shape:\", transposed.shape)  # (3, 2)\n",
        "\n",
        "# Transpose using transpose() method\n",
        "transposed_alt = np.transpose(arr)\n",
        "print(\"\\nTransposed using np.transpose():\")\n",
        "print(transposed_alt)  # 3x2 array\n",
        "\n",
        "# Transpose higher-dimensional arrays\n",
        "arr_3d = np.arange(24).reshape(2, 3, 4)  # 2x3x4 array\n",
        "print(\"\\n3D array (2x3x4):\")\n",
        "print(arr_3d)\n",
        "print(\"Shape:\", arr_3d.shape)  # (2, 3, 4)\n",
        "\n",
        "# Transpose all axes\n",
        "transposed_3d = arr_3d.transpose()  # Default: reverse the axes\n",
        "print(\"\\n3D transposed (4x3x2):\")\n",
        "print(transposed_3d)\n",
        "print(\"Shape:\", transposed_3d.shape)  # (4, 3, 2)\n",
        "\n",
        "# Specify axis order for transpose\n",
        "custom_transposed = arr_3d.transpose(1, 0, 2)  # Swap axes 0 and 1\n",
        "print(\"\\n3D custom transposed (3x2x4):\")\n",
        "print(custom_transposed)\n",
        "print(\"Shape:\", custom_transposed.shape)  # (3, 2, 4)"
      ]
    },
    {
      "cell_type": "markdown",
      "metadata": {
        "id": "broadcasting-section"
      },
      "source": [
        "## 2. Broadcasting\n",
        "\n",
        "Broadcasting is a powerful mechanism that allows NumPy to work with arrays of different shapes when performing arithmetic operations. It automatically expands the smaller array to match the shape of the larger array without making copies of the data."
      ]
    },
    {
      "cell_type": "code",
      "execution_count": null,
      "metadata": {
        "id": "broadcasting-code"
      },
      "outputs": [],
      "source": [
        "# Scalar broadcasting\n",
        "arr = np.array([1, 2, 3, 4, 5])\n",
        "print(\"Original array:\", arr)\n",
        "print(\"Add 10 to each element:\", arr + 10)  # [11, 12, 13, 14, 15]\n",
        "\n",
        "# Broadcasting with arrays of different shapes\n",
        "# Example 1: (3,) array and (3,1) array\n",
        "a = np.array([1, 2, 3])  # Shape: (3,)\n",
        "b = np.array([[10], [20], [30]])  # Shape: (3, 1)\n",
        "print(\"\\nShape of a:\", a.shape)\n",
        "print(\"Shape of b:\", b.shape)\n",
        "print(\"a + b:\")\n",
        "print(a + b)  # Result shape: (3, 3)\n",
        "# [[11, 12, 13],\n",
        "#  [21, 22, 23],\n",
        "#  [31, 32, 33]]\n",
        "\n",
        "# Example 2: Adding a row vector to a column vector\n",
        "row = np.array([1, 2, 3, 4])  # Shape: (4,)\n",
        "col = np.array([[10], [20], [30]])  # Shape: (3, 1)\n",
        "print(\"\\nRow vector:\", row)\n",
        "print(\"Column vector:\")\n",
        "print(col)\n",
        "print(\"Row + Column (broadcasting):\")\n",
        "print(row + col)  # Result shape: (3, 4)\n",
        "# [[11, 12, 13, 14],\n",
        "#  [21, 22, 23, 24],\n",
        "#  [31, 32, 33, 34]]\n",
        "\n",
        "# Example 3: Adding a matrix to a row vector\n",
        "matrix = np.array([[1, 2, 3], [4, 5, 6], [7, 8, 9]])  # Shape: (3, 3)\n",
        "row_vector = np.array([10, 20, 30])  # Shape: (3,)\n",
        "print(\"\\nMatrix:\")\n",
        "print(matrix)\n",
        "print(\"Row vector:\", row_vector)\n",
        "print(\"Matrix + Row vector:\")\n",
        "print(matrix + row_vector)  # Result: each row is summed with the vector\n",
        "# [[11, 22, 33],\n",
        "#  [14, 25, 36],\n",
        "#  [17, 28, 39]]\n",
        "\n",
        "# Example 4: Adding a matrix to a column vector\n",
        "col_vector = np.array([[10], [20], [30]])  # Shape: (3, 1)\n",
        "print(\"\\nMatrix:\")\n",
        "print(matrix)\n",
        "print(\"Column vector:\")\n",
        "print(col_vector)\n",
        "print(\"Matrix + Column vector:\")\n",
        "print(matrix + col_vector)  # Result: each column is summed with the vector\n",
        "# [[11, 12, 13],\n",
        "#  [24, 25, 26],\n",
        "#  [37, 38, 39]]"
      ]
    },
    {
      "cell_type": "markdown",
      "metadata": {
        "id": "broadcasting-rules"
      },
      "source": [
        "### Broadcasting Rules\n",
        "\n",
        "NumPy follows these rules when broadcasting arrays:\n",
        "\n",
        "1. If the arrays don't have the same number of dimensions, the shape of the array with fewer dimensions is padded with ones on the left.\n",
        "2. If the shape of the arrays doesn't match in any dimension, the array with shape equal to 1 in that dimension is stretched to match the other shape.\n",
        "3. If in any dimension the sizes disagree and neither is equal to 1, an error is raised."
      ]
    },
    {
      "cell_type": "code",
      "execution_count": null,
      "metadata": {
        "id": "broadcasting-rules-examples"
      },
      "outputs": [],
      "source": [
        "# Rule 1: Padding with ones on the left\n",
        "a = np.array([1, 2, 3])  # Shape: (3,)\n",
        "b = np.array([[1, 2, 3]])  # Shape: (1, 3)\n",
        "print(\"a shape:\", a.shape)  # (3,)\n",
        "print(\"b shape:\", b.shape)  # (1, 3)\n",
        "print(\"a + b:\")\n",
        "print(a + b)  # a is treated as shape (1, 3) for broadcasting\n",
        "# [[2, 4, 6]]\n",
        "\n",
        "# Rule 2: Stretching dimensions with size 1\n",
        "a = np.ones((3, 1))  # Shape: (3, 1)\n",
        "b = np.ones((1, 4))  # Shape: (1, 4)\n",
        "print(\"\\na shape:\", a.shape)  # (3, 1)\n",
        "print(\"b shape:\", b.shape)  # (1, 4)\n",
        "print(\"a + b shape:\", (a + b).shape)  # (3, 4)\n",
        "print(\"a + b:\")\n",
        "print(a + b)  # a is stretched to (3, 4) and b is stretched to (3, 4)\n",
        "\n",
        "# Rule 3: Error when sizes disagree and neither is 1\n",
        "a = np.ones((3, 2))\n",
        "b = np.ones((3, 3))\n",
        "print(\"\\na shape:\", a.shape)  # (3, 2)\n",
        "print(\"b shape:\", b.shape)  # (3, 3)\n",
        "try:\n",
        "    result = a + b\n",
        "except ValueError as e:\n",
        "    print(\"Error:\", e)"
      ]
    }
  ],
  "metadata": {
    "colab": {
      "provenance": [],
      "toc_visible": true
    },
    "kernelspec": {
      "display_name": "Python 3",
      "name": "python3"
    }
  },
  "nbformat": 4,
  "nbformat_minor": 0
}

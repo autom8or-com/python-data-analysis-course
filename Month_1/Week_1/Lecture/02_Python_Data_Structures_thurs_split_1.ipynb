{
  "cells": [
    {
      "cell_type": "markdown",
      "metadata": {
        "id": "header-section"
      },
      "source": [
        "# Python Data Structures for Data Analysis - Part 1\n",
        "\n",
        "## Week 1, Day 2 (Thursday) - April 10th, 2025\n",
        "\n",
        "### Overview\n",
        "Understanding data structures is essential for effective data analysis in Python. Today, we'll explore the fundamental Python data structures and how they're used in data analysis workflows.\n",
        "\n",
        "### Learning Objectives\n",
        "- Understand and work with lists, tuples, and dictionaries\n",
        "- Learn indexing and slicing operations\n",
        "- Master list and dictionary comprehensions\n",
        "- Apply these concepts to real-world data examples\n",
        "\n",
        "### Prerequisites\n",
        "- Basic Python syntax (covered in Day 1)\n",
        "- Google Colab environment setup"
      ]
    },
    {
      "cell_type": "markdown",
      "metadata": {
        "id": "intro-lists"
      },
      "source": [
        "## 1. Lists in Python\n",
        "\n",
        "Lists are one of the most versatile data structures in Python. They are ordered, mutable, and can contain elements of different types.\n",
        "\n",
        "### Creating Lists"
      ]
    },
    {
      "cell_type": "code",
      "execution_count": null,
      "metadata": {
        "id": "create-lists"
      },
      "outputs": [],
      "source": [
        "# Basic list creation\n",
        "empty_list = []\n",
        "numbers = [1, 2, 3, 4, 5]\n",
        "mixed_list = [1, \"hello\", 3.14, True]\n",
        "nested_list = [1, [2, 3], [4, [5, 6]]]\n",
        "\n",
        "print(\"Empty list:\", empty_list)\n",
        "print(\"Numbers:\", numbers)\n",
        "print(\"Mixed types:\", mixed_list)\n",
        "print(\"Nested list:\", nested_list)"
      ]
    },
    {
      "cell_type": "markdown",
      "metadata": {
        "id": "list-indexing"
      },
      "source": [
        "### List Indexing and Slicing\n",
        "\n",
        "Python uses zero-based indexing, meaning the first element is at index 0."
      ]
    },
    {
      "cell_type": "code",
      "execution_count": null,
      "metadata": {
        "id": "indexing-code"
      },
      "outputs": [],
      "source": [
        "# Sample list for demonstration\n",
        "fruits = [\"apple\", \"banana\", \"cherry\", \"durian\", \"elderberry\"]\n",
        "\n",
        "# Single element access\n",
        "print(\"First fruit:\", fruits[0])  # apple\n",
        "print(\"Last fruit:\", fruits[-1])  # elderberry\n",
        "\n",
        "# Slicing: list[start:end:step]\n",
        "print(\"First three fruits:\", fruits[0:3])  # [\"apple\", \"banana\", \"cherry\"]\n",
        "print(\"Every other fruit:\", fruits[::2])   # [\"apple\", \"cherry\", \"elderberry\"]\n",
        "print(\"Reversed list:\", fruits[::-1])      # [\"elderberry\", \"durian\", \"cherry\", \"banana\", \"apple\"]"
      ]
    },
    {
      "cell_type": "markdown",
      "metadata": {
        "id": "list-methods"
      },
      "source": [
        "### Common List Methods\n",
        "\n",
        "Lists provide many built-in methods for manipulation."
      ]
    },
    {
      "cell_type": "code",
      "execution_count": null,
      "metadata": {
        "id": "list-methods-code"
      },
      "outputs": [],
      "source": [
        "# Let's start with a basic list\n",
        "data = [3, 1, 4, 1, 5, 9]\n",
        "\n",
        "# Adding elements\n",
        "data.append(2)       # Add to the end\n",
        "print(\"After append:\", data)  # [3, 1, 4, 1, 5, 9, 2]\n",
        "\n",
        "data.insert(2, 7)    # Insert at index 2\n",
        "print(\"After insert:\", data)  # [3, 1, 7, 4, 1, 5, 9, 2]\n",
        "\n",
        "# Removing elements\n",
        "data.remove(1)       # Remove first occurrence of 1\n",
        "print(\"After remove:\", data)  # [3, 7, 4, 1, 5, 9, 2]\n",
        "\n",
        "popped = data.pop()  # Remove and return last element\n",
        "print(\"Popped value:\", popped, \"List after pop:\", data)  # Popped: 2, List: [3, 7, 4, 1, 5, 9]\n",
        "\n",
        "# Other common operations\n",
        "data.sort()          # Sort in place\n",
        "print(\"Sorted list:\", data)  # [1, 3, 4, 5, 7, 9]\n",
        "\n",
        "data.reverse()       # Reverse in place\n",
        "print(\"Reversed list:\", data)  # [9, 7, 5, 4, 3, 1]\n",
        "\n",
        "# Finding elements\n",
        "print(\"Index of 5:\", data.index(5))  # 2\n",
        "print(\"Count of 7:\", data.count(7))  # 1"
      ]
    },
    {
      "cell_type": "markdown",
      "metadata": {
        "id": "list-computation"
      },
      "source": [
        "### List Comprehensions\n",
        "\n",
        "List comprehensions provide a concise way to create lists based on existing lists."
      ]
    },
    {
      "cell_type": "code",
      "execution_count": null,
      "metadata": {
        "id": "list-comprehension-code"
      },
      "outputs": [],
      "source": [
        "# Basic syntax: [expression for item in iterable if condition]\n",
        "\n",
        "# Create a list of squares from 0 to 9\n",
        "squares = [x**2 for x in range(10)]\n",
        "print(\"Squares:\", squares)  # [0, 1, 4, 9, 16, 25, 36, 49, 64, 81]\n",
        "\n",
        "# Only even numbers\n",
        "even_squares = [x**2 for x in range(10) if x % 2 == 0]\n",
        "print(\"Even squares:\", even_squares)  # [0, 4, 16, 36, 64]\n",
        "\n",
        "# Multiple if conditions\n",
        "filtered = [x for x in range(100) if x % 3 == 0 if x % 5 == 0]\n",
        "print(\"Multiples of 3 and 5:\", filtered)  # [0, 15, 30, 45, 60, 75, 90]\n",
        "\n",
        "# If-else in list comprehension\n",
        "parity = [\"even\" if x % 2 == 0 else \"odd\" for x in range(5)]\n",
        "print(\"Parity strings:\", parity)  # ['even', 'odd', 'even', 'odd', 'even']\n",
        "\n",
        "# Nested list comprehension (creating a 3x3 matrix)\n",
        "matrix = [[i*3 + j + 1 for j in range(3)] for i in range(3)]\n",
        "print(\"Matrix:\")\n",
        "for row in matrix:\n",
        "    print(row)"
      ]
    },
    {
      "cell_type": "markdown",
      "metadata": {
        "id": "data-analysis-lists"
      },
      "source": [
        "### Application to Data Analysis\n",
        "\n",
        "Let's see how lists can be applied to real-world data analysis scenarios."
      ]
    },
    {
      "cell_type": "code",
      "execution_count": null,
      "metadata": {
        "id": "data-analysis-example"
      },
      "outputs": [],
      "source": [
        "# Sample sales data\n",
        "sales_data = [\n",
        "    [\"2025-01-01\", \"Product A\", 150, 10.99],\n",
        "    [\"2025-01-02\", \"Product B\", 200, 20.49],\n",
        "    [\"2025-01-02\", \"Product A\", 100, 10.99],\n",
        "    [\"2025-01-03\", \"Product C\", 50, 5.99],\n",
        "    [\"2025-01-03\", \"Product B\", 300, 20.49],\n",
        "    [\"2025-01-03\", \"Product A\", 200, 10.99],\n",
        "]\n",
        "\n",
        "# Calculate total revenue per product\n",
        "product_revenues = {}\n",
        "\n",
        "for date, product, quantity, price in sales_data:\n",
        "    if product not in product_revenues:\n",
        "        product_revenues[product] = 0\n",
        "    product_revenues[product] += quantity * price\n",
        "\n",
        "print(\"Product Revenues:\")\n",
        "for product, revenue in product_revenues.items():\n",
        "    print(f\"{product}: ${revenue:.2f}\")\n",
        "\n",
        "# Find the day with highest sales using list comprehension\n",
        "daily_revenues = {}\n",
        "for date, _, quantity, price in sales_data:\n",
        "    if date not in daily_revenues:\n",
        "        daily_revenues[date] = 0\n",
        "    daily_revenues[date] += quantity * price\n",
        "\n",
        "# Get day with maximum revenue\n",
        "best_day = max(daily_revenues.items(), key=lambda x: x[1])\n",
        "print(f\"\\nBest sales day: {best_day[0]} with ${best_day[1]:.2f} in revenue\")"
      ]
    },
    {
      "cell_type": "markdown",
      "metadata": {
        "id": "tuples-intro"
      },
      "source": [
        "## 2. Tuples in Python\n",
        "\n",
        "Tuples are similar to lists but they are immutable (cannot be changed after creation). They are often used for data that shouldn't change."
      ]
    },
    {
      "cell_type": "code",
      "execution_count": null,
      "metadata": {
        "id": "tuples-examples"
      },
      "outputs": [],
      "source": [
        "# Creating tuples\n",
        "empty_tuple = ()\n",
        "single_item = (1,)  # Note the comma - needed for single-item tuples\n",
        "coordinates = (10.5, 20.8)\n",
        "person = (\"John\", \"Doe\", 30, \"Analyst\")\n",
        "\n",
        "print(\"Empty tuple:\", empty_tuple)\n",
        "print(\"Single item tuple:\", single_item)\n",
        "print(\"Coordinates:\", coordinates)\n",
        "print(\"Person:\", person)\n",
        "\n",
        "# Tuple unpacking\n",
        "x, y = coordinates\n",
        "print(f\"X coordinate: {x}, Y coordinate: {y}\")\n",
        "\n",
        "first_name, last_name, age, role = person\n",
        "print(f\"{first_name} {last_name} is a {age}-year-old {role}\")\n",
        "\n",
        "# Tuples are immutable\n",
        "try:\n",
        "    coordinates[0] = 15.0  # This will raise an error\n",
        "except TypeError as e:\n",
        "    print(f\"Error: {e}\")"
      ]
    },
    {
      "cell_type": "markdown",
      "metadata": {
        "id": "tuple-methods"
      },
      "source": [
        "### Tuple Methods and Operations\n",
        "\n",
        "Tuples have fewer methods than lists because they are immutable."
      ]
    },
    {
      "cell_type": "code",
      "execution_count": null,
      "metadata": {
        "id": "tuple-operations"
      },
      "outputs": [],
      "source": [
        "# Sample tuple\n",
        "data = (3, 1, 4, 1, 5, 9, 2, 6, 5)\n",
        "\n",
        "# Counting and indexing\n",
        "print(f\"Count of 5: {data.count(5)}\")\n",
        "print(f\"Index of first 5: {data.index(5)}\")\n",
        "\n",
        "# Slicing works just like with lists\n",
        "print(f\"First three elements: {data[:3]}\")\n",
        "print(f\"Last three elements: {data[-3:]}\")\n",
        "print(f\"Every other element: {data[::2]}\")\n",
        "\n",
        "# Concatenation\n",
        "more_data = data + (5, 3, 5)\n",
        "print(f\"Concatenated tuple: {more_data}\")\n",
        "\n",
        "# Tuple unpacking in a for loop\n",
        "student_records = [\n",
        "    (\"Alice\", \"Smith\", 3.9),\n",
        "    (\"Bob\", \"Johnson\", 3.7),\n",
        "    (\"Charlie\", \"Williams\", 4.0)\n",
        "]\n",
        "\n",
        "print(\"\\nStudent GPAs:\")\n",
        "for first, last, gpa in student_records:\n",
        "    print(f\"{first} {last}: {gpa}\")"
      ]
    },
    {
      "cell_type": "markdown",
      "metadata": {
        "id": "tuple-applications"
      },
      "source": [
        "### When to Use Tuples in Data Analysis\n",
        "\n",
        "Tuples are particularly useful in data analysis for:\n",
        "- Representing record structures with fixed fields\n",
        "- Storing data that should not change (like dates, coordinates)\n",
        "- Dictionary keys (lists cannot be used as keys)\n",
        "- Function return values with multiple elements"
      ]
    },
    {
      "cell_type": "code",
      "execution_count": null,
      "metadata": {
        "id": "tuple-applications-code"
      },
      "outputs": [],
      "source": [
        "# Using tuples to represent geographic data points\n",
        "city_data = [\n",
        "    (\"New York\", (40.7128, -74.0060), 8.4),  # (name, (lat, long), population in millions)\n",
        "    (\"Tokyo\", (35.6762, 139.6503), 13.9),\n",
        "    (\"Paris\", (48.8566, 2.3522), 2.2),\n",
        "    (\"London\", (51.5074, -0.1278), 8.9),\n",
        "    (\"Beijing\", (39.9042, 116.4074), 21.5)\n",
        "]\n",
        "\n",
        "# Calculate the average population\n",
        "total_population = sum(city[2] for city in city_data)\n",
        "avg_population = total_population / len(city_data)\n",
        "print(f\"Average population: {avg_population:.1f} million\")\n",
        "\n",
        "# Find the northernmost city\n",
        "northernmost = max(city_data, key=lambda city: city[1][0])  # city[1][0] is latitude\n",
        "print(f\"Northernmost city: {northernmost[0]} at latitude {northernmost[1][0]}°\")\n",
        "\n",
        "# Function returning multiple values as a tuple\n",
        "def analyze_city_data(city_list):\n",
        "    populations = [city[2] for city in city_list]\n",
        "    return (min(populations), max(populations), sum(populations)/len(populations))\n",
        "\n",
        "min_pop, max_pop, avg_pop = analyze_city_data(city_data)\n",
        "print(f\"Population stats (in millions) - Min: {min_pop}, Max: {max_pop}, Avg: {avg_pop:.1f}\")"
      ]
    },
    {
      "cell_type": "markdown",
      "metadata": {
        "id": "conclusion"
      },
      "source": [
        "## Summary - Part 1\n",
        "\n",
        "In this first part of our data structures lesson, we've explored:\n",
        "\n",
        "1. **Lists** - Mutable, ordered collections that can hold mixed data types\n",
        "   - Creation and basic operations\n",
        "   - Indexing and slicing\n",
        "   - Common methods (append, insert, remove, etc.)\n",
        "   - List comprehensions\n",
        "\n",
        "2. **Tuples** - Immutable, ordered collections\n",
        "   - Creation and basic operations\n",
        "   - Unpacking and multiple returns\n",
        "   - Applications in data analysis\n",
        "\n",
        "In Part 2, we'll continue with dictionaries, sets, and more advanced data structure concepts relevant to data analysis."
      ]
    }
  ],
  "metadata": {
    "colab": {
      "provenance": [],
      "toc_visible": true
    },
    "kernelspec": {
      "display_name": "Python 3",
      "name": "python3"
    }
  },
  "nbformat": 4,
  "nbformat_minor": 0
}

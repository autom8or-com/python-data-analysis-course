{
 "cells": [
  {
   "cell_type": "markdown",
   "metadata": {},
   "source": [
    "# Python for Data Analysis - Week 2\n",
    "## Practice Exercises: Pandas Fundamentals I (Part 3)\n",
    "\n",
    "### Overview\n",
    "This notebook is a continuation of the practice exercises for Week 2's Pandas Fundamentals session. Please complete Parts 1 and 2 before starting this notebook.\n",
    "\n",
    "### Instructions\n",
    "1. Read each exercise carefully\n",
    "2. Write your code in the provided cells\n",
    "3. Run your code to check your solution\n",
    "4. Compare your approach with the provided solution\n",
    "5. If you're stuck, review the lecture materials or ask for help"
   ]
  },
  {
   "cell_type": "markdown",
   "metadata": {},
   "source": [
    "## Setup\n",
    "\n",
    "First, let's import the necessary libraries and recreate our dataset from previous parts."
   ]
  },
  {
   "cell_type": "code",
   "execution_count": null,
   "metadata": {},
   "outputs": [],
   "source": [
    "# Import libraries\n",
    "import pandas as pd\n",
    "import numpy as np\n",
    "import matplotlib.pyplot as plt\n",
    "\n",
    "# For plotting in the notebook\n",
    "%matplotlib inline\n",
    "\n",
    "# Set display options\n",
    "pd.set_option('display.max_columns', None)  # Show all columns\n",
    "pd.set_option('display.max_rows', 15)       # Limit number of rows shown\n",
    "pd.set_option('display.width', 1000)        # Set width of display\n",
    "\n",
    "# Load the numeric_data.csv file\n",
    "numeric_df = pd.read_csv('../Data/numeric_data.csv')\n",
    "\n",
    "print(\"Libraries imported and data loaded successfully!\")\n",
    "print(numeric_df.head())"
   ]
  },
  {
   "cell_type": "markdown",
   "metadata": {},
   "source": [
    "## Section 3: Row Selection and Filtering\n",
    "\n",
    "In this section, we'll practice filtering rows based on various conditions."
   ]
  },
  {
   "cell_type": "markdown",
   "metadata": {},
   "source": [
    "### Exercise 3.1: Basic Filtering\n",
    "\n",
    "Using the `numeric_df` DataFrame, perform the following row selections:\n",
    "\n",
    "1. Select rows where value1 is greater than 6\n",
    "2. Select rows where category is 'A'\n",
    "3. Select rows where value2 is between 10 and 12 (inclusive)\n",
    "4. Select the first 3 rows of the DataFrame"
   ]
  },
  {
   "cell_type": "code",
   "execution_count": null,
   "metadata": {},
   "outputs": [],
   "source": [
    "# Your code here\n"
   ]
  },
  {
   "cell_type": "markdown",
   "metadata": {},
   "source": [
    "### Solution 3.1"
   ]
  },
  {
   "cell_type": "code",
   "execution_count": null,
   "metadata": {},
   "outputs": [],
   "source": [
    "# 1. Select rows where value1 is greater than 6\n",
    "print(\"Rows where value1 > 6:\")\n",
    "print(numeric_df[numeric_df['value1'] > 6])\n",
    "\n",
    "# 2. Select rows where category is 'A'\n",
    "print(\"\\nRows where category is 'A':\")\n",
    "print(numeric_df[numeric_df['category'] == 'A'])\n",
    "\n",
    "# 3. Select rows where value2 is between 10 and 12\n",
    "print(\"\\nRows where 10 <= value2 <= 12:\")\n",
    "print(numeric_df[(numeric_df['value2'] >= 10) & (numeric_df['value2'] <= 12)])\n",
    "\n",
    "# 4. Select the first 3 rows\n",
    "print(\"\\nFirst 3 rows:\")\n",
    "print(numeric_df.iloc[0:3])"
   ]
  },
  {
   "cell_type": "markdown",
   "metadata": {},
   "source": [
    "### Exercise 3.2: Advanced Filtering\n",
    "\n",
    "Using the `numeric_df` DataFrame, perform the following advanced row selections:\n",
    "\n",
    "1. Select rows where category is 'A' or 'B'\n",
    "2. Select rows where value1 is greater than 6 AND value2 is less than 13\n",
    "3. Select rows where category is 'C' OR value3 is greater than 20\n",
    "4. Select rows where (category is 'A' AND value1 > 5) OR (category is 'B' AND value1 < 6)"
   ]
  },
  {
   "cell_type": "code",
   "execution_count": null,
   "metadata": {},
   "outputs": [],
   "source": [
    "# Your code here\n"
   ]
  },
  {
   "cell_type": "markdown",
   "metadata": {},
   "source": [
    "### Solution 3.2"
   ]
  },
  {
   "cell_type": "code",
   "execution_count": null,
   "metadata": {},
   "outputs": [],
   "source": [
    "# 1. Select rows where category is 'A' or 'B'\n",
    "print(\"Rows where category is 'A' or 'B':\")\n",
    "print(numeric_df[numeric_df['category'].isin(['A', 'B'])])\n",
    "# Alternative: numeric_df[(numeric_df['category'] == 'A') | (numeric_df['category'] == 'B')]\n",
    "\n",
    "# 2. Select rows where value1 > 6 AND value2 < 13\n",
    "print(\"\\nRows where value1 > 6 AND value2 < 13:\")\n",
    "print(numeric_df[(numeric_df['value1'] > 6) & (numeric_df['value2'] < 13)])\n",
    "\n",
    "# 3. Select rows where category is 'C' OR value3 > 20\n",
    "print(\"\\nRows where category is 'C' OR value3 > 20:\")\n",
    "print(numeric_df[(numeric_df['category'] == 'C') | (numeric_df['value3'] > 20)])\n",
    "\n",
    "# 4. Select rows where (category is 'A' AND value1 > 5) OR (category is 'B' AND value1 < 6)\n",
    "print(\"\\nRows where (category is 'A' AND value1 > 5) OR (category is 'B' AND value1 < 6):\")\n",
    "condition1 = (numeric_df['category'] == 'A') & (numeric_df['value1'] > 5)\n",
    "condition2 = (numeric_df['category'] == 'B') & (numeric_df['value1'] < 6)\n",
    "print(numeric_df[condition1 | condition2])"
   ]
  },
  {
   "cell_type": "markdown",
   "metadata": {},
   "source": [
    "### Exercise 3.3: Using loc and iloc\n",
    "\n",
    "Using the `numeric_df` DataFrame, perform the following selections using `loc` and `iloc`:\n",
    "\n",
    "1. Use `loc` to select rows where category is 'A' and display only the value1 and value2 columns\n",
    "2. Use `iloc` to select the first 3 rows and columns 1 through 3\n",
    "3. Use `loc` to select rows where value1 is greater than the mean value1 and display all columns\n",
    "4. Use `iloc` to select every other row and every other column starting from the first"
   ]
  },
  {
   "cell_type": "code",
   "execution_count": null,
   "metadata": {},
   "outputs": [],
   "source": [
    "# Your code here\n"
   ]
  },
  {
   "cell_type": "markdown",
   "metadata": {},
   "source": [
    "### Solution 3.3"
   ]
  },
  {
   "cell_type": "code",
   "execution_count": null,
   "metadata": {},
   "outputs": [],
   "source": [
    "# 1. Use loc to select rows where category is 'A' and display value1 and value2\n",
    "print(\"Rows where category is 'A', showing value1 and value2:\")\n",
    "print(numeric_df.loc[numeric_df['category'] == 'A', ['value1', 'value2']])\n",
    "\n",
    "# 2. Use iloc to select the first 3 rows and columns 1 through 3\n",
    "print(\"\\nFirst 3 rows, columns 1-3:\")\n",
    "print(numeric_df.iloc[0:3, 1:4])\n",
    "\n",
    "# 3. Use loc to select rows where value1 > mean value1\n",
    "value1_mean = numeric_df['value1'].mean()\n",
    "print(f\"\\nRows where value1 > {value1_mean:.2f} (mean):\")\n",
    "print(numeric_df.loc[numeric_df['value1'] > value1_mean])\n",
    "\n",
    "# 4. Use iloc to select every other row and every other column\n",
    "print(\"\\nEvery other row and every other column:\")\n",
    "print(numeric_df.iloc[::2, ::2])"
   ]
  },
  {
   "cell_type": "markdown",
   "metadata": {},
   "source": [
    "## Section 4: SQL to Pandas Translation\n",
    "\n",
    "In this section, we'll practice translating SQL queries to their pandas equivalents."
   ]
  },
  {
   "cell_type": "markdown",
   "metadata": {},
   "source": [
    "### Exercise 4.1: Basic SQL Translations\n",
    "\n",
    "For each of the following SQL queries, write the equivalent pandas code using the `numeric_df` DataFrame:\n",
    "\n",
    "1. `SELECT * FROM table WHERE category = 'A'`\n",
    "2. `SELECT value1, value2 FROM table ORDER BY value1 DESC`\n",
    "3. `SELECT * FROM table WHERE value1 > 6 AND value2 < 13`\n",
    "4. `SELECT * FROM table LIMIT 5`"
   ]
  },
  {
   "cell_type": "code",
   "execution_count": null,
   "metadata": {},
   "outputs": [],
   "source": [
    "# Your code here\n"
   ]
  },
  {
   "cell_type": "markdown",
   "metadata": {},
   "source": [
    "### Solution 4.1"
   ]
  },
  {
   "cell_type": "code",
   "execution_count": null,
   "metadata": {},
   "outputs": [],
   "source": [
    "# 1. SELECT * FROM table WHERE category = 'A'\n",
    "query1 = numeric_df[numeric_df['category'] == 'A']\n",
    "print(\"Query 1: SELECT * FROM table WHERE category = 'A'\")\n",
    "print(query1)\n",
    "\n",
    "# 2. SELECT value1, value2 FROM table ORDER BY value1 DESC\n",
    "query2 = numeric_df[['value1', 'value2']].sort_values('value1', ascending=False)\n",
    "print(\"\\nQuery 2: SELECT value1, value2 FROM table ORDER BY value1 DESC\")\n",
    "print(query2)\n",
    "\n",
    "# 3. SELECT * FROM table WHERE value1 > 6 AND value2 < 13\n",
    "query3 = numeric_df[(numeric_df['value1'] > 6) & (numeric_df['value2'] < 13)]\n",
    "print(\"\\nQuery 3: SELECT * FROM table WHERE value1 > 6 AND value2 < 13\")\n",
    "print(query3)\n",
    "\n",
    "# 4. SELECT * FROM table LIMIT 5\n",
    "query4 = numeric_df.head(5)\n",
    "print(\"\\nQuery 4: SELECT * FROM table LIMIT 5\")\n",
    "print(query4)"
   ]
  },
  {
   "cell_type": "markdown",
   "metadata": {},
   "source": [
    "### Exercise 4.2: Intermediate SQL Translations\n",
    "\n",
    "For each of the following SQL queries, write the equivalent pandas code using the `numeric_df` DataFrame:\n",
    "\n",
    "1. `SELECT category, COUNT(*) FROM table GROUP BY category`\n",
    "2. `SELECT category, AVG(value1) as avg_value1 FROM table GROUP BY category ORDER BY avg_value1 DESC`\n",
    "3. `SELECT * FROM table WHERE value1 IN (5.5, 6.3, 7.2)`\n",
    "4. `SELECT category, SUM(value1) as total_value1 FROM table GROUP BY category HAVING SUM(value1) > 15`"
   ]
  },
  {
   "cell_type": "code",
   "execution_count": null,
   "metadata": {},
   "outputs": [],
   "source": [
    "# Your code here\n"
   ]
  },
  {
   "cell_type": "markdown",
   "metadata": {},
   "source": [
    "### Solution 4.2"
   ]
  },
  {
   "cell_type": "code",
   "execution_count": null,
   "metadata": {},
   "outputs": [],
   "source": [
    "# 1. SELECT category, COUNT(*) FROM table GROUP BY category\n",
    "query5 = numeric_df.groupby('category').size().reset_index(name='count')\n",
    "print(\"Query 5: SELECT category, COUNT(*) FROM table GROUP BY category\")\n",
    "print(query5)\n",
    "\n",
    "# 2. SELECT category, AVG(value1) as avg_value1 FROM table GROUP BY category ORDER BY avg_value1 DESC\n",
    "query6 = numeric_df.groupby('category')['value1'].mean().reset_index(name='avg_value1').sort_values('avg_value1', ascending=False)\n",
    "print(\"\\nQuery 6: SELECT category, AVG(value1) FROM table GROUP BY category ORDER BY avg_value1 DESC\")\n",
    "print(query6)\n",
    "\n",
    "# 3. SELECT * FROM table WHERE value1 IN (5.5, 6.3, 7.2)\n",
    "query7 = numeric_df[numeric_df['value1'].isin([5.5, 6.3, 7.2])]\n",
    "print(\"\\nQuery 7: SELECT * FROM table WHERE value1 IN (5.5, 6.3, 7.2)\")\n",
    "print(query7)\n",
    "\n",
    "# 4. SELECT category, SUM(value1) as total_value1 FROM table GROUP BY category HAVING SUM(value1) > 15\n",
    "# First group by category and sum value1\n",
    "grouped = numeric_df.groupby('category')['value1'].sum().reset_index(name='total_value1')\n",
    "# Then filter for total_value1 > 15\n",
    "query8 = grouped[grouped['total_value1'] > 15]\n",
    "print(\"\\nQuery 8: SELECT category, SUM(value1) as total_value1 FROM table GROUP BY category HAVING SUM(value1) > 15\")\n",
    "print(query8)"
   ]
  },
  {
   "cell_type": "markdown",
   "metadata": {},
   "source": [
    "## Conclusion\n",
    "\n",
    "Congratulations! You've completed the practice exercises for Pandas Fundamentals I. These exercises have covered:\n",
    "\n",
    "1. Creating and exploring DataFrames\n",
    "2. Column selection and basic operations\n",
    "3. Row selection and filtering\n",
    "4. SQL to Pandas translation\n",
    "\n",
    "These skills form the foundation of data analysis with pandas. As you become more comfortable with these operations, you'll be able to manipulate and analyze data more efficiently.\n",
    "\n",
    "### Next Steps\n",
    "\n",
    "- Review any exercises you found challenging\n",
    "- Experiment with different ways to accomplish the same tasks\n",
    "- Practice applying these concepts to other datasets\n",
    "- Explore the pandas documentation for additional functionality\n",
    "\n",
    "In the next sessions, we'll build on these fundamentals to explore more advanced pandas operations and data visualization techniques."
   ]
  }
 ],
 "metadata": {
  "kernelspec": {
   "display_name": "Python 3",
   "language": "python",
   "name": "python3"
  },
  "language_info": {
   "codemirror_mode": {
    "name": "ipython",
    "version": 3
   },
   "file_extension": ".py",
   "mimetype": "text/x-python",
   "name": "python",
   "nbconvert_exporter": "python",
   "pygments_lexer": "ipython3",
   "version": "3.8.10"
  }
 },
 "nbformat": 4,
 "nbformat_minor": 4
}

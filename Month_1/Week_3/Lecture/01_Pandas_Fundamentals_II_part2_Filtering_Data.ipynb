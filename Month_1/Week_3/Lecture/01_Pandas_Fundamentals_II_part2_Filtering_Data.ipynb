{
  "cells": [
    {
      "cell_type": "markdown",
      "metadata": {},
      "source": [
        "# Pandas Fundamentals II - Part 2: Filtering Data\n",
        "\n",
        "## Week 3, Day 1 (Wednesday) - April 23rd, 2025\n",
        "\n",
        "### Overview\n",
        "This is the second part of our Pandas Fundamentals II session, focusing on filtering data. While we touched on basic filtering in Part 1, here we'll delve deeper into advanced filtering techniques and methods to efficiently extract relevant subsets from DataFrames.\n",
        "\n",
        "### Learning Objectives\n",
        "- Master complex filtering techniques in Pandas\n",
        "- Use advanced boolean expressions to filter data\n",
        "- Understand pattern matching for string filtering\n",
        "- Apply SQL-like thinking to complex filtering operations\n",
        "- Learn specialized filtering methods like `.query()` and `.isin()`\n",
        "\n",
        "### Prerequisites\n",
        "- Python fundamentals (Week 1)\n",
        "- Pandas Fundamentals I (Week 2, Day 2)\n",
        "- Indexing and Selection (Week 3, Part 1)"
      ]
    },
    {
      "cell_type": "markdown",
      "metadata": {},
      "source": [
        "## 1. Introduction to Data Filtering\n",
        "\n",
        "In the previous section, we covered basic data selection and indexing. Here, we'll focus on filtering, which allows us to extract specific rows from a DataFrame based on conditions. In SQL terms, we're going deeper into the `WHERE` clause functionality."
      ]
    },
    {
      "cell_type": "code",
      "execution_count": null,
      "metadata": {},
      "outputs": [],
      "source": [
        "# Import libraries\n",
        "import pandas as pd\n",
        "import numpy as np\n",
        "\n",
        "# Create a sample e-commerce dataset\n",
        "data = {\n",
        "    'order_id': ['ORD001', 'ORD002', 'ORD003', 'ORD004', 'ORD005', 'ORD006', 'ORD007', 'ORD008'],\n",
        "    'customer_id': ['C101', 'C102', 'C101', 'C103', 'C104', 'C103', 'C105', 'C102'],\n",
        "    'product_category': ['Electronics', 'Clothing', 'Home', 'Electronics', 'Books', 'Home', 'Electronics', 'Clothing'],\n",
        "    'product_name': ['Laptop', 'T-shirt', 'Lamp', 'Smartphone', 'Python Book', 'Chair', 'Headphones', 'Jeans'],\n",
        "    'price': [1200.50, 25.99, 45.75, 800.00, 35.50, 120.99, 75.25, 49.99],\n",
        "    'quantity': [1, 2, 1, 1, 3, 2, 1, 1],\n",
        "    'order_date': ['2025-01-15', '2025-01-20', '2025-01-22', '2025-02-05', '2025-02-10', '2025-02-15', '2025-02-20', '2025-03-01'],\n",
        "    'is_delivered': [True, True, True, True, False, False, True, False]\n",
        "}\n",
        "\n",
        "# Create DataFrame\n",
        "orders_df = pd.DataFrame(data)\n",
        "\n",
        "# Convert date column to datetime type\n",
        "orders_df['order_date'] = pd.to_datetime(orders_df['order_date'])\n",
        "\n",
        "# Add total amount column\n",
        "orders_df['total_amount'] = orders_df['price'] * orders_df['quantity']\n",
        "\n",
        "print(\"Sample E-commerce Orders DataFrame:\")\n",
        "print(orders_df)"
      ]
    },
    {
      "cell_type": "markdown",
      "metadata": {},
      "source": [
        "## 2. Review of Basic Boolean Filtering\n",
        "\n",
        "Before diving into advanced techniques, let's quickly review basic boolean filtering:"
      ]
    },
    {
      "cell_type": "code",
      "execution_count": null,
      "metadata": {},
      "outputs": [],
      "source": [
        "# Filter orders for Electronics products\n",
        "electronics_orders = orders_df[orders_df['product_category'] == 'Electronics']\n",
        "print(\"Orders for Electronics products:\")\n",
        "print(electronics_orders)\n",
        "\n",
        "# Filter expensive orders (total over $100)\n",
        "expensive_orders = orders_df[orders_df['total_amount'] > 100]\n",
        "print(\"\\nExpensive orders (>$100):\")\n",
        "print(expensive_orders)\n",
        "\n",
        "# Combining conditions with & (AND) and | (OR)\n",
        "# Electronics orders that are delivered\n",
        "delivered_electronics = orders_df[(orders_df['product_category'] == 'Electronics') & \n",
        "                                 (orders_df['is_delivered'] == True)]\n",
        "print(\"\\nDelivered Electronics orders:\")\n",
        "print(delivered_electronics)"
      ]
    },
    {
      "cell_type": "markdown",
      "metadata": {},
      "source": [
        "## 3. Advanced Boolean Expressions\n",
        "\n",
        "Now let's explore more complex boolean expressions for filtering:"
      ]
    },
    {
      "cell_type": "code",
      "execution_count": null,
      "metadata": {},
      "outputs": [],
      "source": [
        "# Multiple OR conditions\n",
        "# Orders for Electronics OR Books\n",
        "tech_orders = orders_df[(orders_df['product_category'] == 'Electronics') | \n",
        "                        (orders_df['product_category'] == 'Books')]\n",
        "print(\"Orders for Electronics or Books:\")\n",
        "print(tech_orders)\n",
        "\n",
        "# Complex conditions with both AND and OR\n",
        "# High-value Electronics orders OR orders with multiple items\n",
        "complex_filter = orders_df[((orders_df['product_category'] == 'Electronics') & \n",
        "                           (orders_df['price'] > 500)) | \n",
        "                           (orders_df['quantity'] > 1)]\n",
        "print(\"\\nComplex filter result:\")\n",
        "print(complex_filter)\n",
        "\n",
        "# Using NOT condition with ~\n",
        "# Orders that are not delivered\n",
        "undelivered = orders_df[~orders_df['is_delivered']]\n",
        "print(\"\\nUndelivered orders:\")\n",
        "print(undelivered)"
      ]
    },
    {
      "cell_type": "markdown",
      "metadata": {},
      "source": [
        "### SQL Comparison for Complex Filters\n",
        "\n",
        "The complex filter above would be equivalent to this SQL:\n",
        "\n",
        "```sql\n",
        "SELECT * FROM orders\n",
        "WHERE (product_category = 'Electronics' AND price > 500)\n",
        "   OR (quantity > 1)\n",
        "```"
      ]
    },
    {
      "cell_type": "markdown",
      "metadata": {},
      "source": [
        "## 4. Filtering with .isin() Method\n",
        "\n",
        "When you want to filter based on multiple possible values (like SQL's `IN` clause), the `.isin()` method is very useful:"
      ]
    },
    {
      "cell_type": "code",
      "execution_count": null,
      "metadata": {},
      "outputs": [],
      "source": [
        "# Filter orders for specific categories\n",
        "# SQL equivalent: WHERE product_category IN ('Electronics', 'Books')\n",
        "selected_categories = orders_df[orders_df['product_category'].isin(['Electronics', 'Books'])]\n",
        "print(\"Orders for Electronics or Books using .isin():\")\n",
        "print(selected_categories)\n",
        "\n",
        "# Filter for specific customers\n",
        "vip_customers = ['C101', 'C103']\n",
        "vip_orders = orders_df[orders_df['customer_id'].isin(vip_customers)]\n",
        "print(\"\\nOrders from VIP customers:\")\n",
        "print(vip_orders)\n",
        "\n",
        "# NOT IN using ~\n",
        "# Orders that are not Electronics or Clothing\n",
        "other_categories = orders_df[~orders_df['product_category'].isin(['Electronics', 'Clothing'])]\n",
        "print(\"\\nOrders not in Electronics or Clothing categories:\")\n",
        "print(other_categories)"
      ]
    },
    {
      "cell_type": "markdown",
      "metadata": {},
      "source": [
        "## 5. Filtering with .between() for Range Checks\n",
        "\n",
        "To filter values within a range (like SQL's `BETWEEN` operator), use the `.between()` method:"
      ]
    },
    {
      "cell_type": "code",
      "execution_count": null,
      "metadata": {},
      "outputs": [],
      "source": [
        "# Orders with total amount between $50 and $500\n",
        "# SQL equivalent: WHERE total_amount BETWEEN 50 AND 500\n",
        "mid_range_orders = orders_df[orders_df['total_amount'].between(50, 500)]\n",
        "print(\"Mid-range orders ($50-$500):\")\n",
        "print(mid_range_orders)\n",
        "\n",
        "# Orders from February 2025\n",
        "feb_orders = orders_df[orders_df['order_date'].between('2025-02-01', '2025-02-28')]\n",
        "print(\"\\nOrders from February 2025:\")\n",
        "print(feb_orders)"
      ]
    },
    {
      "cell_type": "markdown",
      "metadata": {},
      "source": [
        "## 6. String Filtering Methods\n",
        "\n",
        "Pandas provides powerful string filtering methods through the `.str` accessor. These are similar to SQL's `LIKE` clause:"
      ]
    },
    {
      "cell_type": "code",
      "execution_count": null,
      "metadata": {},
      "outputs": [],
      "source": [
        "# Startswith - products that start with 'L'\n",
        "# SQL equivalent: WHERE product_name LIKE 'L%'\n",
        "l_products = orders_df[orders_df['product_name'].str.startswith('L')]\n",
        "print(\"Products starting with 'L':\")\n",
        "print(l_products)\n",
        "\n",
        "# Contains - products with 'phone' in the name\n",
        "# SQL equivalent: WHERE product_name LIKE '%phone%'\n",
        "phone_products = orders_df[orders_df['product_name'].str.contains('phone', case=False)]\n",
        "print(\"\\nProducts containing 'phone':\")\n",
        "print(phone_products)\n",
        "\n",
        "# Regular expressions\n",
        "# Products with names that contain 'p' followed by any character and then 't'\n",
        "# SQL equivalent: WHERE product_name REGEXP 'p.t'\n",
        "pattern_products = orders_df[orders_df['product_name'].str.contains(r'p.t', case=False, regex=True)]\n",
        "print(\"\\nProducts matching pattern 'p.t':\")\n",
        "print(pattern_products)"
      ]
    },
    {
      "cell_type": "markdown",
      "metadata": {},
      "source": [
        "## 7. The .query() Method\n",
        "\n",
        "Pandas provides the `.query()` method for a more SQL-like syntax that can be more readable for complex filters:"
      ]
    },
    {
      "cell_type": "code",
      "execution_count": null,
      "metadata": {},
      "outputs": [],
      "source": [
        "# Simple query\n",
        "# SQL equivalent: WHERE product_category = 'Electronics'\n",
        "electronics = orders_df.query(\"product_category == 'Electronics'\")\n",
        "print(\"Electronics products using query():\")\n",
        "print(electronics)\n",
        "\n",
        "# Complex query with multiple conditions\n",
        "# SQL equivalent: WHERE (product_category == 'Electronics' OR product_category == 'Books') AND price > 50\n",
        "complex_query = orders_df.query(\"(product_category == 'Electronics' or product_category == 'Books') and price > 50\")\n",
        "print(\"\\nComplex query result:\")\n",
        "print(complex_query)\n",
        "\n",
        "# Using variables in queries with @\n",
        "min_price = 100\n",
        "max_price = 500\n",
        "price_range_query = orders_df.query(\"price >= @min_price and price <= @max_price\")\n",
        "print(\"\\nOrders with price between $100 and $500:\")\n",
        "print(price_range_query)"
      ]
    },
    {
      "cell_type": "markdown",
      "metadata": {},
      "source": [
        "## 8. Using .where() and .mask() for Conditional Replacement\n",
        "\n",
        "The `.where()` and `.mask()` methods filter data but also let you replace values that don't meet your criteria:"
      ]
    },
    {
      "cell_type": "code",
      "execution_count": null,
      "metadata": {},
      "outputs": [],
      "source": [
        "# Using .where() to keep values that meet a condition, replace others with a value\n",
        "# Keep original price for expensive items (>500), set others to the median price\n",
        "median_price = orders_df['price'].median()\n",
        "price_modified = orders_df['price'].where(orders_df['price'] > 500, median_price)\n",
        "print(\"Modified prices using .where():\")\n",
        "print(price_modified)\n",
        "\n",
        "# Using .mask() (opposite of .where()) to replace values that meet a condition\n",
        "# Apply a 10% discount to Electronics items\n",
        "discounted_prices = orders_df['price'].mask(orders_df['product_category'] == 'Electronics', \n",
        "                                           orders_df['price'] * 0.9)\n",
        "print(\"\\nDiscounted prices using .mask():\")\n",
        "print(discounted_prices)"
      ]
    },
    {
      "cell_type": "markdown",
      "metadata": {},
      "source": [
        "## 9. Filtering Time Series Data\n",
        "\n",
        "Pandas provides specialized methods for filtering time series data:"
      ]
    },
    {
      "cell_type": "code",
      "execution_count": null,
      "metadata": {},
      "outputs": [],
      "source": [
        "# Filter by specific date periods\n",
        "# Orders from January 2025\n",
        "jan_orders = orders_df[orders_df['order_date'].dt.month == 1]\n",
        "print(\"January 2025 orders:\")\n",
        "print(jan_orders)\n",
        "\n",
        "# Orders from the first quarter of 2025\n",
        "q1_orders = orders_df[orders_df['order_date'].dt.quarter == 1]\n",
        "print(\"\\nQ1 2025 orders:\")\n",
        "print(q1_orders)\n",
        "\n",
        "# Orders from weekdays (Monday-Friday)\n",
        "weekday_orders = orders_df[orders_df['order_date'].dt.dayofweek < 5]\n",
        "print(\"\\nWeekday orders:\")\n",
        "print(weekday_orders)"
      ]
    },
    {
      "cell_type": "markdown",
      "metadata": {},
      "source": [
        "## 10. Chaining Filters\n",
        "\n",
        "You can chain multiple filter operations for a step-by-step filtering approach:"
      ]
    },
    {
      "cell_type": "code",
      "execution_count": null,
      "metadata": {},
      "outputs": [],
      "source": [
        "# Chain filters to find high-value Electronics orders from January 2025\n",
        "result = (orders_df\n",
        "          .query(\"product_category == 'Electronics'\")\n",
        "          .query(\"order_date >= '2025-01-01' and order_date <= '2025-01-31'\")\n",
        "          .query(\"total_amount > 1000\")\n",
        "         )\n",
        "print(\"High-value Electronics orders from January 2025:\")\n",
        "print(result)\n",
        "\n",
        "# Alternative method using boolean filters\n",
        "result_alt = (orders_df\n",
        "             [orders_df['product_category'] == 'Electronics']\n",
        "             [orders_df['order_date'].dt.month == 1]\n",
        "             [orders_df['total_amount'] > 1000]\n",
        "             )\n",
        "print(\"\\nSame result using boolean filters:\")\n",
        "print(result_alt)"
      ]
    },
    {
      "cell_type": "markdown",
      "metadata": {},
      "source": [
        "## 11. SQL to Pandas Filtering Translation Guide\n",
        "\n",
        "Let's expand our SQL translation guide with filtering-focused operations:\n",
        "\n",
        "| SQL Operation | Pandas Equivalent |\n",
        "|--------------|-------------------|\n",
        "| `WHERE col = value` | `df[df['col'] == value]` or `df.query(\"col == value\")` |\n",
        "| `WHERE col > value` | `df[df['col'] > value]` or `df.query(\"col > value\")` |\n",
        "| `WHERE col1 = val1 AND col2 = val2` | `df[(df['col1'] == val1) & (df['col2'] == val2)]` |\n",
        "| `WHERE col1 = val1 OR col2 = val2` | `df[(df['col1'] == val1) | (df['col2'] == val2)]` |\n",
        "| `WHERE col IN (val1, val2)` | `df[df['col'].isin([val1, val2])]` |\n",
        "| `WHERE col NOT IN (val1, val2)` | `df[~df['col'].isin([val1, val2])]` |\n",
        "| `WHERE col BETWEEN val1 AND val2` | `df[df['col'].between(val1, val2)]` |\n",
        "| `WHERE col LIKE 'pattern%'` | `df[df['col'].str.startswith('pattern')]` |\n",
        "| `WHERE col LIKE '%pattern%'` | `df[df['col'].str.contains('pattern')]` |\n",
        "| `WHERE col IS NULL` | `df[df['col'].isna()]` |\n",
        "| `WHERE col IS NOT NULL` | `df[df['col'].notna()]` |\n",
        "| `WHERE DATE_PART('month', date_col) = 1` | `df[df['date_col'].dt.month == 1]` |"
      ]
    },
    {
      "cell_type": "markdown",
      "metadata": {},
      "source": [
        "## 12. Practice Exercises\n",
        "\n",
        "Let's practice these filtering techniques with some exercises:"
      ]
    },
    {
      "cell_type": "markdown",
      "metadata": {},
      "source": [
        "### Exercise 1: Basic Filtering\n",
        "Find all orders from customer C102 or C104."
      ]
    },
    {
      "cell_type": "code",
      "execution_count": null,
      "metadata": {},
      "outputs": [],
      "source": [
        "# Your code here"
      ]
    },
    {
      "cell_type": "markdown",
      "metadata": {},
      "source": [
        "### Exercise 2: Complex Filtering\n",
        "Find all Electronics products that cost less than $100 or any product purchased in quantities greater than 2."
      ]
    },
    {
      "cell_type": "code",
      "execution_count": null,
      "metadata": {},
      "outputs": [],
      "source": [
        "# Your code here"
      ]
    },
    {
      "cell_type": "markdown",
      "metadata": {},
      "source": [
        "### Exercise 3: String Filtering\n",
        "Find all products whose names contain the letter 'a' (case insensitive)."
      ]
    },
    {
      "cell_type": "code",
      "execution_count": null,
      "metadata": {},
      "outputs": [],
      "source": [
        "# Your code here"
      ]
    },
    {
      "cell_type": "markdown",
      "metadata": {},
      "source": [
        "### Exercise 4: SQL to Pandas Translation\n",
        "Translate the following SQL query to Pandas:\n",
        "```sql\n",
        "SELECT * FROM orders\n",
        "WHERE (product_category = 'Electronics' OR product_category = 'Home')\n",
        "AND is_delivered = TRUE\n",
        "AND order_date >= '2025-02-01'\n",
        "ORDER BY total_amount DESC\n",
        "```"
      ]
    },
    {
      "cell_type": "code",
      "execution_count": null,
      "metadata": {},
      "outputs": [],
      "source": [
        "# Your code here"
      ]
    },
    {
      "cell_type": "markdown",
      "metadata": {},
      "source": [
        "### Exercise 5: Advanced Filtering\n",
        "Find all orders that meet these criteria:\n",
        "- Placed on a weekend (Saturday or Sunday)\n",
        "- Total amount is above the average total amount for all orders\n",
        "- For products in either the 'Electronics' or 'Books' categories"
      ]
    },
    {
      "cell_type": "code",
      "execution_count": null,
      "metadata": {},
      "outputs": [],
      "source": [
        "# Your code here"
      ]
    },
    {
      "cell_type": "markdown",
      "metadata": {},
      "source": [
        "## Next Steps\n",
        "\n",
        "In the next part, we'll cover \"Handling missing values\" in Pandas DataFrames, another essential skill for data preprocessing.\n",
        "\n",
        "Continue to Part 3: Handling Missing Values when you're ready to proceed."
      ]
    }
  ],
  "metadata": {
    "kernelspec": {
      "display_name": "Python 3",
      "language": "python",
      "name": "python3"
    },
    "language_info": {
      "codemirror_mode": {
        "name": "ipython",
        "version": 3
      },
      "file_extension": ".py",
      "mimetype": "text/x-python",
      "name": "python",
      "nbconvert_exporter": "python",
      "pygments_lexer": "ipython3",
      "version": "3.8.10"
    }
  },
  "nbformat": 4,
  "nbformat_minor": 4
}

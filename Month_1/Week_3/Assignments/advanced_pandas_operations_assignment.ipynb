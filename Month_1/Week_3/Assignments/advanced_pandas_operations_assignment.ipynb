{
 "cells": [
  {
   "cell_type": "markdown",
   "metadata": {},
   "source": [
    "# Python for Data Analysis - Week 3\n",
    "## Major Group Assignment: Advanced Pandas Operations\n",
    "\n",
    "**Due Date:** Thursday, April 24, 2025\n",
    "\n",
    "### Overview\n",
    "In this assignment, your group will apply advanced Pandas operations covered in today's lecture: GroupBy operations, aggregation functions, and pivot tables/cross-tabulations. You'll use these techniques to analyze the customer purchase dataset and derive meaningful business insights.\n",
    "\n",
    "### Learning Objectives\n",
    "By completing this assignment, you will be able to:\n",
    "- Apply GroupBy operations to segment and analyze data\n",
    "- Use various aggregation functions to summarize data\n",
    "- Create and interpret pivot tables and cross-tabulations\n",
    "- Translate SQL GROUP BY queries to equivalent Pandas operations\n",
    "- Visualize aggregated data for better interpretation\n",
    "\n",
    "### Dataset\n",
    "You will continue working with the customer purchase dataset (`customer_purchase_data.csv`) that you used in the previous assignment, which contains information about customers, their demographics, and their purchase transactions.\n",
    "\n",
    "### Assignment Structure\n",
    "This assignment is divided into five parts:\n",
    "1. Data Preparation\n",
    "2. GroupBy Operations\n",
    "3. Aggregation Functions\n",
    "4. Pivot Tables and Cross-Tabulations\n",
    "5. Business Analysis and Insights\n",
    "\n",
    "### Submission Guidelines\n",
    "- Submit your completed notebook via the course portal\n",
    "- Include the names of all team members in the notebook\n",
    "- Ensure all code cells are executed and outputs are visible\n",
    "- Add comments to explain your code and reasoning\n",
    "- One submission per group is sufficient\n",
    "\n",
    "### Grading Criteria\n",
    "- Correctness of code: 50%\n",
    "- Quality of analysis and insights: 30%\n",
    "- Visualizations and presentation: 15%\n",
    "- Code documentation: 5%\n",
    "\n",
    "Let's begin!"
   ]
  },
  {
   "cell_type": "markdown",
   "metadata": {},
   "source": [
    "## Team Information\n",
    "\n",
    "**Team Members:**\n",
    "1. \n",
    "2. \n",
    "3. \n",
    "4. "
   ]
  },
  {
   "cell_type": "markdown",
   "metadata": {},
   "source": [
    "## Setup\n",
    "\n",
    "First, let's import the necessary libraries and load the dataset."
   ]
  },
  {
   "cell_type": "code",
   "execution_count": null,
   "metadata": {},
   "outputs": [],
   "source": [
    "# Import libraries\n",
    "import pandas as pd\n",
    "import numpy as np\n",
    "import matplotlib.pyplot as plt\n",
    "import seaborn as sns\n",
    "\n",
    "# Set pandas display options\n",
    "pd.set_option('display.max_columns', None)\n",
    "pd.set_option('display.max_rows', 50)\n",
    "pd.set_option('display.width', 1000)\n",
    "\n",
    "# For plotting in the notebook\n",
    "%matplotlib inline\n",
    "\n",
    "# Set plot styles\n",
    "plt.style.use('seaborn-v0_8-whitegrid')\n",
    "sns.set_palette('viridis')"
   ]
  },
  {
   "cell_type": "code",
   "execution_count": null,
   "metadata": {},
   "outputs": [],
   "source": [
    "# Load the dataset\n",
    "df = pd.read_csv('../../Data/customer_purchase_data.csv')\n",
    "\n",
    "# Display the first few rows\n",
    "df.head()"
   ]
  },
  {
   "cell_type": "markdown",
   "metadata": {},
   "source": [
    "## Part 1: Data Preparation (10 points)\n",
    "\n",
    "Before diving into the advanced operations, let's prepare the dataset by cleaning and transforming it. In this section, you'll handle missing values and create derived columns that will be useful for the analysis."
   ]
  },
  {
   "cell_type": "markdown",
   "metadata": {},
   "source": [
    "### 1.1 Data Cleaning\n",
    "\n",
    "Perform the following data cleaning steps:\n",
    "1. Convert the 'PurchaseDate' column to datetime format\n",
    "2. Fill missing values in the 'Quantity' column with the median quantity for the corresponding product category\n",
    "3. Check if there are any other missing values and handle them appropriately"
   ]
  },
  {
   "cell_type": "code",
   "execution_count": null,
   "metadata": {},
   "outputs": [],
   "source": [
    "# 1. Convert PurchaseDate to datetime\n",
    "# Your code here"
   ]
  },
  {
   "cell_type": "code",
   "execution_count": null,
   "metadata": {},
   "outputs": [],
   "source": [
    "# 2. Fill missing Quantity values with median by category\n",
    "# Your code here"
   ]
  },
  {
   "cell_type": "code",
   "execution_count": null,
   "metadata": {},
   "outputs": [],
   "source": [
    "# 3. Check and handle other missing values\n",
    "# Your code here"
   ]
  },
  {
   "cell_type": "markdown",
   "metadata": {},
   "source": [
    "### 1.2 Feature Engineering\n",
    "\n",
    "Create the following derived columns that will be useful for the analysis:\n",
    "1. 'TotalAmount': Price × Quantity\n",
    "2. 'PurchaseYear': Extract year from PurchaseDate\n",
    "3. 'PurchaseMonth': Extract month from PurchaseDate\n",
    "4. 'PurchaseQuarter': Extract quarter from PurchaseDate (Q1, Q2, Q3, Q4)\n",
    "5. 'AgeGroup': Categorize customers into age groups ('18-25', '26-35', '36-45', '46-55', '56+')\n",
    "6. 'IncomeGroup': Categorize customers into income groups ('Low', 'Medium', 'High')"
   ]
  },
  {
   "cell_type": "code",
   "execution_count": null,
   "metadata": {},
   "outputs": [],
   "source": [
    "# 1. Create TotalAmount column\n",
    "# Your code here"
   ]
  },
  {
   "cell_type": "code",
   "execution_count": null,
   "metadata": {},
   "outputs": [],
   "source": [
    "# 2-4. Extract PurchaseYear, PurchaseMonth, and PurchaseQuarter\n",
    "# Your code here"
   ]
  },
  {
   "cell_type": "code",
   "execution_count": null,
   "metadata": {},
   "outputs": [],
   "source": [
    "# 5. Create AgeGroup column\n",
    "# Your code here"
   ]
  },
  {
   "cell_type": "code",
   "execution_count": null,
   "metadata": {},
   "outputs": [],
   "source": [
    "# 6. Create IncomeGroup column\n",
    "# Your code here"
   ]
  },
  {
   "cell_type": "markdown",
   "metadata": {},
   "source": [
    "## Part 2: GroupBy Operations (25 points)\n",
    "\n",
    "In this section, you'll use the GroupBy functionality to segment and analyze the data. GroupBy operations are similar to SQL's GROUP BY clause and are essential for aggregating data based on one or more columns."
   ]
  },
  {
   "cell_type": "markdown",
   "metadata": {},
   "source": [
    "### 2.1 Basic GroupBy Operations\n",
    "\n",
    "Perform the following GroupBy operations:\n",
    "1. Group by 'Category' and calculate the count, sum, mean, min, and max of 'Price'\n",
    "2. Group by 'Region' and calculate the average 'Income' and 'Age' of customers\n",
    "3. Group by 'AgeGroup' and 'Gender' and calculate the average 'TotalAmount' spent\n",
    "4. Group by 'IncomeGroup' and count the number of purchases in each product category"
   ]
  },
  {
   "cell_type": "code",
   "execution_count": null,
   "metadata": {},
   "outputs": [],
   "source": [
    "# 1. Group by Category and calculate price statistics\n",
    "# Your code here"
   ]
  },
  {
   "cell_type": "code",
   "execution_count": null,
   "metadata": {},
   "outputs": [],
   "source": [
    "# 2. Group by Region and calculate average Income and Age\n",
    "# Your code here"
   ]
  },
  {
   "cell_type": "code",
   "execution_count": null,
   "metadata": {},
   "outputs": [],
   "source": [
    "# 3. Group by AgeGroup and Gender and calculate average TotalAmount\n",
    "# Your code here"
   ]
  },
  {
   "cell_type": "code",
   "execution_count": null,
   "metadata": {},
   "outputs": [],
   "source": [
    "# 4. Group by IncomeGroup and count purchases by category\n",
    "# Your code here"
   ]
  },
  {
   "cell_type": "markdown",
   "metadata": {},
   "source": [
    "### 2.2 Multi-level GroupBy\n",
    "\n",
    "Now, let's explore multi-level groupby operations:\n",
    "1. Group by 'Region', 'Category', and 'Subcategory' to calculate the total sales amount\n",
    "2. Group by 'PurchaseYear', 'PurchaseMonth', and 'Category' to analyze monthly sales trends\n",
    "3. Group by 'MaritalStatus', 'Gender', and 'AgeGroup' to compare purchasing behavior\n",
    "4. Group by 'PaymentMethod', 'Category', and 'IncomeGroup' to analyze payment preferences"
   ]
  },
  {
   "cell_type": "code",
   "execution_count": null,
   "metadata": {},
   "outputs": [],
   "source": [
    "# 1. Group by Region, Category, and Subcategory\n",
    "# Your code here"
   ]
  },
  {
   "cell_type": "code",
   "execution_count": null,
   "metadata": {},
   "outputs": [],
   "source": [
    "# 2. Group by PurchaseYear, PurchaseMonth, and Category\n",
    "# Your code here"
   ]
  },
  {
   "cell_type": "code",
   "execution_count": null,
   "metadata": {},
   "outputs": [],
   "source": [
    "# 3. Group by MaritalStatus, Gender, and AgeGroup\n",
    "# Your code here"
   ]
  },
  {
   "cell_type": "code",
   "execution_count": null,
   "metadata": {},
   "outputs": [],
   "source": [
    "# 4. Group by PaymentMethod, Category, and IncomeGroup\n",
    "# Your code here"
   ]
  },
  {
   "cell_type": "markdown",
   "metadata": {},
   "source": [
    "### 2.3 Visualization of GroupBy Results\n",
    "\n",
    "Create at least three visualizations to illustrate key insights from your GroupBy operations. For example:\n",
    "1. Bar chart showing average purchase amount by category\n",
    "2. Grouped bar chart comparing spending by gender across different age groups\n",
    "3. Line chart showing sales trends over time by category"
   ]
  },
  {
   "cell_type": "code",
   "execution_count": null,
   "metadata": {},
   "outputs": [],
   "source": [
    "# Visualization 1\n",
    "# Your code here"
   ]
  },
  {
   "cell_type": "code",
   "execution_count": null,
   "metadata": {},
   "outputs": [],
   "source": [
    "# Visualization 2\n",
    "# Your code here"
   ]
  },
  {
   "cell_type": "code",
   "execution_count": null,
   "metadata": {},
   "outputs": [],
   "source": [
    "# Visualization 3\n",
    "# Your code here"
   ]
  },
  {
   "cell_type": "markdown",
   "metadata": {},
   "source": [
    "## Part 3: Aggregation Functions (25 points)\n",
    "\n",
    "In this section, you'll explore various aggregation functions that can be applied to GroupBy objects to summarize data in different ways."
   ]
  },
  {
   "cell_type": "markdown",
   "metadata": {},
   "source": [
    "### 3.1 Standard Aggregation Functions\n",
    "\n",
    "Apply the following standard aggregation functions to different groupby objects:\n",
    "1. Use `agg()` with multiple functions (count, sum, mean, median, min, max) on 'TotalAmount' grouped by 'Category'\n",
    "2. Use `describe()` to get a comprehensive summary of 'Price' grouped by 'Subcategory'\n",
    "3. Use `size()` to count the number of purchases by 'Region' and 'PaymentMethod'\n",
    "4. Use `nunique()` to count the number of unique customers in each 'Region' and 'Category'"
   ]
  },
  {
   "cell_type": "code",
   "execution_count": null,
   "metadata": {},
   "outputs": [],
   "source": [
    "# 1. Use agg() with multiple functions\n",
    "# Your code here"
   ]
  },
  {
   "cell_type": "code",
   "execution_count": null,
   "metadata": {},
   "outputs": [],
   "source": [
    "# 2. Use describe() on Price grouped by Subcategory\n",
    "# Your code here"
   ]
  },
  {
   "cell_type": "code",
   "execution_count": null,
   "metadata": {},
   "outputs": [],
   "source": [
    "# 3. Use size() to count purchases by Region and PaymentMethod\n",
    "# Your code here"
   ]
  },
  {
   "cell_type": "code",
   "execution_count": null,
   "metadata": {},
   "outputs": [],
   "source": [
    "# 4. Use nunique() to count unique customers by Region and Category\n",
    "# Your code here"
   ]
  },
  {
   "cell_type": "markdown",
   "metadata": {},
   "source": [
    "### 3.2 Custom Aggregation Functions\n",
    "\n",
    "Now, let's apply custom aggregation functions to our grouped data:\n",
    "1. Define a custom function to calculate the range (max - min) of prices and apply it to data grouped by 'Category'\n",
    "2. Define a custom function to calculate the coefficient of variation (std/mean) of 'TotalAmount' by 'PaymentMethod'\n",
    "3. Use a lambda function to calculate the percentage of high-value orders (> $500) in each 'Category'\n",
    "4. Use `agg()` with a dictionary to apply different aggregation functions to different columns grouped by 'AgeGroup' and 'Gender'"
   ]
  },
  {
   "cell_type": "code",
   "execution_count": null,
   "metadata": {},
   "outputs": [],
   "source": [
    "# 1. Custom function for price range by Category\n",
    "# Your code here"
   ]
  },
  {
   "cell_type": "code",
   "execution_count": null,
   "metadata": {},
   "outputs": [],
   "source": [
    "# 2. Custom function for coefficient of variation by PaymentMethod\n",
    "# Your code here"
   ]
  },
  {
   "cell_type": "code",
   "execution_count": null,
   "metadata": {},
   "outputs": [],
   "source": [
    "# 3. Lambda function for percentage of high-value orders\n",
    "# Your code here"
   ]
  },
  {
   "cell_type": "code",
   "execution_count": null,
   "metadata": {},
   "outputs": [],
   "source": [
    "# 4. Using agg() with a dictionary for different aggregations\n",
    "# Your code here"
   ]
  },
  {
   "cell_type": "markdown",
   "metadata": {},
   "source": [
    "### 3.3 Group Filter Operations\n",
    "\n",
    "Use the `filter()` method with custom functions to filter groups based on aggregated values:\n",
    "1. Filter for categories with an average purchase amount greater than $300\n",
    "2. Filter for regions with more than 10 unique customers\n",
    "3. Filter for combinations of 'AgeGroup' and 'Gender' with at least 5 purchases\n",
    "4. Filter for subcategories where the maximum price is at least twice the minimum price"
   ]
  },
  {
   "cell_type": "code",
   "execution_count": null,
   "metadata": {},
   "outputs": [],
   "source": [
    "# 1. Filter for categories with avg purchase > $300\n",
    "# Your code here"
   ]
  },
  {
   "cell_type": "code",
   "execution_count": null,
   "metadata": {},
   "outputs": [],
   "source": [
    "# 2. Filter for regions with >10 unique customers\n",
    "# Your code here"
   ]
  },
  {
   "cell_type": "code",
   "execution_count": null,
   "metadata": {},
   "outputs": [],
   "source": [
    "# 3. Filter for AgeGroup and Gender combinations with ≥5 purchases\n",
    "# Your code here"
   ]
  },
  {
   "cell_type": "code",
   "execution_count": null,
   "metadata": {},
   "outputs": [],
   "source": [
    "# 4. Filter for subcategories where max price is ≥2× min price\n",
    "# Your code here"
   ]
  },
  {
   "cell_type": "markdown",
   "metadata": {},
   "source": [
    "## Part 4: Pivot Tables and Cross-Tabulations (25 points)\n",
    "\n",
    "In this section, you'll create and analyze pivot tables and cross-tabulations, which are powerful tools for summarizing data and identifying patterns and relationships."
   ]
  },
  {
   "cell_type": "markdown",
   "metadata": {},
   "source": [
    "### 4.1 Basic Pivot Tables\n",
    "\n",
    "Create the following pivot tables:\n",
    "1. A pivot table with 'Category' as index, 'Region' as columns, and the sum of 'TotalAmount' as values\n",
    "2. A pivot table with 'AgeGroup' as index, 'Gender' as columns, and the mean of 'Price' as values\n",
    "3. A pivot table with 'PurchaseMonth' as index, 'Category' as columns, and the count of purchases as values\n",
    "4. A pivot table with 'PaymentMethod' as index, 'IncomeGroup' as columns, and the sum of 'TotalAmount' as values"
   ]
  },
  {
   "cell_type": "code",
   "execution_count": null,
   "metadata": {},
   "outputs": [],
   "source": [
    "# 1. Pivot table: Category × Region with sum of TotalAmount\n",
    "# Your code here"
   ]
  },
  {
   "cell_type": "code",
   "execution_count": null,
   "metadata": {},
   "outputs": [],
   "source": [
    "# 2. Pivot table: AgeGroup × Gender with mean of Price\n",
    "# Your code here"
   ]
  },
  {
   "cell_type": "code",
   "execution_count": null,
   "metadata": {},
   "outputs": [],
   "source": [
    "# 3. Pivot table: PurchaseMonth × Category with count of purchases\n",
    "# Your code here"
   ]
  },
  {
   "cell_type": "code",
   "execution_count": null,
   "metadata": {},
   "outputs": [],
   "source": [
    "# 4. Pivot table: PaymentMethod × IncomeGroup with sum of TotalAmount\n",
    "# Your code here"
   ]
  },
  {
   "cell_type": "markdown",
   "metadata": {},
   "source": [
    "### 4.2 Advanced Pivot Tables\n",
    "\n",
    "Create more complex pivot tables with multiple levels and aggregations:\n",
    "1. A pivot table with 'Region' and 'Category' as a multi-level index, 'Gender' as columns, and the sum of 'TotalAmount' as values\n",
    "2. A pivot table with 'AgeGroup' as index, 'PaymentMethod' and 'Category' as a multi-level column, and the count of purchases as values\n",
    "3. A pivot table with 'PurchaseMonth' as index, 'Category' as columns, and multiple aggregations (sum, mean, count) of 'TotalAmount' as values\n",
    "4. A pivot table with 'MaritalStatus' and 'Gender' as a multi-level index, 'IncomeGroup' as columns, and the median of 'TotalAmount' as values"
   ]
  },
  {
   "cell_type": "code",
   "execution_count": null,
   "metadata": {},
   "outputs": [],
   "source": [
    "# 1. Multi-level index pivot table: Region × Category by Gender\n",
    "# Your code here"
   ]
  },
  {
   "cell_type": "code",
   "execution_count": null,
   "metadata": {},
   "outputs": [],
   "source": [
    "# 2. Multi-level column pivot table: AgeGroup by PaymentMethod × Category\n",
    "# Your code here"
   ]
  },
  {
   "cell_type": "code",
   "execution_count": null,
   "metadata": {},
   "outputs": [],
   "source": [
    "# 3. Pivot table with multiple aggregations\n",
    "# Your code here"
   ]
  },
  {
   "cell_type": "code",
   "execution_count": null,
   "metadata": {},
   "outputs": [],
   "source": [
    "# 4. Multi-level index pivot table: MaritalStatus × Gender by IncomeGroup\n",
    "# Your code here"
   ]
  },
  {
   "cell_type": "markdown",
   "metadata": {},
   "source": [
    "### 4.3 Cross-Tabulations\n",
    "\n",
    "Create the following cross-tabulations and analyze the results:\n",
    "1. A cross-tabulation of 'Category' vs 'Region' showing the count of purchases\n",
    "2. A cross-tabulation of 'PaymentMethod' vs 'AgeGroup' showing the count of purchases\n",
    "3. A cross-tabulation of 'MaritalStatus' vs 'Gender' showing the count of purchases\n",
    "4. Normalize each of the above cross-tabulations to show percentages instead of raw counts, and interpret the results"
   ]
  },
  {
   "cell_type": "code",
   "execution_count": null,
   "metadata": {},
   "outputs": [],
   "source": [
    "# 1. Cross-tabulation of Category vs Region\n",
    "# Your code here"
   ]
  },
  {
   "cell_type": "code",
   "execution_count": null,
   "metadata": {},
   "outputs": [],
   "source": [
    "# 2. Cross-tabulation of PaymentMethod vs AgeGroup\n",
    "# Your code here"
   ]
  },
  {
   "cell_type": "code",
   "execution_count": null,
   "metadata": {},
   "outputs": [],
   "source": [
    "# 3. Cross-tabulation of MaritalStatus vs Gender\n",
    "# Your code here"
   ]
  },
  {
   "cell_type": "code",
   "execution_count": null,
   "metadata": {},
   "outputs": [],
   "source": [
    "# 4. Normalized cross-tabulations\n",
    "# Your code here"
   ]
  },
  {
   "cell_type": "markdown",
   "metadata": {},
   "source": [
    "**Interpretation of Cross-Tabulations:**\n",
    "\n",
    "*Write your interpretation here*"
   ]
  },
  {
   "cell_type": "markdown",
   "metadata": {},
   "source": [
    "### 4.4 Visualization of Pivot Tables\n",
    "\n",
    "Create at least three visualizations to illustrate key insights from your pivot tables and cross-tabulations:"
   ]
  },
  {
   "cell_type": "code",
   "execution_count": null,
   "metadata": {},
   "outputs": [],
   "source": [
    "# Visualization 1\n",
    "# Your code here"
   ]
  },
  {
   "cell_type": "code",
   "execution_count": null,
   "metadata": {},
   "outputs": [],
   "source": [
    "# Visualization 2\n",
    "# Your code here"
   ]
  },
  {
   "cell_type": "code",
   "execution_count": null,
   "metadata": {},
   "outputs": [],
   "source": [
    "# Visualization 3\n",
    "# Your code here"
   ]
  },
  {
   "cell_type": "markdown",
   "metadata": {},
   "source": [
    "## Part 5: Business Analysis and Insights (15 points)\n",
    "\n",
    "Based on your analysis in the previous sections, address the following business questions and provide actionable insights:"
   ]
  },
  {
   "cell_type": "markdown",
   "metadata": {},
   "source": [
    "### 5.1 SQL to Pandas Translation\n",
    "\n",
    "Translate the following SQL queries into equivalent Pandas code and execute them:"
   ]
  },
  {
   "cell_type": "markdown",
   "metadata": {},
   "source": [
    "**SQL Query 1: Monthly Sales by Category**\n",
    "```sql\n",
    "SELECT \n",
    "    EXTRACT(YEAR FROM PurchaseDate) AS Year,\n",
    "    EXTRACT(MONTH FROM PurchaseDate) AS Month,\n",
    "    Category,\n",
    "    COUNT(*) AS NumPurchases,\n",
    "    SUM(Price * Quantity) AS TotalSales,\n",
    "    AVG(Price * Quantity) AS AvgOrderValue\n",
    "FROM \n",
    "    customer_purchase_data\n",
    "GROUP BY \n",
    "    EXTRACT(YEAR FROM PurchaseDate),\n",
    "    EXTRACT(MONTH FROM PurchaseDate),\n",
    "    Category\n",
    "ORDER BY \n",
    "    Year, Month, TotalSales DESC;\n",
    "```"
   ]
  },
  {
   "cell_type": "code",
   "execution_count": null,
   "metadata": {},
   "outputs": [],
   "source": [
    "# Pandas equivalent of SQL Query 1\n",
    "# Your code here"
   ]
  },
  {
   "cell_type": "markdown",
   "metadata": {},
   "source": [
    "**SQL Query 2: Customer Demographics Analysis**\n",
    "```sql\n",
    "SELECT \n",
    "    AgeGroup,\n",
    "    Gender,\n",
    "    MaritalStatus,\n",
    "    COUNT(DISTINCT CustomerID) AS NumCustomers,\n",
    "    COUNT(*) AS NumPurchases,\n",
    "    SUM(Price * Quantity) AS TotalSpend,\n",
    "    AVG(Price * Quantity) AS AvgOrderValue,\n",
    "    SUM(Price * Quantity) / COUNT(DISTINCT CustomerID) AS AvgSpendPerCustomer\n",
    "FROM \n",
    "    customer_purchase_data\n",
    "GROUP BY \n",
    "    AgeGroup, Gender, MaritalStatus\n",
    "ORDER BY \n",
    "    TotalSpend DESC;\n",
    "```"
   ]
  },
  {
   "cell_type": "code",
   "execution_count": null,
   "metadata": {},
   "outputs": [],
   "source": [
    "# Pandas equivalent of SQL Query 2\n",
    "# Your code here"
   ]
  },
  {
   "cell_type": "markdown",
   "metadata": {},
   "source": [
    "**SQL Query 3: Payment Method Analysis by Income Group**\n",
    "```sql\n",
    "SELECT \n",
    "    PaymentMethod,\n",
    "    IncomeGroup,\n",
    "    COUNT(*) AS NumPurchases,\n",
    "    SUM(Price * Quantity) AS TotalSpend,\n",
    "    AVG(Price * Quantity) AS AvgOrderValue,\n",
    "    COUNT(*) * 100.0 / (SELECT COUNT(*) FROM customer_purchase_data WHERE IncomeGroup = cp.IncomeGroup) AS PctOfIncomeGroup\n",
    "FROM \n",
    "    customer_purchase_data cp\n",
    "GROUP BY \n",
    "    PaymentMethod, IncomeGroup\n",
    "ORDER BY \n",
    "    IncomeGroup, NumPurchases DESC;\n",
    "```"
   ]
  },
  {
   "cell_type": "code",
   "execution_count": null,
   "metadata": {},
   "outputs": [],
   "source": [
    "# Pandas equivalent of SQL Query 3\n",
    "# Your code here"
   ]
  },
  {
   "cell_type": "markdown",
   "metadata": {},
   "source": [
    "### 5.2 Business Insights\n",
    "\n",
    "Based on your analysis, answer the following business questions:"
   ]
  },
  {
   "cell_type": "markdown",
   "metadata": {},
   "source": [
    "**Question 1: Customer Segmentation**\n",
    "\n",
    "Which customer segments (based on demographics) appear to be the most valuable to the business in terms of total spend and average order value? What strategies would you recommend to target these segments more effectively?"
   ]
  },
  {
   "cell_type": "markdown",
   "metadata": {},
   "source": [
    "*Your answer here*"
   ]
  },
  {
   "cell_type": "markdown",
   "metadata": {},
   "source": [
    "**Question 2: Product Category Performance**\n",
    "\n",
    "Which product categories show the highest and lowest performance in terms of sales volume, total revenue, and average order value? Are there any seasonal patterns or regional differences in category performance? What recommendations would you make to optimize the product mix?"
   ]
  },
  {
   "cell_type": "markdown",
   "metadata": {},
   "source": [
    "*Your answer here*"
   ]
  },
  {
   "cell_type": "markdown",
   "metadata": {},
   "source": [
    "**Question 3: Payment Method Preferences**\n",
    "\n",
    "How do payment method preferences vary across different customer segments (age, income, region)? What does this suggest about customer behavior? What strategies could be implemented to optimize payment options?"
   ]
  },
  {
   "cell_type": "markdown",
   "metadata": {},
   "source": [
    "*Your answer here*"
   ]
  },
  {
   "cell_type": "markdown",
   "metadata": {},
   "source": [
    "**Question 4: Sales Trends and Seasonality**\n",
    "\n",
    "Based on your analysis of sales over time, what trends or patterns do you observe? Is there evidence of seasonality in certain product categories? How should the business plan inventory and marketing based on these patterns?"
   ]
  },
  {
   "cell_type": "markdown",
   "metadata": {},
   "source": [
    "*Your answer here*"
   ]
  },
  {
   "cell_type": "markdown",
   "metadata": {},
   "source": [
    "**Question 5: Regional Analysis**\n",
    "\n",
    "How do purchasing patterns differ across regions? Which regions show the highest potential for growth? What region-specific strategies would you recommend?"
   ]
  },
  {
   "cell_type": "markdown",
   "metadata": {},
   "source": [
    "*Your answer here*"
   ]
  },
  {
   "cell_type": "markdown",
   "metadata": {},
   "source": [
    "### 5.3 Executive Summary\n",
    "\n",
    "Provide a concise executive summary (300-500 words) of your key findings and recommendations based on your analysis. This should highlight the most important insights and actionable recommendations for the business."
   ]
  },
  {
   "cell_type": "markdown",
   "metadata": {},
   "source": [
    "**Executive Summary:**\n",
    "\n",
    "*Your executive summary here*"
   ]
  },
  {
   "cell_type": "markdown",
   "metadata": {},
   "source": [
    "## Conclusion\n",
    "\n",
    "In this assignment, you've applied advanced Pandas operations, including GroupBy, aggregation functions, and pivot tables, to analyze customer purchase data and derive meaningful business insights. These techniques are powerful tools for data analysis and are widely used in business analytics, especially when translating analytical questions into data-driven answers.\n",
    "\n",
    "Summarize what you've learned from this assignment and how you might apply these techniques in future data analysis projects."
   ]
  },
  {
   "cell_type": "markdown",
   "metadata": {},
   "source": [
    "*Your conclusion here*"
   ]
  }
 ],
 "metadata": {
  "kernelspec": {
   "display_name": "Python 3",
   "language": "python",
   "name": "python3"
  },
  "language_info": {
   "codemirror_mode": {
    "name": "ipython",
    "version": 3
   },
   "file_extension": ".py",
   "mimetype": "text/x-python",
   "name": "python",
   "nbconvert_exporter": "python",
   "pygments_lexer": "ipython3",
   "version": "3.8.10"
  }
 },
 "nbformat": 4,
 "nbformat_minor": 4
}
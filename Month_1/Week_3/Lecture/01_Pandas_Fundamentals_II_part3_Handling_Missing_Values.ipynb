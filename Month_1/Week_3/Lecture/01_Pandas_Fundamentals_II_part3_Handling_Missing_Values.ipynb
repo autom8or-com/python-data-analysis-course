{
  "cells": [
    {
      "cell_type": "markdown",
      "metadata": {},
      "source": [
        "# Pandas Fundamentals II - Part 3: Handling Missing Values\n",
        "\n",
        "## Week 3, Day 1 (Wednesday) - April 23rd, 2025\n",
        "\n",
        "### Overview\n",
        "This is the third part of our Pandas Fundamentals II session, focusing on handling missing values. Missing data is a common challenge in real-world datasets, and properly identifying and addressing these gaps is crucial for accurate analysis.\n",
        "\n",
        "### Learning Objectives\n",
        "- Understand how Pandas represents missing values\n",
        "- Learn various methods to detect missing data\n",
        "- Master different strategies for handling missing values\n",
        "- Apply appropriate techniques based on the nature of the data\n",
        "- Understand the implications of different missing data handling approaches\n",
        "\n",
        "### Prerequisites\n",
        "- Python fundamentals (Week 1)\n",
        "- Pandas Fundamentals I (Week 2, Day 2)\n",
        "- Indexing and Selection (Week 3, Part 1)\n",
        "- Filtering Data (Week 3, Part 2)"
      ]
    },
    {
      "cell_type": "markdown",
      "metadata": {},
      "source": [
        "## 1. Introduction to Missing Data in Pandas\n",
        "\n",
        "Missing data is represented in Pandas primarily in two ways:\n",
        "1. `NaN` (Not a Number) - Used for numeric data and is part of the NumPy library\n",
        "2. `None` - Python's built-in object for representing missing data\n",
        "\n",
        "Let's create a dataset with missing values to explore different handling techniques:"
      ]
    },
    {
      "cell_type": "code",
      "execution_count": 1,
      "metadata": {},
      "outputs": [
        {
          "name": "stdout",
          "output_type": "stream",
          "text": [
            "Sample Customer DataFrame with Missing Values:\n"
          ]
        },
        {
          "data": {
            "application/vnd.microsoft.datawrangler.viewer.v0+json": {
              "columns": [
                {
                  "name": "index",
                  "rawType": "int64",
                  "type": "integer"
                },
                {
                  "name": "customer_id",
                  "rawType": "object",
                  "type": "string"
                },
                {
                  "name": "name",
                  "rawType": "object",
                  "type": "unknown"
                },
                {
                  "name": "age",
                  "rawType": "float64",
                  "type": "float"
                },
                {
                  "name": "email",
                  "rawType": "object",
                  "type": "unknown"
                },
                {
                  "name": "purchases",
                  "rawType": "float64",
                  "type": "float"
                },
                {
                  "name": "last_purchase_date",
                  "rawType": "datetime64[ns]",
                  "type": "datetime"
                },
                {
                  "name": "loyalty_score",
                  "rawType": "float64",
                  "type": "float"
                }
              ],
              "conversionMethod": "pd.DataFrame",
              "ref": "d8d738f9-eb1e-4ef2-b6f2-ace2cad00473",
              "rows": [
                [
                  "0",
                  "C001",
                  "John Smith",
                  "28.0",
                  "john@example.com",
                  "5.0",
                  "2025-01-15 00:00:00",
                  "4.5"
                ],
                [
                  "1",
                  "C002",
                  "Emily Davis",
                  "34.0",
                  null,
                  "12.0",
                  "2025-02-20 00:00:00",
                  "3.8"
                ],
                [
                  "2",
                  "C003",
                  "Michael Johnson",
                  null,
                  "michael@example.com",
                  "8.0",
                  null,
                  "4.2"
                ],
                [
                  "3",
                  "C004",
                  null,
                  "45.0",
                  "robert@example.com",
                  null,
                  "2025-01-30 00:00:00",
                  null
                ],
                [
                  "4",
                  "C005",
                  "Sarah Wilson",
                  "31.0",
                  null,
                  "15.0",
                  "2025-03-05 00:00:00",
                  "4.9"
                ],
                [
                  "5",
                  "C006",
                  "David Brown",
                  null,
                  "david@example.com",
                  "7.0",
                  null,
                  "3.2"
                ],
                [
                  "6",
                  "C007",
                  null,
                  "39.0",
                  "james@example.com",
                  "3.0",
                  "2025-02-10 00:00:00",
                  null
                ],
                [
                  "7",
                  "C008",
                  "Lisa Anderson",
                  "42.0",
                  "lisa@example.com",
                  null,
                  "2025-03-15 00:00:00",
                  "4.7"
                ]
              ],
              "shape": {
                "columns": 7,
                "rows": 8
              }
            },
            "text/html": [
              "<div>\n",
              "<style scoped>\n",
              "    .dataframe tbody tr th:only-of-type {\n",
              "        vertical-align: middle;\n",
              "    }\n",
              "\n",
              "    .dataframe tbody tr th {\n",
              "        vertical-align: top;\n",
              "    }\n",
              "\n",
              "    .dataframe thead th {\n",
              "        text-align: right;\n",
              "    }\n",
              "</style>\n",
              "<table border=\"1\" class=\"dataframe\">\n",
              "  <thead>\n",
              "    <tr style=\"text-align: right;\">\n",
              "      <th></th>\n",
              "      <th>customer_id</th>\n",
              "      <th>name</th>\n",
              "      <th>age</th>\n",
              "      <th>email</th>\n",
              "      <th>purchases</th>\n",
              "      <th>last_purchase_date</th>\n",
              "      <th>loyalty_score</th>\n",
              "    </tr>\n",
              "  </thead>\n",
              "  <tbody>\n",
              "    <tr>\n",
              "      <th>0</th>\n",
              "      <td>C001</td>\n",
              "      <td>John Smith</td>\n",
              "      <td>28.0</td>\n",
              "      <td>john@example.com</td>\n",
              "      <td>5.0</td>\n",
              "      <td>2025-01-15</td>\n",
              "      <td>4.5</td>\n",
              "    </tr>\n",
              "    <tr>\n",
              "      <th>1</th>\n",
              "      <td>C002</td>\n",
              "      <td>Emily Davis</td>\n",
              "      <td>34.0</td>\n",
              "      <td>None</td>\n",
              "      <td>12.0</td>\n",
              "      <td>2025-02-20</td>\n",
              "      <td>3.8</td>\n",
              "    </tr>\n",
              "    <tr>\n",
              "      <th>2</th>\n",
              "      <td>C003</td>\n",
              "      <td>Michael Johnson</td>\n",
              "      <td>NaN</td>\n",
              "      <td>michael@example.com</td>\n",
              "      <td>8.0</td>\n",
              "      <td>NaT</td>\n",
              "      <td>4.2</td>\n",
              "    </tr>\n",
              "    <tr>\n",
              "      <th>3</th>\n",
              "      <td>C004</td>\n",
              "      <td>None</td>\n",
              "      <td>45.0</td>\n",
              "      <td>robert@example.com</td>\n",
              "      <td>NaN</td>\n",
              "      <td>2025-01-30</td>\n",
              "      <td>NaN</td>\n",
              "    </tr>\n",
              "    <tr>\n",
              "      <th>4</th>\n",
              "      <td>C005</td>\n",
              "      <td>Sarah Wilson</td>\n",
              "      <td>31.0</td>\n",
              "      <td>None</td>\n",
              "      <td>15.0</td>\n",
              "      <td>2025-03-05</td>\n",
              "      <td>4.9</td>\n",
              "    </tr>\n",
              "    <tr>\n",
              "      <th>5</th>\n",
              "      <td>C006</td>\n",
              "      <td>David Brown</td>\n",
              "      <td>NaN</td>\n",
              "      <td>david@example.com</td>\n",
              "      <td>7.0</td>\n",
              "      <td>NaT</td>\n",
              "      <td>3.2</td>\n",
              "    </tr>\n",
              "    <tr>\n",
              "      <th>6</th>\n",
              "      <td>C007</td>\n",
              "      <td>None</td>\n",
              "      <td>39.0</td>\n",
              "      <td>james@example.com</td>\n",
              "      <td>3.0</td>\n",
              "      <td>2025-02-10</td>\n",
              "      <td>NaN</td>\n",
              "    </tr>\n",
              "    <tr>\n",
              "      <th>7</th>\n",
              "      <td>C008</td>\n",
              "      <td>Lisa Anderson</td>\n",
              "      <td>42.0</td>\n",
              "      <td>lisa@example.com</td>\n",
              "      <td>NaN</td>\n",
              "      <td>2025-03-15</td>\n",
              "      <td>4.7</td>\n",
              "    </tr>\n",
              "  </tbody>\n",
              "</table>\n",
              "</div>"
            ],
            "text/plain": [
              "  customer_id             name   age                email  purchases  \\\n",
              "0        C001       John Smith  28.0     john@example.com        5.0   \n",
              "1        C002      Emily Davis  34.0                 None       12.0   \n",
              "2        C003  Michael Johnson   NaN  michael@example.com        8.0   \n",
              "3        C004             None  45.0   robert@example.com        NaN   \n",
              "4        C005     Sarah Wilson  31.0                 None       15.0   \n",
              "5        C006      David Brown   NaN    david@example.com        7.0   \n",
              "6        C007             None  39.0    james@example.com        3.0   \n",
              "7        C008    Lisa Anderson  42.0     lisa@example.com        NaN   \n",
              "\n",
              "  last_purchase_date  loyalty_score  \n",
              "0         2025-01-15            4.5  \n",
              "1         2025-02-20            3.8  \n",
              "2                NaT            4.2  \n",
              "3         2025-01-30            NaN  \n",
              "4         2025-03-05            4.9  \n",
              "5                NaT            3.2  \n",
              "6         2025-02-10            NaN  \n",
              "7         2025-03-15            4.7  "
            ]
          },
          "execution_count": 1,
          "metadata": {},
          "output_type": "execute_result"
        }
      ],
      "source": [
        "# Import libraries\n",
        "import pandas as pd\n",
        "import numpy as np\n",
        "import matplotlib.pyplot as plt\n",
        "\n",
        "# Create a sample DataFrame with missing values\n",
        "data = {\n",
        "    'customer_id': ['C001', 'C002', 'C003', 'C004', 'C005', 'C006', 'C007', 'C008'],\n",
        "    'name': ['John Smith', 'Emily Davis', 'Michael Johnson', None, 'Sarah Wilson', 'David Brown', None, 'Lisa Anderson'],\n",
        "    'age': [28, 34, np.nan, 45, 31, np.nan, 39, 42],\n",
        "    'email': ['john@example.com', None, 'michael@example.com', 'robert@example.com', None, 'david@example.com', 'james@example.com', 'lisa@example.com'],\n",
        "    'purchases': [5, 12, 8, np.nan, 15, 7, 3, np.nan],\n",
        "    'last_purchase_date': [pd.Timestamp('2025-01-15'), pd.Timestamp('2025-02-20'), None, pd.Timestamp('2025-01-30'), pd.Timestamp('2025-03-05'), None, pd.Timestamp('2025-02-10'), pd.Timestamp('2025-03-15')],\n",
        "    'loyalty_score': [4.5, 3.8, 4.2, None, 4.9, 3.2, None, 4.7]\n",
        "}\n",
        "\n",
        "# Create DataFrame\n",
        "customers_df = pd.DataFrame(data)\n",
        "\n",
        "print(\"Sample Customer DataFrame with Missing Values:\")\n",
        "customers_df"
      ]
    },
    {
      "cell_type": "markdown",
      "metadata": {},
      "source": [
        "## 2. Detecting Missing Values\n"
      ]
    },
    {
      "cell_type": "markdown",
      "metadata": {},
      "source": [
        "\n",
        "Before handling missing values, we need to detect them. Pandas provides several methods to identify missing data:"
      ]
    },
    {
      "cell_type": "code",
      "execution_count": 2,
      "metadata": {},
      "outputs": [
        {
          "name": "stdout",
          "output_type": "stream",
          "text": [
            "Boolean mask of missing values:\n",
            "   customer_id   name    age  email  purchases  last_purchase_date  \\\n",
            "0        False  False  False  False      False               False   \n",
            "1        False  False  False   True      False               False   \n",
            "2        False  False   True  False      False                True   \n",
            "3        False   True  False  False       True               False   \n",
            "4        False  False  False   True      False               False   \n",
            "5        False  False   True  False      False                True   \n",
            "6        False   True  False  False      False               False   \n",
            "7        False  False  False  False       True               False   \n",
            "\n",
            "   loyalty_score  \n",
            "0          False  \n",
            "1          False  \n",
            "2          False  \n",
            "3           True  \n",
            "4          False  \n",
            "5          False  \n",
            "6           True  \n",
            "7          False  \n"
          ]
        }
      ],
      "source": [
        "# Check for missing values with .isna() or .isnull() (they're identical)\n",
        "missing_values = customers_df.isna()\n",
        "print(\"Boolean mask of missing values:\")\n",
        "print(missing_values)\n"
      ]
    },
    {
      "cell_type": "code",
      "execution_count": 3,
      "metadata": {},
      "outputs": [
        {
          "name": "stdout",
          "output_type": "stream",
          "text": [
            "\n",
            "Count of missing values per column:\n",
            "customer_id           0\n",
            "name                  2\n",
            "age                   2\n",
            "email                 2\n",
            "purchases             2\n",
            "last_purchase_date    2\n",
            "loyalty_score         2\n",
            "dtype: int64\n"
          ]
        }
      ],
      "source": [
        "\n",
        "# Count missing values in each column\n",
        "missing_count = customers_df.isna().sum()\n",
        "print(\"\\nCount of missing values per column:\")\n",
        "print(missing_count)\n"
      ]
    },
    {
      "cell_type": "code",
      "execution_count": 5,
      "metadata": {},
      "outputs": [
        {
          "name": "stdout",
          "output_type": "stream",
          "text": [
            "\n",
            "Rows with at least one missing value:\n"
          ]
        },
        {
          "data": {
            "application/vnd.microsoft.datawrangler.viewer.v0+json": {
              "columns": [
                {
                  "name": "index",
                  "rawType": "int64",
                  "type": "integer"
                },
                {
                  "name": "customer_id",
                  "rawType": "object",
                  "type": "string"
                },
                {
                  "name": "name",
                  "rawType": "object",
                  "type": "unknown"
                },
                {
                  "name": "age",
                  "rawType": "float64",
                  "type": "float"
                },
                {
                  "name": "email",
                  "rawType": "object",
                  "type": "unknown"
                },
                {
                  "name": "purchases",
                  "rawType": "float64",
                  "type": "float"
                },
                {
                  "name": "last_purchase_date",
                  "rawType": "datetime64[ns]",
                  "type": "datetime"
                },
                {
                  "name": "loyalty_score",
                  "rawType": "float64",
                  "type": "float"
                }
              ],
              "conversionMethod": "pd.DataFrame",
              "ref": "ae681f49-9d16-41a7-9190-5971e61c1671",
              "rows": [
                [
                  "1",
                  "C002",
                  "Emily Davis",
                  "34.0",
                  null,
                  "12.0",
                  "2025-02-20 00:00:00",
                  "3.8"
                ],
                [
                  "2",
                  "C003",
                  "Michael Johnson",
                  null,
                  "michael@example.com",
                  "8.0",
                  null,
                  "4.2"
                ],
                [
                  "3",
                  "C004",
                  null,
                  "45.0",
                  "robert@example.com",
                  null,
                  "2025-01-30 00:00:00",
                  null
                ],
                [
                  "4",
                  "C005",
                  "Sarah Wilson",
                  "31.0",
                  null,
                  "15.0",
                  "2025-03-05 00:00:00",
                  "4.9"
                ],
                [
                  "5",
                  "C006",
                  "David Brown",
                  null,
                  "david@example.com",
                  "7.0",
                  null,
                  "3.2"
                ],
                [
                  "6",
                  "C007",
                  null,
                  "39.0",
                  "james@example.com",
                  "3.0",
                  "2025-02-10 00:00:00",
                  null
                ],
                [
                  "7",
                  "C008",
                  "Lisa Anderson",
                  "42.0",
                  "lisa@example.com",
                  null,
                  "2025-03-15 00:00:00",
                  "4.7"
                ]
              ],
              "shape": {
                "columns": 7,
                "rows": 7
              }
            },
            "text/html": [
              "<div>\n",
              "<style scoped>\n",
              "    .dataframe tbody tr th:only-of-type {\n",
              "        vertical-align: middle;\n",
              "    }\n",
              "\n",
              "    .dataframe tbody tr th {\n",
              "        vertical-align: top;\n",
              "    }\n",
              "\n",
              "    .dataframe thead th {\n",
              "        text-align: right;\n",
              "    }\n",
              "</style>\n",
              "<table border=\"1\" class=\"dataframe\">\n",
              "  <thead>\n",
              "    <tr style=\"text-align: right;\">\n",
              "      <th></th>\n",
              "      <th>customer_id</th>\n",
              "      <th>name</th>\n",
              "      <th>age</th>\n",
              "      <th>email</th>\n",
              "      <th>purchases</th>\n",
              "      <th>last_purchase_date</th>\n",
              "      <th>loyalty_score</th>\n",
              "    </tr>\n",
              "  </thead>\n",
              "  <tbody>\n",
              "    <tr>\n",
              "      <th>1</th>\n",
              "      <td>C002</td>\n",
              "      <td>Emily Davis</td>\n",
              "      <td>34.0</td>\n",
              "      <td>None</td>\n",
              "      <td>12.0</td>\n",
              "      <td>2025-02-20</td>\n",
              "      <td>3.8</td>\n",
              "    </tr>\n",
              "    <tr>\n",
              "      <th>2</th>\n",
              "      <td>C003</td>\n",
              "      <td>Michael Johnson</td>\n",
              "      <td>NaN</td>\n",
              "      <td>michael@example.com</td>\n",
              "      <td>8.0</td>\n",
              "      <td>NaT</td>\n",
              "      <td>4.2</td>\n",
              "    </tr>\n",
              "    <tr>\n",
              "      <th>3</th>\n",
              "      <td>C004</td>\n",
              "      <td>None</td>\n",
              "      <td>45.0</td>\n",
              "      <td>robert@example.com</td>\n",
              "      <td>NaN</td>\n",
              "      <td>2025-01-30</td>\n",
              "      <td>NaN</td>\n",
              "    </tr>\n",
              "    <tr>\n",
              "      <th>4</th>\n",
              "      <td>C005</td>\n",
              "      <td>Sarah Wilson</td>\n",
              "      <td>31.0</td>\n",
              "      <td>None</td>\n",
              "      <td>15.0</td>\n",
              "      <td>2025-03-05</td>\n",
              "      <td>4.9</td>\n",
              "    </tr>\n",
              "    <tr>\n",
              "      <th>5</th>\n",
              "      <td>C006</td>\n",
              "      <td>David Brown</td>\n",
              "      <td>NaN</td>\n",
              "      <td>david@example.com</td>\n",
              "      <td>7.0</td>\n",
              "      <td>NaT</td>\n",
              "      <td>3.2</td>\n",
              "    </tr>\n",
              "    <tr>\n",
              "      <th>6</th>\n",
              "      <td>C007</td>\n",
              "      <td>None</td>\n",
              "      <td>39.0</td>\n",
              "      <td>james@example.com</td>\n",
              "      <td>3.0</td>\n",
              "      <td>2025-02-10</td>\n",
              "      <td>NaN</td>\n",
              "    </tr>\n",
              "    <tr>\n",
              "      <th>7</th>\n",
              "      <td>C008</td>\n",
              "      <td>Lisa Anderson</td>\n",
              "      <td>42.0</td>\n",
              "      <td>lisa@example.com</td>\n",
              "      <td>NaN</td>\n",
              "      <td>2025-03-15</td>\n",
              "      <td>4.7</td>\n",
              "    </tr>\n",
              "  </tbody>\n",
              "</table>\n",
              "</div>"
            ],
            "text/plain": [
              "  customer_id             name   age                email  purchases  \\\n",
              "1        C002      Emily Davis  34.0                 None       12.0   \n",
              "2        C003  Michael Johnson   NaN  michael@example.com        8.0   \n",
              "3        C004             None  45.0   robert@example.com        NaN   \n",
              "4        C005     Sarah Wilson  31.0                 None       15.0   \n",
              "5        C006      David Brown   NaN    david@example.com        7.0   \n",
              "6        C007             None  39.0    james@example.com        3.0   \n",
              "7        C008    Lisa Anderson  42.0     lisa@example.com        NaN   \n",
              "\n",
              "  last_purchase_date  loyalty_score  \n",
              "1         2025-02-20            3.8  \n",
              "2                NaT            4.2  \n",
              "3         2025-01-30            NaN  \n",
              "4         2025-03-05            4.9  \n",
              "5                NaT            3.2  \n",
              "6         2025-02-10            NaN  \n",
              "7         2025-03-15            4.7  "
            ]
          },
          "execution_count": 5,
          "metadata": {},
          "output_type": "execute_result"
        }
      ],
      "source": [
        "\n",
        "# Check for rows with any missing values\n",
        "rows_with_missing = customers_df[customers_df.isna().any(axis=1)]\n",
        "print(\"\\nRows with at least one missing value:\")\n",
        "rows_with_missing\n"
      ]
    },
    {
      "cell_type": "code",
      "execution_count": 6,
      "metadata": {},
      "outputs": [
        {
          "name": "stdout",
          "output_type": "stream",
          "text": [
            "\n",
            "Percentage of missing values per column:\n"
          ]
        },
        {
          "data": {
            "text/plain": [
              "customer_id            0.0\n",
              "name                  25.0\n",
              "age                   25.0\n",
              "email                 25.0\n",
              "purchases             25.0\n",
              "last_purchase_date    25.0\n",
              "loyalty_score         25.0\n",
              "dtype: float64"
            ]
          },
          "execution_count": 6,
          "metadata": {},
          "output_type": "execute_result"
        }
      ],
      "source": [
        "\n",
        "# Calculate percentage of missing values per column\n",
        "percent_missing = customers_df.isna().mean() * 100\n",
        "print(\"\\nPercentage of missing values per column:\")\n",
        "percent_missing"
      ]
    },
    {
      "cell_type": "markdown",
      "metadata": {},
      "source": [
        "### Visualizing Missing Data\n",
        "\n",
        "It can be helpful to visualize missing data patterns:"
      ]
    },
    {
      "cell_type": "code",
      "execution_count": 7,
      "metadata": {},
      "outputs": [
        {
          "data": {
            "image/png": "[encoded data removed]",
            "text/plain": [
              "<Figure size 1000x600 with 2 Axes>"
            ]
          },
          "metadata": {},
          "output_type": "display_data"
        }
      ],
      "source": [
        "# Create a heatmap of missing values\n",
        "plt.figure(figsize=(10, 6))\n",
        "plt.imshow(customers_df.isna(), cmap='viridis', aspect='auto')\n",
        "plt.colorbar()\n",
        "plt.xticks(range(len(customers_df.columns)), customers_df.columns, rotation=45)\n",
        "plt.yticks(range(len(customers_df)), customers_df.index)\n",
        "plt.title('Missing Values Heatmap')\n",
        "plt.tight_layout()\n",
        "plt.show()\n"
      ]
    },
    {
      "cell_type": "code",
      "execution_count": 8,
      "metadata": {},
      "outputs": [
        {
          "data": {
            "image/png": "[encoded data removed]",
            "text/plain": [
              "<Figure size 1000x600 with 1 Axes>"
            ]
          },
          "metadata": {},
          "output_type": "display_data"
        }
      ],
      "source": [
        "\n",
        "# Plot percentage of missing values per column\n",
        "plt.figure(figsize=(10, 6))\n",
        "percent_missing.plot(kind='bar')\n",
        "plt.title('Percentage of Missing Values by Column')\n",
        "plt.ylabel('Percentage')\n",
        "plt.tight_layout()\n",
        "plt.show()"
      ]
    },
    {
      "cell_type": "markdown",
      "metadata": {},
      "source": [
        "## 3. Understanding Types of Missing Data\n"
      ]
    },
    {
      "cell_type": "markdown",
      "metadata": {},
      "source": [
        "\n",
        "Missing data can be categorized into three types:\n",
        "\n",
        "1. **Missing Completely at Random (MCAR):** The probability of missing is the same for all observations\n",
        "2. **Missing at Random (MAR):** The probability of missing depends on observed data\n",
        "3. **Missing Not at Random (MNAR):** The probability of missing depends on unobserved data\n",
        "\n",
        "Understanding the type of missing data helps determine the appropriate handling strategy."
      ]
    },
    {
      "cell_type": "markdown",
      "metadata": {},
      "source": [
        "## 4. Handling Missing Values: Deletion Methods\n"
      ]
    },
    {
      "cell_type": "markdown",
      "metadata": {},
      "source": [
        "\n",
        "One approach to handling missing data is to delete rows or columns with missing values. This is appropriate when missing data is minimal or when the missing data is MCAR."
      ]
    },
    {
      "cell_type": "code",
      "execution_count": 10,
      "metadata": {},
      "outputs": [],
      "source": [
        "# Create a copy of the DataFrame to avoid modifying the original\n",
        "df_copy = customers_df.copy()\n"
      ]
    },
    {
      "cell_type": "code",
      "execution_count": 11,
      "metadata": {},
      "outputs": [
        {
          "name": "stdout",
          "output_type": "stream",
          "text": [
            "DataFrame after dropping rows with missing values:\n",
            "  customer_id        name   age             email  purchases  \\\n",
            "0        C001  John Smith  28.0  john@example.com        5.0   \n",
            "\n",
            "  last_purchase_date  loyalty_score  \n",
            "0         2025-01-15            4.5  \n",
            "Original shape: (8, 7), New shape: (1, 7)\n"
          ]
        }
      ],
      "source": [
        "\n",
        "# Drop rows with any missing values (listwise deletion)\n",
        "df_dropna_rows = df_copy.dropna()\n",
        "print(\"DataFrame after dropping rows with missing values:\")\n",
        "print(df_dropna_rows)\n",
        "print(f\"Original shape: {df_copy.shape}, New shape: {df_dropna_rows.shape}\")\n"
      ]
    },
    {
      "cell_type": "code",
      "execution_count": 12,
      "metadata": {},
      "outputs": [
        {
          "name": "stdout",
          "output_type": "stream",
          "text": [
            "\n",
            "DataFrame after dropping rows where all values are missing:\n",
            "Original shape: (8, 7), New shape: (8, 7)\n"
          ]
        }
      ],
      "source": [
        "\n",
        "# Drop rows only if all columns are missing (rarely used)\n",
        "df_dropna_all = df_copy.dropna(how='all')\n",
        "print(\"\\nDataFrame after dropping rows where all values are missing:\")\n",
        "print(f\"Original shape: {df_copy.shape}, New shape: {df_dropna_all.shape}\")\n"
      ]
    },
    {
      "cell_type": "code",
      "execution_count": 15,
      "metadata": {},
      "outputs": [
        {
          "name": "stdout",
          "output_type": "stream",
          "text": [
            "\n",
            "DataFrame after dropping rows with missing 'name' or 'email':\n",
            "  customer_id             name   age                email  purchases  \\\n",
            "0        C001       John Smith  28.0     john@example.com        5.0   \n",
            "2        C003  Michael Johnson   NaN  michael@example.com        8.0   \n",
            "5        C006      David Brown   NaN    david@example.com        7.0   \n",
            "7        C008    Lisa Anderson  42.0     lisa@example.com        NaN   \n",
            "\n",
            "  last_purchase_date  loyalty_score  \n",
            "0         2025-01-15            4.5  \n",
            "2                NaT            4.2  \n",
            "5                NaT            3.2  \n",
            "7         2025-03-15            4.7  \n"
          ]
        },
        {
          "data": {
            "application/vnd.microsoft.datawrangler.viewer.v0+json": {
              "columns": [
                {
                  "name": "index",
                  "rawType": "int64",
                  "type": "integer"
                },
                {
                  "name": "customer_id",
                  "rawType": "object",
                  "type": "string"
                },
                {
                  "name": "name",
                  "rawType": "object",
                  "type": "unknown"
                },
                {
                  "name": "age",
                  "rawType": "float64",
                  "type": "float"
                },
                {
                  "name": "email",
                  "rawType": "object",
                  "type": "unknown"
                },
                {
                  "name": "purchases",
                  "rawType": "float64",
                  "type": "float"
                },
                {
                  "name": "last_purchase_date",
                  "rawType": "datetime64[ns]",
                  "type": "datetime"
                },
                {
                  "name": "loyalty_score",
                  "rawType": "float64",
                  "type": "float"
                }
              ],
              "conversionMethod": "pd.DataFrame",
              "ref": "8661410a-efac-4e1b-acf9-7e6e34146092",
              "rows": [
                [
                  "0",
                  "C001",
                  "John Smith",
                  "28.0",
                  "john@example.com",
                  "5.0",
                  "2025-01-15 00:00:00",
                  "4.5"
                ],
                [
                  "1",
                  "C002",
                  "Emily Davis",
                  "34.0",
                  null,
                  "12.0",
                  "2025-02-20 00:00:00",
                  "3.8"
                ],
                [
                  "2",
                  "C003",
                  "Michael Johnson",
                  null,
                  "michael@example.com",
                  "8.0",
                  null,
                  "4.2"
                ],
                [
                  "3",
                  "C004",
                  null,
                  "45.0",
                  "robert@example.com",
                  null,
                  "2025-01-30 00:00:00",
                  null
                ],
                [
                  "4",
                  "C005",
                  "Sarah Wilson",
                  "31.0",
                  null,
                  "15.0",
                  "2025-03-05 00:00:00",
                  "4.9"
                ],
                [
                  "5",
                  "C006",
                  "David Brown",
                  null,
                  "david@example.com",
                  "7.0",
                  null,
                  "3.2"
                ],
                [
                  "6",
                  "C007",
                  null,
                  "39.0",
                  "james@example.com",
                  "3.0",
                  "2025-02-10 00:00:00",
                  null
                ],
                [
                  "7",
                  "C008",
                  "Lisa Anderson",
                  "42.0",
                  "lisa@example.com",
                  null,
                  "2025-03-15 00:00:00",
                  "4.7"
                ]
              ],
              "shape": {
                "columns": 7,
                "rows": 8
              }
            },
            "text/html": [
              "<div>\n",
              "<style scoped>\n",
              "    .dataframe tbody tr th:only-of-type {\n",
              "        vertical-align: middle;\n",
              "    }\n",
              "\n",
              "    .dataframe tbody tr th {\n",
              "        vertical-align: top;\n",
              "    }\n",
              "\n",
              "    .dataframe thead th {\n",
              "        text-align: right;\n",
              "    }\n",
              "</style>\n",
              "<table border=\"1\" class=\"dataframe\">\n",
              "  <thead>\n",
              "    <tr style=\"text-align: right;\">\n",
              "      <th></th>\n",
              "      <th>customer_id</th>\n",
              "      <th>name</th>\n",
              "      <th>age</th>\n",
              "      <th>email</th>\n",
              "      <th>purchases</th>\n",
              "      <th>last_purchase_date</th>\n",
              "      <th>loyalty_score</th>\n",
              "    </tr>\n",
              "  </thead>\n",
              "  <tbody>\n",
              "    <tr>\n",
              "      <th>0</th>\n",
              "      <td>C001</td>\n",
              "      <td>John Smith</td>\n",
              "      <td>28.0</td>\n",
              "      <td>john@example.com</td>\n",
              "      <td>5.0</td>\n",
              "      <td>2025-01-15</td>\n",
              "      <td>4.5</td>\n",
              "    </tr>\n",
              "    <tr>\n",
              "      <th>1</th>\n",
              "      <td>C002</td>\n",
              "      <td>Emily Davis</td>\n",
              "      <td>34.0</td>\n",
              "      <td>None</td>\n",
              "      <td>12.0</td>\n",
              "      <td>2025-02-20</td>\n",
              "      <td>3.8</td>\n",
              "    </tr>\n",
              "    <tr>\n",
              "      <th>2</th>\n",
              "      <td>C003</td>\n",
              "      <td>Michael Johnson</td>\n",
              "      <td>NaN</td>\n",
              "      <td>michael@example.com</td>\n",
              "      <td>8.0</td>\n",
              "      <td>NaT</td>\n",
              "      <td>4.2</td>\n",
              "    </tr>\n",
              "    <tr>\n",
              "      <th>3</th>\n",
              "      <td>C004</td>\n",
              "      <td>None</td>\n",
              "      <td>45.0</td>\n",
              "      <td>robert@example.com</td>\n",
              "      <td>NaN</td>\n",
              "      <td>2025-01-30</td>\n",
              "      <td>NaN</td>\n",
              "    </tr>\n",
              "    <tr>\n",
              "      <th>4</th>\n",
              "      <td>C005</td>\n",
              "      <td>Sarah Wilson</td>\n",
              "      <td>31.0</td>\n",
              "      <td>None</td>\n",
              "      <td>15.0</td>\n",
              "      <td>2025-03-05</td>\n",
              "      <td>4.9</td>\n",
              "    </tr>\n",
              "    <tr>\n",
              "      <th>5</th>\n",
              "      <td>C006</td>\n",
              "      <td>David Brown</td>\n",
              "      <td>NaN</td>\n",
              "      <td>david@example.com</td>\n",
              "      <td>7.0</td>\n",
              "      <td>NaT</td>\n",
              "      <td>3.2</td>\n",
              "    </tr>\n",
              "    <tr>\n",
              "      <th>6</th>\n",
              "      <td>C007</td>\n",
              "      <td>None</td>\n",
              "      <td>39.0</td>\n",
              "      <td>james@example.com</td>\n",
              "      <td>3.0</td>\n",
              "      <td>2025-02-10</td>\n",
              "      <td>NaN</td>\n",
              "    </tr>\n",
              "    <tr>\n",
              "      <th>7</th>\n",
              "      <td>C008</td>\n",
              "      <td>Lisa Anderson</td>\n",
              "      <td>42.0</td>\n",
              "      <td>lisa@example.com</td>\n",
              "      <td>NaN</td>\n",
              "      <td>2025-03-15</td>\n",
              "      <td>4.7</td>\n",
              "    </tr>\n",
              "  </tbody>\n",
              "</table>\n",
              "</div>"
            ],
            "text/plain": [
              "  customer_id             name   age                email  purchases  \\\n",
              "0        C001       John Smith  28.0     john@example.com        5.0   \n",
              "1        C002      Emily Davis  34.0                 None       12.0   \n",
              "2        C003  Michael Johnson   NaN  michael@example.com        8.0   \n",
              "3        C004             None  45.0   robert@example.com        NaN   \n",
              "4        C005     Sarah Wilson  31.0                 None       15.0   \n",
              "5        C006      David Brown   NaN    david@example.com        7.0   \n",
              "6        C007             None  39.0    james@example.com        3.0   \n",
              "7        C008    Lisa Anderson  42.0     lisa@example.com        NaN   \n",
              "\n",
              "  last_purchase_date  loyalty_score  \n",
              "0         2025-01-15            4.5  \n",
              "1         2025-02-20            3.8  \n",
              "2                NaT            4.2  \n",
              "3         2025-01-30            NaN  \n",
              "4         2025-03-05            4.9  \n",
              "5                NaT            3.2  \n",
              "6         2025-02-10            NaN  \n",
              "7         2025-03-15            4.7  "
            ]
          },
          "execution_count": 15,
          "metadata": {},
          "output_type": "execute_result"
        }
      ],
      "source": [
        "\n",
        "# Drop rows with missing values in specific columns\n",
        "df_dropna_subset = df_copy.dropna(subset=['name', 'email'])\n",
        "print(\"\\nDataFrame after dropping rows with missing 'name' or 'email':\")\n",
        "print(df_dropna_subset)\n",
        "customers_df\n"
      ]
    },
    {
      "cell_type": "code",
      "execution_count": 21,
      "metadata": {},
      "outputs": [
        {
          "name": "stdout",
          "output_type": "stream",
          "text": [
            "\n",
            "DataFrame after dropping columns with any missing values:\n",
            "  customer_id\n",
            "0        C001\n",
            "1        C002\n",
            "2        C003\n",
            "3        C004\n",
            "4        C005\n",
            "5        C006\n",
            "6        C007\n",
            "7        C008\n"
          ]
        }
      ],
      "source": [
        "\n",
        "# Drop columns with missing values\n",
        "df_dropna_cols = df_copy.dropna(axis=1)\n",
        "print(\"\\nDataFrame after dropping columns with any missing values:\")\n",
        "print(df_dropna_cols)"
      ]
    },
    {
      "cell_type": "markdown",
      "metadata": {},
      "source": [
        "### When to use deletion methods:\n",
        "\n",
        "- **Pros:**\n",
        "  - Simple and quick to implement\n",
        "  - No risk of introducing bias if data is MCAR\n",
        "  - Ensures complete cases for analyses that require them\n",
        "  \n",
        "- **Cons:**\n",
        "  - Can significantly reduce sample size\n",
        "  - May introduce bias if data is MAR or MNAR\n",
        "  - Wasteful of potentially useful data"
      ]
    },
    {
      "cell_type": "markdown",
      "metadata": {},
      "source": [
        "## 5. Handling Missing Values: Imputation Methods\n"
      ]
    },
    {
      "cell_type": "markdown",
      "metadata": {},
      "source": [
        "\n",
        "Imputation involves replacing missing values with estimated values. There are several methods for imputation:"
      ]
    },
    {
      "cell_type": "code",
      "execution_count": null,
      "metadata": {},
      "outputs": [],
      "source": [
        "# 1. Fill with a specific value\n",
        "df_fill_specific = customers_df.copy()\n",
        "df_fill_specific['age'] = df_fill_specific['age'].fillna(0)\n",
        "df_fill_specific['name'] = df_fill_specific['name'].fillna('Unknown')\n",
        "print(\"DataFrame after filling specific values:\")\n",
        "print(df_fill_specific[['name', 'age']])\n",
        "\n",
        "# 2. Fill with statistical measures\n",
        "df_fill_stats = customers_df.copy()\n",
        "df_fill_stats['age'] = df_fill_stats['age'].fillna(df_fill_stats['age'].mean())  # Mean\n",
        "df_fill_stats['purchases'] = df_fill_stats['purchases'].fillna(df_fill_stats['purchases'].median())  # Median\n",
        "df_fill_stats['loyalty_score'] = df_fill_stats['loyalty_score'].fillna(df_fill_stats['loyalty_score'].mode()[0])  # Mode\n",
        "print(\"\\nDataFrame after filling with statistical measures:\")\n",
        "print(df_fill_stats[['age', 'purchases', 'loyalty_score']])"
      ]
    },
    {
      "cell_type": "code",
      "execution_count": null,
      "metadata": {},
      "outputs": [],
      "source": [
        "# 3. Forward fill (uses previous valid value)\n",
        "df_ffill = customers_df.copy().sort_values('customer_id').reset_index(drop=True)\n",
        "df_ffill_result = df_ffill.fillna(method='ffill')\n",
        "print(\"DataFrame after forward fill:\")\n",
        "print(df_ffill_result)\n",
        "\n",
        "# 4. Backward fill (uses next valid value)\n",
        "df_bfill_result = df_ffill.fillna(method='bfill')\n",
        "print(\"\\nDataFrame after backward fill:\")\n",
        "print(df_bfill_result)"
      ]
    },
    {
      "cell_type": "code",
      "execution_count": null,
      "metadata": {},
      "outputs": [],
      "source": [
        "# 5. Interpolation (linear, polynomial, etc.)\n",
        "# First create a DataFrame with time series data that has missing values\n",
        "dates = pd.date_range('2025-01-01', periods=10, freq='D')\n",
        "values = [10, 11, np.nan, np.nan, 15, 16, np.nan, 19, np.nan, 22]\n",
        "time_series = pd.Series(values, index=dates)\n",
        "\n",
        "print(\"Original time series with missing values:\")\n",
        "print(time_series)\n",
        "\n",
        "# Linear interpolation\n",
        "linear_interp = time_series.interpolate(method='linear')\n",
        "print(\"\\nTime series after linear interpolation:\")\n",
        "print(linear_interp)\n",
        "\n",
        "# Polynomial interpolation\n",
        "poly_interp = time_series.interpolate(method='polynomial', order=2)\n",
        "print(\"\\nTime series after polynomial interpolation:\")\n",
        "print(poly_interp)\n",
        "\n",
        "# Plot the different interpolation methods\n",
        "plt.figure(figsize=(12, 6))\n",
        "time_series.plot(marker='o', linestyle='none', label='Original Data', ax=plt.gca())\n",
        "linear_interp.plot(marker='.', label='Linear Interpolation', ax=plt.gca())\n",
        "poly_interp.plot(marker='.', label='Polynomial Interpolation', ax=plt.gca())\n",
        "plt.title('Comparison of Interpolation Methods')\n",
        "plt.legend()\n",
        "plt.tight_layout()\n",
        "plt.show()"
      ]
    },
    {
      "cell_type": "code",
      "execution_count": null,
      "metadata": {},
      "outputs": [],
      "source": [
        "# 6. Fill missing values based on groups\n",
        "# Create a DataFrame with customer segments\n",
        "customer_data = {\n",
        "    'customer_id': ['C001', 'C002', 'C003', 'C004', 'C005', 'C006', 'C007', 'C008'],\n",
        "    'segment': ['Premium', 'Standard', 'Premium', 'Standard', 'Premium', 'Standard', 'Premium', 'Standard'],\n",
        "    'spending': [1500, 600, np.nan, 450, 1800, np.nan, 1200, 500]\n",
        "}\n",
        "segment_df = pd.DataFrame(customer_data)\n",
        "\n",
        "print(\"Customer segment data with missing values:\")\n",
        "print(segment_df)\n",
        "\n",
        "# Group by segment and fill missing values with group mean\n",
        "segment_means = segment_df.groupby('segment')['spending'].transform('mean')\n",
        "segment_df['spending_filled'] = segment_df['spending'].fillna(segment_means)\n",
        "\n",
        "print(\"\\nAfter filling with segment means:\")\n",
        "print(segment_df)\n",
        "\n",
        "# Show the group means\n",
        "print(\"\\nSegment means:\")\n",
        "print(segment_df.groupby('segment')['spending'].mean())"
      ]
    },
    {
      "cell_type": "markdown",
      "metadata": {},
      "source": [
        "### When to use imputation methods:\n",
        "\n",
        "- **Pros:**\n",
        "  - Preserves sample size\n",
        "  - Can handle both MCAR and MAR data\n",
        "  - Multiple techniques available for different data types\n",
        "  \n",
        "- **Cons:**\n",
        "  - Can introduce bias if not done carefully\n",
        "  - May distort distribution and relationships between variables\n",
        "  - Some methods can be computationally intensive"
      ]
    },
    {
      "cell_type": "markdown",
      "metadata": {},
      "source": [
        "## 6. Handling Missing Values in Different Data Types\n"
      ]
    },
    {
      "cell_type": "markdown",
      "metadata": {},
      "source": [
        "\n",
        "Different data types require different approaches to handle missing values:"
      ]
    },
    {
      "cell_type": "code",
      "execution_count": null,
      "metadata": {},
      "outputs": [],
      "source": [
        "# Create a DataFrame with different data types\n",
        "mixed_data = {\n",
        "    'id': [1, 2, 3, 4, 5],\n",
        "    'numeric': [10.5, np.nan, 15.7, 8.2, np.nan],\n",
        "    'categorical': ['A', 'B', None, 'A', None],\n",
        "    'date': [pd.Timestamp('2025-01-15'), None, pd.Timestamp('2025-02-20'), None, pd.Timestamp('2025-03-10')],\n",
        "    'boolean': [True, False, None, True, np.nan]\n",
        "}\n",
        "mixed_df = pd.DataFrame(mixed_data)\n",
        "\n",
        "print(\"Mixed data types with missing values:\")\n",
        "print(mixed_df)\n",
        "print(\"\\nData types:\")\n",
        "print(mixed_df.dtypes)"
      ]
    },
    {
      "cell_type": "code",
      "execution_count": null,
      "metadata": {},
      "outputs": [],
      "source": [
        "# 1. Handling missing numeric values\n",
        "mixed_df['numeric_filled'] = mixed_df['numeric'].fillna(mixed_df['numeric'].mean())\n",
        "\n",
        "# 2. Handling missing categorical values\n",
        "mixed_df['categorical_filled'] = mixed_df['categorical'].fillna('Unknown')\n",
        "\n",
        "# 3. Handling missing date values\n",
        "mixed_df['date_filled'] = mixed_df['date'].fillna(pd.Timestamp('2025-01-01'))\n",
        "\n",
        "# 4. Handling missing boolean values\n",
        "mixed_df['boolean_filled'] = mixed_df['boolean'].fillna(False)  # Filling with False\n",
        "\n",
        "print(\"DataFrame after type-specific handling:\")\n",
        "print(mixed_df)"
      ]
    },
    {
      "cell_type": "markdown",
      "metadata": {},
      "source": [
        "## 7. Advanced Techniques: Indicator Variables\n"
      ]
    },
    {
      "cell_type": "markdown",
      "metadata": {},
      "source": [
        "\n",
        "Sometimes, the fact that a value is missing can be informative. In such cases, we can create indicator variables to track which values were originally missing:"
      ]
    },
    {
      "cell_type": "code",
      "execution_count": null,
      "metadata": {},
      "outputs": [],
      "source": [
        "# Create indicator variables\n",
        "df_indicator = customers_df.copy()\n",
        "\n",
        "# Create an indicator for missing ages\n",
        "df_indicator['age_missing'] = df_indicator['age'].isna()\n",
        "\n",
        "# Fill missing age values with mean\n",
        "df_indicator['age'] = df_indicator['age'].fillna(df_indicator['age'].mean())\n",
        "\n",
        "print(\"DataFrame with indicator variable:\")\n",
        "print(df_indicator[['customer_id', 'age', 'age_missing']])"
      ]
    },
    {
      "cell_type": "markdown",
      "metadata": {},
      "source": [
        "## 8. Advanced Techniques: Multiple Imputation\n"
      ]
    },
    {
      "cell_type": "markdown",
      "metadata": {},
      "source": [
        "\n",
        "Multiple imputation involves creating multiple complete datasets with different imputed values, analyzing each dataset, and then combining the results. This accounts for the uncertainty in imputation.\n",
        "\n",
        "While a full implementation is beyond the scope of this lesson, here's a conceptual example using `scikit-learn`'s `IterativeImputer`:"
      ]
    },
    {
      "cell_type": "code",
      "execution_count": null,
      "metadata": {},
      "outputs": [],
      "source": [
        "# Conceptual example of multiple imputation\n",
        "'''\n",
        "from sklearn.experimental import enable_iterative_imputer  # Needed for IterativeImputer\n",
        "from sklearn.impute import IterativeImputer\n",
        "import numpy as np\n",
        "\n",
        "# Extract numeric columns for imputation\n",
        "numeric_cols = ['age', 'purchases', 'loyalty_score']\n",
        "numeric_data = customers_df[numeric_cols].values\n",
        "\n",
        "# Create imputer\n",
        "imputer = IterativeImputer(max_iter=10, random_state=0)\n",
        "imputed_data = imputer.fit_transform(numeric_data)\n",
        "\n",
        "# Create DataFrame with imputed values\n",
        "imputed_df = customers_df.copy()\n",
        "imputed_df[numeric_cols] = imputed_data\n",
        "\n",
        "print(\"Original DataFrame (numeric columns only):\")\n",
        "print(customers_df[numeric_cols])\n",
        "\n",
        "print(\"\\nImputed DataFrame (numeric columns only):\")\n",
        "print(imputed_df[numeric_cols])\n",
        "'''"
      ]
    },
    {
      "cell_type": "markdown",
      "metadata": {},
      "source": [
        "## 9. Best Practices for Handling Missing Data\n",
        "\n",
        "1. **Understand the nature of your missing data**\n",
        "   - Investigate why data is missing (MCAR, MAR, or MNAR)\n",
        "   - Document missing data patterns\n",
        "\n",
        "2. **Choose appropriate methods based on data type and analysis goals**\n",
        "   - For simple exploratory analysis, simple imputation may suffice\n",
        "   - For more complex analysis, consider multiple imputation or more sophisticated techniques\n",
        "\n",
        "3. **Use multiple approaches and compare results**\n",
        "   - Sensitivity analysis: compare different imputation methods\n",
        "   - Validate results by creating artificial missing data in complete datasets\n",
        "\n",
        "4. **Document your missing data handling approach**\n",
        "   - Transparency about how missing data was handled is important for reproducibility\n",
        "   - Acknowledge limitations of your approach"
      ]
    },
    {
      "cell_type": "markdown",
      "metadata": {},
      "source": [
        "## 10. SQL Comparison to Pandas Missing Data Handling\n",
        "\n",
        "In SQL, handling missing values is typically done using `NULL` values and functions like `COALESCE`. Here's a comparison between SQL and Pandas techniques:\n",
        "\n",
        "| SQL Operation | Pandas Equivalent |\n",
        "|--------------|-------------------|\n",
        "| `SELECT * FROM table WHERE column IS NULL` | `df[df['column'].isna()]` |\n",
        "| `SELECT * FROM table WHERE column IS NOT NULL` | `df[df['column'].notna()]` |\n",
        "| `COALESCE(column, 0)` | `df['column'].fillna(0)` |\n",
        "| `COALESCE(column, AVG(column) OVER())` | `df['column'].fillna(df['column'].mean())` |\n",
        "| `DELETE FROM table WHERE column IS NULL` | `df.dropna(subset=['column'])` |\n",
        "| `COUNT(column)` (counts non-NULL values) | `df['column'].count()` |\n",
        "| `COUNT(*)` (counts all rows) | `len(df)` |"
      ]
    },
    {
      "cell_type": "markdown",
      "metadata": {},
      "source": [
        "## 11. Practice Exercises"
      ]
    },
    {
      "cell_type": "markdown",
      "metadata": {},
      "source": [
        "### Exercise 1: Detecting Missing Values\n",
        "Calculate the percentage of missing values for each row in the `customers_df` DataFrame."
      ]
    },
    {
      "cell_type": "code",
      "execution_count": null,
      "metadata": {},
      "outputs": [],
      "source": [
        "# Your code here"
      ]
    },
    {
      "cell_type": "markdown",
      "metadata": {},
      "source": [
        "### Exercise 2: Filling Missing Values\n",
        "Fill the missing values in the `customers_df` DataFrame with appropriate values for each column:\n",
        "- 'name': 'Unknown Customer'\n",
        "- 'age': The median age\n",
        "- 'email': '{customer_id}@example.com'\n",
        "- 'purchases': 0\n",
        "- 'last_purchase_date': The current date\n",
        "- 'loyalty_score': The mean loyalty score"
      ]
    },
    {
      "cell_type": "code",
      "execution_count": null,
      "metadata": {},
      "outputs": [],
      "source": [
        "# Your code here"
      ]
    },
    {
      "cell_type": "markdown",
      "metadata": {},
      "source": [
        "### Exercise 3: Missing Data Analysis\n",
        "Find if there's a relationship between missing age values and missing loyalty scores in the `customers_df` DataFrame (i.e., do records that have missing ages also tend to have missing loyalty scores?)."
      ]
    },
    {
      "cell_type": "code",
      "execution_count": null,
      "metadata": {},
      "outputs": [],
      "source": [
        "# Your code here"
      ]
    },
    {
      "cell_type": "markdown",
      "metadata": {},
      "source": [
        "### Exercise 4: SQL to Pandas Translation\n",
        "Translate the following SQL query to Pandas code:\n",
        "```sql\n",
        "SELECT \n",
        "    customer_id, \n",
        "    COALESCE(name, 'Unknown') as name,\n",
        "    COALESCE(age, (SELECT AVG(age) FROM customers)) as age,\n",
        "    email\n",
        "FROM customers\n",
        "WHERE email IS NOT NULL\n",
        "```"
      ]
    },
    {
      "cell_type": "code",
      "execution_count": null,
      "metadata": {},
      "outputs": [],
      "source": [
        "# Your code here"
      ]
    },
    {
      "cell_type": "markdown",
      "metadata": {},
      "source": [
        "### Exercise 5: Advanced Missing Data Handling\n",
        "Create a new DataFrame that:\n",
        "1. Removes customers who have more than 3 missing values\n",
        "2. For the remaining customers, fills missing values using forward fill where possible\n",
        "3. For any values still missing, uses the mean for numeric columns and 'Unknown' for string columns"
      ]
    },
    {
      "cell_type": "code",
      "execution_count": null,
      "metadata": {},
      "outputs": [],
      "source": [
        "# Your code here"
      ]
    },
    {
      "cell_type": "markdown",
      "metadata": {},
      "source": [
        "## Next Steps\n",
        "\n",
        "With indexing, filtering, and handling missing values covered, you now have a solid foundation in Pandas data manipulation. In the next sessions, we'll explore advanced Pandas operations including GroupBy, merging, and pivoting data.\n",
        "\n",
        "Next week, we'll move on to Data Transformation techniques which will further enhance your data preprocessing capabilities."
      ]
    }
  ],
  "metadata": {
    "kernelspec": {
      "display_name": ".venv (3.13.2)",
      "language": "python",
      "name": "python3"
    },
    "language_info": {
      "codemirror_mode": {
        "name": "ipython",
        "version": 3
      },
      "file_extension": ".py",
      "mimetype": "text/x-python",
      "name": "python",
      "nbconvert_exporter": "python",
      "pygments_lexer": "ipython3",
      "version": "3.13.2"
    }
  },
  "nbformat": 4,
  "nbformat_minor": 4
}

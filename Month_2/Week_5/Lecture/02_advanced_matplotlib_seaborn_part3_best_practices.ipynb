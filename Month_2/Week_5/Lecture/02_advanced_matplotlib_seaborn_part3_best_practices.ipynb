         transform=ax6.transAxes, color='red',
         bbox=dict(boxstyle='round', facecolor='red', alpha=0.2))
ax6.text(0.5, 0.1, 'Distorts proportions\\nHard to read', ha='center', 
         transform=ax6.transAxes, fontsize=9, style='italic', color='red')
ax6.set_xlim(0, 1)
ax6.set_ylim(0, 1)

# 7. WRONG: Too Many Categories in Pie Chart
ax7 = fig.add_subplot(gs[1, 2])
all_categories = olist_data['primary_category'].value_counts()
# Create pie chart with too many slices
colors_bad = plt.cm.Set3(np.linspace(0, 1, len(all_categories)))
wedges, texts, autotexts = ax7.pie(all_categories.values, 
                                  labels=all_categories.index,
                                  autopct='%1.0f%%', colors=colors_bad)
# Make text tiny and overlapping (to show the problem)
for text in texts:
    text.set_fontsize(6)
for autotext in autotexts:
    autotext.set_fontsize(5)
ax7.set_title('❌ Too Many Categories\\nDON\\'T USE', fontweight='bold', color='red')
ax7.text(0.5, -1.3, 'Cluttered and\\nunreadable', ha='center', 
         transform=ax7.transAxes, fontsize=9, style='italic', color='red')

# 8. WRONG: Misleading Dual Y-Axis
ax8 = fig.add_subplot(gs[1, 3])
ax8_twin = ax8.twinx()
# Create misleading dual axis with different scales
months = range(6)
revenue = [100, 105, 110, 108, 115, 120]  # Small variation
orders = [1000, 1200, 800, 1500, 900, 1100]  # Large variation

ax8.plot(months, revenue, 'b-o', linewidth=3, label='Revenue')
ax8_twin.plot(months, orders, 'r-s', linewidth=3, label='Orders')
ax8.set_ylabel('Revenue (R$ Thousands)', color='blue')
ax8_twin.set_ylabel('Orders', color='red')
ax8.set_title('❌ Misleading Dual Axis\\nDON\\'T USE', fontweight='bold', color='red')
ax8.text(0.5, 0.1, 'Creates false\\ncorrelations', ha='center', 
         transform=ax8.transAxes, fontsize=9, style='italic', color='red')

# 9. Chart Selection Decision Tree
ax9 = fig.add_subplot(gs[2, :])
ax9.axis('off')

# Create decision tree text
decision_tree = \"\"\"
📊 CHART SELECTION DECISION TREE

❓ What is your data story?
├── 📈 Show trends over time → LINE CHART
├── 📊 Compare categories → BAR CHART (vertical) or HORIZONTAL BAR CHART
├── 📉 Show distribution → HISTOGRAM or BOX PLOT
├── 🔗 Show relationships → SCATTER PLOT
├── 🥧 Show part-to-whole → PIE CHART (max 5 categories) or DONUT CHART
├── 🗺️ Show geographic data → CHOROPLETH MAP or DOT MAP
├── 📋 Show rankings → HORIZONTAL BAR CHART or LOLLIPOP CHART
└── 🔄 Show flow/process → SANKEY DIAGRAM or FUNNEL CHART

⚠️ AVOID:
• 3D charts (distort perception)
• Too many colors (confusing)
• Pie charts with >5 categories
• Misleading dual y-axes
• Unnecessary chart junk
\"\"\"

ax9.text(0.05, 0.95, decision_tree, transform=ax9.transAxes, fontsize=11,
         fontfamily='monospace', verticalalignment='top',
         bbox=dict(boxstyle='round,pad=1', facecolor='lightblue', alpha=0.3))

plt.show()

print("📊 Chart Selection Guidelines:")
print("• LINE CHARTS: Best for trends over time")
print("• BAR CHARTS: Best for category comparisons")
print("• HISTOGRAMS: Best for distribution analysis")
print("• PIE CHARTS: Best for part-to-whole (max 5 categories)")
print("• SCATTER PLOTS: Best for relationships between variables")
print("• BOX PLOTS: Best for comparing distributions across groups")
print("\\n❌ Avoid These Common Mistakes:")
print("• 3D charts that distort proportions")
print("• Pie charts with too many categories")
print("• Misleading dual y-axes with different scales")
print("• Unnecessary decorative elements (chart junk)")
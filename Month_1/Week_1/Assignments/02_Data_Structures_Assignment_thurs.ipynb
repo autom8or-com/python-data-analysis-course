{
  "cells": [
    {
      "cell_type": "markdown",
      "metadata": {
        "id": "header-section"
      },
      "source": [
        "# Python Data Structures Minor Assignment\n",
        "\n",
        "## Week 1, Day 2 (Thursday) - April 10th, 2025\n",
        "\n",
        "### Overview\n",
        "In this assignment, you'll apply your knowledge of Python data structures to perform data analysis on sample e-commerce data. You'll work with lists, dictionaries, tuples, and sets to extract meaningful insights from the data.\n",
        "\n",
        "### Instructions\n",
        "1. Complete all tasks in this notebook\n",
        "2. Run all cells to verify your solutions\n",
        "3. Save a copy to your Google Drive\n",
        "4. Submit your completed notebook by the end of the day\n",
        "\n",
        "### Grading Criteria\n",
        "- Code correctness: 60%\n",
        "- Code efficiency and approach: 25%\n",
        "- Comments and code organization: 15%\n",
        "\n",
        "### Dataset Description\n",
        "You'll be working with a small dataset representing orders from an e-commerce platform. The data includes customer information, order details, products, and reviews."
      ]
    },
    {
      "cell_type": "markdown",
      "metadata": {
        "id": "dataset-section"
      },
      "source": [
        "## Dataset\n",
        "\n",
        "The following code cells contain the data you'll be working with. Run these cells first."
      ]
    },
    {
      "cell_type": "code",
      "execution_count": null,
      "metadata": {
        "id": "customer-data"
      },
      "outputs": [],
      "source": [
        "# Customer data: Dictionary mapping customer_id to customer information\n",
        "customers = {\n",
        "    \"C001\": {\"name\": \"Maria Silva\", \"city\": \"Sao Paulo\", \"is_prime\": True, \"registration_date\": \"2024-01-15\"},\n",
        "    \"C002\": {\"name\": \"Joao Santos\", \"city\": \"Rio de Janeiro\", \"is_prime\": False, \"registration_date\": \"2024-02-20\"},\n",
        "    \"C003\": {\"name\": \"Ana Oliveira\", \"city\": \"Belo Horizonte\", \"is_prime\": True, \"registration_date\": \"2024-01-10\"},\n",
        "    \"C004\": {\"name\": \"Carlos Lima\", \"city\": \"Brasilia\", \"is_prime\": True, \"registration_date\": \"2024-03-05\"},\n",
        "    \"C005\": {\"name\": \"Julia Costa\", \"city\": \"Salvador\", \"is_prime\": False, \"registration_date\": \"2024-02-28\"},\n",
        "    \"C006\": {\"name\": \"Pedro Souza\", \"city\": \"Curitiba\", \"is_prime\": True, \"registration_date\": \"2024-01-25\"},\n",
        "    \"C007\": {\"name\": \"Fernanda Alves\", \"city\": \"Sao Paulo\", \"is_prime\": False, \"registration_date\": \"2024-03-15\"}\n",
        "}"
      ]
    },
    {
      "cell_type": "code",
      "execution_count": null,
      "metadata": {
        "id": "product-data"
      },
      "outputs": [],
      "source": [
        "# Product data: Dictionary mapping product_id to product information\n",
        "products = {\n",
        "    \"P101\": {\"name\": \"Smartphone X\", \"category\": \"Electronics\", \"price\": 999.99, \"weight_kg\": 0.2},\n",
        "    \"P102\": {\"name\": \"Laptop Pro\", \"category\": \"Electronics\", \"price\": 1299.99, \"weight_kg\": 1.5},\n",
        "    \"P103\": {\"name\": \"Coffee Maker\", \"category\": \"Home Appliances\", \"price\": 89.99, \"weight_kg\": 3.0},\n",
        "    \"P104\": {\"name\": \"Wireless Headphones\", \"category\": \"Electronics\", \"price\": 159.99, \"weight_kg\": 0.25},\n",
        "    \"P105\": {\"name\": \"Fitness Tracker\", \"category\": \"Electronics\", \"price\": 79.99, \"weight_kg\": 0.05},\n",
        "    \"P106\": {\"name\": \"Blender\", \"category\": \"Home Appliances\", \"price\": 49.99, \"weight_kg\": 2.0},\n",
        "    \"P107\": {\"name\": \"Desk Chair\", \"category\": \"Furniture\", \"price\": 149.99, \"weight_kg\": 7.5},\n",
        "    \"P108\": {\"name\": \"Bookshelf\", \"category\": \"Furniture\", \"price\": 199.99, \"weight_kg\": 25.0},\n",
        "    \"P109\": {\"name\": \"Smart Watch\", \"category\": \"Electronics\", \"price\": 249.99, \"weight_kg\": 0.1},\n",
        "    \"P110\": {\"name\": \"Toaster\", \"category\": \"Home Appliances\", \"price\": 29.99, \"weight_kg\": 1.2}\n",
        "}"
      ]
    },
    {
      "cell_type": "code",
      "execution_count": null,
      "metadata": {
        "id": "order-data"
      },
      "outputs": [],
      "source": [
        "# Order data: List of dictionaries with order information\n",
        "orders = [\n",
        "    {\"order_id\": \"O1001\", \"customer_id\": \"C001\", \"date\": \"2025-01-15\", \"status\": \"delivered\", \"items\": [(\"P101\", 1), (\"P104\", 1)]},\n",
        "    {\"order_id\": \"O1002\", \"customer_id\": \"C002\", \"date\": \"2025-01-16\", \"status\": \"delivered\", \"items\": [(\"P103\", 1)]},\n",
        "    {\"order_id\": \"O1003\", \"customer_id\": \"C001\", \"date\": \"2025-01-20\", \"status\": \"delivered\", \"items\": [(\"P105\", 1), (\"P106\", 1)]},\n",
        "    {\"order_id\": \"O1004\", \"customer_id\": \"C003\", \"date\": \"2025-01-25\", \"status\": \"delivered\", \"items\": [(\"P102\", 1)]},\n",
        "    {\"order_id\": \"O1005\", \"customer_id\": \"C004\", \"date\": \"2025-01-30\", \"status\": \"delivered\", \"items\": [(\"P109\", 1)]},\n",
        "    {\"order_id\": \"O1006\", \"customer_id\": \"C005\", \"date\": \"2025-02-05\", \"status\": \"in_transit\", \"items\": [(\"P107\", 1)]},\n",
        "    {\"order_id\": \"O1007\", \"customer_id\": \"C002\", \"date\": \"2025-02-10\", \"status\": \"delivered\", \"items\": [(\"P101\", 1), (\"P105\", 1)]},\n",
        "    {\"order_id\": \"O1008\", \"customer_id\": \"C006\", \"date\": \"2025-02-15\", \"status\": \"delivered\", \"items\": [(\"P108\", 1)]},\n",
        "    {\"order_id\": \"O1009\", \"customer_id\": \"C001\", \"date\": \"2025-02-20\", \"status\": \"delivered\", \"items\": [(\"P102\", 1)]},\n",
        "    {\"order_id\": \"O1010\", \"customer_id\": \"C003\", \"date\": \"2025-02-25\", \"status\": \"processing\", \"items\": [(\"P110\", 2), (\"P106\", 1)]},\n",
        "    {\"order_id\": \"O1011\", \"customer_id\": \"C007\", \"date\": \"2025-03-01\", \"status\": \"delivered\", \"items\": [(\"P104\", 1)]},\n",
        "    {\"order_id\": \"O1012\", \"customer_id\": \"C004\", \"date\": \"2025-03-05\", \"status\": \"in_transit\", \"items\": [(\"P103\", 1), (\"P110\", 1)]},\n",
        "    {\"order_id\": \"O1013\", \"customer_id\": \"C001\", \"date\": \"2025-03-10\", \"status\": \"delivered\", \"items\": [(\"P109\", 1)]},\n",
        "    {\"order_id\": \"O1014\", \"customer_id\": \"C006\", \"date\": \"2025-03-15\", \"status\": \"processing\", \"items\": [(\"P101\", 1), (\"P109\", 1)]},\n",
        "    {\"order_id\": \"O1015\", \"customer_id\": \"C002\", \"date\": \"2025-03-20\", \"status\": \"delivered\", \"items\": [(\"P107\", 1)]}\n",
        "]"
      ]
    },
    {
      "cell_type": "code",
      "execution_count": null,
      "metadata": {
        "id": "reviews-data"
      },
      "outputs": [],
      "source": [
        "# Review data: List of dictionaries with product review information\n",
        "reviews = [\n",
        "    {\"review_id\": \"R001\", \"order_id\": \"O1001\", \"product_id\": \"P101\", \"rating\": 5, \"comment\": \"Great smartphone, very fast\"},\n",
        "    {\"review_id\": \"R002\", \"order_id\": \"O1001\", \"product_id\": \"P104\", \"rating\": 4, \"comment\": \"Good sound quality, comfortable\"},\n",
        "    {\"review_id\": \"R003\", \"order_id\": \"O1002\", \"product_id\": \"P103\", \"rating\": 3, \"comment\": \"Makes good coffee but a bit noisy\"},\n",
        "    {\"review_id\": \"R004\", \"order_id\": \"O1003\", \"product_id\": \"P105\", \"rating\": 5, \"comment\": \"Accurate tracking, good battery life\"},\n",
        "    {\"review_id\": \"R005\", \"order_id\": \"O1004\", \"product_id\": \"P102\", \"rating\": 4, \"comment\": \"Fast laptop, good display\"},\n",
        "    {\"review_id\": \"R006\", \"order_id\": \"O1005\", \"product_id\": \"P109\", \"rating\": 5, \"comment\": \"Love the features, great battery\"},\n",
        "    {\"review_id\": \"R007\", \"order_id\": \"O1007\", \"product_id\": \"P101\", \"rating\": 4, \"comment\": \"Good phone, camera could be better\"},\n",
        "    {\"review_id\": \"R008\", \"order_id\": \"O1008\", \"product_id\": \"P108\", \"rating\": 2, \"comment\": \"Difficult to assemble, not sturdy\"},\n",
        "    {\"review_id\": \"R009\", \"order_id\": \"O1009\", \"product_id\": \"P102\", \"rating\": 5, \"comment\": \"Excellent performance, recommend\"},\n",
        "    {\"review_id\": \"R010\", \"order_id\": \"O1011\", \"product_id\": \"P104\", \"rating\": 3, \"comment\": \"Decent headphones for the price\"},\n",
        "    {\"review_id\": \"R011\", \"order_id\": \"O1013\", \"product_id\": \"P109\", \"rating\": 4, \"comment\": \"Good smartwatch, many features\"}\n",
        "]"
      ]
    },
    {
      "cell_type": "markdown",
      "metadata": {
        "id": "task-1"
      },
      "source": [
        "## Task 1: Basic Data Exploration (15 points)\n",
        "\n",
        "Write code to answer the following questions about the dataset:\n",
        "\n",
        "1. How many customers, products, orders, and reviews are in the dataset?\n",
        "2. What are the unique product categories?\n",
        "3. How many orders are in each status (delivered, in_transit, processing)?\n",
        "4. What percentage of customers are prime members?\n",
        "5. What is the average rating across all reviews?"
      ]
    },
    {
      "cell_type": "code",
      "execution_count": null,
      "metadata": {
        "id": "task-1-solution"
      },
      "outputs": [],
      "source": [
        "# Your solution for Task 1\n",
        "\n",
        "# 1. Count of customers, products, orders, and reviews\n",
        "\n",
        "\n",
        "# 2. Unique product categories\n",
        "\n",
        "\n",
        "# 3. Orders by status\n",
        "\n",
        "\n",
        "# 4. Percentage of prime customers\n",
        "\n",
        "\n",
        "# 5. Average rating across all reviews\n"
      ]
    },
    {
      "cell_type": "markdown",
      "metadata": {
        "id": "task-2"
      },
      "source": [
        "## Task 2: Order Analysis (20 points)\n",
        "\n",
        "Perform analysis on the order data:\n",
        "\n",
        "1. Calculate the total revenue from all orders\n",
        "2. Find the most expensive order (by total cost) and identify the customer who placed it\n",
        "3. Calculate the average number of items per order\n",
        "4. Find the top 3 best-selling products (by quantity)\n",
        "5. Calculate the total revenue by product category\n",
        "\n",
        "Note: To calculate the cost of an order, multiply the quantity of each product by its price and sum them up."
      ]
    },
    {
      "cell_type": "code",
      "execution_count": null,
      "metadata": {
        "id": "task-2-solution"
      },
      "outputs": [],
      "source": [
        "# Your solution for Task 2\n",
        "\n",
        "# 1. Total revenue from all orders\n",
        "\n",
        "\n",
        "# 2. Most expensive order and customer\n",
        "\n",
        "\n",
        "# 3. Average number of items per order\n",
        "\n",
        "\n",
        "# 4. Top 3 best-selling products\n",
        "\n",
        "\n",
        "# 5. Total revenue by product category\n"
      ]
    },
    {
      "cell_type": "markdown",
      "metadata": {
        "id": "task-3"
      },
      "source": [
        "## Task 3: Customer Behavior Analysis (25 points)\n",
        "\n",
        "Analyze customer behavior and purchasing patterns:\n",
        "\n",
        "1. Create a dictionary mapping each customer to their total spending\n",
        "2. Find the top customer by total spending\n",
        "3. Compare the average order value of prime vs non-prime customers\n",
        "4. Create a dictionary mapping each customer to the list of unique product categories they purchased from\n",
        "5. Find the customer who has purchased from the most diverse set of product categories"
      ]
    },
    {
      "cell_type": "code",
      "execution_count": null,
      "metadata": {
        "id": "task-3-solution"
      },
      "outputs": [],
      "source": [
        "# Your solution for Task 3\n",
        "\n",
        "# 1. Dictionary mapping customers to total spending\n",
        "\n",
        "\n",
        "# 2. Top customer by spending\n",
        "\n",
        "\n",
        "# 3. Average order value of prime vs non-prime customers\n",
        "\n",
        "\n",
        "# 4. Dictionary mapping customers to unique product categories\n",
        "\n",
        "\n",
        "# 5. Customer with most diverse category purchases\n"
      ]
    },
    {
      "cell_type": "markdown",
      "metadata": {
        "id": "task-4"
      },
      "source": [
        "## Task 4: Product Analysis (20 points)\n",
        "\n",
        "Perform analysis on products and their reviews:\n",
        "\n",
        "1. Calculate the average rating for each product\n",
        "2. Find the product with the highest average rating\n",
        "3. Find the product with the lowest average rating\n",
        "4. Create a dictionary mapping each product to all of its review comments\n",
        "5. Calculate the correlation between product price and average rating (do more expensive products have higher ratings?)\n",
        "\n",
        "Hint for correlation: \n",
        "- Calculate the average rating for each product\n",
        "- Create two lists: one for prices and one for corresponding average ratings\n",
        "- If the expensive products tend to have higher ratings, the correlation will be positive"
      ]
    },
    {
      "cell_type": "code",
      "execution_count": null,
      "metadata": {
        "id": "task-4-solution"
      },
      "outputs": [],
      "source": [
        "# Your solution for Task 4\n",
        "\n",
        "# 1. Average rating for each product\n",
        "\n",
        "\n",
        "# 2. Product with highest average rating\n",
        "\n",
        "\n",
        "# 3. Product with lowest average rating\n",
        "\n",
        "\n",
        "# 4. Dictionary mapping products to review comments\n",
        "\n",
        "\n",
        "# 5. Correlation between price and average rating\n",
        "# You can use a manual approach to calculate correlation or comment on trends\n"
      ]
    },
    {
      "cell_type": "markdown",
      "metadata": {
        "id": "task-5"
      },
      "source": [
        "## Task 5: Time-Based Analysis (20 points)\n",
        "\n",
        "Analyze ordering patterns over time:\n",
        "\n",
        "1. Group orders by month and calculate total revenue per month\n",
        "2. Find the most popular product (by quantity sold) for each month\n",
        "3. Calculate the average order value trend over time (is it increasing, decreasing, or stable?)\n",
        "4. Find all customers who placed at least one order in each month\n",
        "5. Calculate the percentage of orders that have received reviews\n",
        "\n",
        "Hint: Use the date field in the orders to determine the month. You can use `order_date.split('-')[1]` to extract the month."
      ]
    },
    {
      "cell_type": "code",
      "execution_count": null,
      "metadata": {
        "id": "task-5-solution"
      },
      "outputs": [],
      "source": [
        "# Your solution for Task 5\n",
        "\n",
        "# 1. Revenue per month\n",
        "\n",
        "\n",
        "# 2. Most popular product per month\n",
        "\n",
        "\n",
        "# 3. Average order value trend\n",
        "\n",
        "\n",
        "# 4. Customers with orders in every month\n",
        "\n",
        "\n",
        "# 5. Percentage of orders with reviews\n"
      ]
    },
    {
      "cell_type": "markdown",
      "metadata": {
        "id": "conclusion"
      },
      "source": [
        "## Conclusion\n",
        "\n",
        "In this assignment, you've applied Python data structures to analyze e-commerce data from multiple angles:\n",
        "- Basic data exploration\n",
        "- Order analysis\n",
        "- Customer behavior analysis\n",
        "- Product analysis \n",
        "- Time-based analysis\n",
        "\n",
        "These types of analyses are fundamental in e-commerce businesses to understand customer behavior, identify top-performing products, and detect trends over time.\n",
        "\n",
        "### What to submit\n",
        "- This completed notebook with your solutions for all tasks\n",
        "- Make sure all code is well-commented and organized\n",
        "- Ensure all cells have been run and show output\n",
        "\n",
        "### Reflection Questions\n",
        "Before submitting, consider the following questions:\n",
        "1. Which data structure was most useful for each type of analysis?\n",
        "2. Are there any insights from the data that surprised you?\n",
        "3. How would you improve this analysis if you had more data or time?"
      ]
    }
  ],
  "metadata": {
    "colab": {
      "provenance": [],
      "toc_visible": true
    },
    "kernelspec": {
      "display_name": "Python 3",
      "name": "python3"
    }
  },
  "nbformat": 4,
  "nbformat_minor": 0
}

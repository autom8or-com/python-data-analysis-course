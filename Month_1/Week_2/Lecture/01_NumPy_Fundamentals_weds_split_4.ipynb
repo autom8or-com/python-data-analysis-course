{
  "cells": [
    {
      "cell_type": "markdown",
      "metadata": {
        "id": "header-section"
      },
      "source": [
        "# NumPy Fundamentals - Part 4\n",
        "\n",
        "## Week 2, Day 1 (Wednesday) - April 16th, 2025\n",
        "\n",
        "### Overview\n",
        "This is the final part of our NumPy lecture. In this section, we'll focus on vectorization, practical applications, and data analysis examples."
      ]
    },
    {
      "cell_type": "code",
      "execution_count": null,
      "metadata": {
        "id": "import-numpy-again"
      },
      "outputs": [],
      "source": [
        "# Import NumPy again for this notebook\n",
        "import numpy as np\n",
        "import time"
      ]
    },
    {
      "cell_type": "markdown",
      "metadata": {
        "id": "vectorization-section"
      },
      "source": [
        "## 1. Vectorization and Performance\n",
        "\n",
        "Vectorization is the process of replacing loops with array operations. NumPy's vectorized operations are much faster than equivalent Python loops because they're implemented in C."
      ]
    },
    {
      "cell_type": "code",
      "execution_count": null,
      "metadata": {
        "id": "vectorization-example"
      },
      "outputs": [],
      "source": [
        "# Example: Calculate the square of each element in an array\n",
        "\n",
        "# Create a large array\n",
        "arr = np.random.random(1000000)\n",
        "\n",
        "# Method 1: Python for loop (slow)\n",
        "def square_loop(arr):\n",
        "    result = np.zeros_like(arr)\n",
        "    for i in range(len(arr)):\n",
        "        result[i] = arr[i] ** 2\n",
        "    return result\n",
        "\n",
        "# Method 2: NumPy vectorization (fast)\n",
        "def square_vector(arr):\n",
        "    return arr ** 2\n",
        "\n",
        "# Time the loop method\n",
        "start_time = time.time()\n",
        "result_loop = square_loop(arr)\n",
        "loop_time = time.time() - start_time\n",
        "print(f\"Loop method time: {loop_time:.6f} seconds\")\n",
        "\n",
        "# Time the vectorized method\n",
        "start_time = time.time()\n",
        "result_vector = square_vector(arr)\n",
        "vector_time = time.time() - start_time\n",
        "print(f\"Vectorized method time: {vector_time:.6f} seconds\")\n",
        "\n",
        "# Calculate speedup\n",
        "speedup = loop_time / vector_time\n",
        "print(f\"Vectorization is {speedup:.2f}x faster\")\n",
        "\n",
        "# Verify the results are the same\n",
        "print(\"Results are the same:\", np.allclose(result_loop, result_vector))"
      ]
    },
    {
      "cell_type": "markdown",
      "metadata": {
        "id": "vectorization-examples"
      },
      "source": [
        "### More Vectorization Examples\n",
        "\n",
        "Let's look at some common operations that can be vectorized:"
      ]
    },
    {
      "cell_type": "code",
      "execution_count": null,
      "metadata": {
        "id": "vectorization-examples-code"
      },
      "outputs": [],
      "source": [
        "# Example 1: Calculate distance between points\n",
        "# Non-vectorized:\n",
        "def distance_loop(x1, y1, x2, y2):\n",
        "    result = []\n",
        "    for i in range(len(x1)):\n",
        "        dist = ((x2[i] - x1[i])**2 + (y2[i] - y1[i])**2)**0.5\n",
        "        result.append(dist)\n",
        "    return result\n",
        "\n",
        "# Vectorized:\n",
        "def distance_vector(x1, y1, x2, y2):\n",
        "    return np.sqrt((x2 - x1)**2 + (y2 - y1)**2)\n",
        "\n",
        "# Generate sample data\n",
        "n = 100000  # Reduced for faster execution\n",
        "x1 = np.random.random(n)\n",
        "y1 = np.random.random(n)\n",
        "x2 = np.random.random(n)\n",
        "y2 = np.random.random(n)\n",
        "\n",
        "# Time the loop method\n",
        "start_time = time.time()\n",
        "result_loop = distance_loop(x1, y1, x2, y2)\n",
        "loop_time = time.time() - start_time\n",
        "print(f\"Loop method time: {loop_time:.6f} seconds\")\n",
        "\n",
        "# Time the vectorized method\n",
        "start_time = time.time()\n",
        "result_vector = distance_vector(x1, y1, x2, y2)\n",
        "vector_time = time.time() - start_time\n",
        "print(f\"Vectorized method time: {vector_time:.6f} seconds\")\n",
        "\n",
        "# Calculate speedup\n",
        "speedup = loop_time / vector_time\n",
        "print(f\"Vectorization is {speedup:.2f}x faster\")\n",
        "\n",
        "# Example 2: Find elements that satisfy a condition\n",
        "arr = np.random.randint(0, 100, 1000000)\n",
        "\n",
        "# Non-vectorized approach\n",
        "def find_loop(arr):\n",
        "    result = []\n",
        "    for x in arr:\n",
        "        if x > 50 and x % 3 == 0:\n",
        "            result.append(x)\n",
        "    return result\n",
        "\n",
        "# Vectorized approach\n",
        "def find_vector(arr):\n",
        "    mask = (arr > 50) & (arr % 3 == 0)\n",
        "    return arr[mask]\n",
        "\n",
        "# Time the loop method\n",
        "start_time = time.time()\n",
        "result_loop = find_loop(arr)\n",
        "loop_time = time.time() - start_time\n",
        "print(f\"\nLoop method time: {loop_time:.6f} seconds\")\n",
        "\n",
        "# Time the vectorized method\n",
        "start_time = time.time()\n",
        "result_vector = find_vector(arr)\n",
        "vector_time = time.time() - start_time\n",
        "print(f\"Vectorized method time: {vector_time:.6f} seconds\")\n",
        "\n",
        "# Calculate speedup\n",
        "speedup = loop_time / vector_time\n",
        "print(f\"Vectorization is {speedup:.2f}x faster\")"
      ]
    }
  ]
}

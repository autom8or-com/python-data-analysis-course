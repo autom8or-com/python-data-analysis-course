{
  "cells": [
    {
      "cell_type": "markdown",
      "metadata": {
        "id": "header-section"
      },
      "source": [
        "# Python Data Structures - Practice Exercises\n",
        "\n",
        "## Week 1, Day 2 (Thursday) - April 10th, 2025\n",
        "\n",
        "In these exercises, you'll practice working with Python data structures that are essential for data analysis:\n",
        "- Lists and list comprehensions\n",
        "- Tuples\n",
        "- Dictionaries and dictionary comprehensions\n",
        "- Sets\n",
        "\n",
        "Complete each exercise in the code cells provided. Feel free to add more cells if needed."
      ]
    },
    {
      "cell_type": "markdown",
      "metadata": {
        "id": "lists-exercises"
      },
      "source": [
        "## Part 1: Lists\n",
        "\n",
        "### Exercise 1.1: Basic List Operations\n",
        "Create a list of the first 10 square numbers (1, 4, 9, 16, ...) and then:\n",
        "- Print the first 3 elements\n",
        "- Print the last 3 elements\n",
        "- Print every other element starting from the first"
      ]
    },
    {
      "cell_type": "code",
      "execution_count": null,
      "metadata": {
        "id": "exercise-1-1"
      },
      "outputs": [],
      "source": [
        "# Your solution here\n"
      ]
    },
    {
      "cell_type": "markdown",
      "metadata": {
        "id": "exercise-1-2"
      },
      "source": [
        "### Exercise 1.2: List Methods\n",
        "Start with the list `data = [3, 7, 2, 9, 5]` and perform the following operations in sequence:\n",
        "1. Append the value 11\n",
        "2. Insert the value 4 at index 2\n",
        "3. Sort the list\n",
        "4. Reverse the list\n",
        "5. Remove the value 9\n",
        "\n",
        "Print the list after each step."
      ]
    },
    {
      "cell_type": "code",
      "execution_count": null,
      "metadata": {
        "id": "exercise-1-2-code"
      },
      "outputs": [],
      "source": [
        "# Your solution here\n",
        "data = [3, 7, 2, 9, 5]\n"
      ]
    },
    {
      "cell_type": "markdown",
      "metadata": {
        "id": "exercise-1-3"
      },
      "source": [
        "### Exercise 1.3: List Comprehensions\n",
        "Use list comprehensions to create the following lists:\n",
        "1. A list of all even numbers from 1 to 20\n",
        "2. A list of the cubes of the first 10 positive integers\n",
        "3. A list of the first 10 multiples of 7\n",
        "4. A list containing the letters of the word \"Python\" in uppercase"
      ]
    },
    {
      "cell_type": "code",
      "execution_count": null,
      "metadata": {
        "id": "exercise-1-3-code"
      },
      "outputs": [],
      "source": [
        "# Your solution here\n"
      ]
    },
    {
      "cell_type": "markdown",
      "metadata": {
        "id": "exercise-1-4"
      },
      "source": [
        "### Exercise 1.4: Nested Lists\n",
        "You have sales data for a small store over 3 days, with each day's data stored as [day_number, total_sales, number_of_transactions]:\n",
        "```\n",
        "sales_data = [\n",
        "    [1, 1500.75, 25],\n",
        "    [2, 2100.50, 32],\n",
        "    [3, 1800.25, 28]\n",
        "]\n",
        "```\n",
        "\n",
        "Calculate and print:\n",
        "1. The total sales across all days\n",
        "2. The day with the highest sales\n",
        "3. The average number of transactions per day\n",
        "4. The average sale value per transaction for each day"
      ]
    },
    {
      "cell_type": "code",
      "execution_count": null,
      "metadata": {
        "id": "exercise-1-4-code"
      },
      "outputs": [],
      "source": [
        "# Your solution here\n",
        "sales_data = [\n",
        "    [1, 1500.75, 25],\n",
        "    [2, 2100.50, 32],\n",
        "    [3, 1800.25, 28]\n",
        "]\n"
      ]
    },
    {
      "cell_type": "markdown",
      "metadata": {
        "id": "tuples-exercises"
      },
      "source": [
        "## Part 2: Tuples\n",
        "\n",
        "### Exercise 2.1: Basic Tuple Operations\n",
        "Create a tuple containing the names of the months of the year. Then:\n",
        "- Print the first 3 months\n",
        "- Print the last 3 months\n",
        "- Print all months from April to August (inclusive)"
      ]
    },
    {
      "cell_type": "code",
      "execution_count": null,
      "metadata": {
        "id": "exercise-2-1-code"
      },
      "outputs": [],
      "source": [
        "# Your solution here\n"
      ]
    },
    {
      "cell_type": "markdown",
      "metadata": {
        "id": "exercise-2-2"
      },
      "source": [
        "### Exercise 2.2: Tuple Unpacking\n",
        "You have a list of employee records, where each record is a tuple containing (name, department, salary).\n",
        "```\n",
        "employees = [\n",
        "    (\"Alice Johnson\", \"Engineering\", 85000),\n",
        "    (\"Bob Smith\", \"Marketing\", 70000),\n",
        "    (\"Charlie Davis\", \"Engineering\", 90000),\n",
        "    (\"Diana Wilson\", \"HR\", 65000),\n",
        "    (\"Edward Brown\", \"Marketing\", 75000)\n",
        "]\n",
        "```\n",
        "\n",
        "Use tuple unpacking in a loop to print each employee's details in a formatted string like: \"Alice Johnson works in Engineering and earns $85,000 per year.\""
      ]
    },
    {
      "cell_type": "code",
      "execution_count": null,
      "metadata": {
        "id": "exercise-2-2-code"
      },
      "outputs": [],
      "source": [
        "# Your solution here\n",
        "employees = [\n",
        "    (\"Alice Johnson\", \"Engineering\", 85000),\n",
        "    (\"Bob Smith\", \"Marketing\", 70000),\n",
        "    (\"Charlie Davis\", \"Engineering\", 90000),\n",
        "    (\"Diana Wilson\", \"HR\", 65000),\n",
        "    (\"Edward Brown\", \"Marketing\", 75000)\n",
        "]\n"
      ]
    },
    {
      "cell_type": "markdown",
      "metadata": {
        "id": "exercise-2-3"
      },
      "source": [
        "### Exercise 2.3: Creating Tuples\n",
        "You have lists of city data:\n",
        "```\n",
        "names = [\"New York\", \"London\", \"Tokyo\", \"Paris\", \"Sydney\"]\n",
        "populations = [8.4, 8.9, 13.9, 2.2, 5.3]  # In millions\n",
        "countries = [\"USA\", \"UK\", \"Japan\", \"France\", \"Australia\"]\n",
        "```\n",
        "\n",
        "1. Use the `zip` function to create a list of city tuples, where each tuple contains (name, population, country)\n",
        "2. Find and print the city with the highest population\n",
        "3. Sort the cities by name and print the result"
      ]
    },
    {
      "cell_type": "code",
      "execution_count": null,
      "metadata": {
        "id": "exercise-2-3-code"
      },
      "outputs": [],
      "source": [
        "# Your solution here\n",
        "names = [\"New York\", \"London\", \"Tokyo\", \"Paris\", \"Sydney\"]\n",
        "populations = [8.4, 8.9, 13.9, 2.2, 5.3]  # In millions\n",
        "countries = [\"USA\", \"UK\", \"Japan\", \"France\", \"Australia\"]\n"
      ]
    },
    {
      "cell_type": "markdown",
      "metadata": {
        "id": "dictionaries-exercises"
      },
      "source": [
        "## Part 3: Dictionaries\n",
        "\n",
        "### Exercise 3.1: Basic Dictionary Operations\n",
        "Create a dictionary to store information about a person (name, age, city, job). Then:\n",
        "- Add a new key for \"email\"\n",
        "- Update the age value\n",
        "- Check if \"salary\" is a key in the dictionary\n",
        "- Get the value for \"phone\" with a default value of \"Not available\"\n",
        "- Remove the \"city\" key and print its value"
      ]
    },
    {
      "cell_type": "code",
      "execution_count": null,
      "metadata": {
        "id": "exercise-3-1-code"
      },
      "outputs": [],
      "source": [
        "# Your solution here\n"
      ]
    },
    {
      "cell_type": "markdown",
      "metadata": {
        "id": "exercise-3-2"
      },
      "source": [
        "### Exercise 3.2: Dictionary Iteration\n",
        "You have a dictionary of student scores:\n",
        "```\n",
        "student_scores = {\n",
        "    \"Alice\": {\"Math\": 95, \"Science\": 88, \"English\": 92},\n",
        "    \"Bob\": {\"Math\": 85, \"Science\": 94, \"English\": 82},\n",
        "    \"Charlie\": {\"Math\": 90, \"Science\": 91, \"English\": 88},\n",
        "    \"Diana\": {\"Math\": 92, \"Science\": 83, \"English\": 95}\n",
        "}\n",
        "```\n",
        "\n",
        "1. Calculate and print each student's average score\n",
        "2. Find and print the student with the highest average score\n",
        "3. Calculate and print the class average for each subject"
      ]
    },
    {
      "cell_type": "code",
      "execution_count": null,
      "metadata": {
        "id": "exercise-3-2-code"
      },
      "outputs": [],
      "source": [
        "# Your solution here\n",
        "student_scores = {\n",
        "    \"Alice\": {\"Math\": 95, \"Science\": 88, \"English\": 92},\n",
        "    \"Bob\": {\"Math\": 85, \"Science\": 94, \"English\": 82},\n",
        "    \"Charlie\": {\"Math\": 90, \"Science\": 91, \"English\": 88},\n",
        "    \"Diana\": {\"Math\": 92, \"Science\": 83, \"English\": 95}\n",
        "}\n"
      ]
    },
    {
      "cell_type": "markdown",
      "metadata": {
        "id": "exercise-3-3"
      },
      "source": [
        "### Exercise 3.3: Dictionary Comprehensions\n",
        "Use dictionary comprehensions to create the following dictionaries:\n",
        "1. A dictionary mapping numbers 1-10 to their cubes\n",
        "2. A dictionary mapping names in the list `[\"apple\", \"banana\", \"cherry\", \"date\", \"elderberry\"]` to their lengths\n",
        "3. A dictionary filtering out items from `{\"a\": 1, \"b\": 2, \"c\": 3, \"d\": 4, \"e\": 5}` where the value is even\n",
        "4. A dictionary that inverts the key-value pairs in `{\"red\": \"#FF0000\", \"green\": \"#00FF00\", \"blue\": \"#0000FF\"}`"
      ]
    },
    {
      "cell_type": "code",
      "execution_count": null,
      "metadata": {
        "id": "exercise-3-3-code"
      },
      "outputs": [],
      "source": [
        "# Your solution here\n"
      ]
    },
    {
      "cell_type": "markdown",
      "metadata": {
        "id": "sets-exercises"
      },
      "source": [
        "## Part 4: Sets\n",
        "\n",
        "### Exercise 4.1: Basic Set Operations\n",
        "Create two sets:\n",
        "- `set_a` containing even numbers from 2 to 20\n",
        "- `set_b` containing multiples of 3 from 3 to 30\n",
        "\n",
        "Calculate and print:\n",
        "1. The union of the two sets\n",
        "2. The intersection of the two sets\n",
        "3. Elements that are in `set_a` but not in `set_b`\n",
        "4. Elements that are in exactly one of the sets (symmetric difference)"
      ]
    },
    {
      "cell_type": "code",
      "execution_count": null,
      "metadata": {
        "id": "exercise-4-1-code"
      },
      "outputs": [],
      "source": [
        "# Your solution here\n"
      ]
    },
    {
      "cell_type": "markdown",
      "metadata": {
        "id": "exercise-4-2"
      },
      "source": [
        "### Exercise 4.2: Practical Set Applications\n",
        "You have two lists of customer IDs:\n",
        "```\n",
        "customers_2023 = [\"C001\", \"C002\", \"C003\", \"C004\", \"C005\", \"C006\"]\n",
        "customers_2024 = [\"C003\", \"C004\", \"C005\", \"C007\", \"C008\"]\n",
        "```\n",
        "\n",
        "Use sets to find:\n",
        "1. All unique customers across both years\n",
        "2. Customers who made purchases in both years\n",
        "3. Customers who made purchases in 2023 but not in 2024\n",
        "4. Customers who made purchases in 2024 but not in 2023\n",
        "5. The percentage of customers from 2023 who continued to make purchases in 2024"
      ]
    },
    {
      "cell_type": "code",
      "execution_count": null,
      "metadata": {
        "id": "exercise-4-2-code"
      },
      "outputs": [],
      "source": [
        "# Your solution here\n",
        "customers_2023 = [\"C001\", \"C002\", \"C003\", \"C004\", \"C005\", \"C006\"]\n",
        "customers_2024 = [\"C003\", \"C004\", \"C005\", \"C007\", \"C008\"]\n"
      ]
    },
    {
      "cell_type": "markdown",
      "metadata": {
        "id": "exercise-4-3"
      },
      "source": [
        "### Exercise 4.3: Set Comprehensions\n",
        "Use set comprehensions to create the following sets:\n",
        "1. A set of squares of numbers from 1 to 15\n",
        "2. A set of all uppercase letters in the string \"Python Programming is Fun\"\n",
        "3. A set of all numbers from 1 to 50 that are divisible by both 3 and 5"
      ]
    },
    {
      "cell_type": "code",
      "execution_count": null,
      "metadata": {
        "id": "exercise-4-3-code"
      },
      "outputs": [],
      "source": [
        "# Your solution here\n"
      ]
    },
    {
      "cell_type": "markdown",
      "metadata": {
        "id": "combined-exercise"
      },
      "source": [
        "## Part 5: Combined Data Structures\n",
        "\n",
        "### Exercise 5.1: E-commerce Data Analysis\n",
        "You have a list of order data for an e-commerce site:\n",
        "```\n",
        "orders = [\n",
        "    {\"order_id\": \"ORD001\", \"customer_id\": \"C101\", \"product_id\": \"P123\", \"quantity\": 2, \"price\": 29.99},\n",
        "    {\"order_id\": \"ORD002\", \"customer_id\": \"C102\", \"product_id\": \"P125\", \"quantity\": 1, \"price\": 49.99},\n",
        "    {\"order_id\": \"ORD003\", \"customer_id\": \"C101\", \"product_id\": \"P125\", \"quantity\": 1, \"price\": 49.99},\n",
        "    {\"order_id\": \"ORD004\", \"customer_id\": \"C103\", \"product_id\": \"P123\", \"quantity\": 3, \"price\": 29.99},\n",
        "    {\"order_id\": \"ORD005\", \"customer_id\": \"C102\", \"product_id\": \"P126\", \"quantity\": 2, \"price\": 19.99},\n",
        "    {\"order_id\": \"ORD006\", \"customer_id\": \"C104\", \"product_id\": \"P123\", \"quantity\": 1, \"price\": 29.99},\n",
        "    {\"order_id\": \"ORD007\", \"customer_id\": \"C101\", \"product_id\": \"P126\", \"quantity\": 3, \"price\": 19.99}\n",
        "]\n",
        "\n",
        "products = {\n",
        "    \"P123\": {\"name\": \"Premium Headphones\", \"category\": \"Electronics\"},\n",
        "    \"P125\": {\"name\": \"Wireless Keyboard\", \"category\": \"Electronics\"},\n",
        "    \"P126\": {\"name\": \"Mouse Pad\", \"category\": \"Accessories\"}\n",
        "}\n",
        "```\n",
        "\n",
        "Perform the following analyses:\n",
        "1. Calculate the total revenue per product\n",
        "2. Identify the customer with the highest total spending\n",
        "3. Calculate the average order value by product category\n",
        "4. Find the most popular product (by quantity sold)\n",
        "5. Create a dictionary mapping customer IDs to the list of unique products they purchased"
      ]
    },
    {
      "cell_type": "code",
      "execution_count": null,
      "metadata": {
        "id": "exercise-5-1-code"
      },
      "outputs": [],
      "source": [
        "# Your solution here\n",
        "orders = [\n",
        "    {\"order_id\": \"ORD001\", \"customer_id\": \"C101\", \"product_id\": \"P123\", \"quantity\": 2, \"price\": 29.99},\n",
        "    {\"order_id\": \"ORD002\", \"customer_id\": \"C102\", \"product_id\": \"P125\", \"quantity\": 1, \"price\": 49.99},\n",
        "    {\"order_id\": \"ORD003\", \"customer_id\": \"C101\", \"product_id\": \"P125\", \"quantity\": 1, \"price\": 49.99},\n",
        "    {\"order_id\": \"ORD004\", \"customer_id\": \"C103\", \"product_id\": \"P123\", \"quantity\": 3, \"price\": 29.99},\n",
        "    {\"order_id\": \"ORD005\", \"customer_id\": \"C102\", \"product_id\": \"P126\", \"quantity\": 2, \"price\": 19.99},\n",
        "    {\"order_id\": \"ORD006\", \"customer_id\": \"C104\", \"product_id\": \"P123\", \"quantity\": 1, \"price\": 29.99},\n",
        "    {\"order_id\": \"ORD007\", \"customer_id\": \"C101\", \"product_id\": \"P126\", \"quantity\": 3, \"price\": 19.99}\n",
        "]\n",
        "\n",
        "products = {\n",
        "    \"P123\": {\"name\": \"Premium Headphones\", \"category\": \"Electronics\"},\n",
        "    \"P125\": {\"name\": \"Wireless Keyboard\", \"category\": \"Electronics\"},\n",
        "    \"P126\": {\"name\": \"Mouse Pad\", \"category\": \"Accessories\"}\n",
        "}\n"
      ]
    },
    {
      "cell_type": "markdown",
      "metadata": {
        "id": "challenge-exercise"
      },
      "source": [
        "## Challenge Exercise\n",
        "\n",
        "### Exercise 6.1: Data Transformation\n",
        "You have weather data for a week, stored as a list of dictionaries:\n",
        "```\n",
        "weather_data = [\n",
        "    {\"date\": \"2025-04-01\", \"city\": \"New York\", \"temperature\": 65, \"conditions\": \"Sunny\"},\n",
        "    {\"date\": \"2025-04-01\", \"city\": \"Los Angeles\", \"temperature\": 78, \"conditions\": \"Sunny\"},\n",
        "    {\"date\": \"2025-04-01\", \"city\": \"Chicago\", \"temperature\": 52, \"conditions\": \"Partly Cloudy\"},\n",
        "    {\"date\": \"2025-04-02\", \"city\": \"New York\", \"temperature\": 61, \"conditions\": \"Rainy\"},\n",
        "    {\"date\": \"2025-04-02\", \"city\": \"Los Angeles\", \"temperature\": 76, \"conditions\": \"Sunny\"},\n",
        "    {\"date\": \"2025-04-02\", \"city\": \"Chicago\", \"temperature\": 48, \"conditions\": \"Rainy\"},\n",
        "    {\"date\": \"2025-04-03\", \"city\": \"New York\", \"temperature\": 70, \"conditions\": \"Sunny\"},\n",
        "    {\"date\": \"2025-04-03\", \"city\": \"Los Angeles\", \"temperature\": 75, \"conditions\": \"Partly Cloudy\"},\n",
        "    {\"date\": \"2025-04-03\", \"city\": \"Chicago\", \"temperature\": 56, \"conditions\": \"Sunny\"}\n",
        "]\n",
        "```\n",
        "\n",
        "Transform this data into the following structures:\n",
        "1. A dictionary where keys are cities and values are lists of temperature readings\n",
        "2. A dictionary where keys are dates and values are dictionaries mapping each city to its temperature on that date\n",
        "3. A nested dictionary structure like this: `{city: {date: {\"temperature\": temp, \"conditions\": cond}}}`\n",
        "4. A dictionary mapping each weather condition to the set of cities that experienced that condition at least once\n",
        "5. A list of tuples (city, avg_temp) containing each city and its average temperature over the period, sorted from highest to lowest average temperature"
      ]
    },
    {
      "cell_type": "code",
      "execution_count": null,
      "metadata": {
        "id": "challenge-code"
      },
      "outputs": [],
      "source": [
        "# Your solution here\n",
        "weather_data = [\n",
        "    {\"date\": \"2025-04-01\", \"city\": \"New York\", \"temperature\": 65, \"conditions\": \"Sunny\"},\n",
        "    {\"date\": \"2025-04-01\", \"city\": \"Los Angeles\", \"temperature\": 78, \"conditions\": \"Sunny\"},\n",
        "    {\"date\": \"2025-04-01\", \"city\": \"Chicago\", \"temperature\": 52, \"conditions\": \"Partly Cloudy\"},\n",
        "    {\"date\": \"2025-04-02\", \"city\": \"New York\", \"temperature\": 61, \"conditions\": \"Rainy\"},\n",
        "    {\"date\": \"2025-04-02\", \"city\": \"Los Angeles\", \"temperature\": 76, \"conditions\": \"Sunny\"},\n",
        "    {\"date\": \"2025-04-02\", \"city\": \"Chicago\", \"temperature\": 48, \"conditions\": \"Rainy\"},\n",
        "    {\"date\": \"2025-04-03\", \"city\": \"New York\", \"temperature\": 70, \"conditions\": \"Sunny\"},\n",
        "    {\"date\": \"2025-04-03\", \"city\": \"Los Angeles\", \"temperature\": 75, \"conditions\": \"Partly Cloudy\"},\n",
        "    {\"date\": \"2025-04-03\", \"city\": \"Chicago\", \"temperature\": 56, \"conditions\": \"Sunny\"}\n",
        "]\n"
      ]
    },
    {
      "cell_type": "markdown",
      "metadata": {
        "id": "closing"
      },
      "source": [
        "## Good Work!\n",
        "\n",
        "You've completed the practice exercises for Python data structures. These skills will be essential as we move forward in the course and begin working with more complex data and the pandas library.\n",
        "\n",
        "In tomorrow's assignment, you'll apply these concepts to real-world data from the Olist E-commerce dataset."
      ]
    }
  ],
  "metadata": {
    "colab": {
      "provenance": [],
      "toc_visible": true
    },
    "kernelspec": {
      "display_name": "Python 3",
      "name": "python3"
    }
  },
  "nbformat": 4,
  "nbformat_minor": 0
}

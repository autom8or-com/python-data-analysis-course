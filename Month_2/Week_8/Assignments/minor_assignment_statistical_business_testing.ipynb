{
 "cells": [
  {
   "cell_type": "markdown",
   "metadata": {
    "id": "assignment_header"
   },
   "source": [
    "# Week 8 Minor Assignment: Statistical Business Testing\n",
    "\n",
    "## Assignment Overview\n",
    "Apply statistical testing techniques to real business scenarios using the Olist e-commerce dataset. You will conduct hypothesis tests, interpret results, and provide business recommendations.\n",
    "\n",
    "## Learning Objectives\n",
    "By completing this assignment, you will:\n",
    "- Apply appropriate statistical tests to business questions\n",
    "- Interpret p-values and effect sizes in business context\n",
    "- Handle multiple comparison problems\n",
    "- Communicate statistical findings to business stakeholders\n",
    "- Make data-driven business recommendations\n",
    "\n",
    "## Submission Requirements\n",
    "- Complete all sections with your code and analysis\n",
    "- Provide business interpretations for all statistical tests\n",
    "- Include at least 3 specific business recommendations\n",
    "- Submit as a .ipynb file with all outputs visible"
   ]
  },
  {
   "cell_type": "markdown",
   "metadata": {
    "id": "setup_section"
   },
   "source": [
    "## Section 1: Environment Setup (10 points)\n",
    "\n",
    "Set up your environment and establish database connection."
   ]
  },
  {
   "cell_type": "code",
   "execution_count": null,
   "metadata": {
    "id": "setup_code"
   },
   "outputs": [],
   "source": [
    "# TODO: Import necessary libraries\n",
    "# Include: pandas, numpy, matplotlib, seaborn, scipy.stats, statsmodels\n",
    "# Also include database connectivity libraries\n",
    "\n",
    "# Your code here\n"
   ]
  },
  {
   "cell_type": "code",
   "execution_count": null,
   "metadata": {
    "id": "db_connection"
   },
   "outputs": [],
   "source": [
    "# TODO: Set up database connection\n",
    "# Use environment variables for credentials\n",
    "# Test your connection\n",
    "\n",
    "# Your code here\n"
   ]
  },
  {
   "cell_type": "markdown",
   "metadata": {
    "id": "business_question_1"
   },
   "source": [
    "## Section 2: Regional Customer Satisfaction Analysis (25 points)\n",
    "\n",
    "**Business Question**: Does customer satisfaction vary significantly across Brazilian regions?\n",
    "\n",
    "**Your Tasks**:\n",
    "1. Load customer satisfaction data by region\n",
    "2. Perform appropriate statistical test\n",
    "3. Calculate effect size\n",
    "4. Provide business interpretation and recommendations"
   ]
  },
  {
   "cell_type": "code",
   "execution_count": null,
   "metadata": {
    "id": "satisfaction_data_load"
   },
   "outputs": [],
   "source": [
    "# TODO: Write SQL query to load regional satisfaction data\n",
    "# Include: customer region, review scores, order characteristics\n",
    "# Map states to regions (Southeast, South, Northeast, etc.)\n",
    "\n",
    "query = \"\"\"\n",
    "-- Your SQL query here\n",
    "-- Hint: Join customers, orders, reviews, and map states to regions\n",
    "\"\"\"\n",
    "\n",
    "# Your code here\n"
   ]
  },
  {
   "cell_type": "code",
   "execution_count": null,
   "metadata": {
    "id": "satisfaction_analysis"
   },
   "outputs": [],
   "source": [
    "# TODO: Perform statistical analysis\n",
    "# 1. Check assumptions (normality, equal variance)\n",
    "# 2. Choose appropriate test (ANOVA or Kruskal-Wallis)\n",
    "# 3. Calculate effect size\n",
    "# 4. If significant, perform post-hoc tests\n",
    "\n",
    "# Your code here\n"
   ]
  },
  {
   "cell_type": "markdown",
   "metadata": {
    "id": "satisfaction_interpretation"
   },
   "source": [
    "### Business Interpretation (Section 2)\n",
    "\n",
    "**TODO**: Write your business interpretation here:\n",
    "- What do the statistical results mean for the business?\n",
    "- Which regions show higher/lower satisfaction?\n",
    "- What actions should the company take based on these findings?\n",
    "\n",
    "*Your interpretation here (3-5 sentences)*"
   ]
  },
  {
   "cell_type": "markdown",
   "metadata": {
    "id": "business_question_2"
   },
   "source": [
    "## Section 3: Product Category Performance Testing (25 points)\n",
    "\n",
    "**Business Question**: Do certain product categories have significantly different delivery times?\n",
    "\n",
    "**Your Tasks**:\n",
    "1. Load delivery time data for top 5 product categories\n",
    "2. Test for significant differences in delivery times\n",
    "3. Identify categories with fastest/slowest delivery\n",
    "4. Recommend operational improvements"
   ]
  },
  {
   "cell_type": "code",
   "execution_count": null,
   "metadata": {
    "id": "delivery_data_load"
   },
   "outputs": [],
   "source": [
    "# TODO: Load delivery time data by product category\n",
    "# Calculate delivery days as difference between purchase and delivery dates\n",
    "# Focus on top 5 categories by order volume\n",
    "\n",
    "# Your code here\n"
   ]
  },
  {
   "cell_type": "code",
   "execution_count": null,
   "metadata": {
    "id": "delivery_analysis"
   },
   "outputs": [],
   "source": [
    "# TODO: Perform statistical analysis on delivery times\n",
    "# 1. Visualize delivery time distributions by category\n",
    "# 2. Test for significant differences\n",
    "# 3. Calculate practical effect sizes\n",
    "# 4. Identify best and worst performing categories\n",
    "\n",
    "# Your code here\n"
   ]
  },
  {
   "cell_type": "markdown",
   "metadata": {
    "id": "delivery_interpretation"
   },
   "source": [
    "### Business Interpretation (Section 3)\n",
    "\n",
    "**TODO**: Write your business interpretation here:\n",
    "- Which categories have significantly different delivery times?\n",
    "- What might explain these differences?\n",
    "- What operational changes would you recommend?\n",
    "\n",
    "*Your interpretation here (3-5 sentences)*"
   ]
  },
  {
   "cell_type": "markdown",
   "metadata": {
    "id": "business_question_3"
   },
   "source": [
    "## Section 4: A/B Testing Simulation (25 points)\n",
    "\n",
    "**Business Scenario**: The company wants to test whether a new payment method recommendation system increases average order value.\n",
    "\n",
    "**Your Tasks**:\n",
    "1. Simulate A/B test data (control vs. treatment groups)\n",
    "2. Test for significant difference in order values\n",
    "3. Calculate confidence intervals\n",
    "4. Estimate business impact of the change"
   ]
  },
  {
   "cell_type": "code",
   "execution_count": null,
   "metadata": {
    "id": "ab_test_setup"
   },
   "outputs": [],
   "source": [
    "# TODO: Load order value data and simulate A/B test\n",
    "# 1. Load recent order data\n",
    "# 2. Randomly assign orders to control (A) and treatment (B) groups\n",
    "# 3. Simulate a 5% improvement in treatment group order values\n",
    "# 4. Add realistic noise to the simulation\n",
    "\n",
    "# Your code here\n"
   ]
  },
  {
   "cell_type": "code",
   "execution_count": null,
   "metadata": {
    "id": "ab_test_analysis"
   },
   "outputs": [],
   "source": [
    "# TODO: Analyze A/B test results\n",
    "# 1. Perform two-sample t-test\n",
    "# 2. Calculate confidence intervals for the difference\n",
    "# 3. Calculate effect size (Cohen's d)\n",
    "# 4. Estimate monthly/annual revenue impact\n",
    "\n",
    "# Your code here\n"
   ]
  },
  {
   "cell_type": "markdown",
   "metadata": {
    "id": "ab_test_interpretation"
   },
   "source": [
    "### Business Interpretation (Section 4)\n",
    "\n",
    "**TODO**: Write your business interpretation here:\n",
    "- Is the difference statistically significant?\n",
    "- What is the estimated revenue impact?\n",
    "- Would you recommend implementing the new system?\n",
    "- What additional considerations should be made?\n",
    "\n",
    "*Your interpretation here (4-6 sentences)*"
   ]
  },
  {
   "cell_type": "markdown",
   "metadata": {
    "id": "business_question_4"
   },
   "source": [
    "## Section 5: Customer Behavior Analysis (15 points)\n",
    "\n",
    "**Business Question**: Is there a relationship between customer location (urban vs. non-urban) and purchasing behavior?\n",
    "\n",
    "**Your Tasks**:\n",
    "1. Classify customers as urban vs. non-urban based on state\n",
    "2. Compare average order values between groups\n",
    "3. Test for association between location and high-value purchases\n",
    "4. Provide marketing recommendations"
   ]
  },
  {
   "cell_type": "code",
   "execution_count": null,
   "metadata": {
    "id": "urban_analysis"
   },
   "outputs": [],
   "source": [
    "# TODO: Analyze urban vs. non-urban customer behavior\n",
    "# 1. Load customer and order data\n",
    "# 2. Classify states as urban (SP, RJ) vs. non-urban (others)\n",
    "# 3. Compare order values and purchasing patterns\n",
    "# 4. Perform appropriate statistical tests\n",
    "\n",
    "# Your code here\n"
   ]
  },
  {
   "cell_type": "markdown",
   "metadata": {
    "id": "urban_interpretation"
   },
   "source": [
    "### Business Interpretation (Section 5)\n",
    "\n",
    "**TODO**: Write your business interpretation here:\n",
    "- Do urban and non-urban customers behave differently?\n",
    "- What marketing strategies would you recommend for each group?\n",
    "\n",
    "*Your interpretation here (2-3 sentences)*"
   ]
  },
  {
   "cell_type": "markdown",
   "metadata": {
    "id": "business_recommendations"
   },
   "source": [
    "## Section 6: Executive Summary and Business Recommendations\n",
    "\n",
    "**TODO**: Provide a comprehensive executive summary of your findings and recommendations.\n",
    "\n",
    "### Key Findings Summary\n",
    "*Summarize the main statistical findings from all sections (3-4 bullet points)*\n",
    "\n",
    "### Business Recommendations\n",
    "*Provide at least 3 specific, actionable business recommendations based on your analysis*\n",
    "\n",
    "1. **Recommendation 1**: *Your recommendation here*\n",
    "   - *Rationale based on your statistical analysis*\n",
    "   - *Expected business impact*\n",
    "\n",
    "2. **Recommendation 2**: *Your recommendation here*\n",
    "   - *Rationale based on your statistical analysis*\n",
    "   - *Expected business impact*\n",
    "\n",
    "3. **Recommendation 3**: *Your recommendation here*\n",
    "   - *Rationale based on your statistical analysis*\n",
    "   - *Expected business impact*\n",
    "\n",
    "### Statistical Methodology Notes\n",
    "*Briefly explain the statistical methods you used and why they were appropriate for each business question*\n",
    "\n",
    "### Limitations and Future Analysis\n",
    "*Identify any limitations in your analysis and suggest areas for future investigation*"
   ]
  },
  {
   "cell_type": "markdown",
   "metadata": {
    "id": "grading_rubric"
   },
   "source": [
    "## Grading Rubric\n",
    "\n",
    "| Component | Points | Criteria |\n",
    "|-----------|--------|-----------|\n",
    "| Environment Setup | 10 | Proper imports, database connection, code organization |\n",
    "| Regional Satisfaction Analysis | 25 | Correct statistical test, interpretation, business insights |\n",
    "| Category Delivery Analysis | 25 | Appropriate methodology, clear visualizations, actionable findings |\n",
    "| A/B Testing Simulation | 25 | Proper experimental design, statistical analysis, business impact |\n",
    "| Customer Behavior Analysis | 15 | Correct classification, statistical testing, marketing insights |\n",
    "| **Total** | **100** | |\n",
    "\n",
    "### Additional Evaluation Criteria:\n",
    "- **Code Quality**: Clean, well-commented code with appropriate error handling\n",
    "- **Statistical Rigor**: Proper test selection, assumption checking, multiple comparison correction\n",
    "- **Business Relevance**: Clear connection between statistical results and business implications\n",
    "- **Communication**: Clear explanations that non-technical stakeholders could understand\n",
    "\n",
    "### Submission Guidelines:\n",
    "1. Ensure all code cells have been executed and outputs are visible\n",
    "2. Include your name and date at the top of the notebook\n",
    "3. Save as both .ipynb and .pdf formats\n",
    "4. Submit by [Assignment Due Date]\n",
    "\n",
    "**Note**: Use appropriate significance levels (α = 0.05) and always check statistical assumptions before applying tests. When assumptions are violated, use appropriate non-parametric alternatives or transformations."
   ]
  }
 ],
 "metadata": {
  "colab": {
   "provenance": []
  },
  "kernelspec": {
   "display_name": "Python 3",
   "language": "python",
   "name": "python3"
  },
  "language_info": {
   "codemirror_mode": {
    "name": "ipython",
    "version": 3
   },
   "file_extension": ".py",
   "mimetype": "text/x-python",
   "name": "python",
   "nbconvert_exporter": "python",
   "pygments_lexer": "ipython3",
   "version": "3.8.5"
  }
 },
 "nbformat": 4,
 "nbformat_minor": 0
}
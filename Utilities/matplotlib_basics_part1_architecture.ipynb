{
 "cells": [
  {
   "cell_type": "code",
   "execution_count": 1,
   "id": "724b69a5",
   "metadata": {},
   "outputs": [],
   "source": [
    "import json\n",
    "import nbformat\n",
    "from nbformat import NotebookNode\n",
    "\n",
    "def json_to_ipynb(input_data, output_path=\"output_notebook.ipynb\"):\n",
    "    \"\"\"\n",
    "    Converts JSON-formatted IPython notebook data to a .ipynb file.\n",
    "\n",
    "    Parameters:\n",
    "    - input_data: str (path to .json file or raw JSON string), or dict\n",
    "    - output_path: str, path to save the .ipynb file\n",
    "    \"\"\"\n",
    "    if isinstance(input_data, dict):\n",
    "        nb_dict = input_data\n",
    "    elif isinstance(input_data, str):\n",
    "        try:\n",
    "            # Try reading as a file path\n",
    "            with open(input_data, \"r\", encoding=\"utf-8\") as f:\n",
    "                nb_dict = json.load(f)\n",
    "        except FileNotFoundError:\n",
    "            # If not a file path, treat as raw JSON string\n",
    "            nb_dict = json.loads(input_data)\n",
    "    else:\n",
    "        raise TypeError(\"input_data must be a dict, JSON string, or file path\")\n",
    "\n",
    "    # Convert to a NotebookNode object\n",
    "    nb_node = nbformat.from_dict(nb_dict)\n",
    "\n",
    "    # Write to .ipynb\n",
    "    with open(output_path, \"w\", encoding=\"utf-8\") as f:\n",
    "        nbformat.write(nb_node, f)\n",
    "\n",
    "    print(f\"Notebook written to {output_path}\")\n",
    "\n",
    "# Example usage:\n",
    "# json_to_ipynb(\"notebook.json\")  # from file\n",
    "# json_to_ipynb(json_string)      # from JSON string\n",
    "# json_to_ipynb(json_object)      # from dict\n"
   ]
  },
  {
   "cell_type": "code",
   "execution_count": 5,
   "id": "c2cafbed",
   "metadata": {},
   "outputs": [
    {
     "name": "stdout",
     "output_type": "stream",
     "text": [
      "Notebook written to 01_matplotlib_basics_part3_architecture.ipynb\n"
     ]
    }
   ],
   "source": [
    "json_to_ipynb(r\"C:\\Users\\HP\\Downloads\\matplotlib_customization_notebook.json\", \"01_matplotlib_basics_part3_architecture.ipynb\") "
   ]
  }
 ],
 "metadata": {
  "kernelspec": {
   "display_name": ".venv (3.13.2)",
   "language": "python",
   "name": "python3"
  },
  "language_info": {
   "codemirror_mode": {
    "name": "ipython",
    "version": 3
   },
   "file_extension": ".py",
   "mimetype": "text/x-python",
   "name": "python",
   "nbconvert_exporter": "python",
   "pygments_lexer": "ipython3",
   "version": "3.13.2"
  }
 },
 "nbformat": 4,
 "nbformat_minor": 5
}

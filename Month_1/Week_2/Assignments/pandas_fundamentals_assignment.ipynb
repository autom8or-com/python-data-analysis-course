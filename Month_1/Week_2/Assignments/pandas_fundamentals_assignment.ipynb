{
 "cells": [
  {
   "cell_type": "markdown",
   "metadata": {},
   "source": [
    "# Python for Data Analysis - Week 2\n",
    "## Major Group Assignment: Pandas Fundamentals I\n",
    "\n",
    "**Due Date:** Thursday, April 24, 2025\n",
    "\n",
    "### Overview\n",
    "In this assignment, you will work in groups of 3-4 students to explore and analyze an e-commerce dataset using Pandas. This assignment will allow you to apply the fundamental pandas concepts covered in Week 2, particularly focusing on DataFrame creation, column selection, row filtering, and translating SQL queries to pandas code.\n",
    "\n",
    "### Learning Objectives\n",
    "By completing this assignment, you will be able to:\n",
    "- Load and inspect data using pandas\n",
    "- Select and filter data using pandas methods\n",
    "- Create derived columns and manipulate DataFrame structure\n",
    "- Translate SQL queries into equivalent pandas operations\n",
    "- Perform basic data analysis using pandas\n",
    "\n",
    "### Dataset\n",
    "You will be working with an e-commerce sales dataset containing information about orders, products, customers, and transactions. The dataset is available in the `Data` folder as `ecommerce_sales.csv`.\n",
    "\n",
    "### Assignment Structure\n",
    "This assignment is divided into five parts:\n",
    "1. Data Loading and Inspection\n",
    "2. Basic DataFrame Operations\n",
    "3. Selection and Filtering\n",
    "4. SQL to Pandas Translation\n",
    "5. Data Analysis Challenge\n",
    "\n",
    "### Submission Guidelines\n",
    "- Submit your completed notebook via the course portal\n",
    "- Include the names of all team members in the notebook\n",
    "- Ensure all code cells are executed and outputs are visible\n",
    "- Add comments to explain your code and reasoning\n",
    "\n",
    "### Grading Criteria\n",
    "- Correctness of code: 60%\n",
    "- Code efficiency and best practices: 20%\n",
    "- Analysis and interpretation: 15%\n",
    "- Code documentation: 5%\n",
    "\n",
    "Let's begin!"
   ]
  },
  {
   "cell_type": "markdown",
   "metadata": {},
   "source": [
    "## Team Information\n",
    "\n",
    "**Team Members:**\n",
    "1. \n",
    "2. \n",
    "3. \n",
    "4. "
   ]
  },
  {
   "cell_type": "markdown",
   "metadata": {},
   "source": [
    "## Setup\n",
    "\n",
    "First, let's import the necessary libraries and set up our environment."
   ]
  },
  {
   "cell_type": "code",
   "execution_count": null,
   "metadata": {},
   "outputs": [],
   "source": [
    "# Import libraries\n",
    "import pandas as pd\n",
    "import numpy as np\n",
    "import matplotlib.pyplot as plt\n",
    "\n",
    "# Set pandas display options\n",
    "pd.set_option('display.max_columns', None)\n",
    "pd.set_option('display.max_rows', 50)\n",
    "pd.set_option('display.width', 1000)\n",
    "\n",
    "# For plotting in the notebook\n",
    "%matplotlib inline"
   ]
  },
  {
   "cell_type": "markdown",
   "metadata": {},
   "source": [
    "## Part 1: Data Loading and Inspection (15 points)\n",
    "\n",
    "### 1.1 Load the Dataset\n",
    "\n",
    "Load the e-commerce sales dataset (`ecommerce_sales.csv`) into a pandas DataFrame."
   ]
  },
  {
   "cell_type": "code",
   "execution_count": null,
   "metadata": {},
   "outputs": [],
   "source": [
    "# Load the dataset\n",
    "# Your code here"
   ]
  },
  {
   "cell_type": "markdown",
   "metadata": {},
   "source": [
    "### 1.2 Inspect the Dataset\n",
    "\n",
    "Perform a thorough inspection of the dataset to understand its structure and content. Answer the following questions:\n",
    "\n",
    "1. How many rows and columns does the dataset have?\n",
    "2. What are the column names and their data types?\n",
    "3. Are there any missing values in the dataset?\n",
    "4. What is the time range of the orders in the dataset?\n",
    "5. What are the different product categories in the dataset?"
   ]
  },
  {
   "cell_type": "code",
   "execution_count": null,
   "metadata": {},
   "outputs": [],
   "source": [
    "# Display the first few rows of the dataset\n",
    "# Your code here"
   ]
  },
  {
   "cell_type": "code",
   "execution_count": null,
   "metadata": {},
   "outputs": [],
   "source": [
    "# Check the dataset's shape (rows, columns)\n",
    "# Your code here"
   ]
  },
  {
   "cell_type": "code",
   "execution_count": null,
   "metadata": {},
   "outputs": [],
   "source": [
    "# Display information about the DataFrame\n",
    "# Your code here"
   ]
  },
  {
   "cell_type": "code",
   "execution_count": null,
   "metadata": {},
   "outputs": [],
   "source": [
    "# Check for missing values\n",
    "# Your code here"
   ]
  },
  {
   "cell_type": "code",
   "execution_count": null,
   "metadata": {},
   "outputs": [],
   "source": [
    "# Determine the time range of orders\n",
    "# Your code here"
   ]
  },
  {
   "cell_type": "code",
   "execution_count": null,
   "metadata": {},
   "outputs": [],
   "source": [
    "# List the unique product categories\n",
    "# Your code here"
   ]
  },
  {
   "cell_type": "markdown",
   "metadata": {},
   "source": [
    "### 1.3 Dataset Summary\n",
    "\n",
    "Generate summary statistics for the numerical columns in the dataset and interpret the results."
   ]
  },
  {
   "cell_type": "code",
   "execution_count": null,
   "metadata": {},
   "outputs": [],
   "source": [
    "# Generate summary statistics\n",
    "# Your code here"
   ]
  },
  {
   "cell_type": "markdown",
   "metadata": {},
   "source": [
    "**Interpretation:**\n",
    "\n",
    "Write a brief interpretation of the summary statistics here."
   ]
  },
  {
   "cell_type": "markdown",
   "metadata": {},
   "source": [
    "## Part 2: Basic DataFrame Operations (20 points)\n",
    "\n",
    "In this section, you will perform various operations to manipulate the DataFrame and extract specific information."
   ]
  },
  {
   "cell_type": "markdown",
   "metadata": {},
   "source": [
    "### 2.1 Data Type Conversions\n",
    "\n",
    "Convert the `order_date` column to datetime format, if it's not already, and create new columns for the year, month, and day of the week."
   ]
  },
  {
   "cell_type": "code",
   "execution_count": null,
   "metadata": {},
   "outputs": [],
   "source": [
    "# Convert order_date to datetime format and create new columns\n",
    "# Your code here"
   ]
  },
  {
   "cell_type": "markdown",
   "metadata": {},
   "source": [
    "### 2.2 Creating Derived Columns\n",
    "\n",
    "Create the following new columns in the DataFrame:\n",
    "\n",
    "1. `total_amount`: The total price of the order (quantity × price)\n",
    "2. `price_category`: Categorize products as 'Low', 'Medium', or 'High' based on their price\n",
    "   - Low: price < 50\n",
    "   - Medium: 50 ≤ price < 100\n",
    "   - High: price ≥ 100\n",
    "3. `shipping_time`: The number of days between order date and shipping date (if available)"
   ]
  },
  {
   "cell_type": "code",
   "execution_count": null,
   "metadata": {},
   "outputs": [],
   "source": [
    "# Create total_amount column\n",
    "# Your code here"
   ]
  },
  {
   "cell_type": "code",
   "execution_count": null,
   "metadata": {},
   "outputs": [],
   "source": [
    "# Create price_category column\n",
    "# Your code here"
   ]
  },
  {
   "cell_type": "code",
   "execution_count": null,
   "metadata": {},
   "outputs": [],
   "source": [
    "# Create shipping_time column (if shipping date is available)\n",
    "# Your code here"
   ]
  },
  {
   "cell_type": "markdown",
   "metadata": {},
   "source": [
    "### 2.3 Column Selection and Manipulation\n",
    "\n",
    "1. Create a new DataFrame that contains only customer information (customer ID, gender, age, email domain)\n",
    "2. Create a new DataFrame that contains order details (order ID, product name, quantity, price, total amount)\n",
    "3. Calculate and display the total number of orders and the total revenue by month"
   ]
  },
  {
   "cell_type": "code",
   "execution_count": null,
   "metadata": {},
   "outputs": [],
   "source": [
    "# Create customer information DataFrame\n",
    "# Your code here"
   ]
  },
  {
   "cell_type": "code",
   "execution_count": null,
   "metadata": {},
   "outputs": [],
   "source": [
    "# Create order details DataFrame\n",
    "# Your code here"
   ]
  },
  {
   "cell_type": "code",
   "execution_count": null,
   "metadata": {},
   "outputs": [],
   "source": [
    "# Calculate total orders and revenue by month\n",
    "# Your code here"
   ]
  },
  {
   "cell_type": "markdown",
   "metadata": {},
   "source": [
    "## Part 3: Selection and Filtering (25 points)\n",
    "\n",
    "In this section, you will practice selecting and filtering data based on various conditions."
   ]
  },
  {
   "cell_type": "markdown",
   "metadata": {},
   "source": [
    "### 3.1 Basic Filtering\n",
    "\n",
    "Filter the DataFrame to show:\n",
    "\n",
    "1. Orders with a total amount greater than $500\n",
    "2. Orders placed on weekends (Saturday or Sunday)\n",
    "3. Orders shipped to a specific region (choose a region from your dataset)\n",
    "4. Orders of a specific product category"
   ]
  },
  {
   "cell_type": "code",
   "execution_count": null,
   "metadata": {},
   "outputs": [],
   "source": [
    "# 1. Orders with total amount > $500\n",
    "# Your code here"
   ]
  },
  {
   "cell_type": "code",
   "execution_count": null,
   "metadata": {},
   "outputs": [],
   "source": [
    "# 2. Orders placed on weekends\n",
    "# Your code here"
   ]
  },
  {
   "cell_type": "code",
   "execution_count": null,
   "metadata": {},
   "outputs": [],
   "source": [
    "# 3. Orders shipped to a specific region\n",
    "# Your code here"
   ]
  },
  {
   "cell_type": "code",
   "execution_count": null,
   "metadata": {},
   "outputs": [],
   "source": [
    "# 4. Orders of a specific product category\n",
    "# Your code here"
   ]
  },
  {
   "cell_type": "markdown",
   "metadata": {},
   "source": [
    "### 3.2 Complex Filtering\n",
    "\n",
    "Apply multiple conditions to filter the DataFrame:\n",
    "\n",
    "1. High-value orders (total amount > $200) placed by female customers\n",
    "2. Orders of electronic products with a quantity greater than 2\n",
    "3. Orders placed in January 2024 (or another month in your dataset) with express shipping\n",
    "4. Orders where the shipping time was more than 7 days for premium customers"
   ]
  },
  {
   "cell_type": "code",
   "execution_count": null,
   "metadata": {},
   "outputs": [],
   "source": [
    "# 1. High-value orders placed by female customers\n",
    "# Your code here"
   ]
  },
  {
   "cell_type": "code",
   "execution_count": null,
   "metadata": {},
   "outputs": [],
   "source": [
    "# 2. Electronic product orders with quantity > 2\n",
    "# Your code here"
   ]
  },
  {
   "cell_type": "code",
   "execution_count": null,
   "metadata": {},
   "outputs": [],
   "source": [
    "# 3. Orders in January with express shipping\n",
    "# Your code here"
   ]
  },
  {
   "cell_type": "code",
   "execution_count": null,
   "metadata": {},
   "outputs": [],
   "source": [
    "# 4. Orders with shipping time > 7 days for premium customers\n",
    "# Your code here"
   ]
  },
  {
   "cell_type": "markdown",
   "metadata": {},
   "source": [
    "### 3.3 Sorting and Limiting Results\n",
    "\n",
    "1. Find the top 10 customers by total purchase amount\n",
    "2. Find the 5 most popular products by quantity sold\n",
    "3. Find the days with the highest number of orders\n",
    "4. Find the most profitable product categories"
   ]
  },
  {
   "cell_type": "code",
   "execution_count": null,
   "metadata": {},
   "outputs": [],
   "source": [
    "# 1. Top 10 customers by total purchase amount\n",
    "# Your code here"
   ]
  },
  {
   "cell_type": "code",
   "execution_count": null,
   "metadata": {},
   "outputs": [],
   "source": [
    "# 2. Top 5 most popular products by quantity sold\n",
    "# Your code here"
   ]
  },
  {
   "cell_type": "code",
   "execution_count": null,
   "metadata": {},
   "outputs": [],
   "source": [
    "# 3. Days with the highest number of orders\n",
    "# Your code here"
   ]
  },
  {
   "cell_type": "code",
   "execution_count": null,
   "metadata": {},
   "outputs": [],
   "source": [
    "# 4. Most profitable product categories\n",
    "# Your code here"
   ]
  },
  {
   "cell_type": "markdown",
   "metadata": {},
   "source": [
    "## Part 4: SQL to Pandas Translation (25 points)\n",
    "\n",
    "In this section, you will translate SQL queries into equivalent pandas operations. First, study each SQL query to understand what it's trying to accomplish, then implement the same functionality using pandas."
   ]
  },
  {
   "cell_type": "markdown",
   "metadata": {},
   "source": [
    "### 4.1 Simple Queries\n",
    "\n",
    "**SQL Query 1:**\n",
    "```sql\n",
    "SELECT product_id, product_name, price \n",
    "FROM products\n",
    "WHERE category = 'Electronics'\n",
    "ORDER BY price DESC;\n",
    "```"
   ]
  },
  {
   "cell_type": "code",
   "execution_count": null,
   "metadata": {},
   "outputs": [],
   "source": [
    "# Pandas equivalent of SQL Query 1\n",
    "# Your code here"
   ]
  },
  {
   "cell_type": "markdown",
   "metadata": {},
   "source": [
    "**SQL Query 2:**\n",
    "```sql\n",
    "SELECT customer_id, COUNT(*) as order_count, SUM(total_amount) as total_spent\n",
    "FROM orders\n",
    "GROUP BY customer_id\n",
    "HAVING COUNT(*) > 3;\n",
    "```"
   ]
  },
  {
   "cell_type": "code",
   "execution_count": null,
   "metadata": {},
   "outputs": [],
   "source": [
    "# Pandas equivalent of SQL Query 2\n",
    "# Your code here"
   ]
  },
  {
   "cell_type": "markdown",
   "metadata": {},
   "source": [
    "### 4.2 Complex Queries\n",
    "\n",
    "**SQL Query 3:**\n",
    "```sql\n",
    "SELECT \n",
    "    EXTRACT(YEAR FROM order_date) AS year,\n",
    "    EXTRACT(MONTH FROM order_date) AS month,\n",
    "    product_category,\n",
    "    COUNT(DISTINCT order_id) AS num_orders,\n",
    "    SUM(quantity) AS total_quantity,\n",
    "    SUM(price * quantity) AS total_revenue,\n",
    "    AVG(price * quantity) AS avg_order_value\n",
    "FROM orders\n",
    "JOIN order_items ON orders.order_id = order_items.order_id\n",
    "JOIN products ON order_items.product_id = products.product_id\n",
    "GROUP BY \n",
    "    EXTRACT(YEAR FROM order_date),\n",
    "    EXTRACT(MONTH FROM order_date),\n",
    "    product_category\n",
    "ORDER BY \n",
    "    year, month, total_revenue DESC;\n",
    "```"
   ]
  },
  {
   "cell_type": "code",
   "execution_count": null,
   "metadata": {},
   "outputs": [],
   "source": [
    "# Pandas equivalent of SQL Query 3\n",
    "# Your code here"
   ]
  },
  {
   "cell_type": "markdown",
   "metadata": {},
   "source": [
    "**SQL Query 4:**\n",
    "```sql\n",
    "SELECT \n",
    "    CASE \n",
    "        WHEN age < 25 THEN 'Under 25'\n",
    "        WHEN age BETWEEN 25 AND 34 THEN '25-34'\n",
    "        WHEN age BETWEEN 35 AND 44 THEN '35-44'\n",
    "        WHEN age BETWEEN 45 AND 54 THEN '45-54'\n",
    "        ELSE '55 and above'\n",
    "    END AS age_group,\n",
    "    gender,\n",
    "    COUNT(DISTINCT customer_id) AS num_customers,\n",
    "    COUNT(DISTINCT order_id) AS num_orders,\n",
    "    SUM(total_amount) AS total_spent,\n",
    "    AVG(total_amount) AS avg_order_value\n",
    "FROM customers\n",
    "JOIN orders ON customers.customer_id = orders.customer_id\n",
    "WHERE order_date >= '2024-01-01' AND order_date < '2024-03-01'\n",
    "GROUP BY age_group, gender\n",
    "ORDER BY age_group, gender;\n",
    "```"
   ]
  },
  {
   "cell_type": "code",
   "execution_count": null,
   "metadata": {},
   "outputs": [],
   "source": [
    "# Pandas equivalent of SQL Query 4\n",
    "# Your code here"
   ]
  },
  {
   "cell_type": "markdown",
   "metadata": {},
   "source": [
    "### 4.3 Comparing SQL and Pandas\n",
    "\n",
    "Based on your experience translating these SQL queries to pandas code, discuss the advantages and disadvantages of each approach. When might you prefer using SQL over pandas, and vice versa?"
   ]
  },
  {
   "cell_type": "markdown",
   "metadata": {},
   "source": [
    "*Write your comparison here*"
   ]
  },
  {
   "cell_type": "markdown",
   "metadata": {},
   "source": [
    "## Part 5: Data Analysis Challenge (15 points)\n",
    "\n",
    "Using the skills you've learned, conduct a comprehensive analysis of the e-commerce dataset to answer the following business questions:"
   ]
  },
  {
   "cell_type": "markdown",
   "metadata": {},
   "source": [
    "### 5.1 Sales Trends Analysis\n",
    "\n",
    "Analyze the sales trends over time. Identify patterns, seasonal variations, and growth trends."
   ]
  },
  {
   "cell_type": "code",
   "execution_count": null,
   "metadata": {},
   "outputs": [],
   "source": [
    "# Sales trends analysis\n",
    "# Your code here"
   ]
  },
  {
   "cell_type": "markdown",
   "metadata": {},
   "source": [
    "**Interpretation:**\n",
    "\n",
    "*Write your analysis of sales trends here*"
   ]
  },
  {
   "cell_type": "markdown",
   "metadata": {},
   "source": [
    "### 5.2 Customer Segmentation\n",
    "\n",
    "Segment customers based on their purchasing behavior (frequency, recency, monetary value) and demographic information. Identify the most valuable customer segments."
   ]
  },
  {
   "cell_type": "code",
   "execution_count": null,
   "metadata": {},
   "outputs": [],
   "source": [
    "# Customer segmentation analysis\n",
    "# Your code here"
   ]
  },
  {
   "cell_type": "markdown",
   "metadata": {},
   "source": [
    "**Interpretation:**\n",
    "\n",
    "*Write your analysis of customer segments here*"
   ]
  },
  {
   "cell_type": "markdown",
   "metadata": {},
   "source": [
    "### 5.3 Product Performance Analysis\n",
    "\n",
    "Evaluate the performance of different product categories and identify the best-selling and most profitable products."
   ]
  },
  {
   "cell_type": "code",
   "execution_count": null,
   "metadata": {},
   "outputs": [],
   "source": [
    "# Product performance analysis\n",
    "# Your code here"
   ]
  },
  {
   "cell_type": "markdown",
   "metadata": {},
   "source": [
    "**Interpretation:**\n",
    "\n",
    "*Write your analysis of product performance here*"
   ]
  },
  {
   "cell_type": "markdown",
   "metadata": {},
   "source": [
    "### 5.4 Business Recommendations\n",
    "\n",
    "Based on your analysis, provide at least three specific business recommendations to improve sales, customer satisfaction, or profitability."
   ]
  },
  {
   "cell_type": "markdown",
   "metadata": {},
   "source": [
    "**Business Recommendations:**\n",
    "\n",
    "1. \n",
    "\n",
    "2. \n",
    "\n",
    "3. "
   ]
  },
  {
   "cell_type": "markdown",
   "metadata": {},
   "source": [
    "## Conclusion\n",
    "\n",
    "Summarize what you've learned from this assignment and how you've applied pandas concepts to analyze the e-commerce dataset."
   ]
  },
  {
   "cell_type": "markdown",
   "metadata": {},
   "source": [
    "*Write your conclusion here*"
   ]
  }
 ],
 "metadata": {
  "kernelspec": {
   "display_name": "Python 3",
   "language": "python",
   "name": "python3"
  },
  "language_info": {
   "codemirror_mode": {
    "name": "ipython",
    "version": 3
   },
   "file_extension": ".py",
   "mimetype": "text/x-python",
   "name": "python",
   "nbconvert_exporter": "python",
   "pygments_lexer": "ipython3",
   "version": "3.8.10"
  }
 },
 "nbformat": 4,
 "nbformat_minor": 4
}

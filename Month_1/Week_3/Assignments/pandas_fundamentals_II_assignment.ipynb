{
 "cells": [
  {
   "cell_type": "markdown",
   "metadata": {},
   "source": [
    "# Python for Data Analysis - Week 3\n",
    "## Minor Assignment: Pandas Fundamentals II\n",
    "\n",
    "**Due Date:** Wednesday, April 23, 2025\n",
    "\n",
    "### Overview\n",
    "In this assignment, you will practice the core Pandas concepts covered in today's lecture: indexing and selection, filtering data, and handling missing values. You'll work with a customer purchase dataset to clean, transform, and extract insights from the data.\n",
    "\n",
    "### Learning Objectives\n",
    "By completing this assignment, you will be able to:\n",
    "- Use different methods for indexing and selecting data in Pandas\n",
    "- Apply filtering operations to extract specific subsets of data\n",
    "- Identify and handle missing values using various techniques\n",
    "- Apply these techniques to solve real-world data cleaning challenges\n",
    "\n",
    "### Dataset\n",
    "You will be working with a customer purchase dataset (`customer_purchase_data.csv`) containing information about customers, their demographics, and their purchase transactions.\n",
    "\n",
    "### Submission Guidelines\n",
    "- Submit your completed notebook via the course portal\n",
    "- Include your name and student ID in the notebook\n",
    "- Ensure all code cells are executed and outputs are visible\n",
    "- Add comments to explain your code and reasoning\n",
    "\n",
    "Let's begin!"
   ]
  },
  {
   "cell_type": "markdown",
   "metadata": {},
   "source": [
    "## Student Information\n",
    "\n",
    "**Name:**  \n",
    "**Student ID:**  "
   ]
  },
  {
   "cell_type": "markdown",
   "metadata": {},
   "source": [
    "## Setup\n",
    "\n",
    "First, let's import the necessary libraries and load the dataset."
   ]
  },
  {
   "cell_type": "code",
   "execution_count": null,
   "metadata": {},
   "outputs": [],
   "source": [
    "# Import libraries\n",
    "import pandas as pd\n",
    "import numpy as np\n",
    "import matplotlib.pyplot as plt\n",
    "\n",
    "# Set pandas display options\n",
    "pd.set_option('display.max_columns', None)\n",
    "pd.set_option('display.max_rows', 50)\n",
    "pd.set_option('display.width', 1000)\n",
    "\n",
    "# For plotting in the notebook\n",
    "%matplotlib inline"
   ]
  },
  {
   "cell_type": "code",
   "execution_count": null,
   "metadata": {},
   "outputs": [],
   "source": [
    "# Load the dataset\n",
    "df = pd.read_csv('../../Data/customer_purchase_data.csv')\n",
    "\n",
    "# Display the first few rows\n",
    "df.head()"
   ]
  },
  {
   "cell_type": "markdown",
   "metadata": {},
   "source": [
    "## Part 1: Exploring the Dataset (10 points)\n",
    "\n",
    "Before we dive into the main tasks, let's first explore the dataset to understand its structure and content."
   ]
  },
  {
   "cell_type": "markdown",
   "metadata": {},
   "source": [
    "### 1.1 Dataset Information\n",
    "\n",
    "Examine the basic information about the dataset by answering the following questions:\n",
    "\n",
    "1. How many rows and columns does the dataset have?\n",
    "2. What are the column names and their data types?\n",
    "3. Are there any missing values in the dataset? If so, in which columns?"
   ]
  },
  {
   "cell_type": "code",
   "execution_count": null,
   "metadata": {},
   "outputs": [],
   "source": [
    "# Check the shape of the dataset\n",
    "# Your code here"
   ]
  },
  {
   "cell_type": "code",
   "execution_count": null,
   "metadata": {},
   "outputs": [],
   "source": [
    "# Display information about the dataset\n",
    "# Your code here"
   ]
  },
  {
   "cell_type": "code",
   "execution_count": null,
   "metadata": {},
   "outputs": [],
   "source": [
    "# Check for missing values\n",
    "# Your code here"
   ]
  },
  {
   "cell_type": "markdown",
   "metadata": {},
   "source": [
    "## Part 2: Indexing and Selection (30 points)\n",
    "\n",
    "In this section, you will practice various methods for selecting and indexing data in Pandas."
   ]
  },
  {
   "cell_type": "markdown",
   "metadata": {},
   "source": [
    "### 2.1 Basic Indexing\n",
    "\n",
    "Use different indexing methods to extract the following from the dataset:\n",
    "\n",
    "1. Select the 'CustomerID', 'Age', 'Income', and 'Region' columns using bracket notation\n",
    "2. Select the same columns using dot notation\n",
    "3. Select rows 10 through 20 (inclusive) using iloc\n",
    "4. Select the first 5 customers who made purchases in the 'Electronics' category using loc"
   ]
  },
  {
   "cell_type": "code",
   "execution_count": null,
   "metadata": {},
   "outputs": [],
   "source": [
    "# 1. Select columns using bracket notation\n",
    "# Your code here"
   ]
  },
  {
   "cell_type": "code",
   "execution_count": null,
   "metadata": {},
   "outputs": [],
   "source": [
    "# 2. Select columns using dot notation\n",
    "# Your code here"
   ]
  },
  {
   "cell_type": "code",
   "execution_count": null,
   "metadata": {},
   "outputs": [],
   "source": [
    "# 3. Select rows 10 through 20 using iloc\n",
    "# Your code here"
   ]
  },
  {
   "cell_type": "code",
   "execution_count": null,
   "metadata": {},
   "outputs": [],
   "source": [
    "# 4. Select the first 5 customers who made purchases in the 'Electronics' category\n",
    "# Your code here"
   ]
  },
  {
   "cell_type": "markdown",
   "metadata": {},
   "source": [
    "### 2.2 Advanced Indexing\n",
    "\n",
    "Now, let's explore more advanced indexing techniques:\n",
    "\n",
    "1. Set the 'CustomerID' column as the index of the DataFrame\n",
    "2. Select all purchase information for customer with ID 1003 using the index\n",
    "3. Multi-level indexing: Create a MultiIndex using 'Region' and 'Category' as index levels\n",
    "4. Select all purchases in the 'East' region for the 'Electronics' category using the MultiIndex"
   ]
  },
  {
   "cell_type": "code",
   "execution_count": null,
   "metadata": {},
   "outputs": [],
   "source": [
    "# 1. Set 'CustomerID' as the index\n",
    "# Your code here"
   ]
  },
  {
   "cell_type": "code",
   "execution_count": null,
   "metadata": {},
   "outputs": [],
   "source": [
    "# 2. Select all purchase information for customer 1003\n",
    "# Your code here"
   ]
  },
  {
   "cell_type": "code",
   "execution_count": null,
   "metadata": {},
   "outputs": [],
   "source": [
    "# 3. Create a MultiIndex using 'Region' and 'Category'\n",
    "# Your code here"
   ]
  },
  {
   "cell_type": "code",
   "execution_count": null,
   "metadata": {},
   "outputs": [],
   "source": [
    "# 4. Select all purchases in the 'East' region for the 'Electronics' category\n",
    "# Your code here"
   ]
  },
  {
   "cell_type": "markdown",
   "metadata": {},
   "source": [
    "### 2.3 Practical Application: Creating Customer Profiles\n",
    "\n",
    "Now, use your indexing skills to create a customer profile DataFrame that contains the following information for each unique customer:\n",
    "- CustomerID\n",
    "- Gender\n",
    "- Age\n",
    "- Income\n",
    "- Education\n",
    "- Region\n",
    "- MaritalStatus\n",
    "\n",
    "Hint: You'll need to remove duplicate customer entries since the same customer may have made multiple purchases."
   ]
  },
  {
   "cell_type": "code",
   "execution_count": null,
   "metadata": {},
   "outputs": [],
   "source": [
    "# Create customer profile DataFrame\n",
    "# Your code here"
   ]
  },
  {
   "cell_type": "markdown",
   "metadata": {},
   "source": [
    "## Part 3: Filtering Data (30 points)\n",
    "\n",
    "In this section, you will practice applying filters to extract specific subsets of data."
   ]
  },
  {
   "cell_type": "markdown",
   "metadata": {},
   "source": [
    "### 3.1 Basic Filtering\n",
    "\n",
    "Apply filters to find the following information:\n",
    "\n",
    "1. Customers who are younger than 30 years old\n",
    "2. Purchases made in the 'Electronics' category with a price greater than $500\n",
    "3. Female customers who have made purchases in the 'Books' category\n",
    "4. Customers from the 'West' region who are married"
   ]
  },
  {
   "cell_type": "code",
   "execution_count": null,
   "metadata": {},
   "outputs": [],
   "source": [
    "# Reset index if needed\n",
    "if df.index.name == 'CustomerID':\n",
    "    df = df.reset_index()\n",
    "\n",
    "# 1. Customers younger than 30\n",
    "# Your code here"
   ]
  },
  {
   "cell_type": "code",
   "execution_count": null,
   "metadata": {},
   "outputs": [],
   "source": [
    "# 2. Electronics purchases with price > $500\n",
    "# Your code here"
   ]
  },
  {
   "cell_type": "code",
   "execution_count": null,
   "metadata": {},
   "outputs": [],
   "source": [
    "# 3. Female customers who purchased books\n",
    "# Your code here"
   ]
  },
  {
   "cell_type": "code",
   "execution_count": null,
   "metadata": {},
   "outputs": [],
   "source": [
    "# 4. Married customers from West region\n",
    "# Your code here"
   ]
  },
  {
   "cell_type": "markdown",
   "metadata": {},
   "source": [
    "### 3.2 Advanced Filtering\n",
    "\n",
    "Now let's apply more complex filtering conditions:\n",
    "\n",
    "1. Find high-value customers (Income > $90,000) who have made purchases in the 'Furniture' or 'Electronics' categories\n",
    "2. Find customers who made purchases in January 2024 (hint: extract month and year from the PurchaseDate)\n",
    "3. Find customers who have made multiple purchases (more than one transaction)\n",
    "4. Find the top 5 most expensive products purchased using 'Credit Card' as the payment method"
   ]
  },
  {
   "cell_type": "code",
   "execution_count": null,
   "metadata": {},
   "outputs": [],
   "source": [
    "# 1. High-value customers who purchased Furniture or Electronics\n",
    "# Your code here"
   ]
  },
  {
   "cell_type": "code",
   "execution_count": null,
   "metadata": {},
   "outputs": [],
   "source": [
    "# Convert PurchaseDate to datetime if not already\n",
    "if not pd.api.types.is_datetime64_dtype(df['PurchaseDate']):\n",
    "    df['PurchaseDate'] = pd.to_datetime(df['PurchaseDate'])\n",
    "\n",
    "# 2. Customers who made purchases in January 2024\n",
    "# Your code here"
   ]
  },
  {
   "cell_type": "code",
   "execution_count": null,
   "metadata": {},
   "outputs": [],
   "source": [
    "# 3. Customers with multiple purchases\n",
    "# Your code here"
   ]
  },
  {
   "cell_type": "code",
   "execution_count": null,
   "metadata": {},
   "outputs": [],
   "source": [
    "# 4. Top 5 most expensive products purchased with Credit Card\n",
    "# Your code here"
   ]
  },
  {
   "cell_type": "markdown",
   "metadata": {},
   "source": [
    "### 3.3 Practical Application: Customer Segmentation\n",
    "\n",
    "Use filtering to segment customers based on the following criteria:\n",
    "\n",
    "1. Create a 'CustomerValue' column that categorizes customers as follows:\n",
    "   - 'High': Income > $90,000\n",
    "   - 'Medium': Income between $60,000 and $90,000\n",
    "   - 'Low': Income < $60,000\n",
    "   \n",
    "2. Create a 'AgeGroup' column that categorizes customers as follows:\n",
    "   - 'Young': Age < 30\n",
    "   - 'Middle-aged': Age between 30 and 45\n",
    "   - 'Senior': Age > 45\n",
    "   \n",
    "3. Create a 'PurchaseFrequency' column that categorizes customers as follows:\n",
    "   - 'Frequent': More than 2 purchases\n",
    "   - 'Occasional': 1-2 purchases\n",
    "\n",
    "4. Create a cross-tabulation of CustomerValue and AgeGroup to see the distribution of customers"
   ]
  },
  {
   "cell_type": "code",
   "execution_count": null,
   "metadata": {},
   "outputs": [],
   "source": [
    "# Create customer profile DataFrame if not already created\n",
    "if 'customer_profiles' not in locals():\n",
    "    customer_profiles = df[['CustomerID', 'Gender', 'Age', 'Income', 'Education', 'Region', 'MaritalStatus']].drop_duplicates(subset=['CustomerID'])\n",
    "\n",
    "# 1. Create CustomerValue column\n",
    "# Your code here"
   ]
  },
  {
   "cell_type": "code",
   "execution_count": null,
   "metadata": {},
   "outputs": [],
   "source": [
    "# 2. Create AgeGroup column\n",
    "# Your code here"
   ]
  },
  {
   "cell_type": "code",
   "execution_count": null,
   "metadata": {},
   "outputs": [],
   "source": [
    "# 3. Create PurchaseFrequency column\n",
    "# Your code here"
   ]
  },
  {
   "cell_type": "code",
   "execution_count": null,
   "metadata": {},
   "outputs": [],
   "source": [
    "# 4. Create cross-tabulation\n",
    "# Your code here"
   ]
  },
  {
   "cell_type": "markdown",
   "metadata": {},
   "source": [
    "## Part 4: Handling Missing Values (30 points)\n",
    "\n",
    "In this section, you will identify and handle missing values in the dataset."
   ]
  },
  {
   "cell_type": "markdown",
   "metadata": {},
   "source": [
    "### 4.1 Identifying Missing Values\n",
    "\n",
    "Let's first identify all missing values in the dataset:\n",
    "\n",
    "1. Calculate the number of missing values in each column\n",
    "2. Calculate the percentage of missing values in each column\n",
    "3. Create a visualization to illustrate the missing values pattern"
   ]
  },
  {
   "cell_type": "code",
   "execution_count": null,
   "metadata": {},
   "outputs": [],
   "source": [
    "# 1. Count missing values in each column\n",
    "# Your code here"
   ]
  },
  {
   "cell_type": "code",
   "execution_count": null,
   "metadata": {},
   "outputs": [],
   "source": [
    "# 2. Calculate percentage of missing values\n",
    "# Your code here"
   ]
  },
  {
   "cell_type": "code",
   "execution_count": null,
   "metadata": {},
   "outputs": [],
   "source": [
    "# 3. Visualize missing values\n",
    "# Your code here"
   ]
  },
  {
   "cell_type": "markdown",
   "metadata": {},
   "source": [
    "### 4.2 Handling Missing Values\n",
    "\n",
    "Now, let's apply different techniques to handle missing values:\n",
    "\n",
    "1. Create a new DataFrame with rows that have missing values\n",
    "2. Create a new DataFrame with rows that have no missing values\n",
    "3. Fill missing Quantity values with the median quantity for that product category\n",
    "4. Fill missing Price values with the mean price for that product category"
   ]
  },
  {
   "cell_type": "code",
   "execution_count": null,
   "metadata": {},
   "outputs": [],
   "source": [
    "# 1. Rows with missing values\n",
    "# Your code here"
   ]
  },
  {
   "cell_type": "code",
   "execution_count": null,
   "metadata": {},
   "outputs": [],
   "source": [
    "# 2. Rows with no missing values\n",
    "# Your code here"
   ]
  },
  {
   "cell_type": "code",
   "execution_count": null,
   "metadata": {},
   "outputs": [],
   "source": [
    "# 3. Fill missing Quantity with median by category\n",
    "# Your code here"
   ]
  },
  {
   "cell_type": "code",
   "execution_count": null,
   "metadata": {},
   "outputs": [],
   "source": [
    "# 4. Fill missing Price with mean by category\n",
    "# Your code here"
   ]
  },
  {
   "cell_type": "markdown",
   "metadata": {},
   "source": [
    "### 4.3 Practical Application: Creating a Clean Dataset\n",
    "\n",
    "Create a clean version of the dataset by applying the following steps:\n",
    "\n",
    "1. Fill missing Quantity values with the median quantity for that product category\n",
    "2. Fill missing Price values with the mean price for that product category\n",
    "3. Create a 'TotalAmount' column that multiplies Price by Quantity\n",
    "4. Convert PurchaseDate to datetime format if not already\n",
    "5. Create a 'PurchaseMonth' and 'PurchaseYear' column\n",
    "6. Create a 'CustomerSpend' DataFrame that shows the total amount spent by each customer"
   ]
  },
  {
   "cell_type": "code",
   "execution_count": null,
   "metadata": {},
   "outputs": [],
   "source": [
    "# Create a copy of the DataFrame to work with\n",
    "clean_df = df.copy()\n",
    "\n",
    "# 1. Fill missing Quantity values\n",
    "# Your code here"
   ]
  },
  {
   "cell_type": "code",
   "execution_count": null,
   "metadata": {},
   "outputs": [],
   "source": [
    "# 2. Fill missing Price values\n",
    "# Your code here"
   ]
  },
  {
   "cell_type": "code",
   "execution_count": null,
   "metadata": {},
   "outputs": [],
   "source": [
    "# 3. Create TotalAmount column\n",
    "# Your code here"
   ]
  },
  {
   "cell_type": "code",
   "execution_count": null,
   "metadata": {},
   "outputs": [],
   "source": [
    "# 4. Convert PurchaseDate to datetime\n",
    "# Your code here"
   ]
  },
  {
   "cell_type": "code",
   "execution_count": null,
   "metadata": {},
   "outputs": [],
   "source": [
    "# 5. Create PurchaseMonth and PurchaseYear columns\n",
    "# Your code here"
   ]
  },
  {
   "cell_type": "code",
   "execution_count": null,
   "metadata": {},
   "outputs": [],
   "source": [
    "# 6. Create CustomerSpend DataFrame\n",
    "# Your code here"
   ]
  },
  {
   "cell_type": "markdown",
   "metadata": {},
   "source": [
    "## Bonus Challenge (10 extra points)\n",
    "\n",
    "Analyze the purchasing patterns of customers based on demographic factors:\n",
    "\n",
    "1. For each age group, determine the most popular product category (by number of purchases)\n",
    "2. For each income level ('High', 'Medium', 'Low'), calculate the average spend per purchase\n",
    "3. Compare spending patterns between male and female customers across different product categories\n",
    "4. Identify which regions have the highest average purchase amounts"
   ]
  },
  {
   "cell_type": "code",
   "execution_count": null,
   "metadata": {},
   "outputs": [],
   "source": [
    "# 1. Most popular product category by age group\n",
    "# Your code here"
   ]
  },
  {
   "cell_type": "code",
   "execution_count": null,
   "metadata": {},
   "outputs": [],
   "source": [
    "# 2. Average spend per purchase by income level\n",
    "# Your code here"
   ]
  },
  {
   "cell_type": "code",
   "execution_count": null,
   "metadata": {},
   "outputs": [],
   "source": [
    "# 3. Spending patterns by gender across product categories\n",
    "# Your code here"
   ]
  },
  {
   "cell_type": "code",
   "execution_count": null,
   "metadata": {},
   "outputs": [],
   "source": [
    "# 4. Regions with highest average purchase amounts\n",
    "# Your code here"
   ]
  },
  {
   "cell_type": "markdown",
   "metadata": {},
   "source": [
    "## Summary\n",
    "\n",
    "In this assignment, you've practiced various techniques for indexing, selecting, and filtering data in Pandas, as well as identifying and handling missing values. These skills are essential for any data analysis project and form the foundation for more advanced data manipulation operations.\n",
    "\n",
    "Summarize what you've learned from this assignment and how you might apply these techniques in future data analysis tasks."
   ]
  },
  {
   "cell_type": "markdown",
   "metadata": {},
   "source": [
    "*Your summary here*"
   ]
  }
 ],
 "metadata": {
  "kernelspec": {
   "display_name": "Python 3",
   "language": "python",
   "name": "python3"
  },
  "language_info": {
   "codemirror_mode": {
    "name": "ipython",
    "version": 3
   },
   "file_extension": ".py",
   "mimetype": "text/x-python",
   "name": "python",
   "nbconvert_exporter": "python",
   "pygments_lexer": "ipython3",
   "version": "3.8.10"
  }
 },
 "nbformat": 4,
 "nbformat_minor": 4
}
{
  "cells": [
    {
      "cell_type": "markdown",
      "metadata": {},
      "source": [
        "# Pandas Fundamentals II - Part 2: Filtering Data\n",
        "\n",
        "## Week 3, Day 1 (Wednesday) - April 23rd, 2025\n",
        "\n",
        "### Overview\n",
        "This is the second part of our Pandas Fundamentals II session, focusing on filtering data. While we touched on basic filtering in Part 1, here we'll delve deeper into advanced filtering techniques and methods to efficiently extract relevant subsets from DataFrames.\n",
        "\n",
        "### Learning Objectives\n",
        "- Master complex filtering techniques in Pandas\n",
        "- Use advanced boolean expressions to filter data\n",
        "- Understand pattern matching for string filtering\n",
        "- Apply SQL-like thinking to complex filtering operations\n",
        "- Learn specialized filtering methods like `.query()` and `.isin()`\n",
        "\n",
        "### Prerequisites\n",
        "- Python fundamentals (Week 1)\n",
        "- Pandas Fundamentals I (Week 2, Day 2)\n",
        "- Indexing and Selection (Week 3, Part 1)"
      ]
    },
    {
      "cell_type": "markdown",
      "metadata": {},
      "source": [
        "## 1. Introduction to Data Filtering\n",
        "\n",
        "In the previous section, we covered basic data selection and indexing. Here, we'll focus on filtering, which allows us to extract specific rows from a DataFrame based on conditions. In SQL terms, we're going deeper into the `WHERE` clause functionality."
      ]
    },
    {
      "cell_type": "code",
      "execution_count": 1,
      "metadata": {},
      "outputs": [],
      "source": [
        "# Import libraries\n",
        "import pandas as pd\n",
        "import numpy as np\n",
        "\n",
        "# Create a sample e-commerce dataset\n",
        "data = {\n",
        "    'order_id': ['ORD001', 'ORD002', 'ORD003', 'ORD004', 'ORD005', 'ORD006', 'ORD007', 'ORD008'],\n",
        "    'customer_id': ['C101', 'C102', 'C101', 'C103', 'C104', 'C103', 'C105', 'C102'],\n",
        "    'product_category': ['Electronics', 'Clothing', 'Home', 'Electronics', 'Books', 'Home', 'Electronics', 'Clothing'],\n",
        "    'product_name': ['Laptop', 'T-shirt', 'Lamp', 'Smartphone', 'Python Book', 'Chair', 'Headphones', 'Jeans'],\n",
        "    'price': [1200.50, 25.99, 45.75, 800.00, 35.50, 120.99, 75.25, 49.99],\n",
        "    'quantity': [1, 2, 1, 1, 3, 2, 1, 1],\n",
        "    'order_date': ['2025-01-15', '2025-01-20', '2025-01-22', '2025-02-05', '2025-02-10', '2025-02-15', '2025-02-20', '2025-03-01'],\n",
        "    'is_delivered': [True, True, True, True, False, False, True, False]\n",
        "}\n"
      ]
    },
    {
      "cell_type": "code",
      "execution_count": null,
      "metadata": {},
      "outputs": [],
      "source": [
        "\n",
        "# Create DataFrame\n",
        "orders_df = pd.DataFrame(data)\n",
        "\n",
        "# Convert date column to datetime type\n",
        "orders_df['order_date'] = pd.to_datetime(orders_df['order_date'])\n",
        "\n",
        "# Add total amount column\n",
        "orders_df['total_amount'] = orders_df['price'] * orders_df['quantity']\n",
        "\n",
        "print(\"Sample E-commerce Orders DataFrame:\")\n",
        "print(orders_df)"
      ]
    },
    {
      "cell_type": "code",
      "execution_count": 3,
      "metadata": {},
      "outputs": [
        {
          "data": {
            "application/vnd.microsoft.datawrangler.viewer.v0+json": {
              "columns": [
                {
                  "name": "index",
                  "rawType": "int64",
                  "type": "integer"
                },
                {
                  "name": "order_id",
                  "rawType": "object",
                  "type": "string"
                },
                {
                  "name": "customer_id",
                  "rawType": "object",
                  "type": "string"
                },
                {
                  "name": "product_category",
                  "rawType": "object",
                  "type": "string"
                },
                {
                  "name": "product_name",
                  "rawType": "object",
                  "type": "string"
                },
                {
                  "name": "price",
                  "rawType": "float64",
                  "type": "float"
                },
                {
                  "name": "quantity",
                  "rawType": "int64",
                  "type": "integer"
                },
                {
                  "name": "order_date",
                  "rawType": "datetime64[ns]",
                  "type": "datetime"
                },
                {
                  "name": "is_delivered",
                  "rawType": "bool",
                  "type": "boolean"
                },
                {
                  "name": "total_amount",
                  "rawType": "float64",
                  "type": "float"
                }
              ],
              "conversionMethod": "pd.DataFrame",
              "ref": "ac02a54f-91b2-4c79-a016-ad93fa4f1f67",
              "rows": [
                [
                  "0",
                  "ORD001",
                  "C101",
                  "Electronics",
                  "Laptop",
                  "1200.5",
                  "1",
                  "2025-01-15 00:00:00",
                  "True",
                  "1200.5"
                ],
                [
                  "1",
                  "ORD002",
                  "C102",
                  "Clothing",
                  "T-shirt",
                  "25.99",
                  "2",
                  "2025-01-20 00:00:00",
                  "True",
                  "51.98"
                ],
                [
                  "2",
                  "ORD003",
                  "C101",
                  "Home",
                  "Lamp",
                  "45.75",
                  "1",
                  "2025-01-22 00:00:00",
                  "True",
                  "45.75"
                ],
                [
                  "3",
                  "ORD004",
                  "C103",
                  "Electronics",
                  "Smartphone",
                  "800.0",
                  "1",
                  "2025-02-05 00:00:00",
                  "True",
                  "800.0"
                ],
                [
                  "4",
                  "ORD005",
                  "C104",
                  "Books",
                  "Python Book",
                  "35.5",
                  "3",
                  "2025-02-10 00:00:00",
                  "False",
                  "106.5"
                ],
                [
                  "5",
                  "ORD006",
                  "C103",
                  "Home",
                  "Chair",
                  "120.99",
                  "2",
                  "2025-02-15 00:00:00",
                  "False",
                  "241.98"
                ],
                [
                  "6",
                  "ORD007",
                  "C105",
                  "Electronics",
                  "Headphones",
                  "75.25",
                  "1",
                  "2025-02-20 00:00:00",
                  "True",
                  "75.25"
                ],
                [
                  "7",
                  "ORD008",
                  "C102",
                  "Clothing",
                  "Jeans",
                  "49.99",
                  "1",
                  "2025-03-01 00:00:00",
                  "False",
                  "49.99"
                ]
              ],
              "shape": {
                "columns": 9,
                "rows": 8
              }
            },
            "text/html": [
              "<div>\n",
              "<style scoped>\n",
              "    .dataframe tbody tr th:only-of-type {\n",
              "        vertical-align: middle;\n",
              "    }\n",
              "\n",
              "    .dataframe tbody tr th {\n",
              "        vertical-align: top;\n",
              "    }\n",
              "\n",
              "    .dataframe thead th {\n",
              "        text-align: right;\n",
              "    }\n",
              "</style>\n",
              "<table border=\"1\" class=\"dataframe\">\n",
              "  <thead>\n",
              "    <tr style=\"text-align: right;\">\n",
              "      <th></th>\n",
              "      <th>order_id</th>\n",
              "      <th>customer_id</th>\n",
              "      <th>product_category</th>\n",
              "      <th>product_name</th>\n",
              "      <th>price</th>\n",
              "      <th>quantity</th>\n",
              "      <th>order_date</th>\n",
              "      <th>is_delivered</th>\n",
              "      <th>total_amount</th>\n",
              "    </tr>\n",
              "  </thead>\n",
              "  <tbody>\n",
              "    <tr>\n",
              "      <th>0</th>\n",
              "      <td>ORD001</td>\n",
              "      <td>C101</td>\n",
              "      <td>Electronics</td>\n",
              "      <td>Laptop</td>\n",
              "      <td>1200.50</td>\n",
              "      <td>1</td>\n",
              "      <td>2025-01-15</td>\n",
              "      <td>True</td>\n",
              "      <td>1200.50</td>\n",
              "    </tr>\n",
              "    <tr>\n",
              "      <th>1</th>\n",
              "      <td>ORD002</td>\n",
              "      <td>C102</td>\n",
              "      <td>Clothing</td>\n",
              "      <td>T-shirt</td>\n",
              "      <td>25.99</td>\n",
              "      <td>2</td>\n",
              "      <td>2025-01-20</td>\n",
              "      <td>True</td>\n",
              "      <td>51.98</td>\n",
              "    </tr>\n",
              "    <tr>\n",
              "      <th>2</th>\n",
              "      <td>ORD003</td>\n",
              "      <td>C101</td>\n",
              "      <td>Home</td>\n",
              "      <td>Lamp</td>\n",
              "      <td>45.75</td>\n",
              "      <td>1</td>\n",
              "      <td>2025-01-22</td>\n",
              "      <td>True</td>\n",
              "      <td>45.75</td>\n",
              "    </tr>\n",
              "    <tr>\n",
              "      <th>3</th>\n",
              "      <td>ORD004</td>\n",
              "      <td>C103</td>\n",
              "      <td>Electronics</td>\n",
              "      <td>Smartphone</td>\n",
              "      <td>800.00</td>\n",
              "      <td>1</td>\n",
              "      <td>2025-02-05</td>\n",
              "      <td>True</td>\n",
              "      <td>800.00</td>\n",
              "    </tr>\n",
              "    <tr>\n",
              "      <th>4</th>\n",
              "      <td>ORD005</td>\n",
              "      <td>C104</td>\n",
              "      <td>Books</td>\n",
              "      <td>Python Book</td>\n",
              "      <td>35.50</td>\n",
              "      <td>3</td>\n",
              "      <td>2025-02-10</td>\n",
              "      <td>False</td>\n",
              "      <td>106.50</td>\n",
              "    </tr>\n",
              "    <tr>\n",
              "      <th>5</th>\n",
              "      <td>ORD006</td>\n",
              "      <td>C103</td>\n",
              "      <td>Home</td>\n",
              "      <td>Chair</td>\n",
              "      <td>120.99</td>\n",
              "      <td>2</td>\n",
              "      <td>2025-02-15</td>\n",
              "      <td>False</td>\n",
              "      <td>241.98</td>\n",
              "    </tr>\n",
              "    <tr>\n",
              "      <th>6</th>\n",
              "      <td>ORD007</td>\n",
              "      <td>C105</td>\n",
              "      <td>Electronics</td>\n",
              "      <td>Headphones</td>\n",
              "      <td>75.25</td>\n",
              "      <td>1</td>\n",
              "      <td>2025-02-20</td>\n",
              "      <td>True</td>\n",
              "      <td>75.25</td>\n",
              "    </tr>\n",
              "    <tr>\n",
              "      <th>7</th>\n",
              "      <td>ORD008</td>\n",
              "      <td>C102</td>\n",
              "      <td>Clothing</td>\n",
              "      <td>Jeans</td>\n",
              "      <td>49.99</td>\n",
              "      <td>1</td>\n",
              "      <td>2025-03-01</td>\n",
              "      <td>False</td>\n",
              "      <td>49.99</td>\n",
              "    </tr>\n",
              "  </tbody>\n",
              "</table>\n",
              "</div>"
            ],
            "text/plain": [
              "  order_id customer_id product_category product_name    price  quantity  \\\n",
              "0   ORD001        C101      Electronics       Laptop  1200.50         1   \n",
              "1   ORD002        C102         Clothing      T-shirt    25.99         2   \n",
              "2   ORD003        C101             Home         Lamp    45.75         1   \n",
              "3   ORD004        C103      Electronics   Smartphone   800.00         1   \n",
              "4   ORD005        C104            Books  Python Book    35.50         3   \n",
              "5   ORD006        C103             Home        Chair   120.99         2   \n",
              "6   ORD007        C105      Electronics   Headphones    75.25         1   \n",
              "7   ORD008        C102         Clothing        Jeans    49.99         1   \n",
              "\n",
              "  order_date  is_delivered  total_amount  \n",
              "0 2025-01-15          True       1200.50  \n",
              "1 2025-01-20          True         51.98  \n",
              "2 2025-01-22          True         45.75  \n",
              "3 2025-02-05          True        800.00  \n",
              "4 2025-02-10         False        106.50  \n",
              "5 2025-02-15         False        241.98  \n",
              "6 2025-02-20          True         75.25  \n",
              "7 2025-03-01         False         49.99  "
            ]
          },
          "execution_count": 3,
          "metadata": {},
          "output_type": "execute_result"
        }
      ],
      "source": [
        "\n",
        "orders_df"
      ]
    },
    {
      "cell_type": "markdown",
      "metadata": {},
      "source": [
        "## 2. Review of Basic Boolean Filtering\n",
        "\n",
        "Before diving into advanced techniques, let's quickly review basic boolean filtering:"
      ]
    },
    {
      "cell_type": "code",
      "execution_count": 4,
      "metadata": {},
      "outputs": [
        {
          "name": "stdout",
          "output_type": "stream",
          "text": [
            "Orders for Electronics products:\n",
            "  order_id customer_id product_category product_name    price  quantity  \\\n",
            "0   ORD001        C101      Electronics       Laptop  1200.50         1   \n",
            "3   ORD004        C103      Electronics   Smartphone   800.00         1   \n",
            "6   ORD007        C105      Electronics   Headphones    75.25         1   \n",
            "\n",
            "  order_date  is_delivered  total_amount  \n",
            "0 2025-01-15          True       1200.50  \n",
            "3 2025-02-05          True        800.00  \n",
            "6 2025-02-20          True         75.25  \n",
            "\n",
            "Expensive orders (>$100):\n",
            "  order_id customer_id product_category product_name    price  quantity  \\\n",
            "0   ORD001        C101      Electronics       Laptop  1200.50         1   \n",
            "3   ORD004        C103      Electronics   Smartphone   800.00         1   \n",
            "4   ORD005        C104            Books  Python Book    35.50         3   \n",
            "5   ORD006        C103             Home        Chair   120.99         2   \n",
            "\n",
            "  order_date  is_delivered  total_amount  \n",
            "0 2025-01-15          True       1200.50  \n",
            "3 2025-02-05          True        800.00  \n",
            "4 2025-02-10         False        106.50  \n",
            "5 2025-02-15         False        241.98  \n",
            "\n",
            "Delivered Electronics orders:\n",
            "  order_id customer_id product_category product_name    price  quantity  \\\n",
            "0   ORD001        C101      Electronics       Laptop  1200.50         1   \n",
            "3   ORD004        C103      Electronics   Smartphone   800.00         1   \n",
            "6   ORD007        C105      Electronics   Headphones    75.25         1   \n",
            "\n",
            "  order_date  is_delivered  total_amount  \n",
            "0 2025-01-15          True       1200.50  \n",
            "3 2025-02-05          True        800.00  \n",
            "6 2025-02-20          True         75.25  \n"
          ]
        }
      ],
      "source": [
        "# Filter orders for Electronics products\n",
        "electronics_orders = orders_df[orders_df['product_category'] == 'Electronics']\n",
        "print(\"Orders for Electronics products:\")\n",
        "print(electronics_orders)\n",
        "\n",
        "# Filter expensive orders (total over $100)\n",
        "expensive_orders = orders_df[orders_df['total_amount'] > 100]\n",
        "print(\"\\nExpensive orders (>$100):\")\n",
        "print(expensive_orders)\n",
        "\n",
        "# Combining conditions with & (AND) and | (OR)\n",
        "# Electronics orders that are delivered\n",
        "delivered_electronics = orders_df[(orders_df['product_category'] == 'Electronics') & \n",
        "                                 (orders_df['is_delivered'] == True)]\n",
        "print(\"\\nDelivered Electronics orders:\")\n",
        "print(delivered_electronics)"
      ]
    },
    {
      "cell_type": "markdown",
      "metadata": {},
      "source": [
        "## 3. Advanced Boolean Expressions\n",
        "\n",
        "Now let's explore more complex boolean expressions for filtering:"
      ]
    },
    {
      "cell_type": "code",
      "execution_count": 5,
      "metadata": {},
      "outputs": [
        {
          "name": "stdout",
          "output_type": "stream",
          "text": [
            "Orders for Electronics or Books:\n",
            "  order_id customer_id product_category product_name    price  quantity  \\\n",
            "0   ORD001        C101      Electronics       Laptop  1200.50         1   \n",
            "3   ORD004        C103      Electronics   Smartphone   800.00         1   \n",
            "4   ORD005        C104            Books  Python Book    35.50         3   \n",
            "6   ORD007        C105      Electronics   Headphones    75.25         1   \n",
            "\n",
            "  order_date  is_delivered  total_amount  \n",
            "0 2025-01-15          True       1200.50  \n",
            "3 2025-02-05          True        800.00  \n",
            "4 2025-02-10         False        106.50  \n",
            "6 2025-02-20          True         75.25  \n"
          ]
        }
      ],
      "source": [
        "# Multiple OR conditions\n",
        "# Orders for Electronics OR Books\n",
        "tech_orders = orders_df[(orders_df['product_category'] == 'Electronics') | \n",
        "                        (orders_df['product_category'] == 'Books')]\n",
        "print(\"Orders for Electronics or Books:\")\n",
        "print(tech_orders)\n"
      ]
    },
    {
      "cell_type": "code",
      "execution_count": 6,
      "metadata": {},
      "outputs": [
        {
          "name": "stdout",
          "output_type": "stream",
          "text": [
            "\n",
            "Complex filter result:\n",
            "  order_id customer_id product_category product_name    price  quantity  \\\n",
            "0   ORD001        C101      Electronics       Laptop  1200.50         1   \n",
            "1   ORD002        C102         Clothing      T-shirt    25.99         2   \n",
            "3   ORD004        C103      Electronics   Smartphone   800.00         1   \n",
            "4   ORD005        C104            Books  Python Book    35.50         3   \n",
            "5   ORD006        C103             Home        Chair   120.99         2   \n",
            "\n",
            "  order_date  is_delivered  total_amount  \n",
            "0 2025-01-15          True       1200.50  \n",
            "1 2025-01-20          True         51.98  \n",
            "3 2025-02-05          True        800.00  \n",
            "4 2025-02-10         False        106.50  \n",
            "5 2025-02-15         False        241.98  \n"
          ]
        }
      ],
      "source": [
        "\n",
        "# Complex conditions with both AND and OR\n",
        "# High-value Electronics orders OR orders with multiple items\n",
        "complex_filter = orders_df[((orders_df['product_category'] == 'Electronics') & \n",
        "                           (orders_df['price'] > 500)) | \n",
        "                           (orders_df['quantity'] > 1)]\n",
        "print(\"\\nComplex filter result:\")\n",
        "print(complex_filter)\n"
      ]
    },
    {
      "cell_type": "code",
      "execution_count": 8,
      "metadata": {},
      "outputs": [
        {
          "data": {
            "application/vnd.microsoft.datawrangler.viewer.v0+json": {
              "columns": [
                {
                  "name": "index",
                  "rawType": "int64",
                  "type": "integer"
                },
                {
                  "name": "order_id",
                  "rawType": "object",
                  "type": "string"
                },
                {
                  "name": "customer_id",
                  "rawType": "object",
                  "type": "string"
                },
                {
                  "name": "product_category",
                  "rawType": "object",
                  "type": "string"
                },
                {
                  "name": "product_name",
                  "rawType": "object",
                  "type": "string"
                },
                {
                  "name": "price",
                  "rawType": "float64",
                  "type": "float"
                },
                {
                  "name": "quantity",
                  "rawType": "int64",
                  "type": "integer"
                },
                {
                  "name": "order_date",
                  "rawType": "datetime64[ns]",
                  "type": "datetime"
                },
                {
                  "name": "is_delivered",
                  "rawType": "bool",
                  "type": "boolean"
                },
                {
                  "name": "total_amount",
                  "rawType": "float64",
                  "type": "float"
                }
              ],
              "conversionMethod": "pd.DataFrame",
              "ref": "5a165625-b319-4dc0-92d7-37ff3faf3db4",
              "rows": [
                [
                  "0",
                  "ORD001",
                  "C101",
                  "Electronics",
                  "Laptop",
                  "1200.5",
                  "1",
                  "2025-01-15 00:00:00",
                  "True",
                  "1200.5"
                ],
                [
                  "1",
                  "ORD002",
                  "C102",
                  "Clothing",
                  "T-shirt",
                  "25.99",
                  "2",
                  "2025-01-20 00:00:00",
                  "True",
                  "51.98"
                ],
                [
                  "2",
                  "ORD003",
                  "C101",
                  "Home",
                  "Lamp",
                  "45.75",
                  "1",
                  "2025-01-22 00:00:00",
                  "True",
                  "45.75"
                ],
                [
                  "3",
                  "ORD004",
                  "C103",
                  "Electronics",
                  "Smartphone",
                  "800.0",
                  "1",
                  "2025-02-05 00:00:00",
                  "True",
                  "800.0"
                ],
                [
                  "4",
                  "ORD005",
                  "C104",
                  "Books",
                  "Python Book",
                  "35.5",
                  "3",
                  "2025-02-10 00:00:00",
                  "False",
                  "106.5"
                ],
                [
                  "5",
                  "ORD006",
                  "C103",
                  "Home",
                  "Chair",
                  "120.99",
                  "2",
                  "2025-02-15 00:00:00",
                  "False",
                  "241.98"
                ],
                [
                  "6",
                  "ORD007",
                  "C105",
                  "Electronics",
                  "Headphones",
                  "75.25",
                  "1",
                  "2025-02-20 00:00:00",
                  "True",
                  "75.25"
                ],
                [
                  "7",
                  "ORD008",
                  "C102",
                  "Clothing",
                  "Jeans",
                  "49.99",
                  "1",
                  "2025-03-01 00:00:00",
                  "False",
                  "49.99"
                ]
              ],
              "shape": {
                "columns": 9,
                "rows": 8
              }
            },
            "text/html": [
              "<div>\n",
              "<style scoped>\n",
              "    .dataframe tbody tr th:only-of-type {\n",
              "        vertical-align: middle;\n",
              "    }\n",
              "\n",
              "    .dataframe tbody tr th {\n",
              "        vertical-align: top;\n",
              "    }\n",
              "\n",
              "    .dataframe thead th {\n",
              "        text-align: right;\n",
              "    }\n",
              "</style>\n",
              "<table border=\"1\" class=\"dataframe\">\n",
              "  <thead>\n",
              "    <tr style=\"text-align: right;\">\n",
              "      <th></th>\n",
              "      <th>order_id</th>\n",
              "      <th>customer_id</th>\n",
              "      <th>product_category</th>\n",
              "      <th>product_name</th>\n",
              "      <th>price</th>\n",
              "      <th>quantity</th>\n",
              "      <th>order_date</th>\n",
              "      <th>is_delivered</th>\n",
              "      <th>total_amount</th>\n",
              "    </tr>\n",
              "  </thead>\n",
              "  <tbody>\n",
              "    <tr>\n",
              "      <th>0</th>\n",
              "      <td>ORD001</td>\n",
              "      <td>C101</td>\n",
              "      <td>Electronics</td>\n",
              "      <td>Laptop</td>\n",
              "      <td>1200.50</td>\n",
              "      <td>1</td>\n",
              "      <td>2025-01-15</td>\n",
              "      <td>True</td>\n",
              "      <td>1200.50</td>\n",
              "    </tr>\n",
              "    <tr>\n",
              "      <th>1</th>\n",
              "      <td>ORD002</td>\n",
              "      <td>C102</td>\n",
              "      <td>Clothing</td>\n",
              "      <td>T-shirt</td>\n",
              "      <td>25.99</td>\n",
              "      <td>2</td>\n",
              "      <td>2025-01-20</td>\n",
              "      <td>True</td>\n",
              "      <td>51.98</td>\n",
              "    </tr>\n",
              "    <tr>\n",
              "      <th>2</th>\n",
              "      <td>ORD003</td>\n",
              "      <td>C101</td>\n",
              "      <td>Home</td>\n",
              "      <td>Lamp</td>\n",
              "      <td>45.75</td>\n",
              "      <td>1</td>\n",
              "      <td>2025-01-22</td>\n",
              "      <td>True</td>\n",
              "      <td>45.75</td>\n",
              "    </tr>\n",
              "    <tr>\n",
              "      <th>3</th>\n",
              "      <td>ORD004</td>\n",
              "      <td>C103</td>\n",
              "      <td>Electronics</td>\n",
              "      <td>Smartphone</td>\n",
              "      <td>800.00</td>\n",
              "      <td>1</td>\n",
              "      <td>2025-02-05</td>\n",
              "      <td>True</td>\n",
              "      <td>800.00</td>\n",
              "    </tr>\n",
              "    <tr>\n",
              "      <th>4</th>\n",
              "      <td>ORD005</td>\n",
              "      <td>C104</td>\n",
              "      <td>Books</td>\n",
              "      <td>Python Book</td>\n",
              "      <td>35.50</td>\n",
              "      <td>3</td>\n",
              "      <td>2025-02-10</td>\n",
              "      <td>False</td>\n",
              "      <td>106.50</td>\n",
              "    </tr>\n",
              "    <tr>\n",
              "      <th>5</th>\n",
              "      <td>ORD006</td>\n",
              "      <td>C103</td>\n",
              "      <td>Home</td>\n",
              "      <td>Chair</td>\n",
              "      <td>120.99</td>\n",
              "      <td>2</td>\n",
              "      <td>2025-02-15</td>\n",
              "      <td>False</td>\n",
              "      <td>241.98</td>\n",
              "    </tr>\n",
              "    <tr>\n",
              "      <th>6</th>\n",
              "      <td>ORD007</td>\n",
              "      <td>C105</td>\n",
              "      <td>Electronics</td>\n",
              "      <td>Headphones</td>\n",
              "      <td>75.25</td>\n",
              "      <td>1</td>\n",
              "      <td>2025-02-20</td>\n",
              "      <td>True</td>\n",
              "      <td>75.25</td>\n",
              "    </tr>\n",
              "    <tr>\n",
              "      <th>7</th>\n",
              "      <td>ORD008</td>\n",
              "      <td>C102</td>\n",
              "      <td>Clothing</td>\n",
              "      <td>Jeans</td>\n",
              "      <td>49.99</td>\n",
              "      <td>1</td>\n",
              "      <td>2025-03-01</td>\n",
              "      <td>False</td>\n",
              "      <td>49.99</td>\n",
              "    </tr>\n",
              "  </tbody>\n",
              "</table>\n",
              "</div>"
            ],
            "text/plain": [
              "  order_id customer_id product_category product_name    price  quantity  \\\n",
              "0   ORD001        C101      Electronics       Laptop  1200.50         1   \n",
              "1   ORD002        C102         Clothing      T-shirt    25.99         2   \n",
              "2   ORD003        C101             Home         Lamp    45.75         1   \n",
              "3   ORD004        C103      Electronics   Smartphone   800.00         1   \n",
              "4   ORD005        C104            Books  Python Book    35.50         3   \n",
              "5   ORD006        C103             Home        Chair   120.99         2   \n",
              "6   ORD007        C105      Electronics   Headphones    75.25         1   \n",
              "7   ORD008        C102         Clothing        Jeans    49.99         1   \n",
              "\n",
              "  order_date  is_delivered  total_amount  \n",
              "0 2025-01-15          True       1200.50  \n",
              "1 2025-01-20          True         51.98  \n",
              "2 2025-01-22          True         45.75  \n",
              "3 2025-02-05          True        800.00  \n",
              "4 2025-02-10         False        106.50  \n",
              "5 2025-02-15         False        241.98  \n",
              "6 2025-02-20          True         75.25  \n",
              "7 2025-03-01         False         49.99  "
            ]
          },
          "execution_count": 8,
          "metadata": {},
          "output_type": "execute_result"
        }
      ],
      "source": [
        "\n",
        "orders_df"
      ]
    },
    {
      "cell_type": "code",
      "execution_count": 10,
      "metadata": {},
      "outputs": [
        {
          "name": "stdout",
          "output_type": "stream",
          "text": [
            "\n",
            "Undelivered orders:\n"
          ]
        },
        {
          "data": {
            "application/vnd.microsoft.datawrangler.viewer.v0+json": {
              "columns": [
                {
                  "name": "index",
                  "rawType": "int64",
                  "type": "integer"
                },
                {
                  "name": "order_id",
                  "rawType": "object",
                  "type": "string"
                },
                {
                  "name": "customer_id",
                  "rawType": "object",
                  "type": "string"
                },
                {
                  "name": "product_category",
                  "rawType": "object",
                  "type": "string"
                },
                {
                  "name": "product_name",
                  "rawType": "object",
                  "type": "string"
                },
                {
                  "name": "price",
                  "rawType": "float64",
                  "type": "float"
                },
                {
                  "name": "quantity",
                  "rawType": "int64",
                  "type": "integer"
                },
                {
                  "name": "order_date",
                  "rawType": "datetime64[ns]",
                  "type": "datetime"
                },
                {
                  "name": "is_delivered",
                  "rawType": "bool",
                  "type": "boolean"
                },
                {
                  "name": "total_amount",
                  "rawType": "float64",
                  "type": "float"
                }
              ],
              "conversionMethod": "pd.DataFrame",
              "ref": "eebc128d-1287-4d11-8684-d3d4bef17b25",
              "rows": [
                [
                  "4",
                  "ORD005",
                  "C104",
                  "Books",
                  "Python Book",
                  "35.5",
                  "3",
                  "2025-02-10 00:00:00",
                  "False",
                  "106.5"
                ],
                [
                  "5",
                  "ORD006",
                  "C103",
                  "Home",
                  "Chair",
                  "120.99",
                  "2",
                  "2025-02-15 00:00:00",
                  "False",
                  "241.98"
                ],
                [
                  "7",
                  "ORD008",
                  "C102",
                  "Clothing",
                  "Jeans",
                  "49.99",
                  "1",
                  "2025-03-01 00:00:00",
                  "False",
                  "49.99"
                ]
              ],
              "shape": {
                "columns": 9,
                "rows": 3
              }
            },
            "text/html": [
              "<div>\n",
              "<style scoped>\n",
              "    .dataframe tbody tr th:only-of-type {\n",
              "        vertical-align: middle;\n",
              "    }\n",
              "\n",
              "    .dataframe tbody tr th {\n",
              "        vertical-align: top;\n",
              "    }\n",
              "\n",
              "    .dataframe thead th {\n",
              "        text-align: right;\n",
              "    }\n",
              "</style>\n",
              "<table border=\"1\" class=\"dataframe\">\n",
              "  <thead>\n",
              "    <tr style=\"text-align: right;\">\n",
              "      <th></th>\n",
              "      <th>order_id</th>\n",
              "      <th>customer_id</th>\n",
              "      <th>product_category</th>\n",
              "      <th>product_name</th>\n",
              "      <th>price</th>\n",
              "      <th>quantity</th>\n",
              "      <th>order_date</th>\n",
              "      <th>is_delivered</th>\n",
              "      <th>total_amount</th>\n",
              "    </tr>\n",
              "  </thead>\n",
              "  <tbody>\n",
              "    <tr>\n",
              "      <th>4</th>\n",
              "      <td>ORD005</td>\n",
              "      <td>C104</td>\n",
              "      <td>Books</td>\n",
              "      <td>Python Book</td>\n",
              "      <td>35.50</td>\n",
              "      <td>3</td>\n",
              "      <td>2025-02-10</td>\n",
              "      <td>False</td>\n",
              "      <td>106.50</td>\n",
              "    </tr>\n",
              "    <tr>\n",
              "      <th>5</th>\n",
              "      <td>ORD006</td>\n",
              "      <td>C103</td>\n",
              "      <td>Home</td>\n",
              "      <td>Chair</td>\n",
              "      <td>120.99</td>\n",
              "      <td>2</td>\n",
              "      <td>2025-02-15</td>\n",
              "      <td>False</td>\n",
              "      <td>241.98</td>\n",
              "    </tr>\n",
              "    <tr>\n",
              "      <th>7</th>\n",
              "      <td>ORD008</td>\n",
              "      <td>C102</td>\n",
              "      <td>Clothing</td>\n",
              "      <td>Jeans</td>\n",
              "      <td>49.99</td>\n",
              "      <td>1</td>\n",
              "      <td>2025-03-01</td>\n",
              "      <td>False</td>\n",
              "      <td>49.99</td>\n",
              "    </tr>\n",
              "  </tbody>\n",
              "</table>\n",
              "</div>"
            ],
            "text/plain": [
              "  order_id customer_id product_category product_name   price  quantity  \\\n",
              "4   ORD005        C104            Books  Python Book   35.50         3   \n",
              "5   ORD006        C103             Home        Chair  120.99         2   \n",
              "7   ORD008        C102         Clothing        Jeans   49.99         1   \n",
              "\n",
              "  order_date  is_delivered  total_amount  \n",
              "4 2025-02-10         False        106.50  \n",
              "5 2025-02-15         False        241.98  \n",
              "7 2025-03-01         False         49.99  "
            ]
          },
          "execution_count": 10,
          "metadata": {},
          "output_type": "execute_result"
        }
      ],
      "source": [
        "\n",
        "# Using NOT condition with ~\n",
        "# Orders that are not delivered\n",
        "undelivered = orders_df[~orders_df['is_delivered']]\n",
        "print(\"\\nUndelivered orders:\")\n",
        "undelivered"
      ]
    },
    {
      "cell_type": "markdown",
      "metadata": {},
      "source": [
        "### SQL Comparison for Complex Filters\n",
        "\n",
        "The complex filter above would be equivalent to this SQL:\n",
        "\n",
        "```sql\n",
        "SELECT * FROM orders\n",
        "WHERE (product_category = 'Electronics' AND price > 500)\n",
        "   OR (quantity > 1)\n",
        "```"
      ]
    },
    {
      "cell_type": "markdown",
      "metadata": {},
      "source": [
        "## 4. Filtering with .isin() Method\n",
        "\n",
        "When you want to filter based on multiple possible values (like SQL's `IN` clause), the `.isin()` method is very useful:"
      ]
    },
    {
      "cell_type": "code",
      "execution_count": 15,
      "metadata": {},
      "outputs": [
        {
          "data": {
            "application/vnd.microsoft.datawrangler.viewer.v0+json": {
              "columns": [
                {
                  "name": "index",
                  "rawType": "int64",
                  "type": "integer"
                },
                {
                  "name": "order_id",
                  "rawType": "object",
                  "type": "string"
                },
                {
                  "name": "customer_id",
                  "rawType": "object",
                  "type": "string"
                },
                {
                  "name": "product_category",
                  "rawType": "object",
                  "type": "string"
                },
                {
                  "name": "product_name",
                  "rawType": "object",
                  "type": "string"
                },
                {
                  "name": "price",
                  "rawType": "float64",
                  "type": "float"
                },
                {
                  "name": "quantity",
                  "rawType": "int64",
                  "type": "integer"
                },
                {
                  "name": "order_date",
                  "rawType": "datetime64[ns]",
                  "type": "datetime"
                },
                {
                  "name": "is_delivered",
                  "rawType": "bool",
                  "type": "boolean"
                },
                {
                  "name": "total_amount",
                  "rawType": "float64",
                  "type": "float"
                }
              ],
              "conversionMethod": "pd.DataFrame",
              "ref": "3e4c3ea6-f480-45df-9f81-e9c950f5bcc2",
              "rows": [
                [
                  "0",
                  "ORD001",
                  "C101",
                  "Electronics",
                  "Laptop",
                  "1200.5",
                  "1",
                  "2025-01-15 00:00:00",
                  "True",
                  "1200.5"
                ],
                [
                  "3",
                  "ORD004",
                  "C103",
                  "Electronics",
                  "Smartphone",
                  "800.0",
                  "1",
                  "2025-02-05 00:00:00",
                  "True",
                  "800.0"
                ],
                [
                  "4",
                  "ORD005",
                  "C104",
                  "Books",
                  "Python Book",
                  "35.5",
                  "3",
                  "2025-02-10 00:00:00",
                  "False",
                  "106.5"
                ],
                [
                  "6",
                  "ORD007",
                  "C105",
                  "Electronics",
                  "Headphones",
                  "75.25",
                  "1",
                  "2025-02-20 00:00:00",
                  "True",
                  "75.25"
                ]
              ],
              "shape": {
                "columns": 9,
                "rows": 4
              }
            },
            "text/html": [
              "<div>\n",
              "<style scoped>\n",
              "    .dataframe tbody tr th:only-of-type {\n",
              "        vertical-align: middle;\n",
              "    }\n",
              "\n",
              "    .dataframe tbody tr th {\n",
              "        vertical-align: top;\n",
              "    }\n",
              "\n",
              "    .dataframe thead th {\n",
              "        text-align: right;\n",
              "    }\n",
              "</style>\n",
              "<table border=\"1\" class=\"dataframe\">\n",
              "  <thead>\n",
              "    <tr style=\"text-align: right;\">\n",
              "      <th></th>\n",
              "      <th>order_id</th>\n",
              "      <th>customer_id</th>\n",
              "      <th>product_category</th>\n",
              "      <th>product_name</th>\n",
              "      <th>price</th>\n",
              "      <th>quantity</th>\n",
              "      <th>order_date</th>\n",
              "      <th>is_delivered</th>\n",
              "      <th>total_amount</th>\n",
              "    </tr>\n",
              "  </thead>\n",
              "  <tbody>\n",
              "    <tr>\n",
              "      <th>0</th>\n",
              "      <td>ORD001</td>\n",
              "      <td>C101</td>\n",
              "      <td>Electronics</td>\n",
              "      <td>Laptop</td>\n",
              "      <td>1200.50</td>\n",
              "      <td>1</td>\n",
              "      <td>2025-01-15</td>\n",
              "      <td>True</td>\n",
              "      <td>1200.50</td>\n",
              "    </tr>\n",
              "    <tr>\n",
              "      <th>3</th>\n",
              "      <td>ORD004</td>\n",
              "      <td>C103</td>\n",
              "      <td>Electronics</td>\n",
              "      <td>Smartphone</td>\n",
              "      <td>800.00</td>\n",
              "      <td>1</td>\n",
              "      <td>2025-02-05</td>\n",
              "      <td>True</td>\n",
              "      <td>800.00</td>\n",
              "    </tr>\n",
              "    <tr>\n",
              "      <th>4</th>\n",
              "      <td>ORD005</td>\n",
              "      <td>C104</td>\n",
              "      <td>Books</td>\n",
              "      <td>Python Book</td>\n",
              "      <td>35.50</td>\n",
              "      <td>3</td>\n",
              "      <td>2025-02-10</td>\n",
              "      <td>False</td>\n",
              "      <td>106.50</td>\n",
              "    </tr>\n",
              "    <tr>\n",
              "      <th>6</th>\n",
              "      <td>ORD007</td>\n",
              "      <td>C105</td>\n",
              "      <td>Electronics</td>\n",
              "      <td>Headphones</td>\n",
              "      <td>75.25</td>\n",
              "      <td>1</td>\n",
              "      <td>2025-02-20</td>\n",
              "      <td>True</td>\n",
              "      <td>75.25</td>\n",
              "    </tr>\n",
              "  </tbody>\n",
              "</table>\n",
              "</div>"
            ],
            "text/plain": [
              "  order_id customer_id product_category product_name    price  quantity  \\\n",
              "0   ORD001        C101      Electronics       Laptop  1200.50         1   \n",
              "3   ORD004        C103      Electronics   Smartphone   800.00         1   \n",
              "4   ORD005        C104            Books  Python Book    35.50         3   \n",
              "6   ORD007        C105      Electronics   Headphones    75.25         1   \n",
              "\n",
              "  order_date  is_delivered  total_amount  \n",
              "0 2025-01-15          True       1200.50  \n",
              "3 2025-02-05          True        800.00  \n",
              "4 2025-02-10         False        106.50  \n",
              "6 2025-02-20          True         75.25  "
            ]
          },
          "execution_count": 15,
          "metadata": {},
          "output_type": "execute_result"
        }
      ],
      "source": [
        "orders_df[(orders_df['product_category'] == 'Electronics') | (orders_df['product_category']=='Books')]"
      ]
    },
    {
      "cell_type": "code",
      "execution_count": 11,
      "metadata": {},
      "outputs": [
        {
          "name": "stdout",
          "output_type": "stream",
          "text": [
            "Orders for Electronics or Books using .isin():\n",
            "  order_id customer_id product_category product_name    price  quantity  \\\n",
            "0   ORD001        C101      Electronics       Laptop  1200.50         1   \n",
            "3   ORD004        C103      Electronics   Smartphone   800.00         1   \n",
            "4   ORD005        C104            Books  Python Book    35.50         3   \n",
            "6   ORD007        C105      Electronics   Headphones    75.25         1   \n",
            "\n",
            "  order_date  is_delivered  total_amount  \n",
            "0 2025-01-15          True       1200.50  \n",
            "3 2025-02-05          True        800.00  \n",
            "4 2025-02-10         False        106.50  \n",
            "6 2025-02-20          True         75.25  \n"
          ]
        }
      ],
      "source": [
        "# Filter orders for specific categories\n",
        "# SQL equivalent: WHERE product_category IN ('Electronics', 'Books')\n",
        "selected_categories = orders_df[orders_df['product_category'].isin(['Electronics', 'Books'])]\n",
        "print(\"Orders for Electronics or Books using .isin():\")\n",
        "print(selected_categories)\n"
      ]
    },
    {
      "cell_type": "code",
      "execution_count": 17,
      "metadata": {},
      "outputs": [
        {
          "name": "stdout",
          "output_type": "stream",
          "text": [
            "\n",
            "Orders from VIP customers:\n",
            "  order_id customer_id product_category product_name    price  quantity  \\\n",
            "0   ORD001        C101      Electronics       Laptop  1200.50         1   \n",
            "2   ORD003        C101             Home         Lamp    45.75         1   \n",
            "3   ORD004        C103      Electronics   Smartphone   800.00         1   \n",
            "5   ORD006        C103             Home        Chair   120.99         2   \n",
            "\n",
            "  order_date  is_delivered  total_amount  \n",
            "0 2025-01-15          True       1200.50  \n",
            "2 2025-01-22          True         45.75  \n",
            "3 2025-02-05          True        800.00  \n",
            "5 2025-02-15         False        241.98  \n"
          ]
        }
      ],
      "source": [
        "\n",
        "# Filter for specific customers\n",
        "vip_customers = ['C101', 'C103']\n",
        "vip_orders = orders_df[orders_df['customer_id'].isin(vip_customers)]\n",
        "print(\"\\nOrders from VIP customers:\")\n",
        "print(vip_orders)\n"
      ]
    },
    {
      "cell_type": "code",
      "execution_count": 18,
      "metadata": {},
      "outputs": [
        {
          "name": "stdout",
          "output_type": "stream",
          "text": [
            "\n",
            "Orders not in Electronics or Clothing categories:\n",
            "  order_id customer_id product_category product_name   price  quantity  \\\n",
            "2   ORD003        C101             Home         Lamp   45.75         1   \n",
            "4   ORD005        C104            Books  Python Book   35.50         3   \n",
            "5   ORD006        C103             Home        Chair  120.99         2   \n",
            "\n",
            "  order_date  is_delivered  total_amount  \n",
            "2 2025-01-22          True         45.75  \n",
            "4 2025-02-10         False        106.50  \n",
            "5 2025-02-15         False        241.98  \n"
          ]
        }
      ],
      "source": [
        "\n",
        "# NOT IN using ~\n",
        "# Orders that are not Electronics or Clothing\n",
        "other_categories = orders_df[~orders_df['product_category'].isin(['Electronics', 'Clothing'])]\n",
        "print(\"\\nOrders not in Electronics or Clothing categories:\")\n",
        "print(other_categories)"
      ]
    },
    {
      "cell_type": "markdown",
      "metadata": {},
      "source": [
        "## 5. Filtering with .between() for Range Checks\n",
        "\n",
        "To filter values within a range (like SQL's `BETWEEN` operator), use the `.between()` method:"
      ]
    },
    {
      "cell_type": "code",
      "execution_count": 19,
      "metadata": {},
      "outputs": [
        {
          "name": "stdout",
          "output_type": "stream",
          "text": [
            "Mid-range orders ($50-$500):\n",
            "  order_id customer_id product_category product_name   price  quantity  \\\n",
            "1   ORD002        C102         Clothing      T-shirt   25.99         2   \n",
            "4   ORD005        C104            Books  Python Book   35.50         3   \n",
            "5   ORD006        C103             Home        Chair  120.99         2   \n",
            "6   ORD007        C105      Electronics   Headphones   75.25         1   \n",
            "\n",
            "  order_date  is_delivered  total_amount  \n",
            "1 2025-01-20          True         51.98  \n",
            "4 2025-02-10         False        106.50  \n",
            "5 2025-02-15         False        241.98  \n",
            "6 2025-02-20          True         75.25  \n",
            "\n",
            "Orders from February 2025:\n",
            "  order_id customer_id product_category product_name   price  quantity  \\\n",
            "3   ORD004        C103      Electronics   Smartphone  800.00         1   \n",
            "4   ORD005        C104            Books  Python Book   35.50         3   \n",
            "5   ORD006        C103             Home        Chair  120.99         2   \n",
            "6   ORD007        C105      Electronics   Headphones   75.25         1   \n",
            "\n",
            "  order_date  is_delivered  total_amount  \n",
            "3 2025-02-05          True        800.00  \n",
            "4 2025-02-10         False        106.50  \n",
            "5 2025-02-15         False        241.98  \n",
            "6 2025-02-20          True         75.25  \n"
          ]
        }
      ],
      "source": [
        "# Orders with total amount between $50 and $500\n",
        "# SQL equivalent: WHERE total_amount BETWEEN 50 AND 500\n",
        "mid_range_orders = orders_df[orders_df['total_amount'].between(50, 500)]\n",
        "print(\"Mid-range orders ($50-$500):\")\n",
        "print(mid_range_orders)\n",
        "\n",
        "# Orders from February 2025\n",
        "feb_orders = orders_df[orders_df['order_date'].between('2025-02-01', '2025-02-28')]\n",
        "print(\"\\nOrders from February 2025:\")\n",
        "print(feb_orders)"
      ]
    },
    {
      "cell_type": "markdown",
      "metadata": {},
      "source": [
        "## 6. String Filtering Methods\n",
        "\n",
        "Pandas provides powerful string filtering methods through the `.str` accessor. These are similar to SQL's `LIKE` clause:"
      ]
    },
    {
      "cell_type": "code",
      "execution_count": null,
      "metadata": {},
      "outputs": [],
      "source": []
    },
    {
      "cell_type": "code",
      "execution_count": null,
      "metadata": {},
      "outputs": [
        {
          "name": "stdout",
          "output_type": "stream",
          "text": [
            "Products starting with 'L':\n"
          ]
        },
        {
          "data": {
            "application/vnd.microsoft.datawrangler.viewer.v0+json": {
              "columns": [
                {
                  "name": "index",
                  "rawType": "int64",
                  "type": "integer"
                },
                {
                  "name": "order_id",
                  "rawType": "object",
                  "type": "string"
                },
                {
                  "name": "customer_id",
                  "rawType": "object",
                  "type": "string"
                },
                {
                  "name": "product_category",
                  "rawType": "object",
                  "type": "string"
                },
                {
                  "name": "product_name",
                  "rawType": "object",
                  "type": "string"
                },
                {
                  "name": "price",
                  "rawType": "float64",
                  "type": "float"
                },
                {
                  "name": "quantity",
                  "rawType": "int64",
                  "type": "integer"
                },
                {
                  "name": "order_date",
                  "rawType": "datetime64[ns]",
                  "type": "datetime"
                },
                {
                  "name": "is_delivered",
                  "rawType": "bool",
                  "type": "boolean"
                },
                {
                  "name": "total_amount",
                  "rawType": "float64",
                  "type": "float"
                }
              ],
              "conversionMethod": "pd.DataFrame",
              "ref": "51ac5a33-1d9b-4149-bf9b-aed54d90aee7",
              "rows": [
                [
                  "0",
                  "ORD001",
                  "C101",
                  "Electronics",
                  "Laptop",
                  "1200.5",
                  "1",
                  "2025-01-15 00:00:00",
                  "True",
                  "1200.5"
                ],
                [
                  "2",
                  "ORD003",
                  "C101",
                  "Home",
                  "Lamp",
                  "45.75",
                  "1",
                  "2025-01-22 00:00:00",
                  "True",
                  "45.75"
                ]
              ],
              "shape": {
                "columns": 9,
                "rows": 2
              }
            },
            "text/html": [
              "<div>\n",
              "<style scoped>\n",
              "    .dataframe tbody tr th:only-of-type {\n",
              "        vertical-align: middle;\n",
              "    }\n",
              "\n",
              "    .dataframe tbody tr th {\n",
              "        vertical-align: top;\n",
              "    }\n",
              "\n",
              "    .dataframe thead th {\n",
              "        text-align: right;\n",
              "    }\n",
              "</style>\n",
              "<table border=\"1\" class=\"dataframe\">\n",
              "  <thead>\n",
              "    <tr style=\"text-align: right;\">\n",
              "      <th></th>\n",
              "      <th>order_id</th>\n",
              "      <th>customer_id</th>\n",
              "      <th>product_category</th>\n",
              "      <th>product_name</th>\n",
              "      <th>price</th>\n",
              "      <th>quantity</th>\n",
              "      <th>order_date</th>\n",
              "      <th>is_delivered</th>\n",
              "      <th>total_amount</th>\n",
              "    </tr>\n",
              "  </thead>\n",
              "  <tbody>\n",
              "    <tr>\n",
              "      <th>0</th>\n",
              "      <td>ORD001</td>\n",
              "      <td>C101</td>\n",
              "      <td>Electronics</td>\n",
              "      <td>Laptop</td>\n",
              "      <td>1200.50</td>\n",
              "      <td>1</td>\n",
              "      <td>2025-01-15</td>\n",
              "      <td>True</td>\n",
              "      <td>1200.50</td>\n",
              "    </tr>\n",
              "    <tr>\n",
              "      <th>2</th>\n",
              "      <td>ORD003</td>\n",
              "      <td>C101</td>\n",
              "      <td>Home</td>\n",
              "      <td>Lamp</td>\n",
              "      <td>45.75</td>\n",
              "      <td>1</td>\n",
              "      <td>2025-01-22</td>\n",
              "      <td>True</td>\n",
              "      <td>45.75</td>\n",
              "    </tr>\n",
              "  </tbody>\n",
              "</table>\n",
              "</div>"
            ],
            "text/plain": [
              "  order_id customer_id product_category product_name    price  quantity  \\\n",
              "0   ORD001        C101      Electronics       Laptop  1200.50         1   \n",
              "2   ORD003        C101             Home         Lamp    45.75         1   \n",
              "\n",
              "  order_date  is_delivered  total_amount  \n",
              "0 2025-01-15          True       1200.50  \n",
              "2 2025-01-22          True         45.75  "
            ]
          },
          "execution_count": 24,
          "metadata": {},
          "output_type": "execute_result"
        }
      ],
      "source": [
        "# Startswith - products that start with 'L'\n",
        "# SQL equivalent: WHERE product_name LIKE 'L%'\n",
        "l_products = orders_df[orders_df['product_name'].str.startswith('L')]\n",
        "print(\"Products starting with 'L':\")\n",
        "l_products\n"
      ]
    },
    {
      "cell_type": "code",
      "execution_count": 26,
      "metadata": {},
      "outputs": [
        {
          "data": {
            "application/vnd.microsoft.datawrangler.viewer.v0+json": {
              "columns": [
                {
                  "name": "index",
                  "rawType": "int64",
                  "type": "integer"
                },
                {
                  "name": "order_id",
                  "rawType": "object",
                  "type": "string"
                },
                {
                  "name": "customer_id",
                  "rawType": "object",
                  "type": "string"
                },
                {
                  "name": "product_category",
                  "rawType": "object",
                  "type": "string"
                },
                {
                  "name": "product_name",
                  "rawType": "object",
                  "type": "string"
                },
                {
                  "name": "price",
                  "rawType": "float64",
                  "type": "float"
                },
                {
                  "name": "quantity",
                  "rawType": "int64",
                  "type": "integer"
                },
                {
                  "name": "order_date",
                  "rawType": "datetime64[ns]",
                  "type": "datetime"
                },
                {
                  "name": "is_delivered",
                  "rawType": "bool",
                  "type": "boolean"
                },
                {
                  "name": "total_amount",
                  "rawType": "float64",
                  "type": "float"
                }
              ],
              "conversionMethod": "pd.DataFrame",
              "ref": "87b533b9-dfdb-4771-83eb-b2cf5d18d6a4",
              "rows": [
                [
                  "3",
                  "ORD004",
                  "C103",
                  "Electronics",
                  "Smartphone",
                  "800.0",
                  "1",
                  "2025-02-05 00:00:00",
                  "True",
                  "800.0"
                ],
                [
                  "6",
                  "ORD007",
                  "C105",
                  "Electronics",
                  "Headphones",
                  "75.25",
                  "1",
                  "2025-02-20 00:00:00",
                  "True",
                  "75.25"
                ]
              ],
              "shape": {
                "columns": 9,
                "rows": 2
              }
            },
            "text/html": [
              "<div>\n",
              "<style scoped>\n",
              "    .dataframe tbody tr th:only-of-type {\n",
              "        vertical-align: middle;\n",
              "    }\n",
              "\n",
              "    .dataframe tbody tr th {\n",
              "        vertical-align: top;\n",
              "    }\n",
              "\n",
              "    .dataframe thead th {\n",
              "        text-align: right;\n",
              "    }\n",
              "</style>\n",
              "<table border=\"1\" class=\"dataframe\">\n",
              "  <thead>\n",
              "    <tr style=\"text-align: right;\">\n",
              "      <th></th>\n",
              "      <th>order_id</th>\n",
              "      <th>customer_id</th>\n",
              "      <th>product_category</th>\n",
              "      <th>product_name</th>\n",
              "      <th>price</th>\n",
              "      <th>quantity</th>\n",
              "      <th>order_date</th>\n",
              "      <th>is_delivered</th>\n",
              "      <th>total_amount</th>\n",
              "    </tr>\n",
              "  </thead>\n",
              "  <tbody>\n",
              "    <tr>\n",
              "      <th>3</th>\n",
              "      <td>ORD004</td>\n",
              "      <td>C103</td>\n",
              "      <td>Electronics</td>\n",
              "      <td>Smartphone</td>\n",
              "      <td>800.00</td>\n",
              "      <td>1</td>\n",
              "      <td>2025-02-05</td>\n",
              "      <td>True</td>\n",
              "      <td>800.00</td>\n",
              "    </tr>\n",
              "    <tr>\n",
              "      <th>6</th>\n",
              "      <td>ORD007</td>\n",
              "      <td>C105</td>\n",
              "      <td>Electronics</td>\n",
              "      <td>Headphones</td>\n",
              "      <td>75.25</td>\n",
              "      <td>1</td>\n",
              "      <td>2025-02-20</td>\n",
              "      <td>True</td>\n",
              "      <td>75.25</td>\n",
              "    </tr>\n",
              "  </tbody>\n",
              "</table>\n",
              "</div>"
            ],
            "text/plain": [
              "  order_id customer_id product_category product_name   price  quantity  \\\n",
              "3   ORD004        C103      Electronics   Smartphone  800.00         1   \n",
              "6   ORD007        C105      Electronics   Headphones   75.25         1   \n",
              "\n",
              "  order_date  is_delivered  total_amount  \n",
              "3 2025-02-05          True        800.00  \n",
              "6 2025-02-20          True         75.25  "
            ]
          },
          "execution_count": 26,
          "metadata": {},
          "output_type": "execute_result"
        }
      ],
      "source": [
        "orders_df[orders_df['product_name'].str.contains('phone', case=False)]"
      ]
    },
    {
      "cell_type": "code",
      "execution_count": null,
      "metadata": {},
      "outputs": [],
      "source": [
        "\n",
        "# Contains - products with 'phone' in the name\n",
        "# SQL equivalent: WHERE product_name LIKE '%phone%'\n",
        "phone_products = orders_df[orders_df['product_name'].str.contains('phone', case=False)]\n",
        "print(\"\\nProducts containing 'phone':\")\n",
        "print(phone_products)\n"
      ]
    },
    {
      "cell_type": "code",
      "execution_count": 27,
      "metadata": {},
      "outputs": [
        {
          "name": "stdout",
          "output_type": "stream",
          "text": [
            "\n",
            "Products matching pattern 'p.t':\n",
            "  order_id customer_id product_category product_name  price  quantity  \\\n",
            "4   ORD005        C104            Books  Python Book   35.5         3   \n",
            "\n",
            "  order_date  is_delivered  total_amount  \n",
            "4 2025-02-10         False         106.5  \n"
          ]
        }
      ],
      "source": [
        "\n",
        "# Regular expressions\n",
        "# Products with names that contain 'p' followed by any character and then 't'\n",
        "# SQL equivalent: WHERE product_name REGEXP 'p.t'\n",
        "pattern_products = orders_df[orders_df['product_name'].str.contains(r'p.t', case=False, regex=True)]\n",
        "print(\"\\nProducts matching pattern 'p.t':\")\n",
        "print(pattern_products)"
      ]
    },
    {
      "cell_type": "markdown",
      "metadata": {},
      "source": [
        "## 7. The .query() Method\n",
        "\n",
        "Pandas provides the `.query()` method for a more SQL-like syntax that can be more readable for complex filters:"
      ]
    },
    {
      "cell_type": "code",
      "execution_count": 28,
      "metadata": {},
      "outputs": [
        {
          "name": "stdout",
          "output_type": "stream",
          "text": [
            "Electronics products using query():\n",
            "  order_id customer_id product_category product_name    price  quantity  \\\n",
            "0   ORD001        C101      Electronics       Laptop  1200.50         1   \n",
            "3   ORD004        C103      Electronics   Smartphone   800.00         1   \n",
            "6   ORD007        C105      Electronics   Headphones    75.25         1   \n",
            "\n",
            "  order_date  is_delivered  total_amount  \n",
            "0 2025-01-15          True       1200.50  \n",
            "3 2025-02-05          True        800.00  \n",
            "6 2025-02-20          True         75.25  \n"
          ]
        }
      ],
      "source": [
        "# Simple query\n",
        "# SQL equivalent: WHERE product_category = 'Electronics'\n",
        "electronics = orders_df.query(\"product_category == 'Electronics'\")\n",
        "print(\"Electronics products using query():\")\n",
        "print(electronics)\n"
      ]
    },
    {
      "cell_type": "code",
      "execution_count": null,
      "metadata": {},
      "outputs": [],
      "source": []
    },
    {
      "cell_type": "code",
      "execution_count": 29,
      "metadata": {},
      "outputs": [
        {
          "name": "stdout",
          "output_type": "stream",
          "text": [
            "\n",
            "Complex query result:\n",
            "  order_id customer_id product_category product_name    price  quantity  \\\n",
            "0   ORD001        C101      Electronics       Laptop  1200.50         1   \n",
            "3   ORD004        C103      Electronics   Smartphone   800.00         1   \n",
            "6   ORD007        C105      Electronics   Headphones    75.25         1   \n",
            "\n",
            "  order_date  is_delivered  total_amount  \n",
            "0 2025-01-15          True       1200.50  \n",
            "3 2025-02-05          True        800.00  \n",
            "6 2025-02-20          True         75.25  \n"
          ]
        }
      ],
      "source": [
        "\n",
        "# Complex query with multiple conditions\n",
        "# SQL equivalent: WHERE (product_category == 'Electronics' OR product_category == 'Books') AND price > 50\n",
        "complex_query = orders_df.query(\"(product_category == 'Electronics' or product_category == 'Books') and price > 50\")\n",
        "print(\"\\nComplex query result:\")\n",
        "print(complex_query)\n"
      ]
    },
    {
      "cell_type": "code",
      "execution_count": 31,
      "metadata": {},
      "outputs": [
        {
          "name": "stdout",
          "output_type": "stream",
          "text": [
            "\n",
            "Orders with price between $100 and $500:\n",
            "  order_id customer_id product_category product_name   price  quantity  \\\n",
            "1   ORD002        C102         Clothing      T-shirt   25.99         2   \n",
            "2   ORD003        C101             Home         Lamp   45.75         1   \n",
            "4   ORD005        C104            Books  Python Book   35.50         3   \n",
            "5   ORD006        C103             Home        Chair  120.99         2   \n",
            "6   ORD007        C105      Electronics   Headphones   75.25         1   \n",
            "7   ORD008        C102         Clothing        Jeans   49.99         1   \n",
            "\n",
            "  order_date  is_delivered  total_amount  \n",
            "1 2025-01-20          True         51.98  \n",
            "2 2025-01-22          True         45.75  \n",
            "4 2025-02-10         False        106.50  \n",
            "5 2025-02-15         False        241.98  \n",
            "6 2025-02-20          True         75.25  \n",
            "7 2025-03-01         False         49.99  \n"
          ]
        }
      ],
      "source": [
        "\n",
        "# Using variables in queries with @\n",
        "min_price = 10\n",
        "max_price = 500\n",
        "price_range_query = orders_df.query(\"price >= @min_price and price <= @max_price\")\n",
        "print(\"\\nOrders with price between $100 and $500:\")\n",
        "print(price_range_query)"
      ]
    },
    {
      "cell_type": "markdown",
      "metadata": {},
      "source": [
        "## 8. Using .where() and .mask() for Conditional Replacement\n",
        "\n",
        "The `.where()` and `.mask()` methods filter data but also let you replace values that don't meet your criteria:"
      ]
    },
    {
      "cell_type": "code",
      "execution_count": 34,
      "metadata": {},
      "outputs": [
        {
          "data": {
            "application/vnd.microsoft.datawrangler.viewer.v0+json": {
              "columns": [
                {
                  "name": "index",
                  "rawType": "int64",
                  "type": "integer"
                },
                {
                  "name": "order_id",
                  "rawType": "object",
                  "type": "string"
                },
                {
                  "name": "customer_id",
                  "rawType": "object",
                  "type": "string"
                },
                {
                  "name": "product_category",
                  "rawType": "object",
                  "type": "string"
                },
                {
                  "name": "product_name",
                  "rawType": "object",
                  "type": "string"
                },
                {
                  "name": "price",
                  "rawType": "float64",
                  "type": "float"
                },
                {
                  "name": "quantity",
                  "rawType": "int64",
                  "type": "integer"
                },
                {
                  "name": "order_date",
                  "rawType": "datetime64[ns]",
                  "type": "datetime"
                },
                {
                  "name": "is_delivered",
                  "rawType": "bool",
                  "type": "boolean"
                },
                {
                  "name": "total_amount",
                  "rawType": "float64",
                  "type": "float"
                }
              ],
              "conversionMethod": "pd.DataFrame",
              "ref": "ecce9cb4-22d8-4eeb-878b-0f41ea7b0116",
              "rows": [
                [
                  "0",
                  "ORD001",
                  "C101",
                  "Electronics",
                  "Laptop",
                  "1200.5",
                  "1",
                  "2025-01-15 00:00:00",
                  "True",
                  "1200.5"
                ],
                [
                  "1",
                  "ORD002",
                  "C102",
                  "Clothing",
                  "T-shirt",
                  "25.99",
                  "2",
                  "2025-01-20 00:00:00",
                  "True",
                  "51.98"
                ],
                [
                  "2",
                  "ORD003",
                  "C101",
                  "Home",
                  "Lamp",
                  "45.75",
                  "1",
                  "2025-01-22 00:00:00",
                  "True",
                  "45.75"
                ],
                [
                  "3",
                  "ORD004",
                  "C103",
                  "Electronics",
                  "Smartphone",
                  "800.0",
                  "1",
                  "2025-02-05 00:00:00",
                  "True",
                  "800.0"
                ],
                [
                  "4",
                  "ORD005",
                  "C104",
                  "Books",
                  "Python Book",
                  "35.5",
                  "3",
                  "2025-02-10 00:00:00",
                  "False",
                  "106.5"
                ],
                [
                  "5",
                  "ORD006",
                  "C103",
                  "Home",
                  "Chair",
                  "120.99",
                  "2",
                  "2025-02-15 00:00:00",
                  "False",
                  "241.98"
                ],
                [
                  "6",
                  "ORD007",
                  "C105",
                  "Electronics",
                  "Headphones",
                  "75.25",
                  "1",
                  "2025-02-20 00:00:00",
                  "True",
                  "75.25"
                ],
                [
                  "7",
                  "ORD008",
                  "C102",
                  "Clothing",
                  "Jeans",
                  "49.99",
                  "1",
                  "2025-03-01 00:00:00",
                  "False",
                  "49.99"
                ]
              ],
              "shape": {
                "columns": 9,
                "rows": 8
              }
            },
            "text/html": [
              "<div>\n",
              "<style scoped>\n",
              "    .dataframe tbody tr th:only-of-type {\n",
              "        vertical-align: middle;\n",
              "    }\n",
              "\n",
              "    .dataframe tbody tr th {\n",
              "        vertical-align: top;\n",
              "    }\n",
              "\n",
              "    .dataframe thead th {\n",
              "        text-align: right;\n",
              "    }\n",
              "</style>\n",
              "<table border=\"1\" class=\"dataframe\">\n",
              "  <thead>\n",
              "    <tr style=\"text-align: right;\">\n",
              "      <th></th>\n",
              "      <th>order_id</th>\n",
              "      <th>customer_id</th>\n",
              "      <th>product_category</th>\n",
              "      <th>product_name</th>\n",
              "      <th>price</th>\n",
              "      <th>quantity</th>\n",
              "      <th>order_date</th>\n",
              "      <th>is_delivered</th>\n",
              "      <th>total_amount</th>\n",
              "    </tr>\n",
              "  </thead>\n",
              "  <tbody>\n",
              "    <tr>\n",
              "      <th>0</th>\n",
              "      <td>ORD001</td>\n",
              "      <td>C101</td>\n",
              "      <td>Electronics</td>\n",
              "      <td>Laptop</td>\n",
              "      <td>1200.50</td>\n",
              "      <td>1</td>\n",
              "      <td>2025-01-15</td>\n",
              "      <td>True</td>\n",
              "      <td>1200.50</td>\n",
              "    </tr>\n",
              "    <tr>\n",
              "      <th>1</th>\n",
              "      <td>ORD002</td>\n",
              "      <td>C102</td>\n",
              "      <td>Clothing</td>\n",
              "      <td>T-shirt</td>\n",
              "      <td>25.99</td>\n",
              "      <td>2</td>\n",
              "      <td>2025-01-20</td>\n",
              "      <td>True</td>\n",
              "      <td>51.98</td>\n",
              "    </tr>\n",
              "    <tr>\n",
              "      <th>2</th>\n",
              "      <td>ORD003</td>\n",
              "      <td>C101</td>\n",
              "      <td>Home</td>\n",
              "      <td>Lamp</td>\n",
              "      <td>45.75</td>\n",
              "      <td>1</td>\n",
              "      <td>2025-01-22</td>\n",
              "      <td>True</td>\n",
              "      <td>45.75</td>\n",
              "    </tr>\n",
              "    <tr>\n",
              "      <th>3</th>\n",
              "      <td>ORD004</td>\n",
              "      <td>C103</td>\n",
              "      <td>Electronics</td>\n",
              "      <td>Smartphone</td>\n",
              "      <td>800.00</td>\n",
              "      <td>1</td>\n",
              "      <td>2025-02-05</td>\n",
              "      <td>True</td>\n",
              "      <td>800.00</td>\n",
              "    </tr>\n",
              "    <tr>\n",
              "      <th>4</th>\n",
              "      <td>ORD005</td>\n",
              "      <td>C104</td>\n",
              "      <td>Books</td>\n",
              "      <td>Python Book</td>\n",
              "      <td>35.50</td>\n",
              "      <td>3</td>\n",
              "      <td>2025-02-10</td>\n",
              "      <td>False</td>\n",
              "      <td>106.50</td>\n",
              "    </tr>\n",
              "    <tr>\n",
              "      <th>5</th>\n",
              "      <td>ORD006</td>\n",
              "      <td>C103</td>\n",
              "      <td>Home</td>\n",
              "      <td>Chair</td>\n",
              "      <td>120.99</td>\n",
              "      <td>2</td>\n",
              "      <td>2025-02-15</td>\n",
              "      <td>False</td>\n",
              "      <td>241.98</td>\n",
              "    </tr>\n",
              "    <tr>\n",
              "      <th>6</th>\n",
              "      <td>ORD007</td>\n",
              "      <td>C105</td>\n",
              "      <td>Electronics</td>\n",
              "      <td>Headphones</td>\n",
              "      <td>75.25</td>\n",
              "      <td>1</td>\n",
              "      <td>2025-02-20</td>\n",
              "      <td>True</td>\n",
              "      <td>75.25</td>\n",
              "    </tr>\n",
              "    <tr>\n",
              "      <th>7</th>\n",
              "      <td>ORD008</td>\n",
              "      <td>C102</td>\n",
              "      <td>Clothing</td>\n",
              "      <td>Jeans</td>\n",
              "      <td>49.99</td>\n",
              "      <td>1</td>\n",
              "      <td>2025-03-01</td>\n",
              "      <td>False</td>\n",
              "      <td>49.99</td>\n",
              "    </tr>\n",
              "  </tbody>\n",
              "</table>\n",
              "</div>"
            ],
            "text/plain": [
              "  order_id customer_id product_category product_name    price  quantity  \\\n",
              "0   ORD001        C101      Electronics       Laptop  1200.50         1   \n",
              "1   ORD002        C102         Clothing      T-shirt    25.99         2   \n",
              "2   ORD003        C101             Home         Lamp    45.75         1   \n",
              "3   ORD004        C103      Electronics   Smartphone   800.00         1   \n",
              "4   ORD005        C104            Books  Python Book    35.50         3   \n",
              "5   ORD006        C103             Home        Chair   120.99         2   \n",
              "6   ORD007        C105      Electronics   Headphones    75.25         1   \n",
              "7   ORD008        C102         Clothing        Jeans    49.99         1   \n",
              "\n",
              "  order_date  is_delivered  total_amount  \n",
              "0 2025-01-15          True       1200.50  \n",
              "1 2025-01-20          True         51.98  \n",
              "2 2025-01-22          True         45.75  \n",
              "3 2025-02-05          True        800.00  \n",
              "4 2025-02-10         False        106.50  \n",
              "5 2025-02-15         False        241.98  \n",
              "6 2025-02-20          True         75.25  \n",
              "7 2025-03-01         False         49.99  "
            ]
          },
          "execution_count": 34,
          "metadata": {},
          "output_type": "execute_result"
        }
      ],
      "source": [
        "orders_df"
      ]
    },
    {
      "cell_type": "code",
      "execution_count": 33,
      "metadata": {},
      "outputs": [
        {
          "name": "stdout",
          "output_type": "stream",
          "text": [
            "Modified prices using .where():\n"
          ]
        },
        {
          "data": {
            "text/plain": [
              "0    1200.50\n",
              "1      62.62\n",
              "2      62.62\n",
              "3     800.00\n",
              "4      62.62\n",
              "5      62.62\n",
              "6      62.62\n",
              "7      62.62\n",
              "Name: price, dtype: float64"
            ]
          },
          "execution_count": 33,
          "metadata": {},
          "output_type": "execute_result"
        }
      ],
      "source": [
        "# Using .where() to keep values that meet a condition, replace others with a value\n",
        "# Keep original price for expensive items (>500), set others to the median price\n",
        "median_price = orders_df['price'].median()\n",
        "price_modified = orders_df['price'].where(orders_df['price'] > 500, median_price)\n",
        "print(\"Modified prices using .where():\")\n",
        "price_modified\n"
      ]
    },
    {
      "cell_type": "code",
      "execution_count": 35,
      "metadata": {},
      "outputs": [
        {
          "name": "stdout",
          "output_type": "stream",
          "text": [
            "\n",
            "Discounted prices using .mask():\n",
            "0    1080.450\n",
            "1      25.990\n",
            "2      45.750\n",
            "3     720.000\n",
            "4      35.500\n",
            "5     120.990\n",
            "6      67.725\n",
            "7      49.990\n",
            "Name: price, dtype: float64\n"
          ]
        }
      ],
      "source": [
        "\n",
        "# Using .mask() (opposite of .where()) to replace values that meet a condition\n",
        "# Apply a 10% discount to Electronics items\n",
        "discounted_prices = orders_df['price'].mask(orders_df['product_category'] == 'Electronics', \n",
        "                                           orders_df['price'] * 0.9)\n",
        "print(\"\\nDiscounted prices using .mask():\")\n",
        "print(discounted_prices)"
      ]
    },
    {
      "cell_type": "markdown",
      "metadata": {},
      "source": [
        "## 9. Filtering Time Series Data\n",
        "\n",
        "Pandas provides specialized methods for filtering time series data:"
      ]
    },
    {
      "cell_type": "code",
      "execution_count": null,
      "metadata": {},
      "outputs": [],
      "source": [
        "# Filter by specific date periods\n",
        "# Orders from January 2025\n",
        "jan_orders = orders_df[orders_df['order_date'].dt.month == 1]\n",
        "print(\"January 2025 orders:\")\n",
        "print(jan_orders)\n",
        "\n",
        "# Orders from the first quarter of 2025\n",
        "q1_orders = orders_df[orders_df['order_date'].dt.quarter == 1]\n",
        "print(\"\\nQ1 2025 orders:\")\n",
        "print(q1_orders)\n",
        "\n",
        "# Orders from weekdays (Monday-Friday)\n",
        "weekday_orders = orders_df[orders_df['order_date'].dt.dayofweek < 5]\n",
        "print(\"\\nWeekday orders:\")\n",
        "print(weekday_orders)"
      ]
    },
    {
      "cell_type": "markdown",
      "metadata": {},
      "source": [
        "## 10. Chaining Filters\n",
        "\n",
        "You can chain multiple filter operations for a step-by-step filtering approach:"
      ]
    },
    {
      "cell_type": "code",
      "execution_count": null,
      "metadata": {},
      "outputs": [],
      "source": [
        "# Chain filters to find high-value Electronics orders from January 2025\n",
        "result = (orders_df\n",
        "          .query(\"product_category == 'Electronics'\")\n",
        "          .query(\"order_date >= '2025-01-01' and order_date <= '2025-01-31'\")\n",
        "          .query(\"total_amount > 1000\")\n",
        "         )\n",
        "print(\"High-value Electronics orders from January 2025:\")\n",
        "print(result)\n",
        "\n",
        "# Alternative method using boolean filters\n",
        "result_alt = (orders_df\n",
        "             [orders_df['product_category'] == 'Electronics']\n",
        "             [orders_df['order_date'].dt.month == 1]\n",
        "             [orders_df['total_amount'] > 1000]\n",
        "             )\n",
        "print(\"\\nSame result using boolean filters:\")\n",
        "print(result_alt)"
      ]
    },
    {
      "cell_type": "markdown",
      "metadata": {},
      "source": [
        "## 11. SQL to Pandas Filtering Translation Guide\n",
        "\n",
        "Let's expand our SQL translation guide with filtering-focused operations:\n",
        "\n",
        "| SQL Operation | Pandas Equivalent |\n",
        "|--------------|-------------------|\n",
        "| `WHERE col = value` | `df[df['col'] == value]` or `df.query(\"col == value\")` |\n",
        "| `WHERE col > value` | `df[df['col'] > value]` or `df.query(\"col > value\")` |\n",
        "| `WHERE col1 = val1 AND col2 = val2` | `df[(df['col1'] == val1) & (df['col2'] == val2)]` |\n",
        "| `WHERE col1 = val1 OR col2 = val2` | `df[(df['col1'] == val1) | (df['col2'] == val2)]` |\n",
        "| `WHERE col IN (val1, val2)` | `df[df['col'].isin([val1, val2])]` |\n",
        "| `WHERE col NOT IN (val1, val2)` | `df[~df['col'].isin([val1, val2])]` |\n",
        "| `WHERE col BETWEEN val1 AND val2` | `df[df['col'].between(val1, val2)]` |\n",
        "| `WHERE col LIKE 'pattern%'` | `df[df['col'].str.startswith('pattern')]` |\n",
        "| `WHERE col LIKE '%pattern%'` | `df[df['col'].str.contains('pattern')]` |\n",
        "| `WHERE col IS NULL` | `df[df['col'].isna()]` |\n",
        "| `WHERE col IS NOT NULL` | `df[df['col'].notna()]` |\n",
        "| `WHERE DATE_PART('month', date_col) = 1` | `df[df['date_col'].dt.month == 1]` |"
      ]
    },
    {
      "cell_type": "markdown",
      "metadata": {},
      "source": [
        "## 12. Practice Exercises\n",
        "\n",
        "Let's practice these filtering techniques with some exercises:"
      ]
    },
    {
      "cell_type": "markdown",
      "metadata": {},
      "source": [
        "### Exercise 1: Basic Filtering\n",
        "Find all orders from customer C102 or C104."
      ]
    },
    {
      "cell_type": "code",
      "execution_count": null,
      "metadata": {},
      "outputs": [],
      "source": [
        "# Your code here"
      ]
    },
    {
      "cell_type": "markdown",
      "metadata": {},
      "source": [
        "### Exercise 2: Complex Filtering\n",
        "Find all Electronics products that cost less than $100 or any product purchased in quantities greater than 2."
      ]
    },
    {
      "cell_type": "code",
      "execution_count": null,
      "metadata": {},
      "outputs": [],
      "source": [
        "# Your code here"
      ]
    },
    {
      "cell_type": "markdown",
      "metadata": {},
      "source": [
        "### Exercise 3: String Filtering\n",
        "Find all products whose names contain the letter 'a' (case insensitive)."
      ]
    },
    {
      "cell_type": "code",
      "execution_count": null,
      "metadata": {},
      "outputs": [],
      "source": [
        "# Your code here"
      ]
    },
    {
      "cell_type": "markdown",
      "metadata": {},
      "source": [
        "### Exercise 4: SQL to Pandas Translation\n",
        "Translate the following SQL query to Pandas:\n",
        "```sql\n",
        "SELECT * FROM orders\n",
        "WHERE (product_category = 'Electronics' OR product_category = 'Home')\n",
        "AND is_delivered = TRUE\n",
        "AND order_date >= '2025-02-01'\n",
        "ORDER BY total_amount DESC\n",
        "```"
      ]
    },
    {
      "cell_type": "code",
      "execution_count": null,
      "metadata": {},
      "outputs": [],
      "source": [
        "# Your code here"
      ]
    },
    {
      "cell_type": "markdown",
      "metadata": {},
      "source": [
        "### Exercise 5: Advanced Filtering\n",
        "Find all orders that meet these criteria:\n",
        "- Placed on a weekend (Saturday or Sunday)\n",
        "- Total amount is above the average total amount for all orders\n",
        "- For products in either the 'Electronics' or 'Books' categories"
      ]
    },
    {
      "cell_type": "code",
      "execution_count": null,
      "metadata": {},
      "outputs": [],
      "source": [
        "# Your code here"
      ]
    },
    {
      "cell_type": "markdown",
      "metadata": {},
      "source": [
        "## Next Steps\n",
        "\n",
        "In the next part, we'll cover \"Handling missing values\" in Pandas DataFrames, another essential skill for data preprocessing.\n",
        "\n",
        "Continue to Part 3: Handling Missing Values when you're ready to proceed."
      ]
    }
  ],
  "metadata": {
    "kernelspec": {
      "display_name": ".venv (3.13.2)",
      "language": "python",
      "name": "python3"
    },
    "language_info": {
      "codemirror_mode": {
        "name": "ipython",
        "version": 3
      },
      "file_extension": ".py",
      "mimetype": "text/x-python",
      "name": "python",
      "nbconvert_exporter": "python",
      "pygments_lexer": "ipython3",
      "version": "3.13.2"
    }
  },
  "nbformat": 4,
  "nbformat_minor": 4
}

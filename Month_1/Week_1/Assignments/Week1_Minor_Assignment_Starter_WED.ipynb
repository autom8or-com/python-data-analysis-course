{
 "cells": [
  {
   "cell_type": "markdown",
   "metadata": {},
   "source": [
    "# Week 1 Minor Assignment: Introduction to Python and Google Colab\n",
    "\n",
    "**Group Name:**  \n",
    "**Submission Date:**  \n",
    "\n",
    "## Instructions\n",
    "Complete all tasks in this notebook. Include descriptive markdown text between code cells to explain your approach. Make sure to run all cells before submission."
   ]
  },
  {
   "cell_type": "markdown",
   "metadata": {},
   "source": [
    "## Dataset Loading\n",
    "\n",
    "First, let's load the datasets we'll be working with."
   ]
  },
  {
   "cell_type": "code",
   "execution_count": null,
   "metadata": {},
   "outputs": [],
   "source": [
    "# Import necessary libraries\n",
    "import pandas as pd\n",
    "import numpy as np\n",
    "\n",
    "# Load datasets\n",
    "# Note: Modify the paths below based on your file locations\n",
    "sales_data = pd.read_csv('sales_data.csv')\n",
    "customers = pd.read_csv('customers.csv')\n",
    "orders = pd.read_csv('orders.csv')\n",
    "order_items = pd.read_csv('order_items.csv')\n",
    "product_reviews = pd.read_csv('product_reviews.csv')\n",
    "\n",
    "# Display the first few rows of each dataset to verify loading\n",
    "print(\"Sales Data:\")\n",
    "print(sales_data.head())\n",
    "\n",
    "print(\"\\nCustomers:\")\n",
    "print(customers.head())\n",
    "\n",
    "print(\"\\nOrders:\")\n",
    "print(orders.head())\n",
    "\n",
    "print(\"\\nOrder Items:\")\n",
    "print(order_items.head())\n",
    "\n",
    "print(\"\\nProduct Reviews:\")\n",
    "print(product_reviews.head())"
   ]
  },
  {
   "cell_type": "markdown",
   "metadata": {},
   "source": [
    "## Part 1: Basic Python Variables and Operations (20 points)\n",
    "\n",
    "1. Create variables for:\n",
    "   - A product name (string)\n",
    "   - A product price (float)\n",
    "   - Whether the product is in stock (boolean)\n",
    "   - The stock quantity (integer)"
   ]
  },
  {
   "cell_type": "code",
   "execution_count": null,
   "metadata": {},
   "outputs": [],
   "source": [
    "# Your code here\n"
   ]
  },
  {
   "cell_type": "markdown",
   "metadata": {},
   "source": [
    "2. Write expressions that:\n",
    "   - Calculate the total value of the inventory (price × quantity)\n",
    "   - Apply a 15% discount to the price\n",
    "   - Check if the product is in stock AND the price is less than $100\n",
    "   - Create a formatted string showing product details"
   ]
  },
  {
   "cell_type": "code",
   "execution_count": null,
   "metadata": {},
   "outputs": [],
   "source": [
    "# Your code here\n"
   ]
  },
  {
   "cell_type": "markdown",
   "metadata": {},
   "source": [
    "## Part 2: Working with Data Structures (25 points)\n",
    "\n",
    "1. Create a list of at least 5 products with their prices"
   ]
  },
  {
   "cell_type": "code",
   "execution_count": null,
   "metadata": {},
   "outputs": [],
   "source": [
    "# Your code here\n"
   ]
  },
  {
   "cell_type": "markdown",
   "metadata": {},
   "source": [
    "2. Create a dictionary representing a single product with the following keys:\n",
    "   - `id`, `name`, `price`, `category`, `in_stock`, `features` (list of features)"
   ]
  },
  {
   "cell_type": "code",
   "execution_count": null,
   "metadata": {},
   "outputs": [],
   "source": [
    "# Your code here\n"
   ]
  },
  {
   "cell_type": "markdown",
   "metadata": {},
   "source": [
    "3. Using the list of products:\n",
    "   - Find the most expensive product\n",
    "   - Calculate the average price\n",
    "   - Create a new list containing only products under $50"
   ]
  },
  {
   "cell_type": "code",
   "execution_count": null,
   "metadata": {},
   "outputs": [],
   "source": [
    "# Your code here\n"
   ]
  },
  {
   "cell_type": "markdown",
   "metadata": {},
   "source": [
    "4. Using the product dictionary:\n",
    "   - Add a new key for `discount_price` that's 10% off the original price\n",
    "   - Add a new feature to the features list\n",
    "   - Create a formatted string that describes the product"
   ]
  },
  {
   "cell_type": "code",
   "execution_count": null,
   "metadata": {},
   "outputs": [],
   "source": [
    "# Your code here\n"
   ]
  },
  {
   "cell_type": "markdown",
   "metadata": {},
   "source": [
    "## Part 3: Functions and Control Flow (25 points)\n",
    "\n",
    "1. Write a function called `calculate_total_price(price, quantity, tax_rate=0.08)` that:\n",
    "   - Calculates the subtotal (price × quantity)\n",
    "   - Adds tax based on the provided rate\n",
    "   - Returns the final total\n",
    "   - Test your function with at least 3 different scenarios"
   ]
  },
  {
   "cell_type": "code",
   "execution_count": null,
   "metadata": {},
   "outputs": [],
   "source": [
    "# Your code here\n"
   ]
  },
  {
   "cell_type": "markdown",
   "metadata": {},
   "source": [
    "2. Write a function called `analyze_sales(products_data)` that:\n",
    "   - Takes a list of product dictionaries\n",
    "   - Groups products by category\n",
    "   - Calculates the average price per category\n",
    "   - Returns a dictionary with categories as keys and average prices as values\n",
    "   - Test your function with a sample list of at least 6 products across 3 categories"
   ]
  },
  {
   "cell_type": "code",
   "execution_count": null,
   "metadata": {},
   "outputs": [],
   "source": [
    "# Your code here\n"
   ]
  },
  {
   "cell_type": "markdown",
   "metadata": {},
   "source": [
    "3. Write a function called `check_inventory(product, threshold=10)` that:\n",
    "   - Returns \"Low stock\" if quantity is below the threshold\n",
    "   - Returns \"In stock\" if quantity is at or above the threshold\n",
    "   - Returns \"Out of stock\" if quantity is 0\n",
    "   - Test with different product scenarios"
   ]
  },
  {
   "cell_type": "code",
   "execution_count": null,
   "metadata": {},
   "outputs": [],
   "source": [
    "# Your code here\n"
   ]
  },
  {
   "cell_type": "markdown",
   "metadata": {},
   "source": [
    "## Part 4: SQL to Python Translation (30 points)\n",
    "\n",
    "Using the provided CSV datasets, translate the following SQL queries to Python code using pandas:"
   ]
  },
  {
   "cell_type": "markdown",
   "metadata": {},
   "source": [
    "1. Basic Selection and Filtering\n",
    "```sql\n",
    "SELECT * FROM products WHERE category = 'Electronics' AND price > 100;\n",
    "```"
   ]
  },
  {
   "cell_type": "code",
   "execution_count": null,
   "metadata": {},
   "outputs": [],
   "source": [
    "# Your pandas code here\n"
   ]
  },
  {
   "cell_type": "markdown",
   "metadata": {},
   "source": [
    "2. Aggregation and Grouping\n",
    "```sql\n",
    "SELECT category, COUNT(*) as product_count, AVG(price) as avg_price \n",
    "FROM products \n",
    "GROUP BY category;\n",
    "```"
   ]
  },
  {
   "cell_type": "code",
   "execution_count": null,
   "metadata": {},
   "outputs": [],
   "source": [
    "# Your pandas code here\n"
   ]
  },
  {
   "cell_type": "markdown",
   "metadata": {},
   "source": [
    "3. Joining Tables\n",
    "```sql\n",
    "SELECT o.order_id, c.first_name, c.last_name, o.order_date, o.total_amount\n",
    "FROM orders o\n",
    "JOIN customers c ON o.customer_id = c.customer_id\n",
    "WHERE o.total_amount > 200\n",
    "ORDER BY o.order_date DESC;\n",
    "```"
   ]
  },
  {
   "cell_type": "code",
   "execution_count": null,
   "metadata": {},
   "outputs": [],
   "source": [
    "# Your pandas code here\n"
   ]
  },
  {
   "cell_type": "markdown",
   "metadata": {},
   "source": [
    "4. Complex Query with Multiple Joins\n",
    "```sql\n",
    "SELECT \n",
    "    p.product_name,\n",
    "    COUNT(DISTINCT o.order_id) as order_count,\n",
    "    SUM(oi.quantity) as total_quantity,\n",
    "    AVG(oi.unit_price) as avg_price\n",
    "FROM products p\n",
    "JOIN order_items oi ON p.product_id = oi.product_id\n",
    "JOIN orders o ON oi.order_id = o.order_id\n",
    "WHERE o.status = 'Delivered'\n",
    "GROUP BY p.product_id, p.product_name\n",
    "HAVING COUNT(DISTINCT o.order_id) > 1\n",
    "ORDER BY total_quantity DESC;\n",
    "```"
   ]
  },
  {
   "cell_type": "code",
   "execution_count": null,
   "metadata": {},
   "outputs": [],
   "source": [
    "# Your pandas code here\n"
   ]
  },
  {
   "cell_type": "markdown",
   "metadata": {},
   "source": [
    "## Summary\n",
    "\n",
    "In this assignment, I've demonstrated my understanding of Python basics including:\n",
    "- Working with variables and basic operations\n",
    "- Using and manipulating data structures (lists and dictionaries)\n",
    "- Creating functions and implementing control flow\n",
    "- Translating SQL queries to Python code using pandas\n",
    "\n",
    "### Reflection\n",
    "(Add a brief reflection on what you learned and any challenges you encountered)"
   ]
  }
 ],
 "metadata": {
  "kernelspec": {
   "display_name": "Python 3",
   "language": "python",
   "name": "python3"
  },
  "language_info": {
   "codemirror_mode": {
    "name": "ipython",
    "version": 3
   },
   "file_extension": ".py",
   "mimetype": "text/x-python",
   "name": "python",
   "nbconvert_exporter": "python",
   "pygments_lexer": "ipython3",
   "version": "3.9.12"
  }
 },
 "nbformat": 4,
 "nbformat_minor": 4
}

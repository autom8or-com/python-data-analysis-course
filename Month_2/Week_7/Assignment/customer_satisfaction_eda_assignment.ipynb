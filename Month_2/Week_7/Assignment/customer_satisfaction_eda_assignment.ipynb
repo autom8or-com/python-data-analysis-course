{
  "cells": [
    {
      "cell_type": "markdown",
      "metadata": {
        "id": "assignment_title"
      },
      "source": [
        "# Week 7 Minor Assignment: Customer Satisfaction EDA by Product Category\n",
        "\n",
        "## Assignment Overview\n",
        "**Due Date**: End of Wednesday Session  \n",
        "**Type**: Individual Assignment  \n",
        "**Points**: 25 points  \n",
        "**Estimated Time**: 60-90 minutes\n",
        "\n",
        "## Learning Objectives\n",
        "By completing this assignment, you will demonstrate your ability to:\n",
        "- Apply structured EDA techniques to analyze customer satisfaction patterns\n",
        "- Use descriptive statistics to generate business insights\n",
        "- Create meaningful visualizations for categorical and numerical data analysis\n",
        "- Identify actionable recommendations based on data analysis\n",
        "\n",
        "## Business Context\n",
        "As a data analyst for Olist, you've been tasked with investigating **customer satisfaction patterns across different product categories**. The business team wants to understand:\n",
        "- Which product categories have the highest/lowest customer satisfaction?\n",
        "- What factors might be driving satisfaction differences?\n",
        "- How can the company improve customer experience based on these insights?\n",
        "\n",
        "Your analysis will directly inform product management and customer experience strategies."
      ]
    },
    {
      "cell_type": "markdown",
      "metadata": {
        "id": "assignment_requirements"
      },
      "source": [
        "## Assignment Requirements\n",
        "\n",
        "### Part 1: Data Loading and Initial Exploration (5 points)\n",
        "- [ ] Load data from the Supabase database using **environment variables** for credentials\n",
        "- [ ] Perform initial data quality assessment\n",
        "- [ ] Display basic dataset information (shape, columns, data types)\n",
        "- [ ] Show sample data and summary statistics\n",
        "\n",
        "### Part 2: Customer Satisfaction Analysis by Category (10 points)\n",
        "- [ ] Calculate satisfaction metrics by product category\n",
        "- [ ] Create appropriate visualizations (bar charts, box plots, etc.)\n",
        "- [ ] Identify top 5 and bottom 5 categories by satisfaction\n",
        "- [ ] Analyze satisfaction distribution patterns\n",
        "\n",
        "### Part 3: Advanced Analysis and Insights (7 points)\n",
        "- [ ] Investigate factors that might influence satisfaction (price, delivery time, etc.)\n",
        "- [ ] Perform correlation analysis between satisfaction and other variables\n",
        "- [ ] Create at least one advanced visualization (heatmap, scatter plot with categories, etc.)\n",
        "\n",
        "### Part 4: Business Recommendations (3 points)\n",
        "- [ ] Provide 3-5 specific, actionable business recommendations\n",
        "- [ ] Support recommendations with data evidence\n",
        "- [ ] Consider feasibility and potential impact\n",
        "\n",
        "## Submission Guidelines\n",
        "- Complete all code cells with proper comments\n",
        "- Ensure all visualizations have titles, labels, and legends\n",
        "- Write clear markdown explanations for your findings\n",
        "- Test your code to ensure it runs without errors\n",
        "- Submit the completed notebook file"
      ]
    },
    {
      "cell_type": "markdown",
      "metadata": {
        "id": "starter_code_section"
      },
      "source": [
        "## Starter Code and Setup"
      ]
    },
    {
      "cell_type": "code",
      "execution_count": null,
      "metadata": {
        "id": "imports_setup"
      },
      "outputs": [],
      "source": [
        "# Required imports - DO NOT MODIFY\n",
        "import pandas as pd\n",
        "import numpy as np\n",
        "import matplotlib.pyplot as plt\n",
        "import seaborn as sns\n",
        "import os\n",
        "from sqlalchemy import create_engine\n",
        "import warnings\n",
        "warnings.filterwarnings('ignore')\n",
        "\n",
        "# Display settings\n",
        "pd.set_option('display.max_columns', None)\n",
        "pd.set_option('display.float_format', '{:.2f}'.format)\n",
        "plt.style.use('default')\n",
        "sns.set_palette(\"husl\")\n",
        "plt.rcParams['figure.figsize'] = (12, 6)\n",
        "\n",
        "print(\"✅ Setup complete! Ready to start your analysis.\")"
      ]
    },
    {
      "cell_type": "markdown",
      "metadata": {
        "id": "part1_title"
      },
      "source": [
        "## Part 1: Data Loading and Initial Exploration (5 points)\n",
        "\n",
        "**Instructions**: \n",
        "1. Set up secure database connection using environment variables\n",
        "2. Load customer satisfaction data with product categories\n",
        "3. Perform initial data exploration"
      ]
    },
    {
      "cell_type": "code",
      "execution_count": null,
      "metadata": {
        "id": "database_connection"
      },
      "outputs": [],
      "source": [
        "# TODO: Set up secure database connection\n",
        "# Use environment variables for database credentials\n",
        "# HINT: Follow the pattern from the lecture notebooks\n",
        "\n",
        "# Set environment variables (for educational purposes)\n",
        "if 'SUPABASE_DB_HOST' not in os.environ:\n",
        "    # TODO: Set the environment variables properly\n",
        "    # Remember: Never hardcode credentials in production!\n",
        "    pass\n",
        "\n",
        "# TODO: Create database engine using environment variables\n",
        "# DATABASE_URL = f\"postgresql://...\"\n",
        "# engine = create_engine(DATABASE_URL)\n",
        "\n",
        "# TODO: Test the connection\n",
        "print(\"Database connection setup complete!\")"
      ]
    },
    {
      "cell_type": "code",
      "execution_count": null,
      "metadata": {
        "id": "data_loading"
      },
      "outputs": [],
      "source": [
        "# TODO: Write SQL query to load customer satisfaction data\n",
        "# Include: product categories, review scores, prices, delivery info\n",
        "# HINT: Join orders, order_items, products, reviews, and translation tables\n",
        "\n",
        "satisfaction_query = \"\"\"\n",
        "-- TODO: Write your SQL query here\n",
        "-- Include:\n",
        "-- - Product categories (with English translations)\n",
        "-- - Review scores \n",
        "-- - Order values and delivery information\n",
        "-- - Any other relevant satisfaction factors\n",
        "\"\"\"\n",
        "\n",
        "# TODO: Load data using pandas\n",
        "# df = pd.read_sql(satisfaction_query, engine)\n",
        "\n",
        "# TODO: Display basic information about the dataset\n",
        "print(\"Dataset loaded successfully!\")\n",
        "# Add your analysis here"
      ]
    },
    {
      "cell_type": "code",
      "execution_count": null,
      "metadata": {
        "id": "initial_exploration"
      },
      "outputs": [],
      "source": [
        "# TODO: Perform initial data exploration\n",
        "\n",
        "# 1. Display dataset shape and basic info\n",
        "# print(f\"Dataset shape: {df.shape}\")\n",
        "\n",
        "# 2. Show data types and missing values\n",
        "# df.info()\n",
        "\n",
        "# 3. Display first few rows\n",
        "# display(df.head())\n",
        "\n",
        "# 4. Show summary statistics\n",
        "# display(df.describe())\n",
        "\n",
        "# 5. Check for missing values\n",
        "# missing_data = df.isnull().sum()\n",
        "# print(\"Missing values:\")\n",
        "# print(missing_data[missing_data > 0])\n",
        "\n",
        "print(\"Initial exploration complete!\")"
      ]
    },
    {
      "cell_type": "markdown",
      "metadata": {
        "id": "part2_title"
      },
      "source": [
        "## Part 2: Customer Satisfaction Analysis by Category (10 points)\n",
        "\n",
        "**Instructions**:\n",
        "1. Calculate satisfaction metrics by product category\n",
        "2. Create visualizations to show satisfaction patterns\n",
        "3. Identify best and worst performing categories\n",
        "4. Analyze satisfaction distributions"
      ]
    },
    {
      "cell_type": "code",
      "execution_count": null,
      "metadata": {
        "id": "satisfaction_by_category"
      },
      "outputs": [],
      "source": [
        "# TODO: Calculate satisfaction metrics by category\n",
        "\n",
        "# 1. Group by product category and calculate satisfaction metrics\n",
        "# category_satisfaction = df.groupby('category_english').agg({\n",
        "#     'review_score': ['mean', 'median', 'std', 'count'],\n",
        "#     # Add other relevant metrics\n",
        "# }).round(2)\n",
        "\n",
        "# 2. Clean up column names\n",
        "# category_satisfaction.columns = ['avg_rating', 'median_rating', 'rating_std', 'review_count']\n",
        "\n",
        "# 3. Sort by average satisfaction\n",
        "# category_satisfaction = category_satisfaction.sort_values('avg_rating', ascending=False)\n",
        "\n",
        "# 4. Display results\n",
        "# print(\"Satisfaction by Product Category:\")\n",
        "# display(category_satisfaction.head(10))\n",
        "\n",
        "print(\"Category satisfaction analysis complete!\")"
      ]
    },
    {
      "cell_type": "code",
      "execution_count": null,
      "metadata": {
        "id": "satisfaction_visualizations"
      },
      "outputs": [],
      "source": [
        "# TODO: Create visualizations for satisfaction analysis\n",
        "\n",
        "# 1. Bar chart of average satisfaction by category (top 15)\n",
        "# plt.figure(figsize=(14, 6))\n",
        "# top_categories = category_satisfaction.head(15)\n",
        "# plt.bar(range(len(top_categories)), top_categories['avg_rating'])\n",
        "# plt.title('Average Customer Satisfaction by Product Category (Top 15)')\n",
        "# plt.xlabel('Product Category')\n",
        "# plt.ylabel('Average Review Score')\n",
        "# plt.xticks(range(len(top_categories)), top_categories.index, rotation=45, ha='right')\n",
        "# plt.grid(True, alpha=0.3)\n",
        "# plt.tight_layout()\n",
        "# plt.show()\n",
        "\n",
        "# 2. Box plot showing satisfaction distribution for top categories\n",
        "# TODO: Create box plot\n",
        "\n",
        "# 3. Satisfaction distribution histogram\n",
        "# TODO: Create histogram of review scores\n",
        "\n",
        "print(\"Satisfaction visualizations complete!\")"
      ]
    },
    {
      "cell_type": "code",
      "execution_count": null,
      "metadata": {
        "id": "top_bottom_categories"
      },
      "outputs": [],
      "source": [
        "# TODO: Identify top 5 and bottom 5 categories by satisfaction\n",
        "\n",
        "# 1. Filter categories with sufficient reviews (e.g., > 50 reviews)\n",
        "# significant_categories = category_satisfaction[category_satisfaction['review_count'] > 50]\n",
        "\n",
        "# 2. Get top 5 categories\n",
        "# top_5 = significant_categories.head(5)\n",
        "# print(\"🏆 TOP 5 CATEGORIES BY CUSTOMER SATISFACTION:\")\n",
        "# for i, (category, metrics) in enumerate(top_5.iterrows(), 1):\n",
        "#     print(f\"{i}. {category}: {metrics['avg_rating']:.2f} avg rating ({metrics['review_count']:,} reviews)\")\n",
        "\n",
        "# 3. Get bottom 5 categories\n",
        "# bottom_5 = significant_categories.tail(5)\n",
        "# print(\"\\n⚠️ BOTTOM 5 CATEGORIES BY CUSTOMER SATISFACTION:\")\n",
        "# for i, (category, metrics) in enumerate(bottom_5.iterrows(), 1):\n",
        "#     print(f\"{i}. {category}: {metrics['avg_rating']:.2f} avg rating ({metrics['review_count']:,} reviews)\")\n",
        "\n",
        "print(\"Top/bottom category analysis complete!\")"
      ]
    },
    {
      "cell_type": "markdown",
      "metadata": {
        "id": "part3_title"
      },
      "source": [
        "## Part 3: Advanced Analysis and Insights (7 points)\n",
        "\n",
        "**Instructions**:\n",
        "1. Investigate factors that might influence satisfaction\n",
        "2. Perform correlation analysis\n",
        "3. Create advanced visualizations\n",
        "4. Generate insights about satisfaction drivers"
      ]
    },
    {
      "cell_type": "code",
      "execution_count": null,
      "metadata": {
        "id": "satisfaction_factors"
      },
      "outputs": [],
      "source": [
        "# TODO: Investigate factors that influence satisfaction\n",
        "\n",
        "# 1. Analyze relationship between price and satisfaction\n",
        "# print(\"Price vs Satisfaction Analysis:\")\n",
        "# price_satisfaction_corr = df['price'].corr(df['review_score'])\n",
        "# print(f\"Correlation between price and satisfaction: {price_satisfaction_corr:.3f}\")\n",
        "\n",
        "# 2. Analyze delivery time impact (if available)\n",
        "# TODO: Calculate delivery time and analyze its impact on satisfaction\n",
        "\n",
        "# 3. Analyze freight cost impact\n",
        "# TODO: Investigate how freight costs relate to satisfaction\n",
        "\n",
        "# 4. Create price bins and analyze satisfaction by price range\n",
        "# df['price_bin'] = pd.cut(df['price'], bins=5, labels=['Very Low', 'Low', 'Medium', 'High', 'Very High'])\n",
        "# price_satisfaction = df.groupby('price_bin')['review_score'].mean()\n",
        "# print(\"\\nSatisfaction by Price Range:\")\n",
        "# print(price_satisfaction)\n",
        "\n",
        "print(\"Satisfaction factors analysis complete!\")"
      ]
    },
    {
      "cell_type": "code",
      "execution_count": null,
      "metadata": {
        "id": "correlation_analysis"
      },
      "outputs": [],
      "source": [
        "# TODO: Perform correlation analysis\n",
        "\n",
        "# 1. Select numerical variables for correlation\n",
        "# numerical_vars = ['review_score', 'price', 'freight_value', 'total_order_value']\n",
        "# Add delivery days if calculated\n",
        "\n",
        "# 2. Calculate correlation matrix\n",
        "# correlation_matrix = df[numerical_vars].corr()\n",
        "\n",
        "# 3. Create correlation heatmap\n",
        "# plt.figure(figsize=(10, 8))\n",
        "# sns.heatmap(correlation_matrix, annot=True, cmap='RdBu_r', center=0, \n",
        "#             square=True, fmt='.3f')\n",
        "# plt.title('Correlation Matrix: Satisfaction and Order Factors')\n",
        "# plt.tight_layout()\n",
        "# plt.show()\n",
        "\n",
        "# 4. Identify strongest correlations with satisfaction\n",
        "# satisfaction_corrs = correlation_matrix['review_score'].sort_values(key=abs, ascending=False)\n",
        "# print(\"\\nCorrelations with Customer Satisfaction:\")\n",
        "# for var, corr in satisfaction_corrs.items():\n",
        "#     if var != 'review_score':\n",
        "#         print(f\"{var}: {corr:.3f}\")\n",
        "\n",
        "print(\"Correlation analysis complete!\")"
      ]
    },
    {
      "cell_type": "code",
      "execution_count": null,
      "metadata": {
        "id": "advanced_visualization"
      },
      "outputs": [],
      "source": [
        "# TODO: Create at least one advanced visualization\n",
        "\n",
        "# Option 1: Scatter plot of price vs satisfaction colored by category\n",
        "# plt.figure(figsize=(12, 8))\n",
        "# categories_to_plot = df['category_english'].value_counts().head(8).index\n",
        "# df_subset = df[df['category_english'].isin(categories_to_plot)]\n",
        "# \n",
        "# for category in categories_to_plot:\n",
        "#     cat_data = df_subset[df_subset['category_english'] == category]\n",
        "#     plt.scatter(cat_data['price'], cat_data['review_score'], \n",
        "#                label=category, alpha=0.6, s=30)\n",
        "# \n",
        "# plt.xlabel('Price (R$)')\n",
        "# plt.ylabel('Review Score')\n",
        "# plt.title('Price vs Customer Satisfaction by Product Category')\n",
        "# plt.legend(bbox_to_anchor=(1.05, 1), loc='upper left')\n",
        "# plt.grid(True, alpha=0.3)\n",
        "# plt.tight_layout()\n",
        "# plt.show()\n",
        "\n",
        "# Option 2: Box plot comparing satisfaction across price ranges\n",
        "# TODO: Create box plot\n",
        "\n",
        "# Option 3: Heatmap of satisfaction by category and price range\n",
        "# TODO: Create heatmap\n",
        "\n",
        "print(\"Advanced visualization complete!\")"
      ]
    },
    {
      "cell_type": "markdown",
      "metadata": {
        "id": "part4_title"
      },
      "source": [
        "## Part 4: Business Recommendations (3 points)\n",
        "\n",
        "**Instructions**:\n",
        "Based on your analysis, provide specific, actionable business recommendations.\n",
        "Support each recommendation with data evidence from your analysis."
      ]
    },
    {
      "cell_type": "markdown",
      "metadata": {
        "id": "recommendations_section"
      },
      "source": [
        "### Business Recommendations\n",
        "\n",
        "**TODO: Write your recommendations here based on your analysis**\n",
        "\n",
        "#### Recommendation 1: [Title]\n",
        "**Finding**: [What did you discover in your analysis?]  \n",
        "**Recommendation**: [What specific action should the business take?]  \n",
        "**Evidence**: [What data supports this recommendation?]  \n",
        "**Expected Impact**: [What business outcome do you expect?]\n",
        "\n",
        "#### Recommendation 2: [Title]\n",
        "**Finding**: [What did you discover in your analysis?]  \n",
        "**Recommendation**: [What specific action should the business take?]  \n",
        "**Evidence**: [What data supports this recommendation?]  \n",
        "**Expected Impact**: [What business outcome do you expect?]\n",
        "\n",
        "#### Recommendation 3: [Title]\n",
        "**Finding**: [What did you discover in your analysis?]  \n",
        "**Recommendation**: [What specific action should the business take?]  \n",
        "**Evidence**: [What data supports this recommendation?]  \n",
        "**Expected Impact**: [What business outcome do you expect?]\n",
        "\n",
        "#### Additional Recommendations (Optional)\n",
        "[Add more recommendations if you discovered additional insights]\n",
        "\n",
        "#### Implementation Priority\n",
        "**High Priority**: [Which recommendations should be implemented first?]  \n",
        "**Medium Priority**: [Which can wait but are still important?]  \n",
        "**Long-term**: [Which are strategic, longer-term initiatives?]"
      ]
    },
    {
      "cell_type": "markdown",
      "metadata": {
        "id": "reflection_section"
      },
      "source": [
        "## Reflection Questions (Bonus - Optional)\n",
        "\n",
        "**TODO: Answer these questions to demonstrate deeper thinking**\n",
        "\n",
        "1. **Data Limitations**: What limitations did you encounter in the data that might affect your conclusions?\n",
        "\n",
        "2. **Additional Analysis**: What additional data or analysis would help you provide better recommendations?\n",
        "\n",
        "3. **Business Impact**: How would you measure the success of your recommendations if they were implemented?\n",
        "\n",
        "4. **Methodology**: What did you learn about the EDA process through this assignment?\n",
        "\n",
        "---\n",
        "\n",
        "## Submission Checklist\n",
        "\n",
        "Before submitting, ensure you have completed:\n",
        "\n",
        "- [ ] All code cells run without errors\n",
        "- [ ] Environment variables used for database connection\n",
        "- [ ] Data loading and exploration completed\n",
        "- [ ] Satisfaction analysis by category with visualizations\n",
        "- [ ] Advanced analysis with correlation and factors\n",
        "- [ ] At least 3 specific business recommendations\n",
        "- [ ] All visualizations have proper titles and labels\n",
        "- [ ] Code is well-commented and organized\n",
        "- [ ] Markdown cells explain your findings clearly\n",
        "\n",
        "**Good luck with your analysis! 🚀**"
      ]
    }
  ],
  "metadata": {
    "colab": {
      "provenance": [],
      "toc_visible": true
    },
    "kernelspec": {
      "display_name": "Python 3",
      "name": "python3"
    },
    "language_info": {
      "name": "python"
    }
  },
  "nbformat": 4,
  "nbformat_minor": 0
}
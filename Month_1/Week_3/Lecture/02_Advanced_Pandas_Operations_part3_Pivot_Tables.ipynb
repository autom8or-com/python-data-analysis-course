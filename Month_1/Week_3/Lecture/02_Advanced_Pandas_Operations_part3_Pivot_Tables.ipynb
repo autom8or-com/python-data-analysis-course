{
  "cells": [
    {
      "cell_type": "markdown",
      "metadata": {},
      "source": [
        "# Advanced Pandas Operations - Part 3: Pivot Tables and Cross-Tabulations\n",
        "\n",
        "## Week 3, Day 2 (Thursday) - April 24th, 2025\n",
        "\n",
        "### Overview\n",
        "This is the third part of our Advanced Pandas Operations session, focusing on pivot tables and cross-tabulations. These powerful tools allow you to reshape, summarize, and analyze data in ways similar to pivot tables in Excel and OLAP cubes in business intelligence systems.\n",
        "\n",
        "### Learning Objectives\n",
        "- Understand the concept of data reshaping and pivoting\n",
        "- Master Pandas pivot table functionality\n",
        "- Create and interpret cross-tabulations\n",
        "- Apply aggregation functions in pivot tables\n",
        "- Visualize pivot table results\n",
        "- Translate SQL CUBE and ROLLUP concepts to Pandas\n",
        "\n",
        "### Prerequisites\n",
        "- Python fundamentals (Week 1)\n",
        "- Pandas Fundamentals I & II (Week 2, Day 2 & Week 3, Day 1)\n",
        "- GroupBy operations (Week 3, Day 2, Part 1)\n",
        "- Aggregation functions (Week 3, Day 2, Part 2)\n",
        "- SQL knowledge (prior to course)"
      ]
    },
    {
      "cell_type": "markdown",
      "metadata": {},
      "source": [
        "## 1. Introduction to Pivot Tables and Data Reshaping\n",
        "\n",
        "Pivot tables transform data from a long format to a wide format, making it easier to summarize and analyze. Let's begin by creating a dataset to work with:"
      ]
    },
    {
      "cell_type": "code",
      "execution_count": null,
      "metadata": {},
      "outputs": [],
      "source": [
        "# Import libraries\n",
        "import pandas as pd\n",
        "import numpy as np\n",
        "import matplotlib.pyplot as plt\n",
        "import seaborn as sns\n",
        "\n",
        "# Set Pandas display options\n",
        "pd.set_option('display.max_columns', 20)\n",
        "pd.set_option('display.width', 1000)\n",
        "\n",
        "# Create a sample sales dataset (similar to previous parts)\n",
        "np.random.seed(42)  # For reproducibility\n",
        "n = 200  # Number of records\n",
        "\n",
        "# Generate dates for Q1 2025\n",
        "dates = pd.date_range('2025-01-01', '2025-03-31', periods=n)\n",
        "\n",
        "# Create dictionary of data\n",
        "data = {\n",
        "    'date': dates,\n",
        "    'product_category': np.random.choice(['Electronics', 'Clothing', 'Home', 'Books', 'Sports'], size=n, p=[0.3, 0.25, 0.2, 0.15, 0.1]),\n",
        "    'product_name': np.random.choice(['Laptop', 'Smartphone', 'T-shirt', 'Jeans', 'Lamp', 'Chair', 'Novel', 'Textbook', 'Basketball', 'Tennis Racket'], size=n),\n",
        "    'store_id': np.random.choice(['S01', 'S02', 'S03', 'S04'], size=n),\n",
        "    'region': np.random.choice(['North', 'South', 'East', 'West'], size=n),\n",
        "    'sales_channel': np.random.choice(['Online', 'In-store'], size=n, p=[0.6, 0.4]),\n",
        "    'quantity': np.random.randint(1, 6, size=n),\n",
        "    'unit_price': np.random.uniform(10, 500, size=n).round(2),\n",
        "    'customer_type': np.random.choice(['Regular', 'Premium', 'New'], size=n, p=[0.5, 0.3, 0.2])\n",
        "}\n",
        "\n",
        "# Create DataFrame\n",
        "sales_df = pd.DataFrame(data)\n",
        "\n",
        "# Calculate total sales\n",
        "sales_df['total_sales'] = (sales_df['quantity'] * sales_df['unit_price']).round(2)\n",
        "\n",
        "# Add time-related columns\n",
        "sales_df['month'] = sales_df['date'].dt.month_name()\n",
        "sales_df['week'] = sales_df['date'].dt.isocalendar().week\n",
        "sales_df['day_of_week'] = sales_df['date'].dt.day_name()\n",
        "\n",
        "# Display the first few rows\n",
        "print(\"Sample Sales DataFrame:\")\n",
        "print(sales_df.head())\n",
        "\n",
        "# Display summary information\n",
        "print(\"\\nDataFrame Info:\")\n",
        "print(f\"Shape: {sales_df.shape}\")\n",
        "print(f\"Columns: {sales_df.columns.tolist()}\")"
      ]
    },
    {
      "cell_type": "markdown",
      "metadata": {},
      "source": [
        "## 2. Basic Pivot Tables with pivot() Method\n",
        "\n",
        "Let's start with the basic `pivot()` method, which rearranges data from long to wide format:"
      ]
    },
    {
      "cell_type": "code",
      "execution_count": null,
      "metadata": {},
      "outputs": [],
      "source": [
        "# Basic pivot: Product category by region\n",
        "# First, aggregate the data to prevent duplicates\n",
        "category_region_sales = sales_df.groupby(['product_category', 'region'])['total_sales'].sum().reset_index()\n",
        "print(\"Aggregated data before pivoting:\")\n",
        "print(category_region_sales.head(10))\n",
        "\n",
        "# Create a pivot table\n",
        "sales_pivot = category_region_sales.pivot(index='product_category', columns='region', values='total_sales')\n",
        "print(\"\\nPivot table of sales by product category and region:\")\n",
        "print(sales_pivot)\n",
        "\n",
        "# Visualize the pivot table as a heatmap\n",
        "plt.figure(figsize=(10, 6))\n",
        "sns.heatmap(sales_pivot, annot=True, fmt='.0f', cmap='YlGnBu', linewidths=.5)\n",
        "plt.title('Sales by Product Category and Region')\n",
        "plt.tight_layout()\n",
        "plt.show()"
      ]
    },
    {
      "cell_type": "code",
      "execution_count": null,
      "metadata": {},
      "outputs": [],
      "source": [
        "# Pivot with multiple values columns\n",
        "# First, aggregate the data to prevent duplicates\n",
        "multi_metrics = sales_df.groupby(['product_category', 'sales_channel']).agg({\n",
        "    'total_sales': 'sum',\n",
        "    'quantity': 'sum'\n",
        "}).reset_index()\n",
        "\n",
        "# This approach won't work with multiple values columns:\n",
        "# multi_pivot = multi_metrics.pivot(index='product_category', columns='sales_channel', values=['total_sales', 'quantity'])\n",
        "\n",
        "# Instead, create separate pivots and concatenate them\n",
        "sales_pivot = multi_metrics.pivot(index='product_category', columns='sales_channel', values='total_sales')\n",
        "sales_pivot.columns = [f'sales_{col}' for col in sales_pivot.columns]\n",
        "\n",
        "quantity_pivot = multi_metrics.pivot(index='product_category', columns='sales_channel', values='quantity')\n",
        "quantity_pivot.columns = [f'quantity_{col}' for col in quantity_pivot.columns]\n",
        "\n",
        "# Combine the two pivot tables\n",
        "combined_pivot = pd.concat([sales_pivot, quantity_pivot], axis=1)\n",
        "print(\"Combined pivot table with multiple metrics:\")\n",
        "print(combined_pivot)\n",
        "\n",
        "# Add a total column for sales\n",
        "combined_pivot['sales_Total'] = combined_pivot['sales_Online'] + combined_pivot['sales_In-store']\n",
        "combined_pivot['quantity_Total'] = combined_pivot['quantity_Online'] + combined_pivot['quantity_In-store']\n",
        "\n",
        "print(\"\\nWith totals:\")\n",
        "print(combined_pivot)"
      ]
    },
    {
      "cell_type": "markdown",
      "metadata": {},
      "source": [
        "### Limitations of the basic pivot() method\n",
        "\n",
        "The `pivot()` method has several limitations:\n",
        "1. It requires unique values in the index and columns combination\n",
        "2. It doesn't perform any aggregation on its own\n",
        "3. It only accepts a single values column\n",
        "4. It doesn't handle missing values well\n",
        "\n",
        "To overcome these limitations, Pandas provides the more powerful `pivot_table()` method."
      ]
    },
    {
      "cell_type": "markdown",
      "metadata": {},
      "source": [
        "## 3. Advanced Pivot Tables with pivot_table() Method\n",
        "\n",
        "The `pivot_table()` method is more flexible and powerful than the basic `pivot()` method:"
      ]
    },
    {
      "cell_type": "code",
      "execution_count": null,
      "metadata": {},
      "outputs": [],
      "source": [
        "# Basic pivot table\n",
        "basic_pivot_table = pd.pivot_table(\n",
        "    sales_df,\n",
        "    index='product_category',\n",
        "    columns='region',\n",
        "    values='total_sales',\n",
        "    aggfunc='sum'\n",
        ")\n",
        "\n",
        "print(\"Basic pivot table:\")\n",
        "print(basic_pivot_table)\n",
        "\n",
        "# Add row and column totals\n",
        "basic_pivot_table['Total'] = basic_pivot_table.sum(axis=1)\n",
        "basic_pivot_table.loc['Total'] = basic_pivot_table.sum()\n",
        "\n",
        "print(\"\\nPivot table with totals:\")\n",
        "print(basic_pivot_table)"
      ]
    },
    {
      "cell_type": "code",
      "execution_count": null,
      "metadata": {},
      "outputs": [],
      "source": [
        "# Pivot table with multiple aggregation functions\n",
        "multi_agg_pivot = pd.pivot_table(\n",
        "    sales_df,\n",
        "    index='product_category',\n",
        "    columns='region',\n",
        "    values='total_sales',\n",
        "    aggfunc=['sum', 'mean', 'count']\n",
        ")\n",
        "\n",
        "print(\"Pivot table with multiple aggregation functions:\")\n",
        "print(multi_agg_pivot)\n",
        "\n",
        "# Flatten the hierarchical column index\n",
        "multi_agg_pivot.columns = ['_'.join(col).strip() for col in multi_agg_pivot.columns.values]\n",
        "print(\"\\nWith flattened column names:\")\n",
        "print(multi_agg_pivot)"
      ]
    },
    {
      "cell_type": "code",
      "execution_count": null,
      "metadata": {},
      "outputs": [],
      "source": [
        "# Pivot table with multiple values columns\n",
        "multi_values_pivot = pd.pivot_table(\n",
        "    sales_df,\n",
        "    index='product_category',\n",
        "    columns='sales_channel',\n",
        "    values=['total_sales', 'quantity'],\n",
        "    aggfunc='sum'\n",
        ")\n",
        "\n",
        "print(\"Pivot table with multiple values columns:\")\n",
        "print(multi_values_pivot)\n",
        "\n",
        "# Flatten the hierarchical column index\n",
        "multi_values_pivot.columns = ['_'.join(col).strip() for col in multi_values_pivot.columns.values]\n",
        "print(\"\\nWith flattened column names:\")\n",
        "print(multi_values_pivot)"
      ]
    },
    {
      "cell_type": "code",
      "execution_count": null,
      "metadata": {},
      "outputs": [],
      "source": [
        "# Pivot table with multiple index levels\n",
        "multi_index_pivot = pd.pivot_table(\n",
        "    sales_df,\n",
        "    index=['product_category', 'customer_type'],\n",
        "    columns=['region', 'sales_channel'],\n",
        "    values='total_sales',\n",
        "    aggfunc='sum',\n",
        "    fill_value=0  # Replace NaN with 0\n",
        ")\n",
        "\n",
        "print(\"Pivot table with multiple index and column levels:\")\n",
        "print(multi_index_pivot)\n",
        "\n",
        "# Calculate subtotals for each product category\n",
        "category_totals = sales_df.groupby('product_category')['total_sales'].sum()\n",
        "print(\"\\nProduct category totals:\")\n",
        "print(category_totals)"
      ]
    },
    {
      "cell_type": "markdown",
      "metadata": {},
      "source": [
        "## 4. Custom Aggregation in Pivot Tables\n",
        "\n",
        "You can use custom aggregation functions in pivot tables:"
      ]
    },
    {
      "cell_type": "code",
      "execution_count": null,
      "metadata": {},
      "outputs": [],
      "source": [
        "# Define custom aggregation functions\n",
        "def price_range(x):\n",
        "    \"\"\"Calculate the range between max and min\"\"\"\n",
        "    return x.max() - x.min()\n",
        "\n",
        "def pct_of_total(x):\n",
        "    \"\"\"Calculate percentage of the total\"\"\"\n",
        "    return (x.sum() / sales_df['total_sales'].sum() * 100).round(2)\n",
        "\n",
        "# Pivot table with custom aggregation functions\n",
        "custom_pivot = pd.pivot_table(\n",
        "    sales_df,\n",
        "    index='product_category',\n",
        "    columns='region',\n",
        "    values='total_sales',\n",
        "    aggfunc={\n",
        "        'total_sales': ['sum', 'mean', price_range, pct_of_total]\n",
        "    },\n",
        "    margins=True,  # Add row and column totals\n",
        "    margins_name='Total'\n",
        ")\n",
        "\n",
        "print(\"Pivot table with custom aggregation functions:\")\n",
        "print(custom_pivot)\n",
        "\n",
        "# Flatten hierarchical column index and clean up names\n",
        "custom_pivot.columns = ['_'.join(col).strip() for col in custom_pivot.columns.values]\n",
        "custom_pivot = custom_pivot.rename(columns={\n",
        "    'total_sales_price_range': 'Price_Range',\n",
        "    'total_sales_pct_of_total': 'Pct_of_Total'\n",
        "})\n",
        "\n",
        "print(\"\\nWith flattened column names:\")\n",
        "print(custom_pivot)"
      ]
    },
    {
      "cell_type": "markdown",
      "metadata": {},
      "source": [
        "## 5. Pivot Table Visualization\n",
        "\n",
        "Pivot tables are excellent for creating insightful visualizations:"
      ]
    },
    {
      "cell_type": "code",
      "execution_count": null,
      "metadata": {},
      "outputs": [],
      "source": [
        "# Create a pivot table for monthly sales by product category\n",
        "monthly_category_pivot = pd.pivot_table(\n",
        "    sales_df,\n",
        "    index='month',\n",
        "    columns='product_category',\n",
        "    values='total_sales',\n",
        "    aggfunc='sum'\n",
        ")\n",
        "\n",
        "# Reorder months\n",
        "month_order = ['January', 'February', 'March']\n",
        "monthly_category_pivot = monthly_category_pivot.reindex(month_order)\n",
        "\n",
        "print(\"Monthly sales by product category:\")\n",
        "print(monthly_category_pivot)\n",
        "\n",
        "# Visualize as a stacked bar chart\n",
        "monthly_category_pivot.plot(kind='bar', stacked=True, figsize=(12, 6))\n",
        "plt.title('Monthly Sales by Product Category')\n",
        "plt.xlabel('Month')\n",
        "plt.ylabel('Total Sales ($)')\n",
        "plt.legend(title='Product Category')\n",
        "plt.grid(True, axis='y', linestyle='--', alpha=0.7)\n",
        "plt.tight_layout()\n",
        "plt.show()\n",
        "\n",
        "# Visualize as a heatmap\n",
        "plt.figure(figsize=(12, 6))\n",
        "sns.heatmap(monthly_category_pivot, annot=True, fmt='.0f', cmap='viridis', linewidths=.5)\n",
        "plt.title('Monthly Sales by Product Category')\n",
        "plt.tight_layout()\n",
        "plt.show()"
      ]
    },
    {
      "cell_type": "code",
      "execution_count": null,
      "metadata": {},
      "outputs": [],
      "source": [
        "# Create a pivot table for sales channel and customer type\n",
        "channel_customer_pivot = pd.pivot_table(\n",
        "    sales_df,\n",
        "    index='customer_type',\n",
        "    columns='sales_channel',\n",
        "    values=['total_sales', 'quantity'],\n",
        "    aggfunc='sum',\n",
        "    margins=True,\n",
        "    margins_name='Total'\n",
        ")\n",
        "\n",
        "print(\"Sales by channel and customer type:\")\n",
        "print(channel_customer_pivot)\n",
        "\n",
        "# Visualize the total_sales part as a grouped bar chart\n",
        "channel_customer_data = pd.pivot_table(\n",
        "    sales_df,\n",
        "    index='customer_type',\n",
        "    columns='sales_channel',\n",
        "    values='total_sales',\n",
        "    aggfunc='sum'\n",
        ")\n",
        "\n",
        "channel_customer_data.plot(kind='bar', figsize=(10, 6))\n",
        "plt.title('Sales by Channel and Customer Type')\n",
        "plt.xlabel('Customer Type')\n",
        "plt.ylabel('Total Sales ($)')\n",
        "plt.legend(title='Sales Channel')\n",
        "plt.grid(True, axis='y', linestyle='--', alpha=0.7)\n",
        "plt.tight_layout()\n",
        "plt.show()"
      ]
    },
    {
      "cell_type": "markdown",
      "metadata": {},
      "source": [
        "## 6. Cross-Tabulations with crosstab()\n",
        "\n",
        "Cross-tabulations (or contingency tables) are a special kind of pivot table that shows the frequency distribution of categorical variables:"
      ]
    },
    {
      "cell_type": "code",
      "execution_count": null,
      "metadata": {},
      "outputs": [],
      "source": [
        "# Basic cross-tabulation\n",
        "basic_crosstab = pd.crosstab(sales_df['product_category'], sales_df['region'])\n",
        "print(\"Basic cross-tabulation of product category and region:\")\n",
        "print(basic_crosstab)\n",
        "\n",
        "# Add row and column margins (totals)\n",
        "crosstab_with_margins = pd.crosstab(\n",
        "    sales_df['product_category'], \n",
        "    sales_df['region'],\n",
        "    margins=True, \n",
        "    margins_name='Total'\n",
        ")\n",
        "print(\"\\nCross-tabulation with margins:\")\n",
        "print(crosstab_with_margins)\n",
        "\n",
        "# Normalize by rows (convert to percentages)\n",
        "crosstab_normalized = pd.crosstab(\n",
        "    sales_df['product_category'], \n",
        "    sales_df['region'],\n",
        "    normalize='index'  # 'index' for row percentages, 'columns' for column percentages, 'all' for cell percentages\n",
        ").round(2)\n",
        "print(\"\\nCross-tabulation with row percentages:\")\n",
        "print(crosstab_normalized)\n",
        "\n",
        "# Visualize the cross-tabulation\n",
        "plt.figure(figsize=(10, 6))\n",
        "sns.heatmap(crosstab_normalized, annot=True, cmap='YlGnBu', fmt='.0%')\n",
        "plt.title('Product Category Distribution by Region (Row Percentages)')\n",
        "plt.tight_layout()\n",
        "plt.show()"
      ]
    },
    {
      "cell_type": "code",
      "execution_count": null,
      "metadata": {},
      "outputs": [],
      "source": [
        "# Cross-tabulation with aggregation\n",
        "sales_crosstab = pd.crosstab(\n",
        "    [sales_df['product_category'], sales_df['customer_type']],  # Multiple row indices\n",
        "    [sales_df['region'], sales_df['sales_channel']],  # Multiple column indices\n",
        "    values=sales_df['total_sales'],\n",
        "    aggfunc='sum',\n",
        "    margins=True,\n",
        "    margins_name='Total'\n",
        ")\n",
        "\n",
        "print(\"Cross-tabulation with aggregation and multiple indices:\")\n",
        "print(sales_crosstab)\n",
        "\n",
        "# Visualize a subset of the cross-tabulation\n",
        "# Extract just the Online sales for visualization\n",
        "online_sales = pd.crosstab(\n",
        "    sales_df['product_category'],\n",
        "    sales_df['region'],\n",
        "    values=sales_df['total_sales'],\n",
        "    aggfunc='sum',\n",
        "    normalize='index'  # Row percentages\n",
        ").round(2)\n",
        "\n",
        "plt.figure(figsize=(10, 6))\n",
        "sns.heatmap(online_sales, annot=True, cmap='YlOrRd', fmt='.0%')\n",
        "plt.title('Sales Distribution by Region for Each Product Category')\n",
        "plt.tight_layout()\n",
        "plt.show()"
      ]
    },
    {
      "cell_type": "markdown",
      "metadata": {},
      "source": [
        "## 7. Unstacking and Stacking Data\n",
        "\n",
        "Pandas provides methods to reshape data between long and wide formats:"
      ]
    },
    {
      "cell_type": "code",
      "execution_count": null,
      "metadata": {},
      "outputs": [],
      "source": [
        "# Start with a multi-index DataFrame\n",
        "grouped_data = sales_df.groupby(['product_category', 'region'])['total_sales'].sum()\n",
        "print(\"Grouped data with multi-index:\")\n",
        "print(grouped_data.head(10))\n",
        "\n",
        "# Unstack the data (convert from long to wide format)\n",
        "unstacked_data = grouped_data.unstack(level='region')\n",
        "print(\"\\nUnstacked data (wide format):\")\n",
        "print(unstacked_data)\n",
        "\n",
        "# Stack the data back (convert from wide to long format)\n",
        "stacked_data = unstacked_data.stack()\n",
        "print(\"\\nStacked data (back to long format):\")\n",
        "print(stacked_data.head(10))\n",
        "\n",
        "# Reset index to convert multi-index to columns\n",
        "long_format = stacked_data.reset_index()\n",
        "long_format.columns = ['product_category', 'region', 'total_sales']\n",
        "print(\"\\nLong format data with regular columns:\")\n",
        "print(long_format.head(10))"
      ]
    },
    {
      "cell_type": "code",
      "execution_count": null,
      "metadata": {},
      "outputs": [],
      "source": [
        "# Working with multiple levels\n",
        "# Create a three-level groupby\n",
        "multi_grouped = sales_df.groupby(['product_category', 'region', 'sales_channel'])['total_sales'].sum()\n",
        "print(\"Three-level grouped data:\")\n",
        "print(multi_grouped.head(10))\n",
        "\n",
        "# Unstack the last level\n",
        "partially_unstacked = multi_grouped.unstack(level='sales_channel')\n",
        "print(\"\\nPartially unstacked data (last level):\")\n",
        "print(partially_unstacked.head(10))\n",
        "\n",
        "# Unstack one more level\n",
        "further_unstacked = partially_unstacked.unstack(level='region')\n",
        "print(\"\\nFurther unstacked data:\")\n",
        "print(further_unstacked)"
      ]
    },
    {
      "cell_type": "markdown",
      "metadata": {},
      "source": [
        "## 8. Subtotals and Grand Totals (SQL ROLLUP equivalent)\n",
        "\n",
        "In SQL, you can use ROLLUP to include subtotals in your results. Pandas doesn't have a direct equivalent, but you can achieve similar results:"
      ]
    },
    {
      "cell_type": "code",
      "execution_count": null,
      "metadata": {},
      "outputs": [],
      "source": [
        "# Create a pivot table with margins\n",
        "rollup_pivot = pd.pivot_table(\n",
        "    sales_df,\n",
        "    index=['product_category', 'customer_type'],\n",
        "    columns='region',\n",
        "    values='total_sales',\n",
        "    aggfunc='sum',\n",
        "    margins=True,\n",
        "    margins_name='Total'\n",
        ")\n",
        "\n",
        "print(\"Pivot table with margins (similar to SQL ROLLUP):\")\n",
        "print(rollup_pivot)\n",
        "\n",
        "# SQL equivalent:\n",
        "# SELECT \n",
        "#     product_category, \n",
        "#     customer_type, \n",
        "#     region, \n",
        "#     SUM(total_sales) as total_sales\n",
        "# FROM sales\n",
        "# GROUP BY \n",
        "#     ROLLUP(product_category, customer_type, region)"
      ]
    },
    {
      "cell_type": "code",
      "execution_count": null,
      "metadata": {},
      "outputs": [],
      "source": [
        "# For a more complete ROLLUP equivalent, we need to manually create subtotals\n",
        "# First, get the total by product_category\n",
        "category_totals = sales_df.groupby(['product_category'])['total_sales'].sum().reset_index()\n",
        "category_totals['customer_type'] = 'Subtotal'\n",
        "\n",
        "# Get the detailed data\n",
        "detailed_data = sales_df.groupby(['product_category', 'customer_type'])['total_sales'].sum().reset_index()\n",
        "\n",
        "# Combine the detailed data and subtotals\n",
        "combined_data = pd.concat([detailed_data, category_totals])\n",
        "\n",
        "# Add grand total\n",
        "grand_total = pd.DataFrame({\n",
        "    'product_category': ['Grand Total'],\n",
        "    'customer_type': ['Total'],\n",
        "    'total_sales': [sales_df['total_sales'].sum()]\n",
        "})\n",
        "\n",
        "all_data = pd.concat([combined_data, grand_total])\n",
        "\n",
        "# Sort to get a nice ROLLUP-like arrangement\n",
        "all_data['sort_key'] = np.where(all_data['customer_type'] == 'Subtotal', 1, \n",
        "                       np.where(all_data['customer_type'] == 'Total', 2, 0))\n",
        "all_data = all_data.sort_values(['product_category', 'sort_key']).drop('sort_key', axis=1)\n",
        "\n",
        "print(\"Manual ROLLUP equivalent:\")\n",
        "print(all_data)"
      ]
    },
    {
      "cell_type": "markdown",
      "metadata": {},
      "source": [
        "## 9. Advanced Pivot Table Applications\n",
        "\n",
        "Let's explore some more advanced applications of pivot tables:"
      ]
    },
    {
      "cell_type": "code",
      "execution_count": null,
      "metadata": {},
      "outputs": [],
      "source": [
        "# Pivot table by week and day of week\n",
        "time_pivot = pd.pivot_table(\n",
        "    sales_df,\n",
        "    index='week',\n",
        "    columns='day_of_week',\n",
        "    values='total_sales',\n",
        "    aggfunc='sum'\n",
        ")\n",
        "\n",
        "# Reorder days of week\n",
        "day_order = ['Monday', 'Tuesday', 'Wednesday', 'Thursday', 'Friday', 'Saturday', 'Sunday']\n",
        "time_pivot = time_pivot.reindex(columns=day_order)\n",
        "\n",
        "print(\"Sales by week and day of week:\")\n",
        "print(time_pivot)\n",
        "\n",
        "# Visualize as a heatmap\n",
        "plt.figure(figsize=(12, 8))\n",
        "sns.heatmap(time_pivot, annot=True, fmt='.0f', cmap='viridis', linewidths=.5)\n",
        "plt.title('Sales by Week and Day of Week')\n",
        "plt.tight_layout()\n",
        "plt.show()"
      ]
    },
    {
      "cell_type": "code",
      "execution_count": null,
      "metadata": {},
      "outputs": [],
      "source": [
        "# Create a cohort-like analysis by month and product category\n",
        "# Calculate percentage of monthly total for each category\n",
        "monthly_category_sales = pd.pivot_table(\n",
        "    sales_df,\n",
        "    index='month',\n",
        "    columns='product_category',\n",
        "    values='total_sales',\n",
        "    aggfunc='sum'\n",
        ")\n",
        "\n",
        "# Reorder months\n",
        "monthly_category_sales = monthly_category_sales.reindex(month_order)\n",
        "\n",
        "# Calculate percentages of monthly total\n",
        "monthly_pct = monthly_category_sales.div(monthly_category_sales.sum(axis=1), axis=0).round(4) * 100\n",
        "\n",
        "print(\"Percentage of monthly sales by product category:\")\n",
        "print(monthly_pct)\n",
        "\n",
        "# Visualize the percentage distribution\n",
        "plt.figure(figsize=(12, 6))\n",
        "monthly_pct.plot(kind='bar', stacked=True, figsize=(12, 6))\n",
        "plt.title('Monthly Sales Distribution by Product Category')\n",
        "plt.xlabel('Month')\n",
        "plt.ylabel('Percentage of Monthly Sales')\n",
        "plt.legend(title='Product Category')\n",
        "plt.grid(True, axis='y', linestyle='--', alpha=0.7)\n",
        "plt.tight_layout()\n",
        "plt.show()"
      ]
    },
    {
      "cell_type": "markdown",
      "metadata": {},
      "source": [
        "## 10. SQL to Pandas Pivot Table Translation Guide\n",
        "\n",
        "Here's a reference guide for translating SQL GROUP BY, CUBE, and ROLLUP operations to Pandas pivot tables:\n",
        "\n",
        "| SQL Operation | Pandas Equivalent |\n",
        "|--------------|-------------------|\n",
        "| `SELECT col1, col2, SUM(col3) FROM table GROUP BY col1, col2` | `pd.pivot_table(df, index=['col1', 'col2'], values='col3', aggfunc='sum')` |\n",
        "| `SELECT col1, col2, SUM(col3), AVG(col4) FROM table GROUP BY col1, col2` | `pd.pivot_table(df, index=['col1', 'col2'], values=['col3', 'col4'], aggfunc={'col3': 'sum', 'col4': 'mean'})` |\n",
        "| `SELECT col1, col2, SUM(col3) FROM table GROUP BY col1, col2 WITH ROLLUP` | `pd.pivot_table(df, index=['col1', 'col2'], values='col3', aggfunc='sum', margins=True)` |\n",
        "| `SELECT col1, col2, SUM(col3) FROM table GROUP BY CUBE(col1, col2)` | No direct equivalent; need to manually create the subtotals |\n",
        "| `SELECT col1, col2, COUNT(*) FROM table GROUP BY col1, col2` | `pd.crosstab(df['col1'], df['col2'])` |\n",
        "| `SELECT col1, col2, SUM(col3) FROM table GROUP BY col1, col2` | `pd.crosstab(df['col1'], df['col2'], values=df['col3'], aggfunc='sum')` |"
      ]
    },
    {
      "cell_type": "markdown",
      "metadata": {},
      "source": [
        "## 11. Practice Exercises"
      ]
    },
    {
      "cell_type": "markdown",
      "metadata": {},
      "source": [
        "### Exercise 1: Basic Pivot Table\n",
        "Create a pivot table showing the total sales by customer type and product category. Include row and column totals."
      ]
    },
    {
      "cell_type": "code",
      "execution_count": null,
      "metadata": {},
      "outputs": [],
      "source": [
        "# Your code here"
      ]
    },
    {
      "cell_type": "markdown",
      "metadata": {},
      "source": [
        "### Exercise 2: Multiple Aggregations\n",
        "Create a pivot table with region as the index and sales channel as the columns. Show both the total sales and average transaction value for each combination."
      ]
    },
    {
      "cell_type": "code",
      "execution_count": null,
      "metadata": {},
      "outputs": [],
      "source": [
        "# Your code here"
      ]
    },
    {
      "cell_type": "markdown",
      "metadata": {},
      "source": [
        "### Exercise 3: Cross-Tabulation\n",
        "Create a cross-tabulation showing the distribution of sales channels across different customer types. Show the results as percentages, and visualize them with an appropriate chart."
      ]
    },
    {
      "cell_type": "code",
      "execution_count": null,
      "metadata": {},
      "outputs": [],
      "source": [
        "# Your code here"
      ]
    },
    {
      "cell_type": "markdown",
      "metadata": {},
      "source": [
        "### Exercise 4: Advanced Visualization\n",
        "Create a pivot table showing the sales by product category and week. Visualize this as both a stacked bar chart and a heatmap. Which visualization is more effective for this data?"
      ]
    },
    {
      "cell_type": "code",
      "execution_count": null,
      "metadata": {},
      "outputs": [],
      "source": [
        "# Your code here"
      ]
    },
    {
      "cell_type": "markdown",
      "metadata": {},
      "source": [
        "### Exercise 5: SQL to Pandas Translation\n",
        "Translate the following SQL query to Pandas code using pivot tables:\n",
        "```sql\n",
        "SELECT\n",
        "    product_category,\n",
        "    customer_type,\n",
        "    region,\n",
        "    SUM(total_sales) as total_sales,\n",
        "    COUNT(*) as num_transactions,\n",
        "    AVG(unit_price) as avg_price\n",
        "FROM sales\n",
        "GROUP BY ROLLUP(product_category, customer_type, region)\n",
        "```"
      ]
    },
    {
      "cell_type": "code",
      "execution_count": null,
      "metadata": {},
      "outputs": [],
      "source": [
        "# Your code here"
      ]
    },
    {
      "cell_type": "markdown",
      "metadata": {},
      "source": [
        "## Next Steps\n",
        "\n",
        "With the completion of these three parts on Advanced Pandas Operations:\n",
        "1. GroupBy operations\n",
        "2. Aggregation functions\n",
        "3. Pivot tables and cross-tabulations\n",
        "\n",
        "You now have a solid foundation in data transformation and analysis using Pandas. In next week's sessions, we'll explore:\n",
        "- Data reshaping operations\n",
        "- Merge, join, and concatenate\n",
        "- Time series data manipulation\n",
        "\n",
        "These skills will be essential as we move toward working with the Olist Brazilian E-commerce dataset for your capstone project."
      ]
    }
  ],
  "metadata": {
    "kernelspec": {
      "display_name": "Python 3",
      "language": "python",
      "name": "python3"
    },
    "language_info": {
      "codemirror_mode": {
        "name": "ipython",
        "version": 3
      },
      "file_extension": ".py",
      "mimetype": "text/x-python",
      "name": "python",
      "nbconvert_exporter": "python",
      "pygments_lexer": "ipython3",
      "version": "3.8.10"
    }
  },
  "nbformat": 4,
  "nbformat_minor": 4
}

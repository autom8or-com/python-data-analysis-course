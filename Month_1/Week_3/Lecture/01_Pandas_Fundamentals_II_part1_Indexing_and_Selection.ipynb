{
  "cells": [
    {
      "cell_type": "markdown",
      "metadata": {},
      "source": [
        "# Pandas Fundamentals II - Part 1: Indexing and Selection\n",
        "\n",
        "## Week 3, Day 1 (Wednesday) - April 23rd, 2025\n",
        "\n",
        "### Overview\n",
        "This is the first part of our second session on Pandas fundamentals, focusing on indexing and selection techniques. Understanding how to efficiently select, access, and extract specific data from DataFrames is essential for effective data analysis.\n",
        "\n",
        "### Learning Objectives\n",
        "- Master different ways to select data from Pandas DataFrames\n",
        "- Understand the difference between label-based and position-based indexing\n",
        "- Learn how to select data using single and multiple criteria\n",
        "- Apply SQL-like thinking to Pandas data selection\n",
        "\n",
        "### Prerequisites\n",
        "- Python fundamentals (Week 1)\n",
        "- NumPy basics (Week 2, Day 1)\n",
        "- Pandas Fundamentals I (Week 2, Day 2)\n",
        "- SQL knowledge (prior to course)"
      ]
    },
    {
      "cell_type": "markdown",
      "metadata": {},
      "source": [
        "## 1. Introduction to Indexing and Selection\n",
        "\n",
        "Selecting and accessing specific data from a DataFrame is one of the most common operations in data analysis. Pandas provides multiple ways to do this, often more flexible than SQL's `SELECT` statements."
      ]
    },
    {
      "cell_type": "code",
      "execution_count": 1,
      "metadata": {},
      "outputs": [
        {
          "name": "stdout",
          "output_type": "stream",
          "text": [
            "Sample DataFrame:\n",
            "  product_id product_name     category  price  in_stock\n",
            "0       P001       Laptop  Electronics   1200      True\n",
            "1       P002   Smartphone  Electronics    800      True\n",
            "2       P003       Tablet  Electronics    450     False\n",
            "3       P004   Headphones  Accessories    150      True\n",
            "4       P005      Monitor  Electronics    300      True\n"
          ]
        }
      ],
      "source": [
        "# Import libraries\n",
        "import pandas as pd\n",
        "import numpy as np\n",
        "\n",
        "# Create a sample DataFrame\n",
        "data = {\n",
        "    'product_id': ['P001', 'P002', 'P003', 'P004', 'P005'],\n",
        "    'product_name': ['Laptop', 'Smartphone', 'Tablet', 'Headphones', 'Monitor'],\n",
        "    'category': ['Electronics', 'Electronics', 'Electronics', 'Accessories', 'Electronics'],\n",
        "    'price': [1200, 800, 450, 150, 300],\n",
        "    'in_stock': [True, True, False, True, True]\n",
        "}\n",
        "\n",
        "df = pd.DataFrame(data)\n",
        "print(\"Sample DataFrame:\")\n",
        "print(df)"
      ]
    },
    {
      "cell_type": "markdown",
      "metadata": {},
      "source": [
        "## 2. Basic Column Selection\n",
        "\n",
        "### Selecting a Single Column\n",
        "\n",
        "In SQL, you use: `SELECT column_name FROM table`. In Pandas, there are multiple ways to select columns:"
      ]
    },
    {
      "cell_type": "code",
      "execution_count": 10,
      "metadata": {},
      "outputs": [
        {
          "name": "stdout",
          "output_type": "stream",
          "text": [
            "\n",
            "Product names (Series):\n",
            "0        Laptop\n",
            "1    Smartphone\n",
            "2        Tablet\n",
            "3    Headphones\n",
            "4       Monitor\n",
            "Name: product_name, dtype: object\n"
          ]
        }
      ],
      "source": [
        "# Method 1: Using dictionary-like notation (returns a Series)\n",
        "product_names = df['product_name']\n",
        "print(\"\\nProduct names (Series):\")\n",
        "print(product_names)\n"
      ]
    },
    {
      "cell_type": "code",
      "execution_count": 11,
      "metadata": {},
      "outputs": [
        {
          "name": "stdout",
          "output_type": "stream",
          "text": [
            "\n",
            "Categories (Series):\n",
            "0    Electronics\n",
            "1    Electronics\n",
            "2    Electronics\n",
            "3    Accessories\n",
            "4    Electronics\n",
            "Name: category, dtype: object\n"
          ]
        }
      ],
      "source": [
        "\n",
        "# Method 2: Using attribute notation (dot notation)\n",
        "# Only works if column name has no spaces/special chars and doesn't overlap with DataFrame methods\n",
        "categories = df.category\n",
        "print(\"\\nCategories (Series):\")\n",
        "print(categories)"
      ]
    },
    {
      "cell_type": "markdown",
      "metadata": {},
      "source": [
        "### Selecting Multiple Columns\n",
        "\n",
        "In SQL: `SELECT col1, col2 FROM table`. In Pandas:"
      ]
    },
    {
      "cell_type": "code",
      "execution_count": 12,
      "metadata": {},
      "outputs": [
        {
          "name": "stdout",
          "output_type": "stream",
          "text": [
            "\n",
            "Product info (multiple columns):\n",
            "  product_name  price\n",
            "0       Laptop   1200\n",
            "1   Smartphone    800\n",
            "2       Tablet    450\n",
            "3   Headphones    150\n",
            "4      Monitor    300\n"
          ]
        }
      ],
      "source": [
        "# Select multiple columns (returns a DataFrame)\n",
        "product_info = df[['product_name', 'price']]\n",
        "print(\"\\nProduct info (multiple columns):\")\n",
        "print(product_info)"
      ]
    },
    {
      "cell_type": "markdown",
      "metadata": {},
      "source": [
        "## 3. Position-Based Indexing with iloc\n",
        "\n",
        "`iloc` is used for integer-location based indexing (like array indexing in NumPy).\n",
        "\n",
        "### Basic Row Selection"
      ]
    },
    {
      "cell_type": "code",
      "execution_count": 14,
      "metadata": {},
      "outputs": [
        {
          "name": "stdout",
          "output_type": "stream",
          "text": [
            "\n",
            "First row:\n",
            "product_id             P001\n",
            "product_name         Laptop\n",
            "category        Electronics\n",
            "price                  1200\n",
            "in_stock               True\n",
            "Name: 0, dtype: object\n"
          ]
        }
      ],
      "source": [
        "# Select a single row by position\n",
        "first_row = df.iloc[0]\n",
        "print(\"\\nFirst row:\")\n",
        "print(first_row)\n"
      ]
    },
    {
      "cell_type": "code",
      "execution_count": 15,
      "metadata": {},
      "outputs": [
        {
          "name": "stdout",
          "output_type": "stream",
          "text": [
            "\n",
            "First three rows:\n",
            "  product_id product_name     category  price  in_stock\n",
            "0       P001       Laptop  Electronics   1200      True\n",
            "1       P002   Smartphone  Electronics    800      True\n",
            "2       P003       Tablet  Electronics    450     False\n"
          ]
        }
      ],
      "source": [
        "\n",
        "# Select multiple rows\n",
        "first_three_rows = df.iloc[0:3]\n",
        "print(\"\\nFirst three rows:\")\n",
        "print(first_three_rows)"
      ]
    },
    {
      "cell_type": "markdown",
      "metadata": {},
      "source": [
        "### Row and Column Selection"
      ]
    },
    {
      "cell_type": "code",
      "execution_count": 16,
      "metadata": {},
      "outputs": [
        {
          "name": "stdout",
          "output_type": "stream",
          "text": [
            "\n",
            "Subset with iloc (first 2 rows, columns 1-2):\n",
            "  product_name     category\n",
            "0       Laptop  Electronics\n",
            "1   Smartphone  Electronics\n"
          ]
        }
      ],
      "source": [
        "# Select specific rows and columns by position\n",
        "# Format: df.iloc[row_selection, column_selection]\n",
        "\n",
        "# Select first 2 rows and columns 1,2 (0-indexed)\n",
        "subset = df.iloc[0:2, 1:3]\n",
        "print(\"\\nSubset with iloc (first 2 rows, columns 1-2):\")\n",
        "print(subset)\n"
      ]
    },
    {
      "cell_type": "code",
      "execution_count": 17,
      "metadata": {},
      "outputs": [
        {
          "name": "stdout",
          "output_type": "stream",
          "text": [
            "\n",
            "Specific cells with iloc:\n",
            "  product_name  price\n",
            "0       Laptop   1200\n",
            "2       Tablet    450\n",
            "4      Monitor    300\n"
          ]
        }
      ],
      "source": [
        "\n",
        "# Select specific rows and columns with lists\n",
        "specific_cells = df.iloc[[0, 2, 4], [1, 3]]  # Rows 0,2,4 and columns 1,3\n",
        "print(\"\\nSpecific cells with iloc:\")\n",
        "print(specific_cells)"
      ]
    },
    {
      "cell_type": "markdown",
      "metadata": {},
      "source": [
        "## 4. Label-Based Indexing with loc\n",
        "\n",
        "`loc` is used for label-based indexing, working with row and column labels instead of positions.\n",
        "\n",
        "### Basic Row Selection with loc"
      ]
    },
    {
      "cell_type": "code",
      "execution_count": 18,
      "metadata": {},
      "outputs": [
        {
          "name": "stdout",
          "output_type": "stream",
          "text": [
            "\n",
            "DataFrame with product_id as index:\n",
            "           product_name     category  price  in_stock\n",
            "product_id                                           \n",
            "P001             Laptop  Electronics   1200      True\n",
            "P002         Smartphone  Electronics    800      True\n",
            "P003             Tablet  Electronics    450     False\n",
            "P004         Headphones  Accessories    150      True\n",
            "P005            Monitor  Electronics    300      True\n"
          ]
        }
      ],
      "source": [
        "# First, let's set the product_id as the index to demonstrate label-based indexing\n",
        "df_indexed = df.set_index('product_id')\n",
        "print(\"\\nDataFrame with product_id as index:\")\n",
        "print(df_indexed)\n"
      ]
    },
    {
      "cell_type": "code",
      "execution_count": 19,
      "metadata": {},
      "outputs": [
        {
          "name": "stdout",
          "output_type": "stream",
          "text": [
            "\n",
            "Product P002:\n",
            "product_name     Smartphone\n",
            "category        Electronics\n",
            "price                   800\n",
            "in_stock               True\n",
            "Name: P002, dtype: object\n"
          ]
        }
      ],
      "source": [
        "\n",
        "# Select a single row by label\n",
        "product_p002 = df_indexed.loc['P002']\n",
        "print(\"\\nProduct P002:\")\n",
        "print(product_p002)\n"
      ]
    },
    {
      "cell_type": "code",
      "execution_count": 20,
      "metadata": {},
      "outputs": [
        {
          "name": "stdout",
          "output_type": "stream",
          "text": [
            "\n",
            "Selected products:\n",
            "           product_name     category  price  in_stock\n",
            "product_id                                           \n",
            "P001             Laptop  Electronics   1200      True\n",
            "P003             Tablet  Electronics    450     False\n",
            "P005            Monitor  Electronics    300      True\n"
          ]
        }
      ],
      "source": [
        "\n",
        "# Select multiple rows by label\n",
        "selected_products = df_indexed.loc[['P001', 'P003', 'P005']]\n",
        "print(\"\\nSelected products:\")\n",
        "print(selected_products)"
      ]
    },
    {
      "cell_type": "markdown",
      "metadata": {},
      "source": [
        "### Row and Column Selection with loc"
      ]
    },
    {
      "cell_type": "code",
      "execution_count": null,
      "metadata": {},
      "outputs": [],
      "source": [
        "# Select specific rows and columns by label\n",
        "# Format: df.loc[row_selection, column_selection]\n",
        "\n",
        "# Select specific products and columns\n",
        "product_details = df_indexed.loc[['P001', 'P004'], ['product_name', 'price']]\n",
        "print(\"\\nProduct details with loc:\")\n",
        "print(product_details)\n"
      ]
    },
    {
      "cell_type": "code",
      "execution_count": 21,
      "metadata": {},
      "outputs": [
        {
          "name": "stdout",
          "output_type": "stream",
          "text": [
            "\n",
            "Sliced products with loc (inclusive):\n",
            "           product_name     category  price  in_stock\n",
            "product_id                                           \n",
            "P001             Laptop  Electronics   1200      True\n",
            "P002         Smartphone  Electronics    800      True\n",
            "P003             Tablet  Electronics    450     False\n"
          ]
        }
      ],
      "source": [
        "\n",
        "# Slicing with loc (inclusive of end point)\n",
        "slice_products = df_indexed.loc['P001':'P003', 'product_name':'in_stock']\n",
        "print(\"\\nSliced products with loc (inclusive):\")\n",
        "print(slice_products)"
      ]
    },
    {
      "cell_type": "markdown",
      "metadata": {},
      "source": [
        "## 5. Using Boolean Indexing for Filtering\n",
        "\n",
        "One of the most powerful features of Pandas is boolean indexing - similar to SQL's WHERE clause."
      ]
    },
    {
      "cell_type": "code",
      "execution_count": 22,
      "metadata": {},
      "outputs": [
        {
          "name": "stdout",
          "output_type": "stream",
          "text": [
            "\n",
            "Original DataFrame:\n",
            "  product_id product_name     category  price  in_stock\n",
            "0       P001       Laptop  Electronics   1200      True\n",
            "1       P002   Smartphone  Electronics    800      True\n",
            "2       P003       Tablet  Electronics    450     False\n",
            "3       P004   Headphones  Accessories    150      True\n",
            "4       P005      Monitor  Electronics    300      True\n",
            "\n",
            "Expensive products (price > 500):\n",
            "  product_id product_name     category  price  in_stock\n",
            "0       P001       Laptop  Electronics   1200      True\n",
            "1       P002   Smartphone  Electronics    800      True\n",
            "\n",
            "Affordable electronics:\n",
            "  product_id product_name     category  price  in_stock\n",
            "2       P003       Tablet  Electronics    450     False\n",
            "4       P005      Monitor  Electronics    300      True\n",
            "\n",
            "Complex filter results:\n",
            "  product_id product_name     category  price  in_stock\n",
            "0       P001       Laptop  Electronics   1200      True\n",
            "1       P002   Smartphone  Electronics    800      True\n",
            "2       P003       Tablet  Electronics    450     False\n"
          ]
        }
      ],
      "source": [
        "# Back to our original DataFrame\n",
        "print(\"\\nOriginal DataFrame:\")\n",
        "print(df)\n",
        "\n",
        "# Filter products with price > 500\n",
        "expensive_products = df[df['price'] > 500]\n",
        "print(\"\\nExpensive products (price > 500):\")\n",
        "print(expensive_products)\n",
        "\n",
        "# Multiple conditions (using & for AND, | for OR)\n",
        "# In SQL: SELECT * FROM products WHERE category = 'Electronics' AND price < 500\n",
        "affordable_electronics = df[(df['category'] == 'Electronics') & (df['price'] < 500)]\n",
        "print(\"\\nAffordable electronics:\")\n",
        "print(affordable_electronics)\n",
        "\n",
        "# Complex filters\n",
        "# In SQL: SELECT * FROM products WHERE (category = 'Electronics' AND price > 300) OR in_stock = False\n",
        "complex_filter = df[((df['category'] == 'Electronics') & (df['price'] > 300)) | (df['in_stock'] == False)]\n",
        "print(\"\\nComplex filter results:\")\n",
        "print(complex_filter)"
      ]
    },
    {
      "cell_type": "markdown",
      "metadata": {},
      "source": [
        "## 6. Combining Different Selection Methods\n",
        "\n",
        "You can combine these methods for more complex selections:"
      ]
    },
    {
      "cell_type": "code",
      "execution_count": 23,
      "metadata": {},
      "outputs": [
        {
          "name": "stdout",
          "output_type": "stream",
          "text": [
            "\n",
            "Electronics names and prices:\n",
            "  product_name  price\n",
            "0       Laptop   1200\n",
            "1   Smartphone    800\n",
            "2       Tablet    450\n",
            "4      Monitor    300\n"
          ]
        }
      ],
      "source": [
        "# Use boolean indexing first, then select specific columns\n",
        "# In SQL: SELECT product_name, price FROM products WHERE category = 'Electronics'\n",
        "electronics_names_prices = df[df['category'] == 'Electronics'][['product_name', 'price']]\n",
        "print(\"\\nElectronics names and prices:\")\n",
        "print(electronics_names_prices)\n"
      ]
    },
    {
      "cell_type": "code",
      "execution_count": 24,
      "metadata": {},
      "outputs": [
        {
          "name": "stdout",
          "output_type": "stream",
          "text": [
            "\n",
            "Electronics names and prices (using loc):\n",
            "  product_name  price\n",
            "0       Laptop   1200\n",
            "1   Smartphone    800\n",
            "2       Tablet    450\n",
            "4      Monitor    300\n"
          ]
        }
      ],
      "source": [
        "\n",
        "# Alternative using loc\n",
        "electronics_names_prices_alt = df.loc[df['category'] == 'Electronics', ['product_name', 'price']]\n",
        "print(\"\\nElectronics names and prices (using loc):\")\n",
        "print(electronics_names_prices_alt)"
      ]
    },
    {
      "cell_type": "markdown",
      "metadata": {},
      "source": [
        "## 7. Selecting Specific Data Types\n",
        "\n",
        "Sometimes you want to select columns based on their data types:"
      ]
    },
    {
      "cell_type": "code",
      "execution_count": 25,
      "metadata": {},
      "outputs": [
        {
          "name": "stdout",
          "output_type": "stream",
          "text": [
            "\n",
            "Numeric columns:\n",
            "   price\n",
            "0   1200\n",
            "1    800\n",
            "2    450\n",
            "3    150\n",
            "4    300\n"
          ]
        }
      ],
      "source": [
        "# Select numeric columns\n",
        "numeric_cols = df.select_dtypes(include=['int64', 'float64'])\n",
        "print(\"\\nNumeric columns:\")\n",
        "print(numeric_cols)\n"
      ]
    },
    {
      "cell_type": "code",
      "execution_count": 26,
      "metadata": {},
      "outputs": [
        {
          "name": "stdout",
          "output_type": "stream",
          "text": [
            "\n",
            "String columns:\n",
            "  product_id product_name     category\n",
            "0       P001       Laptop  Electronics\n",
            "1       P002   Smartphone  Electronics\n",
            "2       P003       Tablet  Electronics\n",
            "3       P004   Headphones  Accessories\n",
            "4       P005      Monitor  Electronics\n"
          ]
        }
      ],
      "source": [
        "\n",
        "# Select object (string) columns\n",
        "string_cols = df.select_dtypes(include=['object'])\n",
        "print(\"\\nString columns:\")\n",
        "print(string_cols)\n"
      ]
    },
    {
      "cell_type": "code",
      "execution_count": 27,
      "metadata": {},
      "outputs": [
        {
          "name": "stdout",
          "output_type": "stream",
          "text": [
            "\n",
            "Boolean columns:\n",
            "   in_stock\n",
            "0      True\n",
            "1      True\n",
            "2     False\n",
            "3      True\n",
            "4      True\n"
          ]
        }
      ],
      "source": [
        "\n",
        "# Select boolean columns\n",
        "bool_cols = df.select_dtypes(include=['bool'])\n",
        "print(\"\\nBoolean columns:\")\n",
        "print(bool_cols)"
      ]
    },
    {
      "cell_type": "markdown",
      "metadata": {},
      "source": [
        "## 8. The .at and .iat Accessors for Single Value Selection\n",
        "\n",
        "For fast scalar lookup:"
      ]
    },
    {
      "cell_type": "code",
      "execution_count": 28,
      "metadata": {},
      "outputs": [
        {
          "name": "stdout",
          "output_type": "stream",
          "text": [
            "\n",
            "Price of P003: 450\n"
          ]
        }
      ],
      "source": [
        "# .at for label-based scalar lookups\n",
        "# Get the price of product P003 (assuming product_id is the index)\n",
        "p003_price = df_indexed.at['P003', 'price']\n",
        "print(f\"\\nPrice of P003: {p003_price}\")\n"
      ]
    },
    {
      "cell_type": "code",
      "execution_count": 29,
      "metadata": {},
      "outputs": [
        {
          "name": "stdout",
          "output_type": "stream",
          "text": [
            "\n",
            "Value at first row, third column: Electronics\n"
          ]
        }
      ],
      "source": [
        "\n",
        "# .iat for integer-based scalar lookups\n",
        "# Get the value in the first row, third column\n",
        "first_row_third_col = df.iat[0, 2]\n",
        "print(f\"\\nValue at first row, third column: {first_row_third_col}\")"
      ]
    },
    {
      "cell_type": "markdown",
      "metadata": {},
      "source": [
        "## 9. SQL Translation Guide\n",
        "\n",
        "Here's a quick reference for translating SQL SELECT operations to Pandas:\n",
        "\n",
        "| SQL Operation | Pandas Equivalent |\n",
        "|--------------|-------------------|\n",
        "| `SELECT * FROM table` | `df` |\n",
        "| `SELECT col FROM table` | `df['col']` or `df.col` |\n",
        "| `SELECT col1, col2 FROM table` | `df[['col1', 'col2']]` |\n",
        "| `SELECT * FROM table WHERE col = value` | `df[df['col'] == value]` |\n",
        "| `SELECT * FROM table WHERE col1 = val1 AND col2 = val2` | `df[(df['col1'] == val1) & (df['col2'] == val2)]` |\n",
        "| `SELECT * FROM table WHERE col IN (val1, val2)` | `df[df['col'].isin([val1, val2])]` |\n",
        "| `SELECT * FROM table LIMIT 5` | `df.head(5)` |\n",
        "| `SELECT * FROM table ORDER BY col` | `df.sort_values('col')` |"
      ]
    },
    {
      "cell_type": "markdown",
      "metadata": {},
      "source": [
        "## 10. Practice Exercises\n",
        "\n",
        "### Exercise 1: Basic Selection\n",
        "Using the sample DataFrame, select all products that are in stock."
      ]
    },
    {
      "cell_type": "code",
      "execution_count": null,
      "metadata": {},
      "outputs": [],
      "source": [
        "# Your code here"
      ]
    },
    {
      "cell_type": "markdown",
      "metadata": {},
      "source": [
        "### Exercise 2: Label-Based Selection\n",
        "Using the indexed version of the DataFrame, select the product name and category for products P002 and P005."
      ]
    },
    {
      "cell_type": "code",
      "execution_count": null,
      "metadata": {},
      "outputs": [],
      "source": [
        "# Your code here"
      ]
    },
    {
      "cell_type": "markdown",
      "metadata": {},
      "source": [
        "### Exercise 3: SQL to Pandas Translation\n",
        "Translate the following SQL query to Pandas:\n",
        "```sql\n",
        "SELECT product_name, price\n",
        "FROM products\n",
        "WHERE category = 'Electronics' \n",
        "AND price BETWEEN 300 AND 1000\n",
        "ORDER BY price DESC\n",
        "```"
      ]
    },
    {
      "cell_type": "code",
      "execution_count": null,
      "metadata": {},
      "outputs": [],
      "source": [
        "# Your code here"
      ]
    },
    {
      "cell_type": "markdown",
      "metadata": {},
      "source": [
        "### Exercise 4: Complex Selection\n",
        "Select all electronics products with prices above the average price of all products."
      ]
    },
    {
      "cell_type": "code",
      "execution_count": null,
      "metadata": {},
      "outputs": [],
      "source": [
        "# Your code here"
      ]
    },
    {
      "cell_type": "markdown",
      "metadata": {},
      "source": [
        "## Next Steps\n",
        "\n",
        "In the next parts, we'll continue with:\n",
        "- Part 2: Filtering data\n",
        "- Part 3: Handling missing values\n",
        "\n",
        "Continue to Part 2: Filtering Data when you're ready to proceed."
      ]
    }
  ],
  "metadata": {
    "kernelspec": {
      "display_name": ".venv (3.13.2)",
      "language": "python",
      "name": "python3"
    },
    "language_info": {
      "codemirror_mode": {
        "name": "ipython",
        "version": 3
      },
      "file_extension": ".py",
      "mimetype": "text/x-python",
      "name": "python",
      "nbconvert_exporter": "python",
      "pygments_lexer": "ipython3",
      "version": "3.13.2"
    }
  },
  "nbformat": 4,
  "nbformat_minor": 4
}

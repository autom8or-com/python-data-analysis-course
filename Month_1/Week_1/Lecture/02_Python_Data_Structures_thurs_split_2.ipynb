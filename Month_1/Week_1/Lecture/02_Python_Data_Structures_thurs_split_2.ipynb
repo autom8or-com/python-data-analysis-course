{
  "cells": [
    {
      "cell_type": "markdown",
      "metadata": {
        "id": "header-section"
      },
      "source": [
        "# Python Data Structures for Data Analysis - Part 2\n",
        "\n",
        "## Week 1, Day 2 (Thursday) - April 10th, 2025\n",
        "\n",
        "### Overview\n",
        "Continuing from Part 1, this notebook focuses on dictionaries, sets, and practical applications of Python data structures for data analysis tasks."
      ]
    },
    {
      "cell_type": "markdown",
      "metadata": {
        "id": "dictionaries-intro"
      },
      "source": [
        "## 3. Dictionaries in Python\n",
        "\n",
        "Dictionaries are key-value pair collections that allow fast lookups by key. They are unordered in Python versions < 3.7 and ordered by insertion in Python 3.7+."
      ]
    },
    {
      "cell_type": "code",
      "execution_count": 10,
      "metadata": {
        "id": "dictionaries-examples"
      },
      "outputs": [],
      "source": [
        "# Creating dictionaries\n",
        "empty_dict = {}\n",
        "ages = {\"Alice\": 25, \"Bob\": 30, \"Charlie\": 35}\n",
        "mixed_dict = {\"name\": \"John\", \"age\": 28, \"is_student\": False, \"courses\": [\"Math\", \"CS\"]}\n"
      ]
    },
    {
      "cell_type": "markdown",
      "metadata": {},
      "source": [
        "##### Data Structure Constructors\n",
        "1. List - `list()`\n",
        "2. Set - `set()`\n",
        "3. Tuple - `tuple()`\n",
        "4. Dictionary - `dict()`\n",
        "\n",
        "An Accessor is a plug used to get values from a variable.\n",
        "The two commones accessors are `[]` and `.`"
      ]
    },
    {
      "cell_type": "code",
      "execution_count": 15,
      "metadata": {},
      "outputs": [
        {
          "name": "stdout",
          "output_type": "stream",
          "text": [
            "Empty dictionary: {}\n",
            "Ages dictionary: {'Alice': 25, 'Bob': 30, 'Charlie': 35}\n",
            "Mixed dictionary: {'name': 'John', 'age': 28, 'is_student': False, 'courses': ['Math', 'CS']}\n",
            "User info dictionary: {'name': 'Jane', 'email': 'jane@example.com', 'age': 32}\n",
            "User info Edit dictionary: {'name': 'Jane', 'email': 'jane@example.com', 'age': 32}\n"
          ]
        }
      ],
      "source": [
        "\n",
        "# Alternative creation method\n",
        "user_info = dict(name=\"Jane\", email=\"jane@example.com\", age=32)\n",
        "user_info_edit = {'name':'Jane', 'email':'jane@example.com', 'age':32}\n",
        "print(\"Empty dictionary:\", empty_dict)\n",
        "print(\"Ages dictionary:\", ages)\n",
        "print(\"Mixed dictionary:\", mixed_dict)\n",
        "print(\"User info dictionary:\", user_info)\n",
        "print(\"User info Edit dictionary:\", user_info_edit)\n"
      ]
    },
    {
      "cell_type": "markdown",
      "metadata": {
        "id": "dictionary-operations"
      },
      "source": [
        "### Dictionary Operations"
      ]
    },
    {
      "cell_type": "code",
      "execution_count": 18,
      "metadata": {
        "id": "dictionary-operations-code"
      },
      "outputs": [
        {
          "name": "stdout",
          "output_type": "stream",
          "text": [
            "Alice's age: 25\n",
            "John's courses: ['Math', 'CS']\n"
          ]
        }
      ],
      "source": [
        "# Access values by key\n",
        "print(f\"Alice's age: {ages['Alice']}\")\n",
        "print(f\"John's courses: {mixed_dict['courses']}\")\n"
      ]
    },
    {
      "cell_type": "code",
      "execution_count": 20,
      "metadata": {},
      "outputs": [
        {
          "data": {
            "text/plain": [
              "{'Alice': 25, 'Bob': 30, 'Charlie': 35}"
            ]
          },
          "execution_count": 20,
          "metadata": {},
          "output_type": "execute_result"
        }
      ],
      "source": [
        "ages\n"
      ]
    },
    {
      "cell_type": "code",
      "execution_count": 21,
      "metadata": {},
      "outputs": [],
      "source": [
        "ages[\"David\"] = 40"
      ]
    },
    {
      "cell_type": "code",
      "execution_count": 25,
      "metadata": {},
      "outputs": [
        {
          "data": {
            "text/plain": [
              "0"
            ]
          },
          "execution_count": 25,
          "metadata": {},
          "output_type": "execute_result"
        }
      ],
      "source": [
        "ages.get('bom-boy',0)"
      ]
    },
    {
      "cell_type": "code",
      "execution_count": 26,
      "metadata": {},
      "outputs": [
        {
          "name": "stdout",
          "output_type": "stream",
          "text": [
            "Updated ages: {'Alice': 26, 'Bob': 30, 'Charlie': 35, 'David': 40}\n",
            "Eve's age: Not found\n",
            "Bob's age is 30\n",
            "Removed Charlie's age: 35\n",
            "Ages after removal: {'Alice': 26, 'Bob': 30, 'David': 40}\n",
            "Cleared user info: {}\n"
          ]
        }
      ],
      "source": [
        "\n",
        "# Adding and updating values\n",
        "ages[\"David\"] = 40  # Add new key-value pair\n",
        "ages[\"Alice\"] = 26  # Update existing value\n",
        "print(\"Updated ages:\", ages)\n",
        "\n",
        "# Safely get values with default\n",
        "print(f\"Eve's age: {ages.get('Eve', 'Not found')}\")\n",
        "\n",
        "# Check if key exists\n",
        "if \"Bob\" in ages:\n",
        "    print(f\"Bob's age is {ages['Bob']}\")\n",
        "\n",
        "# Removing items\n",
        "removed_age = ages.pop(\"Charlie\")  # Remove and return\n",
        "print(f\"Removed Charlie's age: {removed_age}\")\n",
        "print(\"Ages after removal:\", ages)\n",
        "\n",
        "# Clear all items\n",
        "user_info.clear()\n",
        "print(\"Cleared user info:\", user_info)"
      ]
    },
    {
      "cell_type": "markdown",
      "metadata": {
        "id": "dictionary-methods"
      },
      "source": [
        "### Dictionary Methods and Iteration"
      ]
    },
    {
      "cell_type": "code",
      "execution_count": 27,
      "metadata": {
        "id": "dictionary-methods-code"
      },
      "outputs": [
        {
          "name": "stdout",
          "output_type": "stream",
          "text": [
            "Keys: ['name', 'id', 'courses', 'grades', 'graduation_year']\n",
            "Values: ['Alex Johnson', 'AJ1234', ['Data Science', 'Machine Learning', 'Python Programming'], {'Data Science': 95, 'Machine Learning': 89, 'Python Programming': 92}, 2026]\n",
            "Items: [('name', 'Alex Johnson'), ('id', 'AJ1234'), ('courses', ['Data Science', 'Machine Learning', 'Python Programming']), ('grades', {'Data Science': 95, 'Machine Learning': 89, 'Python Programming': 92}), ('graduation_year', 2026)]\n",
            "\n",
            "Student information:\n",
            "name: Alex Johnson\n",
            "id: AJ1234\n",
            "courses: ['Data Science', 'Machine Learning', 'Python Programming']\n",
            "grades: {'Data Science': 95, 'Machine Learning': 89, 'Python Programming': 92}\n",
            "graduation_year: 2026\n",
            "\n",
            "Grades:\n",
            "Data Science: 95\n",
            "Machine Learning: 89\n",
            "Python Programming: 92\n",
            "\n",
            "Updated student info: {'name': 'Alex Johnson', 'id': 'AJ1234', 'courses': ['Data Science', 'Machine Learning', 'Python Programming'], 'grades': {'Data Science': 95, 'Machine Learning': 89, 'Python Programming': 92}, 'graduation_year': 2025, 'email': 'alex.j@example.edu'}\n"
          ]
        }
      ],
      "source": [
        "# Sample dictionary\n",
        "student = {\n",
        "    \"name\": \"Alex Johnson\",\n",
        "    \"id\": \"AJ1234\",\n",
        "    \"courses\": [\"Data Science\", \"Machine Learning\", \"Python Programming\"],\n",
        "    \"grades\": {\"Data Science\": 95, \"Machine Learning\": 89, \"Python Programming\": 92},\n",
        "    \"graduation_year\": 2026\n",
        "}\n",
        "\n",
        "# Get all keys\n",
        "keys = student.keys()\n",
        "print(\"Keys:\", list(keys))\n",
        "\n",
        "# Get all values\n",
        "values = student.values()\n",
        "print(\"Values:\", list(values))\n",
        "\n",
        "# Get all key-value pairs as tuples\n",
        "items = student.items()\n",
        "print(\"Items:\", list(items))\n",
        "\n",
        "# Iterate through keys\n",
        "print(\"\\nStudent information:\")\n",
        "for key in student:\n",
        "    print(f\"{key}: {student[key]}\")\n",
        "\n",
        "# Iterate through key-value pairs\n",
        "print(\"\\nGrades:\")\n",
        "for course, grade in student[\"grades\"].items():\n",
        "    print(f\"{course}: {grade}\")\n",
        "\n",
        "# Update with another dictionary\n",
        "student.update({\"email\": \"alex.j@example.edu\", \"graduation_year\": 2025})\n",
        "print(\"\\nUpdated student info:\", student)"
      ]
    },
    {
      "cell_type": "markdown",
      "metadata": {
        "id": "dict-comprehensions"
      },
      "source": [
        "### Dictionary Comprehensions\n",
        "\n",
        "Similar to list comprehensions, dictionary comprehensions provide a concise way to create dictionaries."
      ]
    },
    {
      "cell_type": "code",
      "execution_count": 28,
      "metadata": {
        "id": "dict-comprehension-code"
      },
      "outputs": [
        {
          "name": "stdout",
          "output_type": "stream",
          "text": [
            "Squares dictionary: {1: 1, 2: 4, 3: 9, 4: 16, 5: 25, 6: 36, 7: 49, 8: 64, 9: 81, 10: 100}\n"
          ]
        }
      ],
      "source": [
        "# Basic syntax: {key_expr: value_expr for item in iterable if condition}\n",
        "\n",
        "# Squares dictionary {number: square}\n",
        "squares = {x: x**2 for x in range(1, 11)}\n",
        "print(\"Squares dictionary:\", squares)\n"
      ]
    },
    {
      "cell_type": "code",
      "execution_count": 34,
      "metadata": {},
      "outputs": [
        {
          "name": "stdout",
          "output_type": "stream",
          "text": [
            "Even squares: {2: 4, 4: 16, 6: 36, 8: 64, 10: 100}\n",
            "Student scores: {'Alice': 95, 'Bob': 87, 'Charlie': 92, 'David': 78}\n",
            "Student grades: {'ALICE': 'A', 'BOB': 'B', 'CHARLIE': 'A', 'DAVID': 'C'}\n",
            "Word frequency: {'fun': 1, 'flexible': 1, 'is': 3, 'python': 3, 'powerful': 1}\n"
          ]
        }
      ],
      "source": [
        "\n",
        "# Filter by value\n",
        "even_squares = {x: x**2 for x in range(1, 11) if x % 2 == 0}\n",
        "print(\"Even squares:\", even_squares)\n",
        "\n",
        "# Create from two lists\n",
        "names = [\"Alice\", \"Bob\", \"Charlie\", \"David\"]\n",
        "scores = [95, 87, 92, 78]\n",
        "student_scores = {name: score for name, score in zip(names, scores)}\n",
        "print(\"Student scores:\", student_scores)\n",
        "\n",
        "# Transform keys and values\n",
        "student_grades = {name.upper(): \"A\" if score >= 90 else \"B\" if score >= 80 else \"C\" \n",
        "                 for name, score in student_scores.items()}\n",
        "print(\"Student grades:\", student_grades)\n",
        "\n",
        "# Word frequency counter\n",
        "text = \"python is powerful python is flexible python is fun\"\n",
        "word_count = {word: text.split().count(word) for word in set(text.split())}\n",
        "print(\"Word frequency:\", word_count)"
      ]
    },
    {
      "cell_type": "code",
      "execution_count": 33,
      "metadata": {},
      "outputs": [
        {
          "name": "stdout",
          "output_type": "stream",
          "text": [
            " Unzipped: 3\n",
            " Unzipped: 4\n",
            " Unzipped: 6\n",
            " Unzipped: 8\n",
            "Zipped: 3\n",
            "Zipped: 8\n"
          ]
        }
      ],
      "source": [
        "ant = [1,2]\n",
        "bee = [3,4]\n",
        "for a in ant:\n",
        "    for b in bee:\n",
        "        print(f\" Unzipped: {a*b}\")\t\n",
        "\n",
        "for a,b in zip(ant,bee):\n",
        "    print(f\"Zipped: {a*b}\")\t"
      ]
    },
    {
      "cell_type": "markdown",
      "metadata": {
        "id": "nested-dicts"
      },
      "source": [
        "### Nested Dictionaries for Structured Data\n",
        "\n",
        "Dictionaries can be nested to represent complex data structures."
      ]
    },
    {
      "cell_type": "code",
      "execution_count": null,
      "metadata": {},
      "outputs": [],
      "source": []
    },
    {
      "cell_type": "code",
      "execution_count": 36,
      "metadata": {
        "id": "nested-dict-code"
      },
      "outputs": [],
      "source": [
        "# Customer order database\n",
        "customers = {\n",
        "    \"C001\": {\n",
        "        \"name\": \"Alice Brown\",\n",
        "        \"email\": \"alice@example.com\",\n",
        "        \"orders\": {\n",
        "            \"ORD123\": {\n",
        "                \"date\": \"2025-01-15\",\n",
        "                \"items\": [\"Product A\", \"Product B\"],\n",
        "                \"total\": 78.50\n",
        "            },\n",
        "            \"ORD127\": {\n",
        "                \"date\": \"2025-02-20\",\n",
        "                \"items\": [\"Product C\"],\n",
        "                \"total\": 39.99\n",
        "            }\n",
        "        }\n",
        "    },\n",
        "    \"C002\": {\n",
        "        \"name\": \"Bob Smith\",\n",
        "        \"email\": \"bob@example.com\",\n",
        "        \"orders\": {\n",
        "            \"ORD125\": {\n",
        "                \"date\": \"2025-01-20\",\n",
        "                \"items\": [\"Product B\", \"Product D\"],\n",
        "                \"total\": 105.75\n",
        "            }\n",
        "        }\n",
        "    }\n",
        "}\n"
      ]
    },
    {
      "cell_type": "code",
      "execution_count": 38,
      "metadata": {},
      "outputs": [
        {
          "data": {
            "text/plain": [
              "'Product A'"
            ]
          },
          "execution_count": 38,
          "metadata": {},
          "output_type": "execute_result"
        }
      ],
      "source": [
        "customers['C001']['orders']['ORD123']['items'][0]"
      ]
    },
    {
      "cell_type": "code",
      "execution_count": 39,
      "metadata": {},
      "outputs": [
        {
          "name": "stdout",
          "output_type": "stream",
          "text": [
            "Alice's email: alice@example.com\n",
            "Bob's order total: 105.75\n",
            "Alice's order totals: [78.5, 39.99]\n",
            "Alice's total spending: $118.49\n",
            "Total revenue: $224.24\n"
          ]
        }
      ],
      "source": [
        "\n",
        "# Access nested data\n",
        "print(f\"Alice's email: {customers['C001']['email']}\")\n",
        "print(f\"Bob's order total: {customers['C002']['orders']['ORD125']['total']}\")\n",
        "\n",
        "# Get all order totals for Alice\n",
        "alice_totals = [order['total'] for order in customers['C001']['orders'].values()]\n",
        "print(f\"Alice's order totals: {alice_totals}\")\n",
        "print(f\"Alice's total spending: ${sum(alice_totals):.2f}\")\n",
        "\n",
        "# Calculate total revenue across all customers\n",
        "total_revenue = 0\n",
        "for customer_id, customer_data in customers.items():\n",
        "    for order_id, order_data in customer_data['orders'].items():\n",
        "        total_revenue += order_data['total']\n",
        "\n",
        "print(f\"Total revenue: ${total_revenue:.2f}\")"
      ]
    },
    {
      "cell_type": "markdown",
      "metadata": {
        "id": "sets-intro"
      },
      "source": [
        "## 4. Sets in Python\n",
        "\n",
        "Sets are unordered collections of unique elements. They are useful for membership testing, removing duplicates, and mathematical operations like union and intersection."
      ]
    },
    {
      "cell_type": "code",
      "execution_count": 40,
      "metadata": {
        "id": "sets-examples"
      },
      "outputs": [
        {
          "name": "stdout",
          "output_type": "stream",
          "text": [
            "Empty set: set()\n",
            "Fruits set: {'cherry', 'apple', 'banana'}\n",
            "Numbers set (duplicates removed): {1, 2, 3, 4}\n"
          ]
        }
      ],
      "source": [
        "# Creating sets\n",
        "empty_set = set()  # Note: {} creates an empty dict, not a set\n",
        "fruits = {\"apple\", \"banana\", \"cherry\"}\n",
        "numbers = set([1, 2, 2, 3, 3, 3, 4])  # Creating from a list with duplicates\n",
        "\n",
        "print(\"Empty set:\", empty_set)\n",
        "print(\"Fruits set:\", fruits)\n",
        "print(\"Numbers set (duplicates removed):\", numbers)"
      ]
    },
    {
      "cell_type": "markdown",
      "metadata": {
        "id": "set-operations"
      },
      "source": [
        "### Set Operations"
      ]
    },
    {
      "cell_type": "code",
      "execution_count": null,
      "metadata": {
        "id": "set-operations-code"
      },
      "outputs": [],
      "source": [
        "# Adding and removing elements\n",
        "fruits.add(\"orange\")\n",
        "print(\"After adding 'orange':\", fruits)\n",
        "\n",
        "fruits.remove(\"banana\")  # Raises KeyError if not found\n",
        "print(\"After removing 'banana':\", fruits)\n",
        "\n",
        "fruits.discard(\"pear\")  # No error if not found\n",
        "print(\"After discarding 'pear' (which wasn't in the set):\", fruits)\n",
        "\n",
        "popped = fruits.pop()  # Remove and return an arbitrary element\n",
        "print(f\"Popped element: {popped}, Set after pop: {fruits}\")\n",
        "\n",
        "# Membership testing\n",
        "print(\"Is 'cherry' in fruits?\", \"cherry\" in fruits)\n",
        "print(\"Is 'banana' in fruits?\", \"banana\" in fruits)"
      ]
    },
    {
      "cell_type": "markdown",
      "metadata": {
        "id": "set-mathematical"
      },
      "source": [
        "### Mathematical Set Operations"
      ]
    },
    {
      "cell_type": "code",
      "execution_count": 41,
      "metadata": {
        "id": "set-mathematical-code"
      },
      "outputs": [
        {
          "name": "stdout",
          "output_type": "stream",
          "text": [
            "Union: {1, 2, 3, 4, 5, 6, 7, 8}\n"
          ]
        }
      ],
      "source": [
        "# Sample sets\n",
        "set_a = {1, 2, 3, 4, 5}\n",
        "set_b = {4, 5, 6, 7, 8}\n",
        "\n",
        "# Union: elements in either set\n",
        "union_result = set_a | set_b  # Alternative: set_a.union(set_b)\n",
        "print(\"Union:\", union_result)\n"
      ]
    },
    {
      "cell_type": "code",
      "execution_count": 42,
      "metadata": {},
      "outputs": [
        {
          "name": "stdout",
          "output_type": "stream",
          "text": [
            "Intersection: {4, 5}\n"
          ]
        }
      ],
      "source": [
        "\n",
        "# Intersection: elements in both sets\n",
        "intersection_result = set_a & set_b  # Alternative: set_a.intersection(set_b)\n",
        "print(\"Intersection:\", intersection_result)\n"
      ]
    },
    {
      "cell_type": "code",
      "execution_count": 43,
      "metadata": {},
      "outputs": [
        {
          "name": "stdout",
          "output_type": "stream",
          "text": [
            "Difference (A - B): {1, 2, 3}\n",
            "Difference (B - A): {8, 6, 7}\n"
          ]
        }
      ],
      "source": [
        "\n",
        "# Difference: elements in first set but not in second\n",
        "difference_result = set_a - set_b  # Alternative: set_a.difference(set_b)\n",
        "print(\"Difference (A - B):\", difference_result)\n",
        "print(\"Difference (B - A):\", set_b - set_a)\n"
      ]
    },
    {
      "cell_type": "code",
      "execution_count": 44,
      "metadata": {},
      "outputs": [
        {
          "name": "stdout",
          "output_type": "stream",
          "text": [
            "Symmetric difference: {1, 2, 3, 6, 7, 8}\n"
          ]
        }
      ],
      "source": [
        "\n",
        "# Symmetric difference: elements in either set but not in both\n",
        "symmetric_difference = set_a ^ set_b  # Alternative: set_a.symmetric_difference(set_b)\n",
        "print(\"Symmetric difference:\", symmetric_difference)\n"
      ]
    },
    {
      "cell_type": "code",
      "execution_count": 45,
      "metadata": {},
      "outputs": [
        {
          "name": "stdout",
          "output_type": "stream",
          "text": [
            "Is C a subset of A? True\n",
            "Is A a superset of C? True\n"
          ]
        }
      ],
      "source": [
        "\n",
        "# Check if one set is a subset of another\n",
        "set_c = {1, 2, 3}\n",
        "print(\"Is C a subset of A?\", set_c.issubset(set_a))  # Alternative: set_c <= set_a\n",
        "print(\"Is A a superset of C?\", set_a.issuperset(set_c))  # Alternative: set_a >= set_c"
      ]
    },
    {
      "cell_type": "markdown",
      "metadata": {
        "id": "set-comprehensions"
      },
      "source": [
        "### Set Comprehensions\n",
        "\n",
        "Similar to list and dictionary comprehensions, set comprehensions offer a concise way to create sets."
      ]
    },
    {
      "cell_type": "code",
      "execution_count": null,
      "metadata": {
        "id": "set-comprehension-code"
      },
      "outputs": [],
      "source": [
        "# Basic syntax: {expression for item in iterable if condition}\n",
        "\n",
        "# Set of squares\n",
        "square_set = {x**2 for x in range(1, 11)}\n",
        "print(\"Set of squares:\", square_set)\n",
        "\n",
        "# Set of even numbers\n",
        "even_set = {x for x in range(1, 21) if x % 2 == 0}\n",
        "print(\"Set of even numbers:\", even_set)\n",
        "\n",
        "# Extract unique characters from a string\n",
        "text = \"python programming is fun\"\n",
        "unique_chars = {char for char in text if char.isalpha()}\n",
        "print(\"Unique characters:\", unique_chars)\n",
        "print(f\"Number of unique characters: {len(unique_chars)}\")"
      ]
    },
    {
      "cell_type": "markdown",
      "metadata": {
        "id": "set-applications"
      },
      "source": [
        "### Applications of Sets in Data Analysis"
      ]
    },
    {
      "cell_type": "code",
      "execution_count": null,
      "metadata": {
        "id": "set-applications-code"
      },
      "outputs": [],
      "source": [
        "# Removing duplicates from data\n",
        "transaction_ids = [\"T1001\", \"T1002\", \"T1001\", \"T1003\", \"T1002\", \"T1004\"]\n",
        "unique_transactions = set(transaction_ids)\n",
        "print(f\"Original transactions: {transaction_ids}\")\n",
        "print(f\"Unique transactions: {unique_transactions}\")\n",
        "print(f\"Number of duplicate transactions: {len(transaction_ids) - len(unique_transactions)}\")\n",
        "\n",
        "# Finding common elements\n",
        "customers_2024 = {\"Alice\", \"Bob\", \"Charlie\", \"David\", \"Eve\"}\n",
        "customers_2025 = {\"Bob\", \"Charlie\", \"Frank\", \"Grace\", \"Eve\"}\n",
        "\n",
        "# Returning customers (in both years)\n",
        "returning_customers = customers_2024 & customers_2025\n",
        "print(f\"Returning customers: {returning_customers}\")\n",
        "\n",
        "# New customers in 2025\n",
        "new_customers = customers_2025 - customers_2024\n",
        "print(f\"New customers in 2025: {new_customers}\")\n",
        "\n",
        "# Lost customers (in 2024 but not in 2025)\n",
        "lost_customers = customers_2024 - customers_2025\n",
        "print(f\"Lost customers: {lost_customers}\")\n",
        "\n",
        "# Customer status analysis\n",
        "customer_status = {\n",
        "    \"total_unique\": len(customers_2024 | customers_2025),\n",
        "    \"returning\": len(returning_customers),\n",
        "    \"new\": len(new_customers),\n",
        "    \"lost\": len(lost_customers)\n",
        "}\n",
        "print(\"Customer status analysis:\", customer_status)"
      ]
    },
    {
      "cell_type": "markdown",
      "metadata": {
        "id": "advanced-applications"
      },
      "source": [
        "## 5. Practical Applications: Combining Data Structures\n",
        "\n",
        "Now let's look at a more complex example that combines multiple data structures to solve a realistic data analysis problem."
      ]
    },
    {
      "cell_type": "code",
      "execution_count": null,
      "metadata": {
        "id": "sales-analysis"
      },
      "outputs": [],
      "source": [
        "# Sample sales data (each entry is a transaction)\n",
        "sales_data = [\n",
        "    {\"date\": \"2025-01-15\", \"customer_id\": \"C001\", \"product_id\": \"P101\", \"quantity\": 2, \"price\": 19.99},\n",
        "    {\"date\": \"2025-01-15\", \"customer_id\": \"C002\", \"product_id\": \"P105\", \"quantity\": 1, \"price\": 29.99},\n",
        "    {\"date\": \"2025-01-16\", \"customer_id\": \"C001\", \"product_id\": \"P103\", \"quantity\": 3, \"price\": 14.99},\n",
        "    {\"date\": \"2025-01-16\", \"customer_id\": \"C003\", \"product_id\": \"P101\", \"quantity\": 1, \"price\": 19.99},\n",
        "    {\"date\": \"2025-01-17\", \"customer_id\": \"C002\", \"product_id\": \"P102\", \"quantity\": 2, \"price\": 24.99},\n",
        "    {\"date\": \"2025-01-18\", \"customer_id\": \"C001\", \"product_id\": \"P101\", \"quantity\": 1, \"price\": 19.99},\n",
        "    {\"date\": \"2025-01-18\", \"customer_id\": \"C003\", \"product_id\": \"P103\", \"quantity\": 4, \"price\": 14.99},\n",
        "    {\"date\": \"2025-01-19\", \"customer_id\": \"C004\", \"product_id\": \"P105\", \"quantity\": 2, \"price\": 29.99},\n",
        "    {\"date\": \"2025-01-19\", \"customer_id\": \"C002\", \"product_id\": \"P101\", \"quantity\": 3, \"price\": 19.99}\n",
        "]\n",
        "\n",
        "product_info = {\n",
        "    \"P101\": {\"name\": \"Widget A\", \"category\": \"Tools\", \"weight\": 0.5},\n",
        "    \"P102\": {\"name\": \"Widget B\", \"category\": \"Tools\", \"weight\": 0.8},\n",
        "    \"P103\": {\"name\": \"Gadget X\", \"category\": \"Electronics\", \"weight\": 0.3},\n",
        "    \"P105\": {\"name\": \"Gadget Y\", \"category\": \"Electronics\", \"weight\": 1.2}\n",
        "}\n",
        "\n",
        "# Analysis Tasks:\n",
        "\n",
        "# 1. Calculate total sales by product\n",
        "product_sales = {}\n",
        "for transaction in sales_data:\n",
        "    product_id = transaction[\"product_id\"]\n",
        "    total = transaction[\"quantity\"] * transaction[\"price\"]\n",
        "    \n",
        "    if product_id not in product_sales:\n",
        "        product_sales[product_id] = 0\n",
        "    product_sales[product_id] += total\n",
        "\n",
        "# Add product names to the results\n",
        "product_sales_with_names = {\n",
        "    product_info[product_id][\"name\"]: total \n",
        "    for product_id, total in product_sales.items()\n",
        "}\n",
        "\n",
        "print(\"Total sales by product:\")\n",
        "for product, total in product_sales_with_names.items():\n",
        "    print(f\"{product}: ${total:.2f}\")\n",
        "\n",
        "# 2. Find unique customers by product category\n",
        "category_customers = {}\n",
        "for transaction in sales_data:\n",
        "    product_id = transaction[\"product_id\"]\n",
        "    category = product_info[product_id][\"category\"]\n",
        "    customer_id = transaction[\"customer_id\"]\n",
        "    \n",
        "    if category not in category_customers:\n",
        "        category_customers[category] = set()\n",
        "    category_customers[category].add(customer_id)\n",
        "\n",
        "print(\"\\nUnique customers by product category:\")\n",
        "for category, customers in category_customers.items():\n",
        "    print(f\"{category}: {len(customers)} customers {customers}\")\n",
        "\n",
        "# 3. Calculate daily sales\n",
        "daily_sales = {}\n",
        "for transaction in sales_data:\n",
        "    date = transaction[\"date\"]\n",
        "    total = transaction[\"quantity\"] * transaction[\"price\"]\n",
        "    \n",
        "    if date not in daily_sales:\n",
        "        daily_sales[date] = 0\n",
        "    daily_sales[date] += total\n",
        "\n",
        "print(\"\\nDaily sales:\")\n",
        "for date in sorted(daily_sales.keys()):\n",
        "    print(f\"{date}: ${daily_sales[date]:.2f}\")\n",
        "\n",
        "# 4. Find the customer with the highest total spending\n",
        "customer_spending = {}\n",
        "for transaction in sales_data:\n",
        "    customer_id = transaction[\"customer_id\"]\n",
        "    total = transaction[\"quantity\"] * transaction[\"price\"]\n",
        "    \n",
        "    if customer_id not in customer_spending:\n",
        "        customer_spending[customer_id] = 0\n",
        "    customer_spending[customer_id] += total\n",
        "\n",
        "top_customer = max(customer_spending.items(), key=lambda x: x[1])\n",
        "print(f\"\\nTop customer: {top_customer[0]} spent ${top_customer[1]:.2f}\")\n",
        "\n",
        "# 5. Average order value by category\n",
        "category_totals = {}\n",
        "category_counts = {}\n",
        "\n",
        "for transaction in sales_data:\n",
        "    product_id = transaction[\"product_id\"]\n",
        "    category = product_info[product_id][\"category\"]\n",
        "    total = transaction[\"quantity\"] * transaction[\"price\"]\n",
        "    \n",
        "    if category not in category_totals:\n",
        "        category_totals[category] = 0\n",
        "        category_counts[category] = 0\n",
        "    \n",
        "    category_totals[category] += total\n",
        "    category_counts[category] += 1\n",
        "\n",
        "category_avg = {category: category_totals[category] / category_counts[category]\n",
        "                for category in category_totals}\n",
        "\n",
        "print(\"\\nAverage order value by category:\")\n",
        "for category, avg in category_avg.items():\n",
        "    print(f\"{category}: ${avg:.2f}\")"
      ]
    },
    {
      "cell_type": "markdown",
      "metadata": {
        "id": "conclusion"
      },
      "source": [
        "## Summary\n",
        "\n",
        "In these two notebooks, we've covered the essential Python data structures for data analysis:\n",
        "\n",
        "1. **Lists** - Ordered, mutable collections for sequences of items\n",
        "2. **Tuples** - Ordered, immutable collections for fixed data\n",
        "3. **Dictionaries** - Key-value mappings for fast lookups and structured data\n",
        "4. **Sets** - Unordered collections of unique elements for membership testing and mathematical operations\n",
        "\n",
        "Understanding these structures and how to combine them allows you to efficiently organize, manipulate, and analyze data in Python. These fundamentals will form the basis for our work with the pandas library, which provides high-level data structures optimized for data analysis tasks.\n",
        "\n",
        "### Key Takeaways\n",
        "\n",
        "- Choose the right data structure for your specific needs:\n",
        "  - Lists for ordered sequences that need to be modified\n",
        "  - Tuples for fixed data or dictionary keys\n",
        "  - Dictionaries for key-based lookups and structured data\n",
        "  - Sets for unique values and set operations\n",
        "  \n",
        "- Use comprehensions for concise creation of data structures\n",
        "- Combine different data structures to solve complex problems\n",
        "- Leverage built-in methods to manipulate and transform data efficiently\n",
        "\n",
        "In the next session, we'll learn how to use these data structures with real data files and begin our exploration of the pandas library."
      ]
    }
  ],
  "metadata": {
    "colab": {
      "provenance": [],
      "toc_visible": true
    },
    "kernelspec": {
      "display_name": ".venv (3.13.2)",
      "language": "python",
      "name": "python3"
    },
    "language_info": {
      "codemirror_mode": {
        "name": "ipython",
        "version": 3
      },
      "file_extension": ".py",
      "mimetype": "text/x-python",
      "name": "python",
      "nbconvert_exporter": "python",
      "pygments_lexer": "ipython3",
      "version": "3.13.2"
    }
  },
  "nbformat": 4,
  "nbformat_minor": 0
}

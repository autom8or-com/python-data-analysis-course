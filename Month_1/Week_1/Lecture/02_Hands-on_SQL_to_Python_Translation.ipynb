{
 "cells": [
  {
   "cell_type": "markdown",
   "metadata": {},
   "source": [
    "# Notebook 2: Hands-on SQL to Python Translation\n",
    "\n",
    "This notebook provides practical exercises for translating common SQL operations to Python using pandas, with an emphasis on data manipulation and analysis."
   ]
  },
  {
   "cell_type": "markdown",
   "metadata": {},
   "source": [
    "## SECTION 1: DATA SETUP"
   ]
  },
  {
   "cell_type": "code",
   "execution_count": null,
   "metadata": {},
   "outputs": [],
   "source": [
    "import pandas as pd\n",
    "import numpy as np\n",
    "import matplotlib.pyplot as plt\n",
    "\n",
    "# Create a mock orders dataset similar to what might be in a SQL database\n",
    "np.random.seed(42)  # For reproducibility\n",
    "\n",
    "# Generate 100 orders\n",
    "num_orders = 100\n",
    "order_ids = [f\"ORD-{i:04d}\" for i in range(1, num_orders + 1)]\n",
    "customer_ids = [f\"CUST-{i:03d}\" for i in np.random.randint(1, 31, size=num_orders)]  # 30 customers\n",
    "order_dates = pd.date_range(start='2023-01-01', end='2023-03-31', periods=num_orders)\n",
    "order_statuses = np.random.choice(['Completed', 'Shipped', 'Processing', 'Cancelled'], size=num_orders, \n",
    "                                 p=[0.7, 0.15, 0.1, 0.05])  # Mostly completed\n",
    "order_values = np.random.normal(loc=100, scale=50, size=num_orders).round(2)\n",
    "order_values = np.maximum(order_values, 10)  # Ensure minimum order value\n",
    "\n",
    "# Create orders DataFrame\n",
    "orders_data = {\n",
    "    'order_id': order_ids,\n",
    "    'customer_id': customer_ids,\n",
    "    'order_date': order_dates,\n",
    "    'status': order_statuses,\n",
    "    'order_value': order_values\n",
    "}\n",
    "orders_df = pd.DataFrame(orders_data)"
   ]
  },
  {
   "cell_type": "code",
   "execution_count": null,
   "metadata": {},
   "outputs": [],
   "source": [
    "# Generate 200 order items (average 2 items per order)\n",
    "num_items = 200\n",
    "order_item_ids = list(range(1, num_items + 1))\n",
    "order_refs = np.random.choice(order_ids, size=num_items)\n",
    "product_ids = [f\"PROD-{i:03d}\" for i in np.random.randint(1, 51, size=num_items)]  # 50 products\n",
    "quantities = np.random.randint(1, 6, size=num_items)\n",
    "unit_prices = np.random.normal(loc=50, scale=25, size=num_items).round(2)\n",
    "unit_prices = np.maximum(unit_prices, 5)  # Ensure minimum price\n",
    "\n",
    "# Create order items DataFrame\n",
    "order_items_data = {\n",
    "    'item_id': order_item_ids,\n",
    "    'order_id': order_refs,\n",
    "    'product_id': product_ids,\n",
    "    'quantity': quantities,\n",
    "    'unit_price': unit_prices\n",
    "}\n",
    "order_items_df = pd.DataFrame(order_items_data)"
   ]
  },
  {
   "cell_type": "code",
   "execution_count": null,
   "metadata": {},
   "outputs": [],
   "source": [
    "# Display sample data\n",
    "print(\"ORDERS SAMPLE:\")\n",
    "print(orders_df.head())\n",
    "print(\"\\nORDER ITEMS SAMPLE:\")\n",
    "print(order_items_df.head())"
   ]
  },
  {
   "cell_type": "markdown",
   "metadata": {},
   "source": [
    "## SECTION 2: BASIC SQL QUERIES IN PYTHON"
   ]
  },
  {
   "cell_type": "code",
   "execution_count": null,
   "metadata": {},
   "outputs": [],
   "source": [
    "# SQL: SELECT * FROM orders LIMIT 5\n",
    "# Python:\n",
    "print(\"\\n1. Select all columns with limit:\")\n",
    "print(orders_df.head(5))"
   ]
  },
  {
   "cell_type": "code",
   "execution_count": null,
   "metadata": {},
   "outputs": [],
   "source": [
    "# SQL: SELECT order_id, order_date, order_value FROM orders ORDER BY order_date DESC LIMIT 10\n",
    "# Python:\n",
    "print(\"\\n2. Select specific columns, sorted:\")\n",
    "print(orders_df[['order_id', 'order_date', 'order_value']].sort_values('order_date', ascending=False).head(10))"
   ]
  },
  {
   "cell_type": "code",
   "execution_count": null,
   "metadata": {},
   "outputs": [],
   "source": [
    "# SQL: SELECT * FROM orders WHERE order_value > 150\n",
    "# Python:\n",
    "print(\"\\n3. Filtering with WHERE:\")\n",
    "high_value_orders = orders_df[orders_df['order_value'] > 150]\n",
    "print(high_value_orders.head())"
   ]
  },
  {
   "cell_type": "code",
   "execution_count": null,
   "metadata": {},
   "outputs": [],
   "source": [
    "# SQL: SELECT status, COUNT(*) as order_count FROM orders GROUP BY status\n",
    "# Python:\n",
    "print(\"\\n4. Grouping and counting:\")\n",
    "status_counts = orders_df.groupby('status').size().reset_index(name='order_count')\n",
    "print(status_counts)"
   ]
  },
  {
   "cell_type": "code",
   "execution_count": null,
   "metadata": {},
   "outputs": [],
   "source": [
    "# SQL: SELECT customer_id, SUM(order_value) as total_spent \n",
    "#      FROM orders \n",
    "#      GROUP BY customer_id \n",
    "#      ORDER BY total_spent DESC\n",
    "#      LIMIT 5\n",
    "# Python:\n",
    "print(\"\\n5. Aggregation with GROUP BY and ORDER BY:\")\n",
    "customer_totals = orders_df.groupby('customer_id')['order_value'].sum().reset_index(name='total_spent')\n",
    "print(customer_totals.sort_values('total_spent', ascending=False).head(5))"
   ]
  },
  {
   "cell_type": "markdown",
   "metadata": {},
   "source": [
    "### EXERCISE: Try these SQL translations yourself:\n",
    "1. Select all cancelled orders\n",
    "2. Find the average order value by status\n",
    "3. Count orders by month (hint: you'll need to extract month from order_date)"
   ]
  },
  {
   "cell_type": "code",
   "execution_count": null,
   "metadata": {},
   "outputs": [],
   "source": [
    "# Your code here:\n",
    "\n",
    "# 1. Select all cancelled orders\n",
    "# SQL: SELECT * FROM orders WHERE status = 'Cancelled'\n",
    "\n",
    "\n",
    "# 2. Find the average order value by status\n",
    "# SQL: SELECT status, AVG(order_value) as avg_value FROM orders GROUP BY status\n",
    "\n",
    "\n",
    "# 3. Count orders by month\n",
    "# SQL: SELECT EXTRACT(MONTH FROM order_date) as month, COUNT(*) as order_count \n",
    "#      FROM orders GROUP BY month ORDER BY month\n"
   ]
  },
  {
   "cell_type": "markdown",
   "metadata": {},
   "source": [
    "## SECTION 3: JOINS IN PYTHON"
   ]
  },
  {
   "cell_type": "code",
   "execution_count": null,
   "metadata": {},
   "outputs": [],
   "source": [
    "# SQL: SELECT o.order_id, o.order_date, o.order_value, i.product_id, i.quantity, i.unit_price\n",
    "#      FROM orders o\n",
    "#      JOIN order_items i ON o.order_id = i.order_id\n",
    "#      LIMIT 10\n",
    "# Python:\n",
    "print(\"\\n6. Basic JOIN (INNER JOIN):\")\n",
    "joined_data = pd.merge(orders_df, order_items_df, on='order_id')\n",
    "print(joined_data[['order_id', 'order_date', 'order_value', 'product_id', 'quantity', 'unit_price']].head(10))"
   ]
  },
  {
   "cell_type": "code",
   "execution_count": null,
   "metadata": {},
   "outputs": [],
   "source": [
    "# SQL: SELECT o.order_id, o.order_date, COUNT(i.item_id) as item_count, SUM(i.quantity) as total_quantity\n",
    "#      FROM orders o\n",
    "#      JOIN order_items i ON o.order_id = i.order_id\n",
    "#      GROUP BY o.order_id, o.order_date\n",
    "#      ORDER BY total_quantity DESC\n",
    "#      LIMIT 5\n",
    "# Python:\n",
    "print(\"\\n7. JOIN with aggregation:\")\n",
    "order_summary = pd.merge(orders_df, order_items_df, on='order_id')\n",
    "order_summary = order_summary.groupby(['order_id', 'order_date']).agg({\n",
    "    'item_id': 'count',\n",
    "    'quantity': 'sum'\n",
    "}).reset_index()\n",
    "order_summary.columns = ['order_id', 'order_date', 'item_count', 'total_quantity']\n",
    "print(order_summary.sort_values('total_quantity', ascending=False).head(5))"
   ]
  },
  {
   "cell_type": "markdown",
   "metadata": {},
   "source": [
    "## SECTION 4: ADVANCED QUERIES"
   ]
  },
  {
   "cell_type": "code",
   "execution_count": null,
   "metadata": {},
   "outputs": [],
   "source": [
    "# SQL: WITH customer_stats AS (\n",
    "#     SELECT customer_id, COUNT(*) as order_count, SUM(order_value) as total_value\n",
    "#     FROM orders\n",
    "#     GROUP BY customer_id\n",
    "# )\n",
    "# SELECT *\n",
    "# FROM customer_stats\n",
    "# WHERE order_count > 3\n",
    "# ORDER BY total_value DESC\n",
    "# Python (equivalent to SQL WITH clause):\n",
    "print(\"\\n8. Common Table Expression (CTE) / Subquery:\")\n",
    "customer_stats = orders_df.groupby('customer_id').agg({\n",
    "    'order_id': 'count',\n",
    "    'order_value': 'sum'\n",
    "}).reset_index()\n",
    "customer_stats.columns = ['customer_id', 'order_count', 'total_value']\n",
    "print(customer_stats[customer_stats['order_count'] > 3].sort_values('total_value', ascending=False))"
   ]
  },
  {
   "cell_type": "code",
   "execution_count": null,
   "metadata": {},
   "outputs": [],
   "source": [
    "# SQL: SELECT \n",
    "#     DATE_TRUNC('month', order_date) as month, \n",
    "#     status,\n",
    "#     COUNT(*) as order_count,\n",
    "#     AVG(order_value) as avg_value\n",
    "# FROM orders\n",
    "# GROUP BY month, status\n",
    "# ORDER BY month, status\n",
    "# Python:\n",
    "print(\"\\n9. Grouping by date and category:\")\n",
    "# Extract month from order_date\n",
    "orders_df['month'] = orders_df['order_date'].dt.to_period('M')\n",
    "# Group by month and status\n",
    "monthly_status = orders_df.groupby(['month', 'status']).agg({\n",
    "    'order_id': 'count',\n",
    "    'order_value': 'mean'\n",
    "}).reset_index()\n",
    "monthly_status.columns = ['month', 'status', 'order_count', 'avg_value']\n",
    "print(monthly_status.head(10))"
   ]
  },
  {
   "cell_type": "code",
   "execution_count": null,
   "metadata": {},
   "outputs": [],
   "source": [
    "# SQL: SELECT \n",
    "#     o.order_id,\n",
    "#     o.order_date,\n",
    "#     o.order_value,\n",
    "#     (o.order_value - AVG(o.order_value) OVER()) as diff_from_avg,\n",
    "#     RANK() OVER(ORDER BY o.order_value DESC) as value_rank\n",
    "# FROM orders o\n",
    "# LIMIT 10\n",
    "# Python (using window functions):\n",
    "print(\"\\n10. Window functions:\")\n",
    "# Calculate global average\n",
    "global_avg = orders_df['order_value'].mean()\n",
    "# Create a copy to avoid SettingWithCopyWarning\n",
    "orders_window = orders_df.copy()\n",
    "# Add window function calculations\n",
    "orders_window['diff_from_avg'] = orders_window['order_value'] - global_avg\n",
    "orders_window['value_rank'] = orders_window['order_value'].rank(method='min', ascending=False)\n",
    "print(orders_window[['order_id', 'order_date', 'order_value', 'diff_from_avg', 'value_rank']].head(10))"
   ]
  },
  {
   "cell_type": "markdown",
   "metadata": {},
   "source": [
    "## SECTION 5: DATA VISUALIZATION\n",
    "\n",
    "One of Python's advantages over SQL is easy visualization. Let's create some basic charts from our data."
   ]
  },
  {
   "cell_type": "code",
   "execution_count": null,
   "metadata": {},
   "outputs": [],
   "source": [
    "print(\"\\n11. Visualizing data (a key Python advantage over SQL):\")\n",
    "\n",
    "# Create a simple chart - Orders by status\n",
    "plt.figure(figsize=(10, 6))\n",
    "status_counts_plot = orders_df['status'].value_counts()\n",
    "status_counts_plot.plot(kind='bar', color='skyblue')\n",
    "plt.title('Order Count by Status')\n",
    "plt.xlabel('Status')\n",
    "plt.ylabel('Count')\n",
    "plt.tight_layout()\n",
    "plt.show()"
   ]
  },
  {
   "cell_type": "code",
   "execution_count": null,
   "metadata": {},
   "outputs": [],
   "source": [
    "# Time series of orders\n",
    "plt.figure(figsize=(12, 6))\n",
    "orders_df['order_date'].dt.to_period('W').value_counts().sort_index().plot(kind='line', marker='o')\n",
    "plt.title('Order Volume by Week')\n",
    "plt.xlabel('Week')\n",
    "plt.ylabel('Number of Orders')\n",
    "plt.grid(True, alpha=0.3)\n",
    "plt.tight_layout()\n",
    "plt.show()"
   ]
  },
  {
   "cell_type": "code",
   "execution_count": null,
   "metadata": {},
   "outputs": [],
   "source": [
    "# Distribution of order values\n",
    "plt.figure(figsize=(10, 6))\n",
    "plt.hist(orders_df['order_value'], bins=20, color='green', alpha=0.7)\n",
    "plt.title('Distribution of Order Values')\n",
    "plt.xlabel('Order Value ($)')\n",
    "plt.ylabel('Frequency')\n",
    "plt.axvline(orders_df['order_value'].mean(), color='red', linestyle='dashed', linewidth=2, label=f'Mean: ${orders_df[\"order_value\"].mean():.2f}')\n",
    "plt.legend()\n",
    "plt.grid(True, alpha=0.3)\n",
    "plt.tight_layout()\n",
    "plt.show()"
   ]
  },
  {
   "cell_type": "markdown",
   "metadata": {},
   "source": [
    "### FINAL EXERCISES:\n",
    "Try these more challenging SQL-to-Python translations:\n",
    "1. Find the top 3 products by total quantity ordered\n",
    "2. Calculate the percentage of cancelled orders by customer\n",
    "3. Find orders where the total item value (quantity * unit_price) differs from order_value"
   ]
  },
  {
   "cell_type": "code",
   "execution_count": null,
   "metadata": {},
   "outputs": [],
   "source": [
    "# Your code here:\n",
    "\n",
    "# 1. Find the top 3 products by total quantity ordered\n",
    "\n",
    "\n",
    "# 2. Calculate the percentage of cancelled orders by customer\n",
    "\n",
    "\n",
    "# 3. Find orders where the total item value differs from order_value\n"
   ]
  },
  {
   "cell_type": "markdown",
   "metadata": {},
   "source": [
    "## Summary\n",
    "\n",
    "In this notebook, we've explored how to translate common SQL operations to Python using pandas:\n",
    "\n",
    "1. **Basic Querying**: Selection, filtering, sorting\n",
    "2. **Aggregations**: GROUP BY, COUNT, SUM, AVG\n",
    "3. **Joins**: Combining tables with merge()\n",
    "4. **Advanced Queries**: CTEs, window functions\n",
    "5. **Visualization**: Creating charts from query results\n",
    "\n",
    "These skills will be especially valuable when working with the Olist e-commerce dataset, where you'll often need to combine and analyze data from multiple tables."
   ]
  }
 ],
 "metadata": {
  "kernelspec": {
   "display_name": ".venv (3.13.2)",
   "language": "python",
   "name": "python3"
  },
  "language_info": {
   "codemirror_mode": {
    "name": "ipython",
    "version": 3
   },
   "file_extension": ".py",
   "mimetype": "text/x-python",
   "name": "python",
   "nbconvert_exporter": "python",
   "pygments_lexer": "ipython3",
   "version": "3.13.2"
  }
 },
 "nbformat": 4,
 "nbformat_minor": 4
}

{
 "cells": [
  {
   "cell_type": "markdown",
   "metadata": {},
   "source": [
    "# Python for Data Analysis - Week 2\n",
    "## Practice Exercises: Pandas Fundamentals I (Part 2)\n",
    "\n",
    "### Overview\n",
    "This notebook is a continuation of the practice exercises for Week 2's Pandas Fundamentals session. Please complete Part 1 before starting this notebook, as we'll be using the same DataFrames we created there.\n",
    "\n",
    "### Instructions\n",
    "1. Read each exercise carefully\n",
    "2. Write your code in the provided cells\n",
    "3. Run your code to check your solution\n",
    "4. Compare your approach with the provided solution\n",
    "5. If you're stuck, review the lecture materials or ask for help"
   ]
  },
  {
   "cell_type": "markdown",
   "metadata": {},
   "source": [
    "## Setup\n",
    "\n",
    "First, let's import the necessary libraries and recreate our dataset from Part 1."
   ]
  },
  {
   "cell_type": "code",
   "execution_count": null,
   "metadata": {},
   "outputs": [],
   "source": [
    "# Import libraries\n",
    "import pandas as pd\n",
    "import numpy as np\n",
    "import matplotlib.pyplot as plt\n",
    "\n",
    "# For plotting in the notebook\n",
    "%matplotlib inline\n",
    "\n",
    "# Set display options\n",
    "pd.set_option('display.max_columns', None)  # Show all columns\n",
    "pd.set_option('display.max_rows', 15)       # Limit number of rows shown\n",
    "pd.set_option('display.width', 1000)        # Set width of display\n",
    "\n",
    "# Load the numeric_data.csv file\n",
    "numeric_df = pd.read_csv('../Data/numeric_data.csv')\n",
    "\n",
    "print(\"Libraries imported and data loaded successfully!\")\n",
    "print(numeric_df.head())"
   ]
  },
  {
   "cell_type": "markdown",
   "metadata": {},
   "source": [
    "## Section 2: Column Selection and Basic Operations\n",
    "\n",
    "In this section, we'll practice selecting columns and performing basic operations on DataFrames."
   ]
  },
  {
   "cell_type": "markdown",
   "metadata": {},
   "source": [
    "### Exercise 2.1: Selecting Columns\n",
    "\n",
    "Using the `numeric_df` DataFrame, perform the following column selections:\n",
    "\n",
    "1. Select a single column using bracket notation\n",
    "2. Select a single column using dot notation\n",
    "3. Select multiple columns using a list of column names\n",
    "4. Select the first three columns using position"
   ]
  },
  {
   "cell_type": "code",
   "execution_count": null,
   "metadata": {},
   "outputs": [],
   "source": [
    "# Your code here\n"
   ]
  },
  {
   "cell_type": "markdown",
   "metadata": {},
   "source": [
    "### Solution 2.1"
   ]
  },
  {
   "cell_type": "code",
   "execution_count": null,
   "metadata": {},
   "outputs": [],
   "source": [
    "# 1. Select a single column using bracket notation\n",
    "print(\"Single column using bracket notation:\")\n",
    "print(numeric_df['value1'])\n",
    "\n",
    "# 2. Select a single column using dot notation\n",
    "print(\"\\nSingle column using dot notation:\")\n",
    "print(numeric_df.value2)\n",
    "\n",
    "# 3. Select multiple columns using a list of column names\n",
    "print(\"\\nMultiple columns using a list:\")\n",
    "print(numeric_df[['value1', 'value3']])\n",
    "\n",
    "# 4. Select the first three columns using position\n",
    "print(\"\\nFirst three columns using position:\")\n",
    "print(numeric_df.iloc[:, 0:3])"
   ]
  },
  {
   "cell_type": "markdown",
   "metadata": {},
   "source": [
    "### Exercise 2.2: Creating New Columns\n",
    "\n",
    "Using the `numeric_df` DataFrame, perform the following operations:\n",
    "\n",
    "1. Create a new column called 'total' that is the sum of value1, value2, and value3\n",
    "2. Create a new column called 'average' that is the average of value1, value2, and value3\n",
    "3. Create a new column called 'above_average' that is True if value1 is greater than its mean, and False otherwise\n",
    "4. Create a new column called 'category_code' that maps category 'A' to 1, 'B' to 2, and 'C' to 3"
   ]
  },
  {
   "cell_type": "code",
   "execution_count": null,
   "metadata": {},
   "outputs": [],
   "source": [
    "# Your code here\n"
   ]
  },
  {
   "cell_type": "markdown",
   "metadata": {},
   "source": [
    "### Solution 2.2"
   ]
  },
  {
   "cell_type": "code",
   "execution_count": null,
   "metadata": {},
   "outputs": [],
   "source": [
    "# 1. Create a total column\n",
    "numeric_df['total'] = numeric_df['value1'] + numeric_df['value2'] + numeric_df['value3']\n",
    "\n",
    "# 2. Create an average column\n",
    "numeric_df['average'] = numeric_df[['value1', 'value2', 'value3']].mean(axis=1)\n",
    "\n",
    "# 3. Create a boolean column based on value1\n",
    "value1_mean = numeric_df['value1'].mean()\n",
    "numeric_df['above_average'] = numeric_df['value1'] > value1_mean\n",
    "\n",
    "# 4. Create a category_code column\n",
    "category_mapping = {'A': 1, 'B': 2, 'C': 3}\n",
    "numeric_df['category_code'] = numeric_df['category'].map(category_mapping)\n",
    "\n",
    "# Display the updated DataFrame\n",
    "numeric_df"
   ]
  },
  {
   "cell_type": "markdown",
   "metadata": {},
   "source": [
    "### Exercise 2.3: Handling Missing Values\n",
    "\n",
    "Create a DataFrame called `missing_df` based on `numeric_df` but introduce some missing values (NaN) in it. Then:\n",
    "\n",
    "1. Count the number of missing values in each column\n",
    "2. Drop rows with any missing values and save as a new DataFrame\n",
    "3. Fill missing values with the mean of their respective columns and save as a new DataFrame\n",
    "4. Fill missing values with different strategies for each column: forward fill for value1, 0 for value2, and the column mean for value3"
   ]
  },
  {
   "cell_type": "code",
   "execution_count": null,
   "metadata": {},
   "outputs": [],
   "source": [
    "# Your code here\n"
   ]
  },
  {
   "cell_type": "markdown",
   "metadata": {},
   "source": [
    "### Solution 2.3"
   ]
  },
  {
   "cell_type": "code",
   "execution_count": null,
   "metadata": {},
   "outputs": [],
   "source": [
    "# Create a copy of numeric_df\n",
    "missing_df = numeric_df.copy()\n",
    "\n",
    "# Introduce missing values\n",
    "missing_df.loc[1, 'value1'] = np.nan\n",
    "missing_df.loc[3, 'value2'] = np.nan\n",
    "missing_df.loc[5, 'value3'] = np.nan\n",
    "missing_df.loc[7, ['value1', 'value2']] = np.nan\n",
    "\n",
    "print(\"DataFrame with missing values:\")\n",
    "print(missing_df)\n",
    "\n",
    "# 1. Count missing values\n",
    "print(\"\\nMissing values in each column:\")\n",
    "print(missing_df.isna().sum())\n",
    "\n",
    "# 2. Drop rows with missing values\n",
    "df_dropped = missing_df.dropna()\n",
    "print(\"\\nDataFrame after dropping rows with missing values:\")\n",
    "print(df_dropped)\n",
    "\n",
    "# 3. Fill missing values with column means\n",
    "df_mean_filled = missing_df.fillna(missing_df.mean())\n",
    "print(\"\\nDataFrame after filling missing values with column means:\")\n",
    "print(df_mean_filled[['value1', 'value2', 'value3']])\n",
    "\n",
    "# 4. Fill missing values with different strategies\n",
    "df_custom_filled = missing_df.copy()\n",
    "df_custom_filled['value1'] = df_custom_filled['value1'].fillna(method='ffill')  # Forward fill\n",
    "df_custom_filled['value2'] = df_custom_filled['value2'].fillna(0)  # Fill with 0\n",
    "df_custom_filled['value3'] = df_custom_filled['value3'].fillna(df_custom_filled['value3'].mean())  # Fill with mean\n",
    "\n",
    "print(\"\\nDataFrame after filling missing values with custom strategies:\")\n",
    "print(df_custom_filled[['value1', 'value2', 'value3']])"
   ]
  }
 ],
 "metadata": {
  "kernelspec": {
   "display_name": "Python 3",
   "language": "python",
   "name": "python3"
  },
  "language_info": {
   "codemirror_mode": {
    "name": "ipython",
    "version": 3
   },
   "file_extension": ".py",
   "mimetype": "text/x-python",
   "name": "python",
   "nbconvert_exporter": "python",
   "pygments_lexer": "ipython3",
   "version": "3.8.10"
  }
 },
 "nbformat": 4,
 "nbformat_minor": 4
}

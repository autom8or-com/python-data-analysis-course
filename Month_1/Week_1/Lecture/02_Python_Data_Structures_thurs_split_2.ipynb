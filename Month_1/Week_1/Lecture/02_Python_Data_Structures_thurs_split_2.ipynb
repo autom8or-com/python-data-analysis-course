{
  "cells": [
    {
      "cell_type": "markdown",
      "metadata": {
        "id": "header-section"
      },
      "source": [
        "# Python Data Structures for Data Analysis - Part 2\n",
        "\n",
        "## Week 1, Day 2 (Thursday) - April 10th, 2025\n",
        "\n",
        "### Overview\n",
        "Continuing from Part 1, this notebook focuses on dictionaries, sets, and practical applications of Python data structures for data analysis tasks."
      ]
    },
    {
      "cell_type": "markdown",
      "metadata": {
        "id": "dictionaries-intro"
      },
      "source": [
        "## 3. Dictionaries in Python\n",
        "\n",
        "Dictionaries are key-value pair collections that allow fast lookups by key. They are unordered in Python versions < 3.7 and ordered by insertion in Python 3.7+."
      ]
    },
    {
      "cell_type": "code",
      "execution_count": null,
      "metadata": {
        "id": "dictionaries-examples"
      },
      "outputs": [],
      "source": [
        "# Creating dictionaries\n",
        "empty_dict = {}\n",
        "ages = {\"Alice\": 25, \"Bob\": 30, \"Charlie\": 35}\n",
        "mixed_dict = {\"name\": \"John\", \"age\": 28, \"is_student\": False, \"courses\": [\"Math\", \"CS\"]}\n",
        "\n",
        "# Alternative creation method\n",
        "user_info = dict(name=\"Jane\", email=\"jane@example.com\", age=32)\n",
        "\n",
        "print(\"Empty dictionary:\", empty_dict)\n",
        "print(\"Ages dictionary:\", ages)\n",
        "print(\"Mixed dictionary:\", mixed_dict)\n",
        "print(\"User info dictionary:\", user_info)"
      ]
    },
    {
      "cell_type": "markdown",
      "metadata": {
        "id": "dictionary-operations"
      },
      "source": [
        "### Dictionary Operations"
      ]
    },
    {
      "cell_type": "code",
      "execution_count": null,
      "metadata": {
        "id": "dictionary-operations-code"
      },
      "outputs": [],
      "source": [
        "# Access values by key\n",
        "print(f\"Alice's age: {ages['Alice']}\")\n",
        "print(f\"John's courses: {mixed_dict['courses']}\")\n",
        "\n",
        "# Adding and updating values\n",
        "ages[\"David\"] = 40  # Add new key-value pair\n",
        "ages[\"Alice\"] = 26  # Update existing value\n",
        "print(\"Updated ages:\", ages)\n",
        "\n",
        "# Safely get values with default\n",
        "print(f\"Eve's age: {ages.get('Eve', 'Not found')}\")\n",
        "\n",
        "# Check if key exists\n",
        "if \"Bob\" in ages:\n",
        "    print(f\"Bob's age is {ages['Bob']}\")\n",
        "\n",
        "# Removing items\n",
        "removed_age = ages.pop(\"Charlie\")  # Remove and return\n",
        "print(f\"Removed Charlie's age: {removed_age}\")\n",
        "print(\"Ages after removal:\", ages)\n",
        "\n",
        "# Clear all items\n",
        "user_info.clear()\n",
        "print(\"Cleared user info:\", user_info)"
      ]
    },
    {
      "cell_type": "markdown",
      "metadata": {
        "id": "dictionary-methods"
      },
      "source": [
        "### Dictionary Methods and Iteration"
      ]
    },
    {
      "cell_type": "code",
      "execution_count": null,
      "metadata": {
        "id": "dictionary-methods-code"
      },
      "outputs": [],
      "source": [
        "# Sample dictionary\n",
        "student = {\n",
        "    \"name\": \"Alex Johnson\",\n",
        "    \"id\": \"AJ1234\",\n",
        "    \"courses\": [\"Data Science\", \"Machine Learning\", \"Python Programming\"],\n",
        "    \"grades\": {\"Data Science\": 95, \"Machine Learning\": 89, \"Python Programming\": 92},\n",
        "    \"graduation_year\": 2026\n",
        "}\n",
        "\n",
        "# Get all keys\n",
        "keys = student.keys()\n",
        "print(\"Keys:\", list(keys))\n",
        "\n",
        "# Get all values\n",
        "values = student.values()\n",
        "print(\"Values:\", list(values))\n",
        "\n",
        "# Get all key-value pairs as tuples\n",
        "items = student.items()\n",
        "print(\"Items:\", list(items))\n",
        "\n",
        "# Iterate through keys\n",
        "print(\"\\nStudent information:\")\n",
        "for key in student:\n",
        "    print(f\"{key}: {student[key]}\")\n",
        "\n",
        "# Iterate through key-value pairs\n",
        "print(\"\\nGrades:\")\n",
        "for course, grade in student[\"grades\"].items():\n",
        "    print(f\"{course}: {grade}\")\n",
        "\n",
        "# Update with another dictionary\n",
        "student.update({\"email\": \"alex.j@example.edu\", \"graduation_year\": 2025})\n",
        "print(\"\\nUpdated student info:\", student)"
      ]
    },
    {
      "cell_type": "markdown",
      "metadata": {
        "id": "dict-comprehensions"
      },
      "source": [
        "### Dictionary Comprehensions\n",
        "\n",
        "Similar to list comprehensions, dictionary comprehensions provide a concise way to create dictionaries."
      ]
    },
    {
      "cell_type": "code",
      "execution_count": null,
      "metadata": {
        "id": "dict-comprehension-code"
      },
      "outputs": [],
      "source": [
        "# Basic syntax: {key_expr: value_expr for item in iterable if condition}\n",
        "\n",
        "# Squares dictionary {number: square}\n",
        "squares = {x: x**2 for x in range(1, 11)}\n",
        "print(\"Squares dictionary:\", squares)\n",
        "\n",
        "# Filter by value\n",
        "even_squares = {x: x**2 for x in range(1, 11) if x % 2 == 0}\n",
        "print(\"Even squares:\", even_squares)\n",
        "\n",
        "# Create from two lists\n",
        "names = [\"Alice\", \"Bob\", \"Charlie\", \"David\"]\n",
        "scores = [95, 87, 92, 78]\n",
        "student_scores = {name: score for name, score in zip(names, scores)}\n",
        "print(\"Student scores:\", student_scores)\n",
        "\n",
        "# Transform keys and values\n",
        "student_grades = {name.upper(): \"A\" if score >= 90 else \"B\" if score >= 80 else \"C\" \n",
        "                 for name, score in student_scores.items()}\n",
        "print(\"Student grades:\", student_grades)\n",
        "\n",
        "# Word frequency counter\n",
        "text = \"python is powerful python is flexible python is fun\"\n",
        "word_count = {word: text.split().count(word) for word in set(text.split())}\n",
        "print(\"Word frequency:\", word_count)"
      ]
    },
    {
      "cell_type": "markdown",
      "metadata": {
        "id": "nested-dicts"
      },
      "source": [
        "### Nested Dictionaries for Structured Data\n",
        "\n",
        "Dictionaries can be nested to represent complex data structures."
      ]
    },
    {
      "cell_type": "code",
      "execution_count": null,
      "metadata": {
        "id": "nested-dict-code"
      },
      "outputs": [],
      "source": [
        "# Customer order database\n",
        "customers = {\n",
        "    \"C001\": {\n",
        "        \"name\": \"Alice Brown\",\n",
        "        \"email\": \"alice@example.com\",\n",
        "        \"orders\": {\n",
        "            \"ORD123\": {\n",
        "                \"date\": \"2025-01-15\",\n",
        "                \"items\": [\"Product A\", \"Product B\"],\n",
        "                \"total\": 78.50\n",
        "            },\n",
        "            \"ORD127\": {\n",
        "                \"date\": \"2025-02-20\",\n",
        "                \"items\": [\"Product C\"],\n",
        "                \"total\": 39.99\n",
        "            }\n",
        "        }\n",
        "    },\n",
        "    \"C002\": {\n",
        "        \"name\": \"Bob Smith\",\n",
        "        \"email\": \"bob@example.com\",\n",
        "        \"orders\": {\n",
        "            \"ORD125\": {\n",
        "                \"date\": \"2025-01-20\",\n",
        "                \"items\": [\"Product B\", \"Product D\"],\n",
        "                \"total\": 105.75\n",
        "            }\n",
        "        }\n",
        "    }\n",
        "}\n",
        "\n",
        "# Access nested data\n",
        "print(f\"Alice's email: {customers['C001']['email']}\")\n",
        "print(f\"Bob's order total: {customers['C002']['orders']['ORD125']['total']}\")\n",
        "\n",
        "# Get all order totals for Alice\n",
        "alice_totals = [order['total'] for order in customers['C001']['orders'].values()]\n",
        "print(f\"Alice's order totals: {alice_totals}\")\n",
        "print(f\"Alice's total spending: ${sum(alice_totals):.2f}\")\n",
        "\n",
        "# Calculate total revenue across all customers\n",
        "total_revenue = 0\n",
        "for customer_id, customer_data in customers.items():\n",
        "    for order_id, order_data in customer_data['orders'].items():\n",
        "        total_revenue += order_data['total']\n",
        "\n",
        "print(f\"Total revenue: ${total_revenue:.2f}\")"
      ]
    },
    {
      "cell_type": "markdown",
      "metadata": {
        "id": "sets-intro"
      },
      "source": [
        "## 4. Sets in Python\n",
        "\n",
        "Sets are unordered collections of unique elements. They are useful for membership testing, removing duplicates, and mathematical operations like union and intersection."
      ]
    },
    {
      "cell_type": "code",
      "execution_count": null,
      "metadata": {
        "id": "sets-examples"
      },
      "outputs": [],
      "source": [
        "# Creating sets\n",
        "empty_set = set()  # Note: {} creates an empty dict, not a set\n",
        "fruits = {\"apple\", \"banana\", \"cherry\"}\n",
        "numbers = set([1, 2, 2, 3, 3, 3, 4])  # Creating from a list with duplicates\n",
        "\n",
        "print(\"Empty set:\", empty_set)\n",
        "print(\"Fruits set:\", fruits)\n",
        "print(\"Numbers set (duplicates removed):\", numbers)"
      ]
    },
    {
      "cell_type": "markdown",
      "metadata": {
        "id": "set-operations"
      },
      "source": [
        "### Set Operations"
      ]
    },
    {
      "cell_type": "code",
      "execution_count": null,
      "metadata": {
        "id": "set-operations-code"
      },
      "outputs": [],
      "source": [
        "# Adding and removing elements\n",
        "fruits.add(\"orange\")\n",
        "print(\"After adding 'orange':\", fruits)\n",
        "\n",
        "fruits.remove(\"banana\")  # Raises KeyError if not found\n",
        "print(\"After removing 'banana':\", fruits)\n",
        "\n",
        "fruits.discard(\"pear\")  # No error if not found\n",
        "print(\"After discarding 'pear' (which wasn't in the set):\", fruits)\n",
        "\n",
        "popped = fruits.pop()  # Remove and return an arbitrary element\n",
        "print(f\"Popped element: {popped}, Set after pop: {fruits}\")\n",
        "\n",
        "# Membership testing\n",
        "print(\"Is 'cherry' in fruits?\", \"cherry\" in fruits)\n",
        "print(\"Is 'banana' in fruits?\", \"banana\" in fruits)"
      ]
    },
    {
      "cell_type": "markdown",
      "metadata": {
        "id": "set-mathematical"
      },
      "source": [
        "### Mathematical Set Operations"
      ]
    },
    {
      "cell_type": "code",
      "execution_count": null,
      "metadata": {
        "id": "set-mathematical-code"
      },
      "outputs": [],
      "source": [
        "# Sample sets\n",
        "set_a = {1, 2, 3, 4, 5}\n",
        "set_b = {4, 5, 6, 7, 8}\n",
        "\n",
        "# Union: elements in either set\n",
        "union_result = set_a | set_b  # Alternative: set_a.union(set_b)\n",
        "print(\"Union:\", union_result)\n",
        "\n",
        "# Intersection: elements in both sets\n",
        "intersection_result = set_a & set_b  # Alternative: set_a.intersection(set_b)\n",
        "print(\"Intersection:\", intersection_result)\n",
        "\n",
        "# Difference: elements in first set but not in second\n",
        "difference_result = set_a - set_b  # Alternative: set_a.difference(set_b)\n",
        "print(\"Difference (A - B):\", difference_result)\n",
        "print(\"Difference (B - A):\", set_b - set_a)\n",
        "\n",
        "# Symmetric difference: elements in either set but not in both\n",
        "symmetric_difference = set_a ^ set_b  # Alternative: set_a.symmetric_difference(set_b)\n",
        "print(\"Symmetric difference:\", symmetric_difference)\n",
        "\n",
        "# Check if one set is a subset of another\n",
        "set_c = {1, 2, 3}\n",
        "print(\"Is C a subset of A?\", set_c.issubset(set_a))  # Alternative: set_c <= set_a\n",
        "print(\"Is A a superset of C?\", set_a.issuperset(set_c))  # Alternative: set_a >= set_c"
      ]
    },
    {
      "cell_type": "markdown",
      "metadata": {
        "id": "set-comprehensions"
      },
      "source": [
        "### Set Comprehensions\n",
        "\n",
        "Similar to list and dictionary comprehensions, set comprehensions offer a concise way to create sets."
      ]
    },
    {
      "cell_type": "code",
      "execution_count": null,
      "metadata": {
        "id": "set-comprehension-code"
      },
      "outputs": [],
      "source": [
        "# Basic syntax: {expression for item in iterable if condition}\n",
        "\n",
        "# Set of squares\n",
        "square_set = {x**2 for x in range(1, 11)}\n",
        "print(\"Set of squares:\", square_set)\n",
        "\n",
        "# Set of even numbers\n",
        "even_set = {x for x in range(1, 21) if x % 2 == 0}\n",
        "print(\"Set of even numbers:\", even_set)\n",
        "\n",
        "# Extract unique characters from a string\n",
        "text = \"python programming is fun\"\n",
        "unique_chars = {char for char in text if char.isalpha()}\n",
        "print(\"Unique characters:\", unique_chars)\n",
        "print(f\"Number of unique characters: {len(unique_chars)}\")"
      ]
    },
    {
      "cell_type": "markdown",
      "metadata": {
        "id": "set-applications"
      },
      "source": [
        "### Applications of Sets in Data Analysis"
      ]
    },
    {
      "cell_type": "code",
      "execution_count": null,
      "metadata": {
        "id": "set-applications-code"
      },
      "outputs": [],
      "source": [
        "# Removing duplicates from data\n",
        "transaction_ids = [\"T1001\", \"T1002\", \"T1001\", \"T1003\", \"T1002\", \"T1004\"]\n",
        "unique_transactions = set(transaction_ids)\n",
        "print(f\"Original transactions: {transaction_ids}\")\n",
        "print(f\"Unique transactions: {unique_transactions}\")\n",
        "print(f\"Number of duplicate transactions: {len(transaction_ids) - len(unique_transactions)}\")\n",
        "\n",
        "# Finding common elements\n",
        "customers_2024 = {\"Alice\", \"Bob\", \"Charlie\", \"David\", \"Eve\"}\n",
        "customers_2025 = {\"Bob\", \"Charlie\", \"Frank\", \"Grace\", \"Eve\"}\n",
        "\n",
        "# Returning customers (in both years)\n",
        "returning_customers = customers_2024 & customers_2025\n",
        "print(f\"Returning customers: {returning_customers}\")\n",
        "\n",
        "# New customers in 2025\n",
        "new_customers = customers_2025 - customers_2024\n",
        "print(f\"New customers in 2025: {new_customers}\")\n",
        "\n",
        "# Lost customers (in 2024 but not in 2025)\n",
        "lost_customers = customers_2024 - customers_2025\n",
        "print(f\"Lost customers: {lost_customers}\")\n",
        "\n",
        "# Customer status analysis\n",
        "customer_status = {\n",
        "    \"total_unique\": len(customers_2024 | customers_2025),\n",
        "    \"returning\": len(returning_customers),\n",
        "    \"new\": len(new_customers),\n",
        "    \"lost\": len(lost_customers)\n",
        "}\n",
        "print(\"Customer status analysis:\", customer_status)"
      ]
    },
    {
      "cell_type": "markdown",
      "metadata": {
        "id": "advanced-applications"
      },
      "source": [
        "## 5. Practical Applications: Combining Data Structures\n",
        "\n",
        "Now let's look at a more complex example that combines multiple data structures to solve a realistic data analysis problem."
      ]
    },
    {
      "cell_type": "code",
      "execution_count": null,
      "metadata": {
        "id": "sales-analysis"
      },
      "outputs": [],
      "source": [
        "# Sample sales data (each entry is a transaction)\n",
        "sales_data = [\n",
        "    {\"date\": \"2025-01-15\", \"customer_id\": \"C001\", \"product_id\": \"P101\", \"quantity\": 2, \"price\": 19.99},\n",
        "    {\"date\": \"2025-01-15\", \"customer_id\": \"C002\", \"product_id\": \"P105\", \"quantity\": 1, \"price\": 29.99},\n",
        "    {\"date\": \"2025-01-16\", \"customer_id\": \"C001\", \"product_id\": \"P103\", \"quantity\": 3, \"price\": 14.99},\n",
        "    {\"date\": \"2025-01-16\", \"customer_id\": \"C003\", \"product_id\": \"P101\", \"quantity\": 1, \"price\": 19.99},\n",
        "    {\"date\": \"2025-01-17\", \"customer_id\": \"C002\", \"product_id\": \"P102\", \"quantity\": 2, \"price\": 24.99},\n",
        "    {\"date\": \"2025-01-18\", \"customer_id\": \"C001\", \"product_id\": \"P101\", \"quantity\": 1, \"price\": 19.99},\n",
        "    {\"date\": \"2025-01-18\", \"customer_id\": \"C003\", \"product_id\": \"P103\", \"quantity\": 4, \"price\": 14.99},\n",
        "    {\"date\": \"2025-01-19\", \"customer_id\": \"C004\", \"product_id\": \"P105\", \"quantity\": 2, \"price\": 29.99},\n",
        "    {\"date\": \"2025-01-19\", \"customer_id\": \"C002\", \"product_id\": \"P101\", \"quantity\": 3, \"price\": 19.99}\n",
        "]\n",
        "\n",
        "product_info = {\n",
        "    \"P101\": {\"name\": \"Widget A\", \"category\": \"Tools\", \"weight\": 0.5},\n",
        "    \"P102\": {\"name\": \"Widget B\", \"category\": \"Tools\", \"weight\": 0.8},\n",
        "    \"P103\": {\"name\": \"Gadget X\", \"category\": \"Electronics\", \"weight\": 0.3},\n",
        "    \"P105\": {\"name\": \"Gadget Y\", \"category\": \"Electronics\", \"weight\": 1.2}\n",
        "}\n",
        "\n",
        "# Analysis Tasks:\n",
        "\n",
        "# 1. Calculate total sales by product\n",
        "product_sales = {}\n",
        "for transaction in sales_data:\n",
        "    product_id = transaction[\"product_id\"]\n",
        "    total = transaction[\"quantity\"] * transaction[\"price\"]\n",
        "    \n",
        "    if product_id not in product_sales:\n",
        "        product_sales[product_id] = 0\n",
        "    product_sales[product_id] += total\n",
        "\n",
        "# Add product names to the results\n",
        "product_sales_with_names = {\n",
        "    product_info[product_id][\"name\"]: total \n",
        "    for product_id, total in product_sales.items()\n",
        "}\n",
        "\n",
        "print(\"Total sales by product:\")\n",
        "for product, total in product_sales_with_names.items():\n",
        "    print(f\"{product}: ${total:.2f}\")\n",
        "\n",
        "# 2. Find unique customers by product category\n",
        "category_customers = {}\n",
        "for transaction in sales_data:\n",
        "    product_id = transaction[\"product_id\"]\n",
        "    category = product_info[product_id][\"category\"]\n",
        "    customer_id = transaction[\"customer_id\"]\n",
        "    \n",
        "    if category not in category_customers:\n",
        "        category_customers[category] = set()\n",
        "    category_customers[category].add(customer_id)\n",
        "\n",
        "print(\"\\nUnique customers by product category:\")\n",
        "for category, customers in category_customers.items():\n",
        "    print(f\"{category}: {len(customers)} customers {customers}\")\n",
        "\n",
        "# 3. Calculate daily sales\n",
        "daily_sales = {}\n",
        "for transaction in sales_data:\n",
        "    date = transaction[\"date\"]\n",
        "    total = transaction[\"quantity\"] * transaction[\"price\"]\n",
        "    \n",
        "    if date not in daily_sales:\n",
        "        daily_sales[date] = 0\n",
        "    daily_sales[date] += total\n",
        "\n",
        "print(\"\\nDaily sales:\")\n",
        "for date in sorted(daily_sales.keys()):\n",
        "    print(f\"{date}: ${daily_sales[date]:.2f}\")\n",
        "\n",
        "# 4. Find the customer with the highest total spending\n",
        "customer_spending = {}\n",
        "for transaction in sales_data:\n",
        "    customer_id = transaction[\"customer_id\"]\n",
        "    total = transaction[\"quantity\"] * transaction[\"price\"]\n",
        "    \n",
        "    if customer_id not in customer_spending:\n",
        "        customer_spending[customer_id] = 0\n",
        "    customer_spending[customer_id] += total\n",
        "\n",
        "top_customer = max(customer_spending.items(), key=lambda x: x[1])\n",
        "print(f\"\\nTop customer: {top_customer[0]} spent ${top_customer[1]:.2f}\")\n",
        "\n",
        "# 5. Average order value by category\n",
        "category_totals = {}\n",
        "category_counts = {}\n",
        "\n",
        "for transaction in sales_data:\n",
        "    product_id = transaction[\"product_id\"]\n",
        "    category = product_info[product_id][\"category\"]\n",
        "    total = transaction[\"quantity\"] * transaction[\"price\"]\n",
        "    \n",
        "    if category not in category_totals:\n",
        "        category_totals[category] = 0\n",
        "        category_counts[category] = 0\n",
        "    \n",
        "    category_totals[category] += total\n",
        "    category_counts[category] += 1\n",
        "\n",
        "category_avg = {category: category_totals[category] / category_counts[category]\n",
        "                for category in category_totals}\n",
        "\n",
        "print(\"\\nAverage order value by category:\")\n",
        "for category, avg in category_avg.items():\n",
        "    print(f\"{category}: ${avg:.2f}\")"
      ]
    },
    {
      "cell_type": "markdown",
      "metadata": {
        "id": "conclusion"
      },
      "source": [
        "## Summary\n",
        "\n",
        "In these two notebooks, we've covered the essential Python data structures for data analysis:\n",
        "\n",
        "1. **Lists** - Ordered, mutable collections for sequences of items\n",
        "2. **Tuples** - Ordered, immutable collections for fixed data\n",
        "3. **Dictionaries** - Key-value mappings for fast lookups and structured data\n",
        "4. **Sets** - Unordered collections of unique elements for membership testing and mathematical operations\n",
        "\n",
        "Understanding these structures and how to combine them allows you to efficiently organize, manipulate, and analyze data in Python. These fundamentals will form the basis for our work with the pandas library, which provides high-level data structures optimized for data analysis tasks.\n",
        "\n",
        "### Key Takeaways\n",
        "\n",
        "- Choose the right data structure for your specific needs:\n",
        "  - Lists for ordered sequences that need to be modified\n",
        "  - Tuples for fixed data or dictionary keys\n",
        "  - Dictionaries for key-based lookups and structured data\n",
        "  - Sets for unique values and set operations\n",
        "  \n",
        "- Use comprehensions for concise creation of data structures\n",
        "- Combine different data structures to solve complex problems\n",
        "- Leverage built-in methods to manipulate and transform data efficiently\n",
        "\n",
        "In the next session, we'll learn how to use these data structures with real data files and begin our exploration of the pandas library."
      ]
    }
  ],
  "metadata": {
    "colab": {
      "provenance": [],
      "toc_visible": true
    },
    "kernelspec": {
      "display_name": "Python 3",
      "name": "python3"
    }
  },
  "nbformat": 4,
  "nbformat_minor": 0
}

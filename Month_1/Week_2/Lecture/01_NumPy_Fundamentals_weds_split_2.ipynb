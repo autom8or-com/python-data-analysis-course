{
  "cells": [
    {
      "cell_type": "markdown",
      "metadata": {
        "id": "header-section"
      },
      "source": [
        "# NumPy Fundamentals - Part 2\n",
        "\n",
        "## Week 2, Day 1 (Wednesday) - April 16th, 2025\n",
        "\n",
        "### Overview\n",
        "This is the second part of our NumPy lecture. In this section, we'll continue our exploration of NumPy, focusing on advanced array operations, broadcasting, and efficient computation."
      ]
    },
    {
      "cell_type": "code",
      "execution_count": null,
      "metadata": {
        "id": "import-numpy-again"
      },
      "outputs": [],
      "source": [
        "# Import NumPy again for this notebook\n",
        "import numpy as np"
      ]
    },
    {
      "cell_type": "markdown",
      "metadata": {
        "id": "array-attributes-section"
      },
      "source": [
        "## 3. Array Attributes and Information\n",
        "\n",
        "NumPy arrays have many attributes that provide useful information about their shape, size, and data type:"
      ]
    },
    {
      "cell_type": "code",
      "execution_count": null,
      "metadata": {
        "id": "array-attributes-code"
      },
      "outputs": [],
      "source": [
        "# Create a sample 2D array\n",
        "sample_array = np.array([[1, 2, 3], [4, 5, 6]])\n",
        "print(\"Sample array:\")\n",
        "print(sample_array)\n",
        "\n",
        "# Shape (dimensions)\n",
        "print(\"\\nShape:\", sample_array.shape)  # (2, 3) - 2 rows, 3 columns\n",
        "\n",
        "# Number of dimensions\n",
        "print(\"Dimensions:\", sample_array.ndim)  # 2\n",
        "\n",
        "# Size (total number of elements)\n",
        "print(\"Size:\", sample_array.size)  # 6 (2*3)\n",
        "\n",
        "# Data type\n",
        "print(\"Data type:\", sample_array.dtype)  # int64 by default\n",
        "\n",
        "# Item size (bytes per element)\n",
        "print(\"Item size (bytes):\", sample_array.itemsize)  # 8 bytes for int64\n",
        "\n",
        "# Total memory usage\n",
        "print(\"Memory usage (bytes):\", sample_array.nbytes)  # 48 bytes (6 elements * 8 bytes)"
      ]
    },
    {
      "cell_type": "markdown",
      "metadata": {
        "id": "array-indexing-section"
      },
      "source": [
        "## 4. Array Indexing and Slicing\n",
        "\n",
        "NumPy arrays can be accessed and sliced similarly to Python lists, but with extended capabilities for multi-dimensional arrays."
      ]
    },
    {
      "cell_type": "code",
      "execution_count": null,
      "metadata": {
        "id": "array-indexing-code"
      },
      "outputs": [],
      "source": [
        "# Create a 1D array\n",
        "arr1d = np.array([10, 20, 30, 40, 50, 60, 70, 80, 90])\n",
        "\n",
        "# Single element indexing\n",
        "print(\"First element:\", arr1d[0])  # 10\n",
        "print(\"Last element:\", arr1d[-1])  # 90\n",
        "\n",
        "# Slicing\n",
        "print(\"\\nFirst three elements:\", arr1d[:3])  # [10, 20, 30]\n",
        "print(\"Elements from index 3 onwards:\", arr1d[3:])  # [40, 50, 60, 70, 80, 90]\n",
        "print(\"Elements from index 2 to 5:\", arr1d[2:6])  # [30, 40, 50, 60]\n",
        "print(\"Every second element:\", arr1d[::2])  # [10, 30, 50, 70, 90]\n",
        "print(\"Reversed array:\", arr1d[::-1])  # [90, 80, 70, 60, 50, 40, 30, 20, 10]\n",
        "\n",
        "# Create a 2D array\n",
        "arr2d = np.array([\n",
        "    [1, 2, 3, 4],\n",
        "    [5, 6, 7, 8],\n",
        "    [9, 10, 11, 12]\n",
        "])\n",
        "print(\"\\n2D array:\")\n",
        "print(arr2d)\n",
        "\n",
        "# Accessing elements in 2D array\n",
        "print(\"\\nElement at row 0, col 1:\", arr2d[0, 1])  # 2\n",
        "print(\"Element at row 2, col 3:\", arr2d[2, 3])  # 12\n",
        "\n",
        "# Row and column slicing\n",
        "print(\"\\nFirst row:\", arr2d[0])  # [1, 2, 3, 4]\n",
        "print(\"First column:\", arr2d[:, 0])  # [1, 5, 9]\n",
        "print(\"First two rows:\")\n",
        "print(arr2d[:2])  # [[1, 2, 3, 4], [5, 6, 7, 8]]\n",
        "print(\"First two columns:\")\n",
        "print(arr2d[:, :2])  # [[1, 2], [5, 6], [9, 10]]\n",
        "\n",
        "# Subarray slicing\n",
        "print(\"\\nSubarray (rows 0-1, columns 1-3):\")\n",
        "print(arr2d[0:2, 1:3])  # [[2, 3], [6, 7]]"
      ]
    },
    {
      "cell_type": "markdown",
      "metadata": {
        "id": "fancy-indexing-section"
      },
      "source": [
        "### Fancy Indexing and Boolean Masking\n",
        "\n",
        "NumPy provides powerful ways to select multiple elements at once using arrays of indices or boolean masks:"
      ]
    },
    {
      "cell_type": "code",
      "execution_count": null,
      "metadata": {
        "id": "fancy-indexing-code"
      },
      "outputs": [],
      "source": [
        "# Create a sample array\n",
        "arr = np.array([10, 20, 30, 40, 50, 60, 70, 80, 90])\n",
        "\n",
        "# Fancy indexing with integer arrays\n",
        "indices = np.array([1, 3, 5, 7])\n",
        "selected = arr[indices]  # Select elements at indices 1, 3, 5, 7\n",
        "print(\"Selected elements by indices:\", selected)  # [20, 40, 60, 80]\n",
        "\n",
        "# With 2D array\n",
        "arr2d = np.array([\n",
        "    [1, 2, 3],\n",
        "    [4, 5, 6],\n",
        "    [7, 8, 9]\n",
        "])\n",
        "\n",
        "# Select specific rows\n",
        "row_indices = np.array([0, 2])  # Select rows 0 and 2\n",
        "print(\"\\nSelected rows:\")\n",
        "print(arr2d[row_indices])  # [[1, 2, 3], [7, 8, 9]]\n",
        "\n",
        "# Boolean masking\n",
        "mask = arr > 50  # Create a boolean mask for elements > 50\n",
        "print(\"\\nBoolean mask:\", mask)  # [False, False, False, False, False, True, True, True, True]\n",
        "filtered = arr[mask]  # Select elements where mask is True\n",
        "print(\"Elements > 50:\", filtered)  # [60, 70, 80, 90]\n",
        "\n",
        "# Direct comparison for filtering\n",
        "print(\"Elements divisible by 30:\", arr[arr % 30 == 0])  # [30, 60, 90]\n",
        "print(\"Elements between 20 and 70:\", arr[(arr >= 20) & (arr <= 70)])  # [20, 30, 40, 50, 60, 70]"
      ]
    },
    {
      "cell_type": "markdown",
      "metadata": {
        "id": "reshaping-section"
      },
      "source": [
        "## 5. Reshaping Arrays\n",
        "\n",
        "NumPy provides methods to change the shape of arrays without changing the data:"
      ]
    },
    {
      "cell_type": "code",
      "execution_count": null,
      "metadata": {
        "id": "reshaping-methods"
      },
      "outputs": [],
      "source": [
        "# Create a 1D array\n",
        "arr = np.arange(1, 13)  # [1, 2, 3, ..., 12]\n",
        "print(\"Original array:\", arr)\n",
        "print(\"Shape:\", arr.shape)  # (12,)\n",
        "\n",
        "# Reshape to 2D array (3x4)\n",
        "arr_2d = arr.reshape(3, 4)\n",
        "print(\"\\nReshaped to 3x4:\")\n",
        "print(arr_2d)\n",
        "print(\"Shape:\", arr_2d.shape)  # (3, 4)\n",
        "\n",
        "# Reshape to 2D array (4x3)\n",
        "arr_2d_alt = arr.reshape(4, 3)\n",
        "print(\"\\nReshaped to 4x3:\")\n",
        "print(arr_2d_alt)\n",
        "print(\"Shape:\", arr_2d_alt.shape)  # (4, 3)\n",
        "\n",
        "# Reshape to 3D array (2x2x3)\n",
        "arr_3d = arr.reshape(2, 2, 3)\n",
        "print(\"\\nReshaped to 2x2x3:\")\n",
        "print(arr_3d)\n",
        "print(\"Shape:\", arr_3d.shape)  # (2, 2, 3)\n",
        "\n",
        "# Use -1 to automatically calculate one dimension\n",
        "arr_auto = arr.reshape(3, -1)  # 3 rows, columns calculated automatically\n",
        "print(\"\\nReshaped with automatic dimension:\")\n",
        "print(arr_auto)\n",
        "print(\"Shape:\", arr_auto.shape)  # (3, 4)\n",
        "\n",
        "# Flatten a multi-dimensional array\n",
        "arr_flat = arr_2d.flatten()  # Returns a copy\n",
        "print(\"\\nFlattened array:\", arr_flat)\n",
        "\n",
        "# Ravel (similar to flatten but may return a view instead of a copy)\n",
        "arr_ravel = arr_2d.ravel()\n",
        "print(\"Raveled array:\", arr_ravel)"
      ]
    }
  ],
  "metadata": {
    "colab": {
      "provenance": [],
      "toc_visible": true
    },
    "kernelspec": {
      "display_name": "Python 3",
      "name": "python3"
    }
  },
  "nbformat": 4,
  "nbformat_minor": 0
}

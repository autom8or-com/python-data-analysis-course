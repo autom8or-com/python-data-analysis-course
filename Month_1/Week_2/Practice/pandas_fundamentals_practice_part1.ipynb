{
 "cells": [
  {
   "cell_type": "markdown",
   "metadata": {},
   "source": [
    "# Python for Data Analysis - Week 2\n",
    "## Practice Exercises: Pandas Fundamentals I (Part 1)\n",
    "\n",
    "### Overview\n",
    "This notebook contains practice exercises to help you master the pandas concepts covered in Week 2's lecture sessions. Each exercise is designed to reinforce a specific aspect of pandas, and solutions are provided at the end of each section.\n",
    "\n",
    "### Instructions\n",
    "1. Read each exercise carefully\n",
    "2. Write your code in the provided cells\n",
    "3. Run your code to check your solution\n",
    "4. Compare your approach with the provided solution\n",
    "5. If you're stuck, review the lecture materials or ask for help\n",
    "\n",
    "Let's get started!"
   ]
  },
  {
   "cell_type": "markdown",
   "metadata": {},
   "source": [
    "## Setup\n",
    "\n",
    "First, let's import the necessary libraries and set up our environment."
   ]
  },
  {
   "cell_type": "code",
   "execution_count": null,
   "metadata": {},
   "outputs": [],
   "source": [
    "# Import libraries\n",
    "import pandas as pd\n",
    "import numpy as np\n",
    "import matplotlib.pyplot as plt\n",
    "\n",
    "# For plotting in the notebook\n",
    "%matplotlib inline\n",
    "\n",
    "# Set display options\n",
    "pd.set_option('display.max_columns', None)  # Show all columns\n",
    "pd.set_option('display.max_rows', 15)       # Limit number of rows shown\n",
    "pd.set_option('display.width', 1000)        # Set width of display\n",
    "\n",
    "print(\"Libraries imported successfully!\")"
   ]
  },
  {
   "cell_type": "markdown",
   "metadata": {},
   "source": [
    "## Section 1: Creating and Exploring DataFrames\n",
    "\n",
    "In this section, we'll practice creating DataFrames from different data sources and exploring their structure."
   ]
  },
  {
   "cell_type": "markdown",
   "metadata": {},
   "source": [
    "### Exercise 1.1: Creating a DataFrame from a Dictionary\n",
    "\n",
    "Create a DataFrame called `students_df` with the following data:\n",
    "- Columns: 'name', 'age', 'grade', 'subject'\n",
    "- At least 5 students with different values\n",
    "\n",
    "Then, display the DataFrame."
   ]
  },
  {
   "cell_type": "code",
   "execution_count": null,
   "metadata": {},
   "outputs": [],
   "source": [
    "# Your code here\n"
   ]
  },
  {
   "cell_type": "markdown",
   "metadata": {},
   "source": [
    "### Solution 1.1"
   ]
  },
  {
   "cell_type": "code",
   "execution_count": null,
   "metadata": {},
   "outputs": [],
   "source": [
    "# Creating a dictionary of data\n",
    "data = {\n",
    "    'name': ['John Smith', 'Emma Johnson', 'Michael Brown', 'Sophia Davis', 'James Wilson'],\n",
    "    'age': [22, 20, 23, 21, 19],\n",
    "    'grade': ['A', 'B+', 'C', 'A-', 'B'],\n",
    "    'subject': ['Math', 'History', 'Science', 'English', 'Computer Science']\n",
    "}\n",
    "\n",
    "# Creating the DataFrame\n",
    "students_df = pd.DataFrame(data)\n",
    "\n",
    "# Displaying the DataFrame\n",
    "students_df"
   ]
  },
  {
   "cell_type": "markdown",
   "metadata": {},
   "source": [
    "### Exercise 1.2: Loading Data from a CSV File\n",
    "\n",
    "Load the `numeric_data.csv` file from the Data directory into a DataFrame called `numeric_df`. Display the first 5 rows of the DataFrame and its information."
   ]
  },
  {
   "cell_type": "code",
   "execution_count": null,
   "metadata": {},
   "outputs": [],
   "source": [
    "# Your code here\n"
   ]
  },
  {
   "cell_type": "markdown",
   "metadata": {},
   "source": [
    "### Solution 1.2"
   ]
  },
  {
   "cell_type": "code",
   "execution_count": null,
   "metadata": {},
   "outputs": [],
   "source": [
    "# Load the CSV file\n",
    "numeric_df = pd.read_csv('../Data/numeric_data.csv')\n",
    "\n",
    "# Display the first 5 rows\n",
    "print(\"First 5 rows:\")\n",
    "print(numeric_df.head())\n",
    "\n",
    "# Display DataFrame information\n",
    "print(\"\\nDataFrame information:\")\n",
    "numeric_df.info()"
   ]
  },
  {
   "cell_type": "markdown",
   "metadata": {},
   "source": [
    "### Exercise 1.3: Creating a DataFrame from a NumPy Array\n",
    "\n",
    "Create a 10×4 NumPy array with random integers between 1 and 100. Then, convert it to a DataFrame with column names 'A', 'B', 'C', and 'D', and display the DataFrame."
   ]
  },
  {
   "cell_type": "code",
   "execution_count": null,
   "metadata": {},
   "outputs": [],
   "source": [
    "# Your code here\n"
   ]
  },
  {
   "cell_type": "markdown",
   "metadata": {},
   "source": [
    "### Solution 1.3"
   ]
  },
  {
   "cell_type": "code",
   "execution_count": null,
   "metadata": {},
   "outputs": [],
   "source": [
    "# Create a 10×4 NumPy array with random integers\n",
    "np.random.seed(42)  # For reproducibility\n",
    "array_data = np.random.randint(1, 100, size=(10, 4))\n",
    "\n",
    "# Convert the array to a DataFrame\n",
    "columns = ['A', 'B', 'C', 'D']\n",
    "array_df = pd.DataFrame(array_data, columns=columns)\n",
    "\n",
    "# Display the DataFrame\n",
    "array_df"
   ]
  },
  {
   "cell_type": "markdown",
   "metadata": {},
   "source": [
    "### Exercise 1.4: Exploring DataFrame Properties\n",
    "\n",
    "Using the `numeric_df` DataFrame from Exercise 1.2, answer the following questions:\n",
    "\n",
    "1. How many rows and columns does the DataFrame have?\n",
    "2. What are the column names?\n",
    "3. What are the data types of each column?\n",
    "4. Generate descriptive statistics for the DataFrame."
   ]
  },
  {
   "cell_type": "code",
   "execution_count": null,
   "metadata": {},
   "outputs": [],
   "source": [
    "# Your code here\n"
   ]
  },
  {
   "cell_type": "markdown",
   "metadata": {},
   "source": [
    "### Solution 1.4"
   ]
  },
  {
   "cell_type": "code",
   "execution_count": null,
   "metadata": {},
   "outputs": [],
   "source": [
    "# 1. Number of rows and columns\n",
    "rows, columns = numeric_df.shape\n",
    "print(f\"The DataFrame has {rows} rows and {columns} columns.\")\n",
    "\n",
    "# 2. Column names\n",
    "print(f\"\\nColumn names: {numeric_df.columns.tolist()}\")\n",
    "\n",
    "# 3. Data types\n",
    "print(\"\\nData types:\")\n",
    "print(numeric_df.dtypes)\n",
    "\n",
    "# 4. Descriptive statistics\n",
    "print(\"\\nDescriptive statistics:\")\n",
    "print(numeric_df.describe())"
   ]
  }
 ],
 "metadata": {
  "kernelspec": {
   "display_name": "Python 3",
   "language": "python",
   "name": "python3"
  },
  "language_info": {
   "codemirror_mode": {
    "name": "ipython",
    "version": 3
   },
   "file_extension": ".py",
   "mimetype": "text/x-python",
   "name": "python",
   "nbconvert_exporter": "python",
   "pygments_lexer": "ipython3",
   "version": "3.8.10"
  }
 },
 "nbformat": 4,
 "nbformat_minor": 4
}
